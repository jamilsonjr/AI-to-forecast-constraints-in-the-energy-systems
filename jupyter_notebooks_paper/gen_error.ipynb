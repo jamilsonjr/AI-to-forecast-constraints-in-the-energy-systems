{
 "cells": [
  {
   "attachments": {},
   "cell_type": "markdown",
   "metadata": {},
   "source": [
    "# Asses the Impact of Variation of the Generation on the Power Flow Results"
   ]
  },
  {
   "attachments": {},
   "cell_type": "markdown",
   "metadata": {},
   "source": [
    "### Create the Network"
   ]
  },
  {
   "cell_type": "code",
   "execution_count": 21,
   "metadata": {},
   "outputs": [],
   "source": [
    "import os\n",
    "import pandas as pd\n",
    "import matplotlib.pyplot as plt\n",
    "import sys; sys.path.append('..')\n",
    "from thesis_package import utils, extractor as ex, elements as el, powerflow as pf, metrics as my_metrics, aimodels as my_ai\n",
    "# RMSE\n",
    "from sklearn.metrics import mean_squared_error"
   ]
  },
  {
   "cell_type": "code",
   "execution_count": 10,
   "metadata": {},
   "outputs": [
    {
     "name": "stdout",
     "output_type": "stream",
     "text": [
      "Deserializing ../network... Please wait\n",
      "Deserializing network...🗸 (Execution time: 0.024997[s])\n"
     ]
    }
   ],
   "source": [
    "if 'network.pickle' not in os.listdir('..'):\n",
    "    # Create a network from the data.\n",
    "    network = el.Network()\n",
    "    network.create_network_from_xlsx(xlsx_file_path=\"\\data\\\\raw\\\\Data_Example_32.xlsx\")\n",
    "    # Create the pandapower network.\n",
    "    network.create_pandapower_model() # Property name: net_model.\n",
    "    # Plot the network.\n",
    "    network.plot_network()\n",
    "    # Method that receives the .csv files folder and adds the gen profile to the grid elements.\n",
    "    network.add_generation_profiles(generation_profiles_folder_path='.\\data\\processed\\production')\n",
    "    # Method that receives a .csv files folder and adds the load profile to the grid elements.\n",
    "    network.add_load_profiles(load_profiles_folder_path='.\\data\\processed\\consumption')\n",
    "    # Power flow calculation\n",
    "    utils.serialize_object('network', network, message='Serializing network object...')\n",
    "else:\n",
    "    network = utils.deserialize_object('../network', message='Deserializing network...')"
   ]
  },
  {
   "attachments": {},
   "cell_type": "markdown",
   "metadata": {},
   "source": [
    "### Run the Power Flow Calculation with Different Variations on the Generation Values"
   ]
  },
  {
   "cell_type": "code",
   "execution_count": 11,
   "metadata": {},
   "outputs": [
    {
     "name": "stdout",
     "output_type": "stream",
     "text": [
      "Progress: |██████████████████████████████████████████████████| 100.0% Complete\n",
      "\n",
      "Progress: |██████████████████████████████████████████████████| 100.0% Complete\n",
      "\n",
      "Progress: |██████████████████████████████████████████████████| 100.0% Complete\n",
      "\n",
      "Progress: |██████████████████████████████████████████████████| 100.0% Complete\n",
      "\n"
     ]
    }
   ],
   "source": [
    "def run_gen_error_experiement(gen_error):\n",
    "    power_flow = pf.Power_Flow()\n",
    "    path_to_results_folder = '..\\data\\paper\\gen_error_experiment\\gen_error_{}'.format(gen_error)\n",
    "    try: \n",
    "        os.listdir(path_to_results_folder)\n",
    "    except: \n",
    "        os.makedirs(path_to_results_folder)\n",
    "    power_flow.run_timeseries_power_flow(network, path_to_results_folder=path_to_results_folder,\\\n",
    "                                        gen_error=gen_error)\n",
    "run_gen_error_experiement(0.7)\n",
    "run_gen_error_experiement(0.8)\n",
    "run_gen_error_experiement(0.9)\n",
    "run_gen_error_experiement(1.1)\n"
   ]
  },
  {
   "cell_type": "code",
   "execution_count": 17,
   "metadata": {},
   "outputs": [
    {
     "name": "stdout",
     "output_type": "stream",
     "text": [
      "Progress: |██████████████████████████████████████████████████| 100.0% Complete\n",
      "\n"
     ]
    }
   ],
   "source": [
    "run_gen_error_experiement(1.0)"
   ]
  },
  {
   "attachments": {},
   "cell_type": "markdown",
   "metadata": {},
   "source": [
    "### Compute the RMSE of the PF Results w.r to the Ground Truth"
   ]
  },
  {
   "attachments": {},
   "cell_type": "markdown",
   "metadata": {},
   "source": [
    "The bus examined is the bus 16."
   ]
  },
  {
   "cell_type": "code",
   "execution_count": 19,
   "metadata": {},
   "outputs": [],
   "source": [
    "pf_results_07 = pd.read_csv('..\\data\\paper\\gen_error_experiment\\gen_error_0.7\\pf_res_bus_vm_pu.csv')\n",
    "pf_results_08 = pd.read_csv('..\\data\\paper\\gen_error_experiment\\gen_error_0.8\\pf_res_bus_vm_pu.csv')\n",
    "pf_results_09 = pd.read_csv('..\\data\\paper\\gen_error_experiment\\gen_error_0.9\\pf_res_bus_vm_pu.csv')\n",
    "pf_results_11 = pd.read_csv('..\\data\\paper\\gen_error_experiment\\gen_error_1.1\\pf_res_bus_vm_pu.csv')\n",
    "pf_results_ref = pd.read_csv('..\\data\\paper\\gen_error_experiment\\gen_error_1.0\\pf_res_bus_vm_pu.csv')"
   ]
  },
  {
   "cell_type": "code",
   "execution_count": 23,
   "metadata": {},
   "outputs": [
    {
     "data": {
      "text/html": [
       "<div>\n",
       "<style scoped>\n",
       "    .dataframe tbody tr th:only-of-type {\n",
       "        vertical-align: middle;\n",
       "    }\n",
       "\n",
       "    .dataframe tbody tr th {\n",
       "        vertical-align: top;\n",
       "    }\n",
       "\n",
       "    .dataframe thead th {\n",
       "        text-align: right;\n",
       "    }\n",
       "</style>\n",
       "<table border=\"1\" class=\"dataframe\">\n",
       "  <thead>\n",
       "    <tr style=\"text-align: right;\">\n",
       "      <th></th>\n",
       "      <th>0.7</th>\n",
       "      <th>0.8</th>\n",
       "      <th>0.9</th>\n",
       "      <th>1.1</th>\n",
       "    </tr>\n",
       "  </thead>\n",
       "  <tbody>\n",
       "    <tr>\n",
       "      <th>rmse</th>\n",
       "      <td>0.014602</td>\n",
       "      <td>0.009643</td>\n",
       "      <td>0.004777</td>\n",
       "      <td>0.004692</td>\n",
       "    </tr>\n",
       "  </tbody>\n",
       "</table>\n",
       "</div>"
      ],
      "text/plain": [
       "           0.7       0.8       0.9       1.1\n",
       "rmse  0.014602  0.009643  0.004777  0.004692"
      ]
     },
     "execution_count": 23,
     "metadata": {},
     "output_type": "execute_result"
    }
   ],
   "source": [
    "result_rmse = pd.DataFrame(index=[\"rmse\"], columns=[\"0.7\", \"0.8\", \"0.9\", \"1.1\"])\n",
    "for i, pf_result in enumerate([pf_results_07, pf_results_08, pf_results_09, pf_results_11]):\n",
    "    result_rmse.iloc[0, i] = mean_squared_error(pf_results_ref['bus_16'], pf_result['bus_16'],  squared=False)\n",
    "result_rmse"
   ]
  },
  {
   "attachments": {},
   "cell_type": "markdown",
   "metadata": {},
   "source": [
    "## Compute the Difference in the Number of Constraints w.r to the Ground Truth"
   ]
  },
  {
   "cell_type": "code",
   "execution_count": 31,
   "metadata": {},
   "outputs": [],
   "source": [
    "def get_boolean_datasets(path_to_pf_res):\n",
    "    res_bus_vm_pu = pd.read_csv(path_to_pf_res)\n",
    "    res_bus_vm_pu.drop('timestamps', axis=1, inplace=True) \n",
    "    # Max bus_vm_pu constraint\n",
    "    res_bus_vm_pu_max_constr = res_bus_vm_pu.apply(lambda x: (x - 1.05).apply(lambda y: max(0, y)))\n",
    "    # Min bus_vm_pu constraint\n",
    "    res_bus_vm_pu_min_constr = res_bus_vm_pu.apply(lambda x: (0.95 - x).apply(lambda y: max(0, y)))\n",
    "    # Compute thresholds\n",
    "    max_u_threshold = utils.compute_threshold(res_bus_vm_pu_max_constr)\n",
    "    min_u_threshold = utils.compute_threshold(res_bus_vm_pu_min_constr)\n",
    "    turn_boolean = lambda df, threshold: df.apply(lambda x: x.apply(lambda y: 1 if y > threshold else 0))\n",
    "    # Create boolean data sets\n",
    "    res_bus_vm_pu_max_bool_constr = turn_boolean(res_bus_vm_pu_max_constr, utils.compute_threshold(res_bus_vm_pu_max_constr))\n",
    "    res_bus_vm_pu_min_bool_constr = turn_boolean(res_bus_vm_pu_min_constr, utils.compute_threshold(res_bus_vm_pu_min_constr))\n",
    "    return res_bus_vm_pu_max_bool_constr, res_bus_vm_pu_min_bool_constr\n",
    "for error_value in [0.7, 0.8, 0.9, 1.0, 1.1]:\n",
    "    max_u_bool_df, min_u_bool_df = get_boolean_datasets('..\\data\\paper\\gen_error_experiment\\gen_error_{}\\pf_res_bus_vm_pu.csv'\\\n",
    "                                                        .format(error_value))\n",
    "    max_u_bool_df.to_csv('..\\data\\paper\\gen_error_experiment\\gen_error_{}\\\\bool_df_max_u.csv'\\\n",
    "                        .format(error_value), index=False)\n",
    "    min_u_bool_df.to_csv('..\\data\\paper\\gen_error_experiment\\gen_error_{}\\\\bool_df_min_u.csv'\\\n",
    "                        .format(error_value), index=False)"
   ]
  },
  {
   "cell_type": "code",
   "execution_count": 42,
   "metadata": {},
   "outputs": [
    {
     "data": {
      "text/plain": [
       "<AxesSubplot:>"
      ]
     },
     "execution_count": 42,
     "metadata": {},
     "output_type": "execute_result"
    },
    {
     "data": {
      "image/png": "[encoded data removed]",
      "text/plain": [
       "<Figure size 432x288 with 1 Axes>"
      ]
     },
     "metadata": {
      "needs_background": "light"
     },
     "output_type": "display_data"
    }
   ],
   "source": [
    "max_u_bool_07 = pd.read_csv('..\\data\\paper\\gen_error_experiment\\gen_error_0.8\\\\bool_df_max_u.csv')\n",
    "max_u_bool_07['bus_16']"
   ]
  },
  {
   "cell_type": "code",
   "execution_count": 61,
   "metadata": {},
   "outputs": [
    {
     "data": {
      "text/html": [
       "<div>\n",
       "<style scoped>\n",
       "    .dataframe tbody tr th:only-of-type {\n",
       "        vertical-align: middle;\n",
       "    }\n",
       "\n",
       "    .dataframe tbody tr th {\n",
       "        vertical-align: top;\n",
       "    }\n",
       "\n",
       "    .dataframe thead th {\n",
       "        text-align: right;\n",
       "    }\n",
       "</style>\n",
       "<table border=\"1\" class=\"dataframe\">\n",
       "  <thead>\n",
       "    <tr style=\"text-align: right;\">\n",
       "      <th></th>\n",
       "      <th>0.7</th>\n",
       "      <th>0.8</th>\n",
       "      <th>0.9</th>\n",
       "      <th>1.0</th>\n",
       "      <th>1.1</th>\n",
       "    </tr>\n",
       "  </thead>\n",
       "  <tbody>\n",
       "    <tr>\n",
       "      <th>max_u</th>\n",
       "      <td>0</td>\n",
       "      <td>169</td>\n",
       "      <td>1317</td>\n",
       "      <td>3356</td>\n",
       "      <td>5374</td>\n",
       "    </tr>\n",
       "    <tr>\n",
       "      <th>min_u</th>\n",
       "      <td>7487</td>\n",
       "      <td>7212</td>\n",
       "      <td>6969</td>\n",
       "      <td>6773</td>\n",
       "      <td>6579</td>\n",
       "    </tr>\n",
       "  </tbody>\n",
       "</table>\n",
       "</div>"
      ],
      "text/plain": [
       "        0.7   0.8   0.9   1.0   1.1\n",
       "max_u     0   169  1317  3356  5374\n",
       "min_u  7487  7212  6969  6773  6579"
      ]
     },
     "execution_count": 61,
     "metadata": {},
     "output_type": "execute_result"
    }
   ],
   "source": [
    "result_num_constr = pd.DataFrame(index=[\"max_u\", \"min_u\"], columns=[\"0.7\", \"0.8\", \"0.9\", \"1.0\", \"1.1\"])\n",
    "for error in result_num_constr.columns:\n",
    "    max_u_bool = pd.read_csv('..\\data\\paper\\gen_error_experiment\\gen_error_{}\\\\bool_df_max_u.csv'\\\n",
    "        .format(error))\n",
    "    result_num_constr.loc['max_u'][error] = max_u_bool['bus_16'][max_u_bool['bus_16'] == 1].count()\n",
    "    min_u_bool = pd.read_csv('..\\data\\paper\\gen_error_experiment\\gen_error_{}\\\\bool_df_min_u.csv'\\\n",
    "        .format(error))\n",
    "    result_num_constr.loc['min_u'][error] = min_u_bool['bus_16'][min_u_bool['bus_16'] == 1].count()\n",
    "result_num_constr"
   ]
  }
 ],
 "metadata": {
  "kernelspec": {
   "display_name": "env",
   "language": "python",
   "name": "python3"
  },
  "language_info": {
   "codemirror_mode": {
    "name": "ipython",
    "version": 3
   },
   "file_extension": ".py",
   "mimetype": "text/x-python",
   "name": "python",
   "nbconvert_exporter": "python",
   "pygments_lexer": "ipython3",
   "version": "3.8.10"
  },
  "orig_nbformat": 4,
  "vscode": {
   "interpreter": {
    "hash": "41fc41b670b51109e2ee011a1b5078408ea127dd664427f19249a098f5086286"
   }
  }
 },
 "nbformat": 4,
 "nbformat_minor": 2
}
