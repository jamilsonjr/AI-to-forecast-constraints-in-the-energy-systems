{
 "cells": [
  {
   "cell_type": "markdown",
   "metadata": {},
   "source": [
    "# Hyperparameters Tunning for Deep Learning Models (full of errors)\n",
    "TODO add description"
   ]
  },
  {
   "cell_type": "code",
   "execution_count": 1,
   "metadata": {},
   "outputs": [
    {
     "name": "stderr",
     "output_type": "stream",
     "text": [
      "c:\\Users\\jamil\\Documents\\IST\\Thesis\\new_thesis\\code\\AI-to-forecast-constraints-in-the-energy-systems\\env\\lib\\site-packages\\tqdm\\auto.py:22: TqdmWarning: IProgress not found. Please update jupyter and ipywidgets. See https://ipywidgets.readthedocs.io/en/stable/user_install.html\n",
      "  from .autonotebook import tqdm as notebook_tqdm\n"
     ]
    }
   ],
   "source": [
    "import optuna \n",
    "import sys; sys.path.append('..')\n",
    "from thesis_package import utils, aimodels as myai, metrics\n",
    "\n",
    "import pandas as pd\n",
    "import numpy as np\n",
    "import matplotlib.pyplot as plt\n",
    "import seaborn as sns\n",
    "from sklearn.metrics import mean_squared_error\n",
    "num_trials = 50"
   ]
  },
  {
   "cell_type": "markdown",
   "metadata": {},
   "source": [
    "# Max u"
   ]
  },
  {
   "cell_type": "markdown",
   "metadata": {},
   "source": [
    "## MLP: Sparse Classification Dataset"
   ]
  },
  {
   "cell_type": "markdown",
   "metadata": {},
   "source": [
    "Build optuna study..."
   ]
  },
  {
   "cell_type": "code",
   "execution_count": 2,
   "metadata": {},
   "outputs": [
    {
     "name": "stderr",
     "output_type": "stream",
     "text": [
      "\u001b[32m[I 2022-09-24 22:55:40,066]\u001b[0m A new study created in memory with name: no-name-0da40026-8d7d-48a7-95d2-995b0a38a151\u001b[0m\n",
      "\u001b[32m[I 2022-09-24 22:56:46,661]\u001b[0m Trial 0 finished with value: 0.12798444745954923 and parameters: {'hidden_size': 15, 'n_layers': 1, 'dropout': 0.46839714372060004, 'activation': 'relu', 'optimizer': 'sgd', 'lr': 0.0005536808584519341, 'epochs': 38, 'batch_size': 2}. Best is trial 0 with value: 0.12798444745954923.\u001b[0m\n"
     ]
    },
    {
     "name": "stdout",
     "output_type": "stream",
     "text": [
      "Number of finished trials:  1\n",
      "Best trial:\n",
      "  Value: 0.12798444745954923\n",
      "  Params: \n",
      "    hidden_size: 15\n",
      "    n_layers: 1\n",
      "    dropout: 0.46839714372060004\n",
      "    activation: relu\n",
      "    optimizer: sgd\n",
      "    lr: 0.0005536808584519341\n",
      "    epochs: 38\n",
      "    batch_size: 2\n"
     ]
    },
    {
     "data": {
      "image/png": "[encoded data removed]",
      "text/plain": [
       "<Figure size 432x288 with 1 Axes>"
      ]
     },
     "metadata": {
      "needs_background": "light"
     },
     "output_type": "display_data"
    }
   ],
   "source": [
    "# Build optuna objective function.\n",
    "import optuna\n",
    "import sklearn \n",
    "\n",
    "def objective(trial):\n",
    "    # Data loading\n",
    "    y_max_u_bool = pd.read_csv('..\\data\\ground_truth\\\\res_bus_vm_pu_max_sparse_bool_constr.csv').drop(columns='timestamps') \n",
    "    exogenous_data = pd.read_csv('..\\data\\processed\\production\\exogenous_data_extended.csv').drop(columns=['date'])\n",
    "    X_max_u_bool_train, X_max_u_bool_test, y_max_u_bool_train, y_max_u_bool_test, scaler = utils.split_and_suffle(exogenous_data, y_max_u_bool[utils.cols_with_positive_values(y_max_u_bool)], test_size=0.2, scaling=True)\n",
    "    data = {'X_train':X_max_u_bool_train.astype(float),\n",
    "            'X_test': X_max_u_bool_test.astype(float),\n",
    "            'y_train':y_max_u_bool_train.astype(float),\n",
    "            'y_test': y_max_u_bool_test.astype(float)\n",
    "        }\n",
    "    # Dataset object creation\n",
    "    _dataset = myai.ThesisDataset(data)\n",
    "    hyper_params = {\n",
    "        'input_size': _dataset.X.shape[1],\n",
    "        'hidden_size': trial.suggest_int('hidden_size', 1, 100),\n",
    "        'output_size': _dataset.y.shape[1],\n",
    "        'n_layers': trial.suggest_int('n_layers', 1, 3),\n",
    "        'dropout': trial.suggest_float('dropout', 0.0, 0.5),\n",
    "        'activation': trial.suggest_categorical('activation', ['relu', 'tanh', 'sigmoid']),\n",
    "        'optimizer': trial.suggest_categorical('optimizer', ['adam', 'sgd']),\n",
    "        'lr': trial.suggest_float('lr', 1e-5, 1e-1, log=True),\n",
    "        'epochs': trial.suggest_int('epochs', 1, 100),\n",
    "        'batch_size': trial.suggest_categorical('batch_size', [1, 2, 4, 8, 16, 32, 64, 128, 256, 512, 1024]),\n",
    "        'classifier': True\n",
    "        }\n",
    "    model = myai.Context(myai.MultilayerPerceptronStrategy(hyper_params))\n",
    "    model.fit(data)\n",
    "    prediction = model.predict(data)\n",
    "    prediction = pd.DataFrame(prediction, columns=utils.cols_with_positive_values(y_max_u_bool))\n",
    "    f1_score = sklearn.metrics.f1_score(data['y_test'], prediction, average='micro')\n",
    "    return f1_score\n",
    "study = optuna.create_study(direction=\"maximize\")\n",
    "study.optimize(objective, n_trials=num_trials)\n",
    "print(\"Number of finished trials: \", len(study.trials))\n",
    "print(\"Best trial:\")\n",
    "trial = study.best_trial\n",
    "print(\"  Value: {}\".format(trial.value))\n",
    "print(\"  Params: \")\n",
    "for key, value in trial.params.items():\n",
    "    print(\"    {}: {}\".format(key, value))\n",
    "# Write the results to a csv file.\n",
    "with open(\"./hyper_params_results/params_mlp_sparse_classifier_max_u.csv\", \"w\") as f:\n",
    "    f.write(\"params,value\\n\")\n",
    "    for key, value in trial.params.items():\n",
    "        f.write(\"{},{}\\n\".format(key, value))\n",
    "    f.write(\"classifier,True\\n\")\n",
    "    f.write(\"value,{}\\n\".format(trial.value))"
   ]
  },
  {
   "cell_type": "code",
   "execution_count": 3,
   "metadata": {},
   "outputs": [],
   "source": [
    "y_max_u_bool = pd.read_csv('..\\data\\ground_truth\\\\res_bus_vm_pu_max_sparse_bool_constr.csv').drop(columns='timestamps') "
   ]
  },
  {
   "cell_type": "code",
   "execution_count": 4,
   "metadata": {},
   "outputs": [
    {
     "data": {
      "text/plain": [
       "Index(['ext_grid', 'bus_1', 'bus_2', 'bus_3', 'bus_4', 'bus_5', 'bus_6',\n",
       "       'bus_7', 'bus_8', 'bus_9', 'bus_10', 'bus_11', 'bus_12', 'bus_13',\n",
       "       'bus_14', 'bus_15', 'bus_16', 'bus_19', 'bus_20', 'bus_22', 'bus_25',\n",
       "       'bus_26', 'bus_28', 'bus_29', 'bus_30', 'bus_31', 'bus_17', 'bus_21',\n",
       "       'bus_24', 'bus_18', 'bus_23', 'bus_27', 'bus_32', 'bus_33'],\n",
       "      dtype='object')"
      ]
     },
     "execution_count": 4,
     "metadata": {},
     "output_type": "execute_result"
    }
   ],
   "source": [
    "y_max_u_bool.columns"
   ]
  },
  {
   "cell_type": "markdown",
   "metadata": {},
   "source": [
    "Now we confirm that the target feature is created correctly, being in accord with the sparse dataset."
   ]
  },
  {
   "cell_type": "markdown",
   "metadata": {},
   "source": [
    "## MLP: Balanced Classification Dataset"
   ]
  },
  {
   "cell_type": "code",
   "execution_count": 5,
   "metadata": {},
   "outputs": [
    {
     "name": "stderr",
     "output_type": "stream",
     "text": [
      "\u001b[32m[I 2022-09-24 22:56:47,656]\u001b[0m A new study created in memory with name: no-name-0c6bbd90-1fde-4948-9f94-330688787abe\u001b[0m\n",
      "\u001b[32m[I 2022-09-24 22:57:10,472]\u001b[0m Trial 0 finished with value: 0.5689144868410527 and parameters: {'hidden_size': 59, 'n_layers': 1, 'dropout': 0.47028305711793095, 'activation': 'relu', 'optimizer': 'sgd', 'lr': 0.0021625752682279224, 'epochs': 82, 'batch_size': 64}. Best is trial 0 with value: 0.5689144868410527.\u001b[0m\n"
     ]
    },
    {
     "name": "stdout",
     "output_type": "stream",
     "text": [
      "Number of finished trials:  1\n",
      "Best trial:\n",
      "  Value: 0.5689144868410527\n",
      "  Params: \n",
      "    hidden_size: 59\n",
      "    n_layers: 1\n",
      "    dropout: 0.47028305711793095\n",
      "    activation: relu\n",
      "    optimizer: sgd\n",
      "    lr: 0.0021625752682279224\n",
      "    epochs: 82\n",
      "    batch_size: 64\n"
     ]
    },
    {
     "data": {
      "image/png": "[encoded data removed]",
      "text/plain": [
       "<Figure size 432x288 with 1 Axes>"
      ]
     },
     "metadata": {
      "needs_background": "light"
     },
     "output_type": "display_data"
    }
   ],
   "source": [
    "# Build optuna objective function.\n",
    "import optuna\n",
    "import sklearn \n",
    "\n",
    "def objective(trial):\n",
    "    # Data loading\n",
    "    y_max_u_bool = pd.read_csv('..\\data\\ground_truth\\\\res_bus_vm_pu_max_balanced_bool_constr.csv')\n",
    "    exogenous_data = pd.read_csv('..\\data\\ground_truth\\\\exogenous_data_vm_pu_max_balanced.csv').drop(columns=['date'])\n",
    "    X_max_u_bool_train, X_max_u_bool_test, y_max_u_bool_train, y_max_u_bool_test, scaler = utils.split_and_suffle(exogenous_data, y_max_u_bool[utils.cols_with_positive_values(y_max_u_bool)], test_size=0.2, scaling=True)\n",
    "    data = {'X_train':X_max_u_bool_train.astype(float),\n",
    "            'X_test': X_max_u_bool_test.astype(float),\n",
    "            'y_train':y_max_u_bool_train.astype(float),\n",
    "            'y_test': y_max_u_bool_test.astype(float)\n",
    "        }\n",
    "    # Dataset object creation\n",
    "    _dataset = myai.ThesisDataset(data)\n",
    "    hyper_params = {\n",
    "        'input_size': _dataset.X.shape[1],\n",
    "        'hidden_size': trial.suggest_int('hidden_size', 1, 100),\n",
    "        'output_size': _dataset.y.shape[1],\n",
    "        'n_layers': trial.suggest_int('n_layers', 1, 3),\n",
    "        'dropout': trial.suggest_float('dropout', 0.0, 0.5),\n",
    "        'activation': trial.suggest_categorical('activation', ['relu', 'tanh', 'sigmoid']),\n",
    "        'optimizer': trial.suggest_categorical('optimizer', ['adam', 'sgd']),\n",
    "        'lr': trial.suggest_float('lr', 1e-5, 1e-1, log=True),\n",
    "        'epochs': trial.suggest_int('epochs', 1, 100),\n",
    "        'batch_size': trial.suggest_categorical('batch_size', [1, 2, 4, 8, 16, 32, 64, 128, 256, 512, 1024]),\n",
    "        'classifier': True\n",
    "        }\n",
    "    model = myai.Context(myai.MultilayerPerceptronStrategy(hyper_params))\n",
    "    model.fit(data)\n",
    "    prediction = model.predict(data)\n",
    "    prediction = pd.DataFrame(prediction, columns=utils.cols_with_positive_values(y_max_u_bool))\n",
    "    f1_score = sklearn.metrics.f1_score(data['y_test'], prediction, average='micro')\n",
    "    return f1_score\n",
    "study = optuna.create_study(direction=\"maximize\")\n",
    "study.optimize(objective, n_trials=num_trials)\n",
    "print(\"Number of finished trials: \", len(study.trials))\n",
    "print(\"Best trial:\")\n",
    "trial = study.best_trial\n",
    "print(\"  Value: {}\".format(trial.value))\n",
    "print(\"  Params: \")\n",
    "for key, value in trial.params.items():\n",
    "    print(\"    {}: {}\".format(key, value))\n",
    "# Write the results to a csv file.\n",
    "with open(\"./hyper_params_results/params_mlp_balanced_classifier_max_u.csv\", \"w\") as f:\n",
    "    f.write(\"params,value\\n\")\n",
    "    for key, value in trial.params.items():\n",
    "        f.write(\"{},{}\\n\".format(key, value))\n",
    "    f.write(\"classifier,True\\n\")\n",
    "    f.write(\"value,{}\\n\".format(trial.value))"
   ]
  },
  {
   "cell_type": "markdown",
   "metadata": {},
   "source": [
    "## MLP: Regression Sparse Dataset"
   ]
  },
  {
   "cell_type": "code",
   "execution_count": 6,
   "metadata": {},
   "outputs": [
    {
     "name": "stderr",
     "output_type": "stream",
     "text": [
      "\u001b[32m[I 2022-09-24 22:57:10,792]\u001b[0m A new study created in memory with name: no-name-0e98e61b-158c-41ba-8b6f-59465529fc3a\u001b[0m\n",
      "\u001b[32m[I 2022-09-24 22:58:29,923]\u001b[0m Trial 0 finished with value: 0.9720406817219905 and parameters: {'hidden_size': 14, 'n_layers': 3, 'dropout': 0.3654600830130775, 'activation': 'sigmoid', 'optimizer': 'sgd', 'lr': 0.0016291081786125228, 'epochs': 27, 'batch_size': 32}. Best is trial 0 with value: 0.9720406817219905.\u001b[0m\n"
     ]
    },
    {
     "name": "stdout",
     "output_type": "stream",
     "text": [
      "Number of finished trials:  1\n",
      "Best trial:\n",
      "  Value: 0.9720406817219905\n",
      "  Params: \n",
      "    hidden_size: 14\n",
      "    n_layers: 3\n",
      "    dropout: 0.3654600830130775\n",
      "    activation: sigmoid\n",
      "    optimizer: sgd\n",
      "    lr: 0.0016291081786125228\n",
      "    epochs: 27\n",
      "    batch_size: 32\n"
     ]
    },
    {
     "data": {
      "image/png": "[encoded data removed]",
      "text/plain": [
       "<Figure size 432x288 with 1 Axes>"
      ]
     },
     "metadata": {
      "needs_background": "light"
     },
     "output_type": "display_data"
    }
   ],
   "source": [
    "# Build optuna objective function.\n",
    "import optuna\n",
    "import sklearn \n",
    "\n",
    "def objective(trial):\n",
    "    # Data loading\n",
    "    y_max_u = pd.read_csv('..\\data\\ground_truth\\\\res_bus_vm_pu_max_constr.csv').drop(columns='timestamps')\n",
    "    exogenous_data = pd.read_csv('..\\data\\processed\\production\\exogenous_data_extended.csv').drop(columns=['date'])\n",
    "    X_max_u_train, X_max_u_test, y_max_u_train, y_max_u_test, scaler = utils.split_and_suffle(exogenous_data, y_max_u, test_size=0.2, scaling=True)\n",
    "    data = {'X_train':X_max_u_train.astype(float),\n",
    "            'X_test': X_max_u_test.astype(float),\n",
    "            'y_train':y_max_u_train.astype(float),\n",
    "            'y_test': y_max_u_test.astype(float)\n",
    "        }\n",
    "    # Dataset object creation\n",
    "    _dataset = myai.ThesisDataset(data)\n",
    "    hyper_params = {\n",
    "        'input_size': _dataset.X.shape[1],\n",
    "        'hidden_size': trial.suggest_int('hidden_size', 1, 100),\n",
    "        'output_size': _dataset.y.shape[1],\n",
    "        'n_layers': trial.suggest_int('n_layers', 1, 3),\n",
    "        'dropout': trial.suggest_float('dropout', 0.0, 0.5),\n",
    "        'activation': trial.suggest_categorical('activation', ['relu', 'tanh', 'sigmoid']),\n",
    "        'optimizer': trial.suggest_categorical('optimizer', ['adam', 'sgd']),\n",
    "        'lr': trial.suggest_float('lr', 1e-5, 1e-1, log=True),\n",
    "        'epochs': trial.suggest_int('epochs', 1, 100),\n",
    "        'batch_size': trial.suggest_categorical('batch_size', [1, 2, 4, 8, 16, 32, 64, 128, 256, 512, 1024]),\n",
    "        'classifier': False\n",
    "        }\n",
    "    model = myai.Context(myai.MultilayerPerceptronStrategy(hyper_params))\n",
    "    model.fit(data)\n",
    "    prediction = model.predict(data)\n",
    "    prediction = pd.DataFrame(prediction, columns=y_max_u.columns)\n",
    "    y_max_u_train = pd.DataFrame(y_max_u_train, columns=y_max_u.columns)\n",
    "    # evaluate the regression performance with my metrics\n",
    "    threshold = data['y_test'].loc[:, data['y_test'].max(axis=0) != 0].max(axis=0).mean() * 0.1 \n",
    "    metric = metrics.Metrics()\n",
    "    metric.get_prediction_scores(prediction, data['y_test'], threshold=threshold)\n",
    "    return metric.hybrid_f1\n",
    "study = optuna.create_study(direction=\"maximize\")\n",
    "study.optimize(objective, n_trials=num_trials)\n",
    "print(\"Number of finished trials: \", len(study.trials))\n",
    "print(\"Best trial:\")\n",
    "trial = study.best_trial\n",
    "print(\"  Value: {}\".format(trial.value))\n",
    "print(\"  Params: \")\n",
    "for key, value in trial.params.items():\n",
    "    print(\"    {}: {}\".format(key, value))\n",
    "# Write the results to a csv file.\n",
    "with open(\"./hyper_params_results/params_mlp_regression_sparse_max_u.csv\", \"w\") as f:\n",
    "    f.write(\"params,value\\n\")\n",
    "    for key, value in trial.params.items():\n",
    "        f.write(\"{},{}\\n\".format(key, value))\n",
    "    f.write(\"classifier,False\\n\")\n",
    "    f.write(\"value,{}\\n\".format(trial.value))"
   ]
  },
  {
   "cell_type": "markdown",
   "metadata": {},
   "source": [
    "## MLP: Regression Focused Dataset"
   ]
  },
  {
   "cell_type": "code",
   "execution_count": 7,
   "metadata": {},
   "outputs": [
    {
     "name": "stderr",
     "output_type": "stream",
     "text": [
      "\u001b[32m[I 2022-09-24 22:58:30,229]\u001b[0m A new study created in memory with name: no-name-3c306d71-0002-4198-9612-6739fcaa87cf\u001b[0m\n",
      "\u001b[32m[I 2022-09-24 22:58:37,032]\u001b[0m Trial 0 finished with value: 0.2110257955777539 and parameters: {'hidden_size': 21, 'n_layers': 1, 'dropout': 0.4698845697400264, 'activation': 'relu', 'optimizer': 'sgd', 'lr': 1.3082544592735434e-05, 'epochs': 55, 'batch_size': 32}. Best is trial 0 with value: 0.2110257955777539.\u001b[0m\n"
     ]
    },
    {
     "name": "stdout",
     "output_type": "stream",
     "text": [
      "Number of finished trials:  1\n",
      "Best trial:\n",
      "  Value: 0.2110257955777539\n",
      "  Params: \n",
      "    hidden_size: 21\n",
      "    n_layers: 1\n",
      "    dropout: 0.4698845697400264\n",
      "    activation: relu\n",
      "    optimizer: sgd\n",
      "    lr: 1.3082544592735434e-05\n",
      "    epochs: 55\n",
      "    batch_size: 32\n"
     ]
    },
    {
     "data": {
      "image/png": "[encoded data removed]",
      "text/plain": [
       "<Figure size 432x288 with 1 Axes>"
      ]
     },
     "metadata": {
      "needs_background": "light"
     },
     "output_type": "display_data"
    }
   ],
   "source": [
    "# Build optuna objective function.\n",
    "import optuna\n",
    "import sklearn \n",
    "\n",
    "def objective(trial):\n",
    "    # Data loading\n",
    "    y_max_u = pd.read_csv('..\\data\\ground_truth\\\\res_bus_vm_pu_max_focused_constr.csv')\n",
    "    exogenous_data = pd.read_csv('..\\data\\ground_truth\\\\exogenous_data_vm_pu_max_focused.csv').drop(columns=['date'])\n",
    "    X_max_u_train, X_max_u_test, y_max_u_train, y_max_u_test, scaler = utils.split_and_suffle(exogenous_data, y_max_u, scaling=True)\n",
    "    data = {'X_train':X_max_u_train.astype(float),\n",
    "            'X_test': X_max_u_test.astype(float),\n",
    "            'y_train':y_max_u_train.astype(float),\n",
    "            'y_test': y_max_u_test.astype(float)\n",
    "        }\n",
    "    # Dataset object creation\n",
    "    _dataset = myai.ThesisDataset(data)\n",
    "    hyper_params = {\n",
    "        'input_size': _dataset.X.shape[1],\n",
    "        'hidden_size': trial.suggest_int('hidden_size', 1, 100),\n",
    "        'output_size': _dataset.y.shape[1],\n",
    "        'n_layers': trial.suggest_int('n_layers', 1, 3),\n",
    "        'dropout': trial.suggest_float('dropout', 0.0, 0.5),\n",
    "        'activation': trial.suggest_categorical('activation', ['relu', 'tanh', 'sigmoid']),\n",
    "        'optimizer': trial.suggest_categorical('optimizer', ['adam', 'sgd']),\n",
    "        'lr': trial.suggest_float('lr', 1e-5, 1e-1, log=True),\n",
    "        'epochs': trial.suggest_int('epochs', 1, 100),\n",
    "        'batch_size': trial.suggest_categorical('batch_size', [1, 2, 4, 8, 16, 32, 64, 128, 256, 512, 1024]),\n",
    "        'classifier': False\n",
    "        }\n",
    "    model = myai.Context(myai.MultilayerPerceptronStrategy(hyper_params))\n",
    "    model.fit(data)\n",
    "    # print(model.strategy.model.eval())\n",
    "    prediction = model.predict(data)\n",
    "    prediction = pd.DataFrame(prediction, columns=y_max_u.columns)\n",
    "    # print('bus_16 prediction: ', prediction['bus_16'])\n",
    "    y_max_u_train = pd.DataFrame(y_max_u_train, columns=y_max_u.columns)\n",
    "    # evaluate the regression performance with my metrics\n",
    "    threshold = y_max_u_train.loc[:, y_max_u_train.max(axis=0) != 0].max(axis=0).mean() * 0.1 \n",
    "    # print('threshold: ', threshold)\n",
    "    metric = metrics.Metrics()\n",
    "    data['y_test'] = pd.DataFrame(data['y_test'], columns=y_max_u.columns)\n",
    "    # evaluate the regression performance with my metrics\n",
    "    return mean_squared_error(data['y_test'], prediction, squared=False)\n",
    "study = optuna.create_study(direction=\"minimize\")\n",
    "study.optimize(objective, n_trials=num_trials)\n",
    "print(\"Number of finished trials: \", len(study.trials))\n",
    "print(\"Best trial:\")\n",
    "trial = study.best_trial\n",
    "print(\"  Value: {}\".format(trial.value))\n",
    "print(\"  Params: \")\n",
    "for key, value in trial.params.items():\n",
    "    print(\"    {}: {}\".format(key, value))\n",
    "# Write the results to a csv file.\n",
    "with open(\"./hyper_params_results/params_mlp_regression_focused_max_u.csv\", \"w\") as f:\n",
    "    f.write(\"params,value\\n\")\n",
    "    for key, value in trial.params.items():\n",
    "        f.write(\"{},{}\\n\".format(key, value))\n",
    "    f.write(\"classifier,False\\n\")\n",
    "    f.write(\"value,{}\\n\".format(trial.value))"
   ]
  },
  {
   "cell_type": "markdown",
   "metadata": {},
   "source": [
    "## MLP: Regression Filtered Dataset"
   ]
  },
  {
   "cell_type": "code",
   "execution_count": 8,
   "metadata": {},
   "outputs": [
    {
     "name": "stderr",
     "output_type": "stream",
     "text": [
      "\u001b[32m[I 2022-09-24 22:58:37,598]\u001b[0m A new study created in memory with name: no-name-a9314252-422a-40f5-bd76-56f4627bdbc5\u001b[0m\n",
      "\u001b[32m[I 2022-09-24 23:00:52,714]\u001b[0m Trial 0 finished with value: 0.919348114758151 and parameters: {'hidden_size': 75, 'n_layers': 1, 'dropout': 0.10297209378506456, 'activation': 'sigmoid', 'optimizer': 'adam', 'lr': 0.010602706133974097, 'epochs': 45, 'batch_size': 64}. Best is trial 0 with value: 0.919348114758151.\u001b[0m\n"
     ]
    },
    {
     "name": "stdout",
     "output_type": "stream",
     "text": [
      "Number of finished trials:  1\n",
      "Best trial:\n",
      "  Value: 0.919348114758151\n",
      "  Params: \n",
      "    hidden_size: 75\n",
      "    n_layers: 1\n",
      "    dropout: 0.10297209378506456\n",
      "    activation: sigmoid\n",
      "    optimizer: adam\n",
      "    lr: 0.010602706133974097\n",
      "    epochs: 45\n",
      "    batch_size: 64\n"
     ]
    },
    {
     "data": {
      "image/png": "[encoded data removed]",
      "text/plain": [
       "<Figure size 432x288 with 1 Axes>"
      ]
     },
     "metadata": {
      "needs_background": "light"
     },
     "output_type": "display_data"
    }
   ],
   "source": [
    "# Build optuna objective function.\n",
    "import optuna\n",
    "import sklearn \n",
    "\n",
    "def objective(trial):\n",
    "    # Data loading\n",
    "    y_max_u = pd.read_csv('..\\data\\ground_truth\\\\res_bus_vm_pu_max_constr.csv').drop(columns='timestamps')\n",
    "    y_max_u = y_max_u[utils.cols_with_positive_values(y_max_u)]\n",
    "    exogenous_data = pd.read_csv('..\\data\\processed\\production\\exogenous_data_extended.csv').drop(columns=['date'])\n",
    "    X_max_u_train, X_max_u_test, y_max_u_train, y_max_u_test, scaler = utils.split_and_suffle(exogenous_data, y_max_u, test_size=0.2, scaling=True)\n",
    "    data = {'X_train':X_max_u_train.astype(float),\n",
    "            'X_test': X_max_u_test.astype(float),\n",
    "            'y_train':y_max_u_train.astype(float),\n",
    "            'y_test': y_max_u_test.astype(float)\n",
    "        }\n",
    "    # Dataset object creation\n",
    "    _dataset = myai.ThesisDataset(data)\n",
    "    hyper_params = {\n",
    "        'input_size': _dataset.X.shape[1],\n",
    "        'hidden_size': trial.suggest_int('hidden_size', 1, 100),\n",
    "        'output_size': _dataset.y.shape[1],\n",
    "        'n_layers': trial.suggest_int('n_layers', 1, 3),\n",
    "        'dropout': trial.suggest_float('dropout', 0.0, 0.5),\n",
    "        'activation': trial.suggest_categorical('activation', ['relu', 'tanh', 'sigmoid']),\n",
    "        'optimizer': trial.suggest_categorical('optimizer', ['adam', 'sgd']),\n",
    "        'lr': trial.suggest_float('lr', 1e-5, 1e-1, log=True),\n",
    "        'epochs': trial.suggest_int('epochs', 1, 100),\n",
    "        'batch_size': trial.suggest_categorical('batch_size', [1, 2, 4, 8, 16, 32, 64, 128, 256, 512, 1024]),\n",
    "        'classifier': False\n",
    "        }\n",
    "    model = myai.Context(myai.MultilayerPerceptronStrategy(hyper_params))\n",
    "    model.fit(data)\n",
    "    prediction = model.predict(data)\n",
    "    prediction = pd.DataFrame(prediction, columns=y_max_u.columns)\n",
    "    y_max_u_train = pd.DataFrame(y_max_u_train, columns=y_max_u.columns)\n",
    "    # evaluate the regression performance with my metrics\n",
    "    threshold = data['y_test'].loc[:, data['y_test'].max(axis=0) != 0].max(axis=0).mean() * 0.1 \n",
    "    metric = metrics.Metrics()\n",
    "    metric.get_prediction_scores(prediction, data['y_test'], threshold=threshold)\n",
    "    return metric.hybrid_f1\n",
    "study = optuna.create_study(direction=\"maximize\")\n",
    "study.optimize(objective, n_trials=num_trials)\n",
    "print(\"Number of finished trials: \", len(study.trials))\n",
    "print(\"Best trial:\")\n",
    "trial = study.best_trial\n",
    "print(\"  Value: {}\".format(trial.value))\n",
    "print(\"  Params: \")\n",
    "for key, value in trial.params.items():\n",
    "    print(\"    {}: {}\".format(key, value))\n",
    "# Write the results to a csv file.\n",
    "with open(\"./hyper_params_results/params_mlp_regression_filtered_max_u.csv\", \"w\") as f:\n",
    "    f.write(\"params,value\\n\")\n",
    "    for key, value in trial.params.items():\n",
    "        f.write(\"{},{}\\n\".format(key, value))\n",
    "    f.write(\"classifier,False\\n\")\n",
    "    f.write(\"value,{}\\n\".format(trial.value))"
   ]
  },
  {
   "cell_type": "markdown",
   "metadata": {},
   "source": [
    "# Min u"
   ]
  },
  {
   "cell_type": "markdown",
   "metadata": {},
   "source": [
    "## MLP: Sparse Classification Dataset"
   ]
  },
  {
   "cell_type": "code",
   "execution_count": 9,
   "metadata": {},
   "outputs": [
    {
     "name": "stderr",
     "output_type": "stream",
     "text": [
      "\u001b[32m[I 2022-09-24 23:00:53,019]\u001b[0m A new study created in memory with name: no-name-2644d5de-b91f-4e7b-a70d-fdfaf5a4ecb6\u001b[0m\n",
      "\u001b[32m[I 2022-09-24 23:01:24,782]\u001b[0m Trial 0 finished with value: 0.20158227261779038 and parameters: {'hidden_size': 73, 'n_layers': 1, 'dropout': 0.363886471930421, 'activation': 'sigmoid', 'optimizer': 'adam', 'lr': 0.004610693965221183, 'epochs': 14, 'batch_size': 1024}. Best is trial 0 with value: 0.20158227261779038.\u001b[0m\n"
     ]
    },
    {
     "name": "stdout",
     "output_type": "stream",
     "text": [
      "Number of finished trials:  1\n",
      "Best trial:\n",
      "  Value: 0.20158227261779038\n",
      "  Params: \n",
      "    hidden_size: 73\n",
      "    n_layers: 1\n",
      "    dropout: 0.363886471930421\n",
      "    activation: sigmoid\n",
      "    optimizer: adam\n",
      "    lr: 0.004610693965221183\n",
      "    epochs: 14\n",
      "    batch_size: 1024\n"
     ]
    },
    {
     "data": {
      "image/png": "[encoded data removed]",
      "text/plain": [
       "<Figure size 432x288 with 1 Axes>"
      ]
     },
     "metadata": {
      "needs_background": "light"
     },
     "output_type": "display_data"
    }
   ],
   "source": [
    "# Build optuna objective function.\n",
    "import optuna\n",
    "import sklearn \n",
    "\n",
    "def objective(trial):\n",
    "    # Data loading\n",
    "    y_min_u_bool = pd.read_csv('..\\data\\ground_truth\\\\res_bus_vm_pu_min_sparse_bool_constr.csv').drop(columns='timestamps')\n",
    "    exogenous_data = pd.read_csv('..\\data\\processed\\production\\exogenous_data_extended.csv').drop(columns=['date'])\n",
    "    X_min_u_bool_train, X_min_u_bool_test, y_min_u_bool_train, y_min_u_bool_test, scaler = utils.split_and_suffle(exogenous_data, y_min_u_bool[utils.cols_with_positive_values(y_min_u_bool)], test_size=0.2, scaling=True)\n",
    "    data = {'X_train':X_min_u_bool_train.astype(float),\n",
    "            'X_test': X_min_u_bool_test.astype(float),\n",
    "            'y_train':y_min_u_bool_train.astype(float),\n",
    "            'y_test': y_min_u_bool_test.astype(float)\n",
    "        }\n",
    "    # Dataset object creation\n",
    "    _dataset = myai.ThesisDataset(data)\n",
    "    hyper_params = {\n",
    "        'input_size': _dataset.X.shape[1],\n",
    "        'hidden_size': trial.suggest_int('hidden_size', 1, 100),\n",
    "        'output_size': _dataset.y.shape[1],\n",
    "        'n_layers': trial.suggest_int('n_layers', 1, 3),\n",
    "        'dropout': trial.suggest_float('dropout', 0.0, 0.5),\n",
    "        'activation': trial.suggest_categorical('activation', ['relu', 'tanh', 'sigmoid']),\n",
    "        'optimizer': trial.suggest_categorical('optimizer', ['adam', 'sgd']),\n",
    "        'lr': trial.suggest_float('lr', 1e-5, 1e-1, log=True),\n",
    "        'epochs': trial.suggest_int('epochs', 1, 100),\n",
    "        'batch_size': trial.suggest_categorical('batch_size', [1, 2, 4, 8, 16, 32, 64, 128, 256, 512, 1024]),\n",
    "        'classifier': True\n",
    "        }\n",
    "    model = myai.Context(myai.MultilayerPerceptronStrategy(hyper_params))\n",
    "    model.fit(data)\n",
    "    prediction = model.predict(data)\n",
    "    prediction = pd.DataFrame(prediction, columns=utils.cols_with_positive_values(y_min_u_bool))\n",
    "    f1_score = sklearn.metrics.f1_score(data['y_test'], prediction, average='micro')\n",
    "    return f1_score\n",
    "study = optuna.create_study(direction=\"maximize\")\n",
    "study.optimize(objective, n_trials=num_trials)\n",
    "print(\"Number of finished trials: \", len(study.trials))\n",
    "print(\"Best trial:\")\n",
    "trial = study.best_trial\n",
    "print(\"  Value: {}\".format(trial.value))\n",
    "print(\"  Params: \")\n",
    "for key, value in trial.params.items():\n",
    "    print(\"    {}: {}\".format(key, value))\n",
    "# Write the results to a csv file.\n",
    "with open(\"./hyper_params_results/params_mlp_sparse_classifier_min_u.csv\", \"w\") as f:\n",
    "    f.write(\"params,value\\n\")\n",
    "    for key, value in trial.params.items():\n",
    "        f.write(\"{},{}\\n\".format(key, value))\n",
    "    f.write(\"classifier,True\\n\")\n",
    "    f.write(\"value,{}\\n\".format(trial.value))"
   ]
  },
  {
   "cell_type": "markdown",
   "metadata": {},
   "source": [
    "## MLP: Balanced Classification Dataset"
   ]
  },
  {
   "cell_type": "code",
   "execution_count": 10,
   "metadata": {},
   "outputs": [
    {
     "name": "stderr",
     "output_type": "stream",
     "text": [
      "\u001b[32m[I 2022-09-24 23:01:25,094]\u001b[0m A new study created in memory with name: no-name-3befb0b8-3019-42d2-89c9-4a34032435e0\u001b[0m\n",
      "\u001b[32m[I 2022-09-24 23:02:23,379]\u001b[0m Trial 0 finished with value: 0.5285051887833959 and parameters: {'hidden_size': 62, 'n_layers': 2, 'dropout': 0.3852207084974009, 'activation': 'sigmoid', 'optimizer': 'adam', 'lr': 0.0002627219799217547, 'epochs': 65, 'batch_size': 256}. Best is trial 0 with value: 0.5285051887833959.\u001b[0m\n"
     ]
    },
    {
     "name": "stdout",
     "output_type": "stream",
     "text": [
      "Number of finished trials:  1\n",
      "Best trial:\n",
      "  Value: 0.5285051887833959\n",
      "  Params: \n",
      "    hidden_size: 62\n",
      "    n_layers: 2\n",
      "    dropout: 0.3852207084974009\n",
      "    activation: sigmoid\n",
      "    optimizer: adam\n",
      "    lr: 0.0002627219799217547\n",
      "    epochs: 65\n",
      "    batch_size: 256\n"
     ]
    },
    {
     "data": {
      "image/png": "[encoded data removed]",
      "text/plain": [
       "<Figure size 432x288 with 1 Axes>"
      ]
     },
     "metadata": {
      "needs_background": "light"
     },
     "output_type": "display_data"
    }
   ],
   "source": [
    "# Build optuna objective function.\n",
    "import optuna\n",
    "import sklearn \n",
    "\n",
    "def objective(trial):\n",
    "    # Data loading\n",
    "    y_min_u_bool = pd.read_csv('..\\data\\ground_truth\\\\res_bus_vm_pu_min_balanced_bool_constr.csv')\n",
    "    exogenous_data = pd.read_csv('..\\data\\ground_truth\\\\exogenous_data_vm_pu_min_balanced.csv').drop(columns=['date'])\n",
    "    X_max_u_bool_train, X_max_u_bool_test, y_max_u_bool_train, y_max_u_bool_test, scaler = utils.split_and_suffle(exogenous_data, y_min_u_bool[utils.cols_with_positive_values(y_min_u_bool)], test_size=0.2, scaling=True)\n",
    "    data = {'X_train':X_max_u_bool_train.astype(float),\n",
    "            'X_test': X_max_u_bool_test.astype(float),\n",
    "            'y_train':y_max_u_bool_train.astype(float),\n",
    "            'y_test': y_max_u_bool_test.astype(float)\n",
    "        }\n",
    "    # Dataset object creation\n",
    "    _dataset = myai.ThesisDataset(data)\n",
    "    hyper_params = {\n",
    "        'input_size': _dataset.X.shape[1],\n",
    "        'hidden_size': trial.suggest_int('hidden_size', 1, 100),\n",
    "        'output_size': _dataset.y.shape[1],\n",
    "        'n_layers': trial.suggest_int('n_layers', 1, 3),\n",
    "        'dropout': trial.suggest_float('dropout', 0.0, 0.5),\n",
    "        'activation': trial.suggest_categorical('activation', ['relu', 'tanh', 'sigmoid']),\n",
    "        'optimizer': trial.suggest_categorical('optimizer', ['adam', 'sgd']),\n",
    "        'lr': trial.suggest_float('lr', 1e-5, 1e-1, log=True),\n",
    "        'epochs': trial.suggest_int('epochs', 1, 100),\n",
    "        'batch_size': trial.suggest_categorical('batch_size', [1, 2, 4, 8, 16, 32, 64, 128, 256, 512, 1024]),\n",
    "        'classifier': True\n",
    "        }\n",
    "    model = myai.Context(myai.MultilayerPerceptronStrategy(hyper_params))\n",
    "    model.fit(data)\n",
    "    prediction = model.predict(data)\n",
    "    prediction = pd.DataFrame(prediction, columns=utils.cols_with_positive_values(y_min_u_bool))\n",
    "    f1_score = sklearn.metrics.f1_score(data['y_test'], prediction, average='micro')\n",
    "    return f1_score\n",
    "study = optuna.create_study(direction=\"maximize\")\n",
    "study.optimize(objective, n_trials=num_trials)\n",
    "print(\"Number of finished trials: \", len(study.trials))\n",
    "print(\"Best trial:\")\n",
    "trial = study.best_trial\n",
    "print(\"  Value: {}\".format(trial.value))\n",
    "print(\"  Params: \")\n",
    "for key, value in trial.params.items():\n",
    "    print(\"    {}: {}\".format(key, value))\n",
    "# Write the results to a csv file.\n",
    "with open(\"./hyper_params_results/params_mlp_balanced_classifier_min_u.csv\", \"w\") as f:\n",
    "    f.write(\"params,value\\n\")\n",
    "    for key, value in trial.params.items():\n",
    "        f.write(\"{},{}\\n\".format(key, value))\n",
    "    f.write(\"classifier,True\\n\")\n",
    "    f.write(\"value,{}\\n\".format(trial.value))"
   ]
  },
  {
   "cell_type": "markdown",
   "metadata": {},
   "source": [
    "## MLP: Regression Sparse Dataset"
   ]
  },
  {
   "cell_type": "code",
   "execution_count": 11,
   "metadata": {},
   "outputs": [
    {
     "name": "stderr",
     "output_type": "stream",
     "text": [
      "\u001b[32m[I 2022-09-24 23:02:23,948]\u001b[0m A new study created in memory with name: no-name-d76f92f2-4bef-49e8-83a3-3401e9de1bec\u001b[0m\n",
      "\u001b[32m[I 2022-09-24 23:02:58,935]\u001b[0m Trial 0 finished with value: 0.18105667803993084 and parameters: {'hidden_size': 2, 'n_layers': 1, 'dropout': 0.487994829951564, 'activation': 'tanh', 'optimizer': 'sgd', 'lr': 7.229589977448285e-05, 'epochs': 6, 'batch_size': 512}. Best is trial 0 with value: 0.18105667803993084.\u001b[0m\n"
     ]
    },
    {
     "name": "stdout",
     "output_type": "stream",
     "text": [
      "Number of finished trials:  1\n",
      "Best trial:\n",
      "  Value: 0.18105667803993084\n",
      "  Params: \n",
      "    hidden_size: 2\n",
      "    n_layers: 1\n",
      "    dropout: 0.487994829951564\n",
      "    activation: tanh\n",
      "    optimizer: sgd\n",
      "    lr: 7.229589977448285e-05\n",
      "    epochs: 6\n",
      "    batch_size: 512\n"
     ]
    },
    {
     "data": {
      "image/png": "[encoded data removed]",
      "text/plain": [
       "<Figure size 432x288 with 1 Axes>"
      ]
     },
     "metadata": {
      "needs_background": "light"
     },
     "output_type": "display_data"
    }
   ],
   "source": [
    "# Build optuna objective function.\n",
    "import optuna\n",
    "import sklearn \n",
    "\n",
    "def objective(trial):\n",
    "    # Data loading\n",
    "    y_min_u = pd.read_csv('..\\data\\ground_truth\\\\res_bus_vm_pu_min_constr.csv').drop(columns='timestamps')\n",
    "    exogenous_data = pd.read_csv('..\\data\\processed\\production\\exogenous_data_extended.csv').drop(columns=['date'])\n",
    "    X_min_u_train, X_min_u_test, y_min_u_train, y_min_u_test, scaler = utils.split_and_suffle(exogenous_data, y_min_u, test_size=0.2, scaling=True)\n",
    "    data = {'X_train':X_min_u_train.astype(float),\n",
    "            'X_test': X_min_u_test.astype(float),\n",
    "            'y_train':y_min_u_train.astype(float),\n",
    "            'y_test': y_min_u_test.astype(float)\n",
    "        }\n",
    "    # Dataset object creation\n",
    "    _dataset = myai.ThesisDataset(data)\n",
    "    hyper_params = {\n",
    "        'input_size': _dataset.X.shape[1],\n",
    "        'hidden_size': trial.suggest_int('hidden_size', 1, 100),\n",
    "        'output_size': _dataset.y.shape[1],\n",
    "        'n_layers': trial.suggest_int('n_layers', 1, 3),\n",
    "        'dropout': trial.suggest_float('dropout', 0.0, 0.5),\n",
    "        'activation': trial.suggest_categorical('activation', ['relu', 'tanh', 'sigmoid']),\n",
    "        'optimizer': trial.suggest_categorical('optimizer', ['adam', 'sgd']),\n",
    "        'lr': trial.suggest_float('lr', 1e-5, 1e-1, log=True),\n",
    "        'epochs': trial.suggest_int('epochs', 1, 100),\n",
    "        'batch_size': trial.suggest_categorical('batch_size', [1, 2, 4, 8, 16, 32, 64, 128, 256, 512, 1024]),\n",
    "        'classifier': False\n",
    "        }\n",
    "    model = myai.Context(myai.MultilayerPerceptronStrategy(hyper_params))\n",
    "    model.fit(data)\n",
    "    prediction = model.predict(data)\n",
    "    prediction = pd.DataFrame(prediction, columns=y_min_u.columns)\n",
    "    y_min_u_train = pd.DataFrame(y_min_u_train, columns=y_min_u.columns)\n",
    "    # evaluate the regression performance with my metrics\n",
    "    threshold = data['y_test'].loc[:, data['y_test'].max(axis=0) != 0].max(axis=0).mean() * 0.1 \n",
    "    metric = metrics.Metrics()\n",
    "    metric.get_prediction_scores(prediction, data['y_test'], threshold=threshold)\n",
    "    return metric.hybrid_f1\n",
    "study = optuna.create_study(direction=\"maximize\")\n",
    "study.optimize(objective, n_trials=num_trials)\n",
    "print(\"Number of finished trials: \", len(study.trials))\n",
    "print(\"Best trial:\")\n",
    "trial = study.best_trial\n",
    "print(\"  Value: {}\".format(trial.value))\n",
    "print(\"  Params: \")\n",
    "for key, value in trial.params.items():\n",
    "    print(\"    {}: {}\".format(key, value))\n",
    "# Write the results to a csv file.\n",
    "with open(\"./hyper_params_results/params_mlp_regression_min_u.csv\", \"w\") as f:\n",
    "    f.write(\"params,value\\n\")\n",
    "    for key, value in trial.params.items():\n",
    "        f.write(\"{},{}\\n\".format(key, value))\n",
    "    f.write(\"classifier,False\\n\")\n",
    "    f.write(\"value,{}\\n\".format(trial.value))"
   ]
  },
  {
   "cell_type": "markdown",
   "metadata": {},
   "source": [
    "## MLP: Regression Focused Dataset"
   ]
  },
  {
   "cell_type": "code",
   "execution_count": 12,
   "metadata": {},
   "outputs": [
    {
     "name": "stderr",
     "output_type": "stream",
     "text": [
      "\u001b[32m[I 2022-09-24 23:02:59,245]\u001b[0m A new study created in memory with name: no-name-38605289-62bb-4f32-a47a-94b3c2dbba28\u001b[0m\n",
      "\u001b[32m[I 2022-09-24 23:03:02,554]\u001b[0m Trial 0 finished with value: 0.47785879344984616 and parameters: {'hidden_size': 55, 'n_layers': 1, 'dropout': 0.028872790513542523, 'activation': 'sigmoid', 'optimizer': 'adam', 'lr': 1.1693701954864931e-05, 'epochs': 7, 'batch_size': 8}. Best is trial 0 with value: 0.47785879344984616.\u001b[0m\n"
     ]
    },
    {
     "name": "stdout",
     "output_type": "stream",
     "text": [
      "Number of finished trials:  1\n",
      "Best trial:\n",
      "  Value: 0.47785879344984616\n",
      "  Params: \n",
      "    hidden_size: 55\n",
      "    n_layers: 1\n",
      "    dropout: 0.028872790513542523\n",
      "    activation: sigmoid\n",
      "    optimizer: adam\n",
      "    lr: 1.1693701954864931e-05\n",
      "    epochs: 7\n",
      "    batch_size: 8\n"
     ]
    },
    {
     "data": {
      "image/png": "[encoded data removed]",
      "text/plain": [
       "<Figure size 432x288 with 1 Axes>"
      ]
     },
     "metadata": {
      "needs_background": "light"
     },
     "output_type": "display_data"
    }
   ],
   "source": [
    "# Build optuna objective function.\n",
    "import optuna\n",
    "import sklearn \n",
    "\n",
    "def objective(trial):\n",
    "    # Data loading\n",
    "    y_min_u = pd.read_csv('..\\data\\ground_truth\\\\res_bus_vm_pu_min_focused_constr.csv')\n",
    "    exogenous_data = pd.read_csv('..\\data\\ground_truth\\\\exogenous_data_vm_pu_min_focused.csv').drop(columns=['date'])\n",
    "    X_min_u_train, X_min_u_test, y_min_u_train, y_min_u_test, scaler = utils.split_and_suffle(exogenous_data, y_min_u, scaling=True)\n",
    "    data = {'X_train':X_min_u_train.astype(float),\n",
    "            'X_test': X_min_u_test.astype(float),\n",
    "            'y_train':y_min_u_train.astype(float),\n",
    "            'y_test': y_min_u_test.astype(float)\n",
    "        }\n",
    "    # Dataset object creation\n",
    "    _dataset = myai.ThesisDataset(data)\n",
    "    hyper_params = {\n",
    "        'input_size': _dataset.X.shape[1],\n",
    "        'hidden_size': trial.suggest_int('hidden_size', 1, 100),\n",
    "        'output_size': _dataset.y.shape[1],\n",
    "        'n_layers': trial.suggest_int('n_layers', 1, 3),\n",
    "        'dropout': trial.suggest_float('dropout', 0.0, 0.5),\n",
    "        'activation': trial.suggest_categorical('activation', ['relu', 'tanh', 'sigmoid']),\n",
    "        'optimizer': trial.suggest_categorical('optimizer', ['adam', 'sgd']),\n",
    "        'lr': trial.suggest_float('lr', 1e-5, 1e-1, log=True),\n",
    "        'epochs': trial.suggest_int('epochs', 1, 100),\n",
    "        'batch_size': trial.suggest_categorical('batch_size', [1, 2, 4, 8, 16, 32, 64, 128, 256, 512, 1024]),\n",
    "        'classifier': False\n",
    "        }\n",
    "    model = myai.Context(myai.MultilayerPerceptronStrategy(hyper_params))\n",
    "    model.fit(data)\n",
    "    # print(model.strategy.model.eval())\n",
    "    prediction = model.predict(data)\n",
    "    prediction = pd.DataFrame(prediction, columns=y_min_u.columns)\n",
    "    # print('bus_16 prediction: ', prediction['bus_16'])\n",
    "    y_min_u_train = pd.DataFrame(y_min_u_train, columns=y_min_u.columns)\n",
    "    # evaluate the regression performance with my metrics\n",
    "    threshold = y_min_u_train.loc[:, y_min_u_train.max(axis=0) != 0].max(axis=0).mean() * 0.1 \n",
    "    # print('threshold: ', threshold)\n",
    "    metric = metrics.Metrics()\n",
    "    data['y_test'] = pd.DataFrame(data['y_test'], columns=y_min_u.columns)\n",
    "    # evaluate the regression performance with my metrics\n",
    "    return mean_squared_error(data['y_test'], prediction, squared=False)\n",
    "study = optuna.create_study(direction=\"minimize\")\n",
    "study.optimize(objective, n_trials=num_trials)\n",
    "print(\"Number of finished trials: \", len(study.trials))\n",
    "print(\"Best trial:\")\n",
    "trial = study.best_trial\n",
    "print(\"  Value: {}\".format(trial.value))\n",
    "print(\"  Params: \")\n",
    "for key, value in trial.params.items():\n",
    "    print(\"    {}: {}\".format(key, value))\n",
    "# Write the results to a csv file.\n",
    "with open(\"./hyper_params_results/params_mlp_regression_focused_min_u.csv\", \"w\") as f:\n",
    "    f.write(\"params,value\\n\")\n",
    "    for key, value in trial.params.items():\n",
    "        f.write(\"{},{}\\n\".format(key, value))\n",
    "    f.write(\"classifier,False\\n\")\n",
    "    f.write(\"value,{}\\n\".format(trial.value))"
   ]
  },
  {
   "cell_type": "markdown",
   "metadata": {},
   "source": [
    "## Regression Filtered Dataset"
   ]
  },
  {
   "cell_type": "code",
   "execution_count": 13,
   "metadata": {},
   "outputs": [
    {
     "name": "stderr",
     "output_type": "stream",
     "text": [
      "\u001b[32m[I 2022-09-24 23:03:02,868]\u001b[0m A new study created in memory with name: no-name-fbd2dec4-f937-4db2-b7cd-4b35759de330\u001b[0m\n",
      "\u001b[32m[I 2022-09-24 23:05:45,852]\u001b[0m Trial 0 finished with value: 0.9562433249361378 and parameters: {'hidden_size': 63, 'n_layers': 3, 'dropout': 0.0013619804919678402, 'activation': 'tanh', 'optimizer': 'adam', 'lr': 0.05103588011128337, 'epochs': 32, 'batch_size': 256}. Best is trial 0 with value: 0.9562433249361378.\u001b[0m\n"
     ]
    },
    {
     "name": "stdout",
     "output_type": "stream",
     "text": [
      "Number of finished trials:  1\n",
      "Best trial:\n",
      "  Value: 0.9562433249361378\n",
      "  Params: \n",
      "    hidden_size: 63\n",
      "    n_layers: 3\n",
      "    dropout: 0.0013619804919678402\n",
      "    activation: tanh\n",
      "    optimizer: adam\n",
      "    lr: 0.05103588011128337\n",
      "    epochs: 32\n",
      "    batch_size: 256\n"
     ]
    },
    {
     "data": {
      "image/png": "[encoded data removed]",
      "text/plain": [
       "<Figure size 432x288 with 1 Axes>"
      ]
     },
     "metadata": {
      "needs_background": "light"
     },
     "output_type": "display_data"
    }
   ],
   "source": [
    "# Build optuna objective function.\n",
    "import optuna\n",
    "import sklearn \n",
    "\n",
    "def objective(trial):\n",
    "    # Data loading\n",
    "    y_min_u = pd.read_csv('..\\data\\ground_truth\\\\res_bus_vm_pu_min_constr.csv').drop(columns='timestamps')\n",
    "    exogenous_data = pd.read_csv('..\\data\\processed\\production\\exogenous_data_extended.csv').drop(columns=['date'])\n",
    "    X_min_u_train, X_min_u_test, y_min_u_train, y_min_u_test, scaler = utils.split_and_suffle(exogenous_data, y_min_u[utils.cols_with_positive_values(y_min_u)], test_size=0.2, scaling=True)\n",
    "    data = {'X_train':X_min_u_train.astype(float),\n",
    "            'X_test': X_min_u_test.astype(float),\n",
    "            'y_train':y_min_u_train.astype(float),\n",
    "            'y_test': y_min_u_test.astype(float)\n",
    "        }\n",
    "    # Dataset object creation\n",
    "    _dataset = myai.ThesisDataset(data)\n",
    "    hyper_params = {\n",
    "        'input_size': _dataset.X.shape[1],\n",
    "        'hidden_size': trial.suggest_int('hidden_size', 1, 100),\n",
    "        'output_size': _dataset.y.shape[1],\n",
    "        'n_layers': trial.suggest_int('n_layers', 1, 3),\n",
    "        'dropout': trial.suggest_float('dropout', 0.0, 0.5),\n",
    "        'activation': trial.suggest_categorical('activation', ['relu', 'tanh', 'sigmoid']),\n",
    "        'optimizer': trial.suggest_categorical('optimizer', ['adam', 'sgd']),\n",
    "        'lr': trial.suggest_float('lr', 1e-5, 1e-1, log=True),\n",
    "        'epochs': trial.suggest_int('epochs', 1, 100),\n",
    "        'batch_size': trial.suggest_categorical('batch_size', [1, 2, 4, 8, 16, 32, 64, 128, 256, 512, 1024]),\n",
    "        'classifier': False\n",
    "        }\n",
    "    model = myai.Context(myai.MultilayerPerceptronStrategy(hyper_params))\n",
    "    model.fit(data)\n",
    "    prediction = model.predict(data)\n",
    "    prediction = pd.DataFrame(prediction, columns=utils.cols_with_positive_values(y_min_u))\n",
    "    y_min_u_train = pd.DataFrame(y_min_u_train, columns=utils.cols_with_positive_values(y_min_u))\n",
    "    # evaluate the regression performance with my metrics\n",
    "    threshold = data['y_test'].loc[:, data['y_test'].max(axis=0) != 0].max(axis=0).mean() * 0.1 \n",
    "    metric = metrics.Metrics()\n",
    "    metric.get_prediction_scores(prediction, data['y_test'], threshold=threshold)\n",
    "    return metric.hybrid_f1\n",
    "study = optuna.create_study(direction=\"maximize\")\n",
    "study.optimize(objective, n_trials=num_trials)\n",
    "print(\"Number of finished trials: \", len(study.trials))\n",
    "print(\"Best trial:\")\n",
    "trial = study.best_trial\n",
    "print(\"  Value: {}\".format(trial.value))\n",
    "print(\"  Params: \")\n",
    "for key, value in trial.params.items():\n",
    "    print(\"    {}: {}\".format(key, value))\n",
    "# Write the results to a csv file.\n",
    "with open(\"./hyper_params_results/params_mlp_regression_filtered_min_u.csv\", \"w\") as f:\n",
    "    f.write(\"params,value\\n\")\n",
    "    for key, value in trial.params.items():\n",
    "        f.write(\"{},{}\\n\".format(key, value))\n",
    "    f.write(\"classifier,False\\n\")\n",
    "    f.write(\"value,{}\\n\".format(trial.value))"
   ]
  }
 ],
 "metadata": {
  "kernelspec": {
   "display_name": "Python 3.8.10 ('env': venv)",
   "language": "python",
   "name": "python3"
  },
  "language_info": {
   "codemirror_mode": {
    "name": "ipython",
    "version": 3
   },
   "file_extension": ".py",
   "mimetype": "text/x-python",
   "name": "python",
   "nbconvert_exporter": "python",
   "pygments_lexer": "ipython3",
   "version": "3.8.10"
  },
  "orig_nbformat": 4,
  "vscode": {
   "interpreter": {
    "hash": "4fe4baa4d27e3b73db55d4bb4674105e8dd41faaf9e559c3cc8381041ce15293"
   }
  }
 },
 "nbformat": 4,
 "nbformat_minor": 2
}
