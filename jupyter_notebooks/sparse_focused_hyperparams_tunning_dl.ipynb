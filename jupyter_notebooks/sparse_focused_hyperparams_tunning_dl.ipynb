{
 "cells": [
  {
   "cell_type": "markdown",
   "metadata": {},
   "source": [
    "# Hyperparameters Tunning for Deep Learning Models (full of errors)\n",
    "TODO add description"
   ]
  },
  {
   "cell_type": "code",
   "execution_count": 1,
   "metadata": {},
   "outputs": [
    {
     "name": "stderr",
     "output_type": "stream",
     "text": [
      "c:\\Users\\jamil\\Documents\\IST\\Thesis\\new_thesis\\code\\AI-to-forecast-constraints-in-the-energy-systems\\env\\lib\\site-packages\\tqdm\\auto.py:22: TqdmWarning: IProgress not found. Please update jupyter and ipywidgets. See https://ipywidgets.readthedocs.io/en/stable/user_install.html\n",
      "  from .autonotebook import tqdm as notebook_tqdm\n"
     ]
    }
   ],
   "source": [
    "import optuna \n",
    "import sys; sys.path.append('..')\n",
    "from thesis_package import utils, aimodels as myai, metrics\n",
    "\n",
    "import pandas as pd\n",
    "import numpy as np\n",
    "import matplotlib.pyplot as plt\n",
    "import seaborn as sns\n",
    "\n",
    "num_trials = 30"
   ]
  },
  {
   "cell_type": "markdown",
   "metadata": {},
   "source": [
    "## MLP: Classification Dataset"
   ]
  },
  {
   "cell_type": "markdown",
   "metadata": {},
   "source": [
    "Build optuna study..."
   ]
  },
  {
   "cell_type": "code",
   "execution_count": 2,
   "metadata": {},
   "outputs": [
    {
     "name": "stderr",
     "output_type": "stream",
     "text": [
      "\u001b[32m[I 2022-09-13 22:06:44,236]\u001b[0m A new study created in memory with name: no-name-c9e2a371-d8de-4ec8-a076-3d40fd7dce65\u001b[0m\n",
      "\u001b[32m[I 2022-09-13 22:12:57,868]\u001b[0m Trial 0 finished with value: 0.1288759055241888 and parameters: {'hidden_size': 58, 'n_layers': 1, 'dropout': 0.44884552469922795, 'activation': 'relu', 'optimizer': 'adam', 'lr': 8.897030747981981e-05, 'epochs': 84, 'batch_size': 256}. Best is trial 0 with value: 0.1288759055241888.\u001b[0m\n",
      "\u001b[32m[I 2022-09-13 22:19:16,845]\u001b[0m Trial 1 finished with value: 0.12446867611529563 and parameters: {'hidden_size': 23, 'n_layers': 3, 'dropout': 0.3486339649523169, 'activation': 'sigmoid', 'optimizer': 'adam', 'lr': 0.00016799827702354642, 'epochs': 93, 'batch_size': 128}. Best is trial 0 with value: 0.1288759055241888.\u001b[0m\n",
      "\u001b[32m[I 2022-09-13 22:19:23,500]\u001b[0m Trial 2 finished with value: 0.04691739523665962 and parameters: {'hidden_size': 76, 'n_layers': 2, 'dropout': 0.007875145661834448, 'activation': 'relu', 'optimizer': 'sgd', 'lr': 1.4469614510447319e-05, 'epochs': 2, 'batch_size': 4}. Best is trial 0 with value: 0.1288759055241888.\u001b[0m\n",
      "\u001b[32m[I 2022-09-13 22:20:59,543]\u001b[0m Trial 3 finished with value: 0.11906131792530204 and parameters: {'hidden_size': 1, 'n_layers': 2, 'dropout': 0.4794774824325706, 'activation': 'sigmoid', 'optimizer': 'sgd', 'lr': 0.004626715337170755, 'epochs': 43, 'batch_size': 16}. Best is trial 0 with value: 0.1288759055241888.\u001b[0m\n",
      "\u001b[32m[I 2022-09-13 22:24:19,754]\u001b[0m Trial 4 finished with value: 0.1241911622821123 and parameters: {'hidden_size': 72, 'n_layers': 3, 'dropout': 0.3001402394181018, 'activation': 'sigmoid', 'optimizer': 'sgd', 'lr': 0.015247121145910102, 'epochs': 53, 'batch_size': 1024}. Best is trial 0 with value: 0.1288759055241888.\u001b[0m\n",
      "\u001b[32m[I 2022-09-13 22:26:32,747]\u001b[0m Trial 5 finished with value: 0.04315787441354589 and parameters: {'hidden_size': 13, 'n_layers': 1, 'dropout': 0.2985650050748213, 'activation': 'tanh', 'optimizer': 'sgd', 'lr': 1.1447991046496213e-05, 'epochs': 77, 'batch_size': 4}. Best is trial 0 with value: 0.1288759055241888.\u001b[0m\n",
      "\u001b[32m[I 2022-09-13 22:27:18,541]\u001b[0m Trial 6 finished with value: 0.12466461873468909 and parameters: {'hidden_size': 5, 'n_layers': 1, 'dropout': 0.22295791648797397, 'activation': 'relu', 'optimizer': 'adam', 'lr': 0.000215939144871889, 'epochs': 20, 'batch_size': 512}. Best is trial 0 with value: 0.1288759055241888.\u001b[0m\n",
      "\u001b[32m[I 2022-09-13 22:30:22,082]\u001b[0m Trial 7 finished with value: 0.10881368201972674 and parameters: {'hidden_size': 39, 'n_layers': 2, 'dropout': 0.25956698503039205, 'activation': 'tanh', 'optimizer': 'adam', 'lr': 0.003498223865983926, 'epochs': 65, 'batch_size': 256}. Best is trial 0 with value: 0.1288759055241888.\u001b[0m\n",
      "\u001b[32m[I 2022-09-13 22:34:17,479]\u001b[0m Trial 8 finished with value: 0.13468990921166143 and parameters: {'hidden_size': 7, 'n_layers': 2, 'dropout': 0.3650691476098278, 'activation': 'sigmoid', 'optimizer': 'adam', 'lr': 0.006645338873792763, 'epochs': 97, 'batch_size': 1024}. Best is trial 8 with value: 0.13468990921166143.\u001b[0m\n",
      "\u001b[32m[I 2022-09-13 22:36:26,709]\u001b[0m Trial 9 finished with value: 0.12391059161283707 and parameters: {'hidden_size': 37, 'n_layers': 3, 'dropout': 0.265222130277561, 'activation': 'tanh', 'optimizer': 'sgd', 'lr': 0.0047650240007078345, 'epochs': 54, 'batch_size': 4}. Best is trial 8 with value: 0.13468990921166143.\u001b[0m\n",
      "\u001b[32m[I 2022-09-13 22:43:51,650]\u001b[0m Trial 10 finished with value: 0.12448958494857082 and parameters: {'hidden_size': 99, 'n_layers': 2, 'dropout': 0.13841292989616472, 'activation': 'sigmoid', 'optimizer': 'adam', 'lr': 0.09575893048084605, 'epochs': 98, 'batch_size': 64}. Best is trial 8 with value: 0.13468990921166143.\u001b[0m\n",
      "\u001b[32m[I 2022-09-13 22:47:23,395]\u001b[0m Trial 11 finished with value: 0.1397874174087906 and parameters: {'hidden_size': 62, 'n_layers': 1, 'dropout': 0.45976693941969266, 'activation': 'relu', 'optimizer': 'adam', 'lr': 0.00026390696562310557, 'epochs': 79, 'batch_size': 32}. Best is trial 11 with value: 0.1397874174087906.\u001b[0m\n",
      "\u001b[32m[I 2022-09-13 22:50:34,925]\u001b[0m Trial 12 finished with value: 0.1466470154753132 and parameters: {'hidden_size': 57, 'n_layers': 1, 'dropout': 0.3909625548211252, 'activation': 'relu', 'optimizer': 'adam', 'lr': 0.0006996260279747928, 'epochs': 74, 'batch_size': 32}. Best is trial 12 with value: 0.1466470154753132.\u001b[0m\n",
      "\u001b[32m[I 2022-09-13 22:53:38,163]\u001b[0m Trial 13 finished with value: 0.14143092416888928 and parameters: {'hidden_size': 58, 'n_layers': 1, 'dropout': 0.40064656110099167, 'activation': 'relu', 'optimizer': 'adam', 'lr': 0.000605064319844785, 'epochs': 72, 'batch_size': 32}. Best is trial 12 with value: 0.1466470154753132.\u001b[0m\n",
      "\u001b[32m[I 2022-09-13 22:56:30,872]\u001b[0m Trial 14 finished with value: 0.14132924782957615 and parameters: {'hidden_size': 44, 'n_layers': 1, 'dropout': 0.39739036808659933, 'activation': 'relu', 'optimizer': 'adam', 'lr': 0.0007986196388526599, 'epochs': 66, 'batch_size': 32}. Best is trial 12 with value: 0.1466470154753132.\u001b[0m\n",
      "\u001b[32m[I 2022-09-13 22:58:05,660]\u001b[0m Trial 15 finished with value: 0.14825890586222315 and parameters: {'hidden_size': 83, 'n_layers': 1, 'dropout': 0.3995789642816663, 'activation': 'relu', 'optimizer': 'adam', 'lr': 0.001004375738473667, 'epochs': 38, 'batch_size': 1}. Best is trial 15 with value: 0.14825890586222315.\u001b[0m\n",
      "\u001b[32m[I 2022-09-13 22:59:32,967]\u001b[0m Trial 16 finished with value: 0.126944569336502 and parameters: {'hidden_size': 94, 'n_layers': 1, 'dropout': 0.19051849992373235, 'activation': 'relu', 'optimizer': 'adam', 'lr': 4.8930261526355186e-05, 'epochs': 38, 'batch_size': 1}. Best is trial 15 with value: 0.14825890586222315.\u001b[0m\n",
      "\u001b[32m[I 2022-09-13 23:00:37,653]\u001b[0m Trial 17 finished with value: 0.15709378163532867 and parameters: {'hidden_size': 84, 'n_layers': 1, 'dropout': 0.11147756765728217, 'activation': 'relu', 'optimizer': 'adam', 'lr': 0.0012427599749544184, 'epochs': 28, 'batch_size': 8}. Best is trial 17 with value: 0.15709378163532867.\u001b[0m\n",
      "\u001b[32m[I 2022-09-13 23:01:32,933]\u001b[0m Trial 18 finished with value: 0.15113708149084018 and parameters: {'hidden_size': 85, 'n_layers': 1, 'dropout': 0.08051486910234099, 'activation': 'relu', 'optimizer': 'adam', 'lr': 0.0017728327854128235, 'epochs': 24, 'batch_size': 8}. Best is trial 17 with value: 0.15709378163532867.\u001b[0m\n",
      "\u001b[32m[I 2022-09-13 23:02:54,933]\u001b[0m Trial 19 finished with value: 0.11648463532025176 and parameters: {'hidden_size': 86, 'n_layers': 2, 'dropout': 0.057928172825559954, 'activation': 'relu', 'optimizer': 'adam', 'lr': 0.03554083437427723, 'epochs': 22, 'batch_size': 8}. Best is trial 17 with value: 0.15709378163532867.\u001b[0m\n",
      "\u001b[32m[I 2022-09-13 23:04:00,582]\u001b[0m Trial 20 finished with value: 0.0974590254097459 and parameters: {'hidden_size': 75, 'n_layers': 2, 'dropout': 0.10323289820441617, 'activation': 'tanh', 'optimizer': 'adam', 'lr': 0.0018565544563314098, 'epochs': 23, 'batch_size': 8}. Best is trial 17 with value: 0.15709378163532867.\u001b[0m\n",
      "\u001b[32m[I 2022-09-13 23:05:13,873]\u001b[0m Trial 21 finished with value: 0.15868909012505392 and parameters: {'hidden_size': 87, 'n_layers': 1, 'dropout': 0.1489135585852697, 'activation': 'relu', 'optimizer': 'adam', 'lr': 0.0016140689727156942, 'epochs': 32, 'batch_size': 2}. Best is trial 21 with value: 0.15868909012505392.\u001b[0m\n",
      "\u001b[32m[I 2022-09-13 23:05:30,776]\u001b[0m Trial 22 finished with value: 0.13305922609789417 and parameters: {'hidden_size': 91, 'n_layers': 1, 'dropout': 0.15031947947061075, 'activation': 'relu', 'optimizer': 'adam', 'lr': 0.001648617414358159, 'epochs': 7, 'batch_size': 2}. Best is trial 21 with value: 0.15868909012505392.\u001b[0m\n",
      "\u001b[32m[I 2022-09-13 23:06:38,522]\u001b[0m Trial 23 finished with value: 0.14355623053676347 and parameters: {'hidden_size': 69, 'n_layers': 1, 'dropout': 0.07186925639966053, 'activation': 'relu', 'optimizer': 'adam', 'lr': 0.012078173552425034, 'epochs': 29, 'batch_size': 8}. Best is trial 21 with value: 0.15868909012505392.\u001b[0m\n",
      "\u001b[32m[I 2022-09-13 23:07:14,275]\u001b[0m Trial 24 finished with value: 0.14877622102094532 and parameters: {'hidden_size': 82, 'n_layers': 1, 'dropout': 0.0017403151413556417, 'activation': 'relu', 'optimizer': 'adam', 'lr': 0.0018606728790055726, 'epochs': 15, 'batch_size': 2}. Best is trial 21 with value: 0.15868909012505392.\u001b[0m\n",
      "\u001b[32m[I 2022-09-13 23:08:24,940]\u001b[0m Trial 25 finished with value: 0.143390545905341 and parameters: {'hidden_size': 100, 'n_layers': 1, 'dropout': 0.09939093405455815, 'activation': 'relu', 'optimizer': 'adam', 'lr': 0.0004168607560458258, 'epochs': 31, 'batch_size': 8}. Best is trial 21 with value: 0.15868909012505392.\u001b[0m\n",
      "\u001b[32m[I 2022-09-13 23:08:42,522]\u001b[0m Trial 26 finished with value: 0.11823623680241328 and parameters: {'hidden_size': 90, 'n_layers': 1, 'dropout': 0.17983026911927605, 'activation': 'relu', 'optimizer': 'sgd', 'lr': 0.0024405512646560475, 'epochs': 10, 'batch_size': 2}. Best is trial 21 with value: 0.15868909012505392.\u001b[0m\n",
      "\u001b[32m[I 2022-09-13 23:10:26,170]\u001b[0m Trial 27 finished with value: 0.13142338756876976 and parameters: {'hidden_size': 65, 'n_layers': 1, 'dropout': 0.052108179407734434, 'activation': 'relu', 'optimizer': 'adam', 'lr': 0.013424884020547938, 'epochs': 44, 'batch_size': 8}. Best is trial 21 with value: 0.15868909012505392.\u001b[0m\n",
      "\u001b[32m[I 2022-09-13 23:12:12,882]\u001b[0m Trial 28 finished with value: 0.12448958494857082 and parameters: {'hidden_size': 82, 'n_layers': 2, 'dropout': 0.1276842081421052, 'activation': 'relu', 'optimizer': 'adam', 'lr': 0.008417673221840411, 'epochs': 30, 'batch_size': 128}. Best is trial 21 with value: 0.15868909012505392.\u001b[0m\n",
      "\u001b[32m[I 2022-09-13 23:13:56,400]\u001b[0m Trial 29 finished with value: 0.12288662903975965 and parameters: {'hidden_size': 50, 'n_layers': 1, 'dropout': 0.18043867123468751, 'activation': 'tanh', 'optimizer': 'adam', 'lr': 5.35503449546126e-05, 'epochs': 47, 'batch_size': 512}. Best is trial 21 with value: 0.15868909012505392.\u001b[0m\n"
     ]
    },
    {
     "name": "stdout",
     "output_type": "stream",
     "text": [
      "Number of finished trials:  30\n",
      "Best trial:\n",
      "  Value: 0.15868909012505392\n",
      "  Params: \n",
      "    hidden_size: 87\n",
      "    n_layers: 1\n",
      "    dropout: 0.1489135585852697\n",
      "    activation: relu\n",
      "    optimizer: adam\n",
      "    lr: 0.0016140689727156942\n",
      "    epochs: 32\n",
      "    batch_size: 2\n"
     ]
    },
    {
     "data": {
      "image/png": "[encoded data removed]",
      "text/plain": [
       "<Figure size 432x288 with 1 Axes>"
      ]
     },
     "metadata": {
      "needs_background": "light"
     },
     "output_type": "display_data"
    }
   ],
   "source": [
    "# Build optuna objective function.\n",
    "import optuna\n",
    "import sklearn \n",
    "\n",
    "def objective(trial):\n",
    "    # Data loading\n",
    "    y_max_u_bool = pd.read_csv('..\\data\\ground_truth\\\\res_bus_vm_pu_max_bool_constr.csv').drop(columns='timestamps')\n",
    "    y_max_u = y_max_u_bool[utils.cols_with_positive_values(y_max_u_bool)]\n",
    "    exogenous_data = pd.read_csv('..\\data\\processed\\production\\exogenous_data_extended.csv').drop(columns=['date'])\n",
    "    X_max_u_bool_train, X_max_u_bool_test, y_max_u_bool_train, y_max_u_bool_test, scaler = utils.split_and_suffle(exogenous_data, y_max_u_bool, test_size=0.2, scaling=True)\n",
    "    data = {'X_train':X_max_u_bool_train.astype(float),\n",
    "            'X_test': X_max_u_bool_test.astype(float),\n",
    "            'y_train':y_max_u_bool_train.astype(float),\n",
    "            'y_test': y_max_u_bool_test.astype(float)\n",
    "        }\n",
    "    # Dataset object creation\n",
    "    _dataset = myai.ThesisDataset(data)\n",
    "    hyper_params = {\n",
    "        'input_size': _dataset.X.shape[1],\n",
    "        'hidden_size': trial.suggest_int('hidden_size', 1, 100),\n",
    "        'output_size': _dataset.y.shape[1],\n",
    "        'n_layers': trial.suggest_int('n_layers', 1, 3),\n",
    "        'dropout': trial.suggest_float('dropout', 0.0, 0.5),\n",
    "        'activation': trial.suggest_categorical('activation', ['relu', 'tanh', 'sigmoid']),\n",
    "        'optimizer': trial.suggest_categorical('optimizer', ['adam', 'sgd']),\n",
    "        'lr': trial.suggest_float('lr', 1e-5, 1e-1, log=True),\n",
    "        'epochs': trial.suggest_int('epochs', 1, 100),\n",
    "        'batch_size': trial.suggest_categorical('batch_size', [1, 2, 4, 8, 16, 32, 64, 128, 256, 512, 1024]),\n",
    "        'classifier': True\n",
    "        }\n",
    "    model = myai.Context(myai.MultilayerPerceptronStrategy(hyper_params))\n",
    "    model.fit(data)\n",
    "    prediction = model.predict(data).detach().numpy().round().astype(bool)\n",
    "    prediction = pd.DataFrame(prediction, columns=y_max_u_bool.columns)\n",
    "    f1_score = sklearn.metrics.f1_score(data['y_test'], prediction, average='micro')\n",
    "    return f1_score\n",
    "study = optuna.create_study(direction=\"maximize\")\n",
    "study.optimize(objective, n_trials=num_trials)\n",
    "print(\"Number of finished trials: \", len(study.trials))\n",
    "print(\"Best trial:\")\n",
    "trial = study.best_trial\n",
    "print(\"  Value: {}\".format(trial.value))\n",
    "print(\"  Params: \")\n",
    "for key, value in trial.params.items():\n",
    "    print(\"    {}: {}\".format(key, value))\n",
    "# Write the results to a csv file.\n",
    "with open(\"./hyper_params_results/params_mlp_classifier_max_u.csv\", \"w\") as f:\n",
    "    f.write(\"params,value\\n\")\n",
    "    for key, value in trial.params.items():\n",
    "        f.write(\"{},{}\\n\".format(key, value))\n",
    "    f.write(\"value,{}\\n\".format(trial.value))"
   ]
  },
  {
   "cell_type": "markdown",
   "metadata": {},
   "source": [
    "## MLP: Regression Sparse Dataset"
   ]
  },
  {
   "cell_type": "code",
   "execution_count": 3,
   "metadata": {},
   "outputs": [
    {
     "name": "stderr",
     "output_type": "stream",
     "text": [
      "\u001b[32m[I 2022-09-13 23:13:56,806]\u001b[0m A new study created in memory with name: no-name-aa40e9ef-9ceb-46a6-a178-9b757cbcff90\u001b[0m\n",
      "\u001b[32m[I 2022-09-13 23:17:11,982]\u001b[0m Trial 0 finished with value: 0.4975344633619131 and parameters: {'hidden_size': 90, 'n_layers': 3, 'dropout': 0.08474909924547136, 'activation': 'sigmoid', 'optimizer': 'sgd', 'lr': 0.03408450392061506, 'epochs': 74, 'batch_size': 512}. Best is trial 0 with value: 0.4975344633619131.\u001b[0m\n",
      "\u001b[32m[I 2022-09-13 23:22:20,305]\u001b[0m Trial 1 finished with value: 0.47561071185630355 and parameters: {'hidden_size': 38, 'n_layers': 3, 'dropout': 0.31328776595425356, 'activation': 'tanh', 'optimizer': 'adam', 'lr': 0.0021557479306095542, 'epochs': 98, 'batch_size': 1024}. Best is trial 0 with value: 0.4975344633619131.\u001b[0m\n",
      "\u001b[32m[I 2022-09-13 23:25:39,741]\u001b[0m Trial 2 finished with value: 0.6411997720618593 and parameters: {'hidden_size': 78, 'n_layers': 3, 'dropout': 0.2780524926860331, 'activation': 'relu', 'optimizer': 'sgd', 'lr': 0.0634688056365508, 'epochs': 80, 'batch_size': 1024}. Best is trial 2 with value: 0.6411997720618593.\u001b[0m\n",
      "\u001b[32m[I 2022-09-13 23:27:59,266]\u001b[0m Trial 3 finished with value: 0.45862779277327803 and parameters: {'hidden_size': 86, 'n_layers': 1, 'dropout': 0.20973047981423903, 'activation': 'sigmoid', 'optimizer': 'sgd', 'lr': 0.05411147507659058, 'epochs': 84, 'batch_size': 8}. Best is trial 2 with value: 0.6411997720618593.\u001b[0m\n",
      "\u001b[32m[I 2022-09-13 23:30:36,192]\u001b[0m Trial 4 finished with value: 0.015888711708572586 and parameters: {'hidden_size': 73, 'n_layers': 1, 'dropout': 0.22662125330944682, 'activation': 'sigmoid', 'optimizer': 'adam', 'lr': 0.03814832896941099, 'epochs': 71, 'batch_size': 1}. Best is trial 2 with value: 0.6411997720618593.\u001b[0m\n",
      "\u001b[32m[I 2022-09-13 23:33:01,914]\u001b[0m Trial 5 finished with value: 0.5416003003848776 and parameters: {'hidden_size': 70, 'n_layers': 3, 'dropout': 0.12284167162765691, 'activation': 'tanh', 'optimizer': 'sgd', 'lr': 0.02868603505449684, 'epochs': 59, 'batch_size': 1024}. Best is trial 2 with value: 0.6411997720618593.\u001b[0m\n",
      "\u001b[32m[I 2022-09-13 23:33:32,212]\u001b[0m Trial 6 finished with value: 0.5746105931516197 and parameters: {'hidden_size': 76, 'n_layers': 1, 'dropout': 0.09095182343232283, 'activation': 'tanh', 'optimizer': 'adam', 'lr': 0.03384359785840792, 'epochs': 10, 'batch_size': 1024}. Best is trial 2 with value: 0.6411997720618593.\u001b[0m\n",
      "\u001b[32m[I 2022-09-13 23:34:15,588]\u001b[0m Trial 7 finished with value: 0.4172932526535404 and parameters: {'hidden_size': 83, 'n_layers': 3, 'dropout': 0.330968061561054, 'activation': 'relu', 'optimizer': 'adam', 'lr': 0.0001621669692399758, 'epochs': 9, 'batch_size': 4}. Best is trial 2 with value: 0.6411997720618593.\u001b[0m\n",
      "\u001b[32m[I 2022-09-13 23:37:10,868]\u001b[0m Trial 8 finished with value: 0.24356252305093423 and parameters: {'hidden_size': 39, 'n_layers': 3, 'dropout': 0.2833279764763573, 'activation': 'sigmoid', 'optimizer': 'adam', 'lr': 1.7913788728321576e-05, 'epochs': 53, 'batch_size': 1}. Best is trial 2 with value: 0.6411997720618593.\u001b[0m\n",
      "\u001b[32m[I 2022-09-13 23:42:03,143]\u001b[0m Trial 9 finished with value: 0.34310803032937054 and parameters: {'hidden_size': 34, 'n_layers': 3, 'dropout': 0.4418138570776602, 'activation': 'tanh', 'optimizer': 'adam', 'lr': 0.00013207356832976755, 'epochs': 93, 'batch_size': 128}. Best is trial 2 with value: 0.6411997720618593.\u001b[0m\n",
      "\u001b[32m[I 2022-09-13 23:43:08,608]\u001b[0m Trial 10 finished with value: 0.3988018717072667 and parameters: {'hidden_size': 57, 'n_layers': 2, 'dropout': 0.0022020875390461048, 'activation': 'relu', 'optimizer': 'sgd', 'lr': 0.005207499517639165, 'epochs': 29, 'batch_size': 256}. Best is trial 2 with value: 0.6411997720618593.\u001b[0m\n",
      "\u001b[32m[I 2022-09-13 23:44:03,278]\u001b[0m Trial 11 finished with value: 0.7771222653863742 and parameters: {'hidden_size': 1, 'n_layers': 2, 'dropout': 0.4218168674777928, 'activation': 'relu', 'optimizer': 'sgd', 'lr': 0.005891191523539837, 'epochs': 31, 'batch_size': 32}. Best is trial 11 with value: 0.7771222653863742.\u001b[0m\n",
      "\u001b[32m[I 2022-09-13 23:45:02,892]\u001b[0m Trial 12 finished with value: 1.1705277971900272 and parameters: {'hidden_size': 5, 'n_layers': 2, 'dropout': 0.4792551587259727, 'activation': 'relu', 'optimizer': 'sgd', 'lr': 0.006005288525628311, 'epochs': 34, 'batch_size': 32}. Best is trial 12 with value: 1.1705277971900272.\u001b[0m\n",
      "\u001b[32m[I 2022-09-13 23:45:59,191]\u001b[0m Trial 13 finished with value: 0.6568166170968592 and parameters: {'hidden_size': 4, 'n_layers': 2, 'dropout': 0.4943420651442014, 'activation': 'relu', 'optimizer': 'sgd', 'lr': 0.00553365203149022, 'epochs': 31, 'batch_size': 32}. Best is trial 12 with value: 1.1705277971900272.\u001b[0m\n",
      "\u001b[32m[I 2022-09-13 23:46:50,268]\u001b[0m Trial 14 finished with value: 0.4754131576057699 and parameters: {'hidden_size': 1, 'n_layers': 2, 'dropout': 0.42337932497535075, 'activation': 'relu', 'optimizer': 'sgd', 'lr': 0.0006707681772603225, 'epochs': 29, 'batch_size': 32}. Best is trial 12 with value: 1.1705277971900272.\u001b[0m\n",
      "\u001b[32m[I 2022-09-13 23:48:03,129]\u001b[0m Trial 15 finished with value: 0.2787717235342237 and parameters: {'hidden_size': 19, 'n_layers': 2, 'dropout': 0.3849464808584301, 'activation': 'relu', 'optimizer': 'sgd', 'lr': 0.007328607834414101, 'epochs': 42, 'batch_size': 16}. Best is trial 12 with value: 1.1705277971900272.\u001b[0m\n",
      "\u001b[32m[I 2022-09-13 23:48:40,473]\u001b[0m Trial 16 finished with value: 0.5564109971663618 and parameters: {'hidden_size': 17, 'n_layers': 2, 'dropout': 0.4909990882089842, 'activation': 'relu', 'optimizer': 'sgd', 'lr': 0.0009653618353094482, 'epochs': 18, 'batch_size': 64}. Best is trial 12 with value: 1.1705277971900272.\u001b[0m\n",
      "\u001b[32m[I 2022-09-13 23:49:51,824]\u001b[0m Trial 17 finished with value: 0.3719690274565235 and parameters: {'hidden_size': 16, 'n_layers': 2, 'dropout': 0.3899928474331154, 'activation': 'relu', 'optimizer': 'sgd', 'lr': 0.009351661555692684, 'epochs': 41, 'batch_size': 2}. Best is trial 12 with value: 1.1705277971900272.\u001b[0m\n",
      "\u001b[32m[I 2022-09-13 23:50:05,281]\u001b[0m Trial 18 finished with value: 0.43410928107311497 and parameters: {'hidden_size': 27, 'n_layers': 1, 'dropout': 0.35285685353055773, 'activation': 'relu', 'optimizer': 'sgd', 'lr': 0.00031036535895393466, 'epochs': 2, 'batch_size': 32}. Best is trial 12 with value: 1.1705277971900272.\u001b[0m\n",
      "\u001b[32m[I 2022-09-13 23:52:13,402]\u001b[0m Trial 19 finished with value: 0.295825918059708 and parameters: {'hidden_size': 55, 'n_layers': 2, 'dropout': 0.44636462633837787, 'activation': 'relu', 'optimizer': 'sgd', 'lr': 0.001725841153792936, 'epochs': 62, 'batch_size': 32}. Best is trial 12 with value: 1.1705277971900272.\u001b[0m\n",
      "\u001b[32m[I 2022-09-13 23:53:15,245]\u001b[0m Trial 20 finished with value: 0.3571254962123589 and parameters: {'hidden_size': 9, 'n_layers': 1, 'dropout': 0.18892236695917153, 'activation': 'relu', 'optimizer': 'sgd', 'lr': 0.01347038832955866, 'epochs': 42, 'batch_size': 32}. Best is trial 12 with value: 1.1705277971900272.\u001b[0m\n",
      "\u001b[32m[I 2022-09-13 23:54:04,858]\u001b[0m Trial 21 finished with value: 0.6987930929244693 and parameters: {'hidden_size': 1, 'n_layers': 2, 'dropout': 0.4895764090653274, 'activation': 'relu', 'optimizer': 'sgd', 'lr': 0.0038861824822034002, 'epochs': 28, 'batch_size': 32}. Best is trial 12 with value: 1.1705277971900272.\u001b[0m\n",
      "\u001b[32m[I 2022-09-13 23:54:44,062]\u001b[0m Trial 22 finished with value: 0.7687699060466846 and parameters: {'hidden_size': 9, 'n_layers': 2, 'dropout': 0.49881195717541493, 'activation': 'relu', 'optimizer': 'sgd', 'lr': 0.002678733560866319, 'epochs': 20, 'batch_size': 32}. Best is trial 12 with value: 1.1705277971900272.\u001b[0m\n",
      "\u001b[32m[I 2022-09-13 23:55:24,005]\u001b[0m Trial 23 finished with value: 0.8821637827122415 and parameters: {'hidden_size': 12, 'n_layers': 2, 'dropout': 0.41441127721308335, 'activation': 'relu', 'optimizer': 'sgd', 'lr': 0.0026009091194282483, 'epochs': 20, 'batch_size': 32}. Best is trial 12 with value: 1.1705277971900272.\u001b[0m\n",
      "\u001b[32m[I 2022-09-13 23:56:08,154]\u001b[0m Trial 24 finished with value: 0.43729738762900794 and parameters: {'hidden_size': 26, 'n_layers': 2, 'dropout': 0.39692978899153525, 'activation': 'relu', 'optimizer': 'sgd', 'lr': 0.01804416070259797, 'epochs': 19, 'batch_size': 8}. Best is trial 12 with value: 1.1705277971900272.\u001b[0m\n",
      "\u001b[32m[I 2022-09-13 23:57:27,531]\u001b[0m Trial 25 finished with value: 0.5959482399096134 and parameters: {'hidden_size': 12, 'n_layers': 2, 'dropout': 0.4467743722100283, 'activation': 'relu', 'optimizer': 'sgd', 'lr': 0.0006810716008843181, 'epochs': 47, 'batch_size': 128}. Best is trial 12 with value: 1.1705277971900272.\u001b[0m\n",
      "\u001b[32m[I 2022-09-13 23:58:40,388]\u001b[0m Trial 26 finished with value: 3.930682106211903 and parameters: {'hidden_size': 27, 'n_layers': 2, 'dropout': 0.3562510433549009, 'activation': 'relu', 'optimizer': 'sgd', 'lr': 0.0017545411149200204, 'epochs': 35, 'batch_size': 16}. Best is trial 26 with value: 3.930682106211903.\u001b[0m\n",
      "\u001b[32m[I 2022-09-13 23:59:54,664]\u001b[0m Trial 27 finished with value: -1.0732404760093321 and parameters: {'hidden_size': 27, 'n_layers': 2, 'dropout': 0.3585301723813003, 'activation': 'relu', 'optimizer': 'sgd', 'lr': 0.0014607859732500485, 'epochs': 36, 'batch_size': 16}. Best is trial 26 with value: 3.930682106211903.\u001b[0m\n",
      "\u001b[32m[I 2022-09-14 00:00:41,216]\u001b[0m Trial 28 finished with value: 0.546276774779288 and parameters: {'hidden_size': 49, 'n_layers': 1, 'dropout': 0.31897721242516175, 'activation': 'tanh', 'optimizer': 'sgd', 'lr': 0.00026782012127088097, 'epochs': 23, 'batch_size': 16}. Best is trial 26 with value: 3.930682106211903.\u001b[0m\n",
      "\u001b[32m[I 2022-09-14 00:01:12,093]\u001b[0m Trial 29 finished with value: 0.4284988149264911 and parameters: {'hidden_size': 20, 'n_layers': 2, 'dropout': 0.46047957842403026, 'activation': 'sigmoid', 'optimizer': 'sgd', 'lr': 8.01280206551221e-05, 'epochs': 13, 'batch_size': 512}. Best is trial 26 with value: 3.930682106211903.\u001b[0m\n"
     ]
    },
    {
     "name": "stdout",
     "output_type": "stream",
     "text": [
      "Number of finished trials:  30\n",
      "Best trial:\n",
      "  Value: 3.930682106211903\n",
      "  Params: \n",
      "    hidden_size: 27\n",
      "    n_layers: 2\n",
      "    dropout: 0.3562510433549009\n",
      "    activation: relu\n",
      "    optimizer: sgd\n",
      "    lr: 0.0017545411149200204\n",
      "    epochs: 35\n",
      "    batch_size: 16\n"
     ]
    },
    {
     "data": {
      "image/png": "[encoded data removed]",
      "text/plain": [
       "<Figure size 432x288 with 1 Axes>"
      ]
     },
     "metadata": {
      "needs_background": "light"
     },
     "output_type": "display_data"
    }
   ],
   "source": [
    "# Build optuna objective function.\n",
    "import optuna\n",
    "import sklearn \n",
    "\n",
    "def objective(trial):\n",
    "    # Data loading\n",
    "    y_max_u = pd.read_csv('..\\data\\ground_truth\\\\res_bus_vm_pu_max_constr.csv').drop(columns='timestamps')\n",
    "    y_max_u = y_max_u[utils.cols_with_positive_values(y_max_u)]\n",
    "    exogenous_data = pd.read_csv('..\\data\\processed\\production\\exogenous_data_extended.csv').drop(columns=['date'])\n",
    "    X_max_u_train, X_max_u_test, y_max_u_train, y_max_u_test, scaler = utils.split_and_suffle(exogenous_data, y_max_u, test_size=0.2, scaling=True)\n",
    "    data = {'X_train':X_max_u_train.astype(float),\n",
    "            'X_test': X_max_u_test.astype(float),\n",
    "            'y_train':y_max_u_train.astype(float),\n",
    "            'y_test': y_max_u_test.astype(float)\n",
    "        }\n",
    "    # Dataset object creation\n",
    "    _dataset = myai.ThesisDataset(data)\n",
    "    hyper_params = {\n",
    "        'input_size': _dataset.X.shape[1],\n",
    "        'hidden_size': trial.suggest_int('hidden_size', 1, 100),\n",
    "        'output_size': _dataset.y.shape[1],\n",
    "        'n_layers': trial.suggest_int('n_layers', 1, 3),\n",
    "        'dropout': trial.suggest_float('dropout', 0.0, 0.5),\n",
    "        'activation': trial.suggest_categorical('activation', ['relu', 'tanh', 'sigmoid']),\n",
    "        'optimizer': trial.suggest_categorical('optimizer', ['adam', 'sgd']),\n",
    "        'lr': trial.suggest_float('lr', 1e-5, 1e-1, log=True),\n",
    "        'epochs': trial.suggest_int('epochs', 1, 100),\n",
    "        'batch_size': trial.suggest_categorical('batch_size', [1, 2, 4, 8, 16, 32, 64, 128, 256, 512, 1024]),\n",
    "        'classifier': False\n",
    "        }\n",
    "    model = myai.Context(myai.MultilayerPerceptronStrategy(hyper_params))\n",
    "    model.fit(data)\n",
    "    prediction = model.predict(data).detach().numpy()\n",
    "    prediction = pd.DataFrame(prediction, columns=y_max_u.columns)\n",
    "    y_max_u_train = pd.DataFrame(y_max_u_train, columns=y_max_u.columns)\n",
    "    # evaluate the regression performance with my metrics\n",
    "    threshold = data['y_test'].loc[:, data['y_test'].max(axis=0) != 0].max(axis=0).mean() * 0.1 \n",
    "    metric = metrics.Metrics()\n",
    "    metric.get_prediction_scores(prediction, data['y_test'], threshold=threshold)\n",
    "    return metric.hybrid_f1\n",
    "study = optuna.create_study(direction=\"maximize\")\n",
    "study.optimize(objective, n_trials=num_trials)\n",
    "print(\"Number of finished trials: \", len(study.trials))\n",
    "print(\"Best trial:\")\n",
    "trial = study.best_trial\n",
    "print(\"  Value: {}\".format(trial.value))\n",
    "print(\"  Params: \")\n",
    "for key, value in trial.params.items():\n",
    "    print(\"    {}: {}\".format(key, value))\n",
    "# Write the results to a csv file.\n",
    "with open(\"./hyper_params_results/params_mlp_regressor_max_u.csv\", \"w\") as f:\n",
    "    f.write(\"params,value\\n\")\n",
    "    for key, value in trial.params.items():\n",
    "        f.write(\"{},{}\\n\".format(key, value))\n",
    "    f.write(\"value,{}\\n\".format(trial.value))"
   ]
  },
  {
   "cell_type": "markdown",
   "metadata": {},
   "source": [
    "## MLP: Regression Focused Dataset"
   ]
  },
  {
   "cell_type": "code",
   "execution_count": 4,
   "metadata": {},
   "outputs": [
    {
     "name": "stderr",
     "output_type": "stream",
     "text": [
      "\u001b[32m[I 2022-09-14 00:01:12,334]\u001b[0m A new study created in memory with name: no-name-98bd5ef6-41ae-45be-97f0-0340173915c4\u001b[0m\n",
      "\u001b[32m[I 2022-09-14 00:01:27,059]\u001b[0m Trial 0 finished with value: 0.03794242336500216 and parameters: {'hidden_size': 64, 'n_layers': 3, 'dropout': 0.3254190686515456, 'activation': 'relu', 'optimizer': 'adam', 'lr': 0.00042829084781541944, 'epochs': 48, 'batch_size': 128}. Best is trial 0 with value: 0.03794242336500216.\u001b[0m\n",
      "\u001b[32m[I 2022-09-14 00:01:36,243]\u001b[0m Trial 1 finished with value: 0.30057436530859905 and parameters: {'hidden_size': 42, 'n_layers': 2, 'dropout': 0.1322457516415078, 'activation': 'relu', 'optimizer': 'sgd', 'lr': 0.0001530102666946297, 'epochs': 48, 'batch_size': 16}. Best is trial 1 with value: 0.30057436530859905.\u001b[0m\n",
      "\u001b[32m[I 2022-09-14 00:01:46,139]\u001b[0m Trial 2 finished with value: 0.11086550043342226 and parameters: {'hidden_size': 69, 'n_layers': 3, 'dropout': 0.3836677337605887, 'activation': 'tanh', 'optimizer': 'sgd', 'lr': 0.0002316832527881368, 'epochs': 44, 'batch_size': 256}. Best is trial 1 with value: 0.30057436530859905.\u001b[0m\n",
      "\u001b[32m[I 2022-09-14 00:01:57,022]\u001b[0m Trial 3 finished with value: 0.3576591707525849 and parameters: {'hidden_size': 42, 'n_layers': 2, 'dropout': 0.29790750921847453, 'activation': 'sigmoid', 'optimizer': 'sgd', 'lr': 3.1310342077852254e-05, 'epochs': 60, 'batch_size': 2}. Best is trial 3 with value: 0.3576591707525849.\u001b[0m\n",
      "\u001b[32m[I 2022-09-14 00:02:02,092]\u001b[0m Trial 4 finished with value: 0.4533705223431966 and parameters: {'hidden_size': 12, 'n_layers': 1, 'dropout': 0.0014507369981881513, 'activation': 'sigmoid', 'optimizer': 'sgd', 'lr': 2.4501875047594326e-05, 'epochs': 30, 'batch_size': 64}. Best is trial 4 with value: 0.4533705223431966.\u001b[0m\n",
      "\u001b[32m[I 2022-09-14 00:02:11,850]\u001b[0m Trial 5 finished with value: 0.4068948699265332 and parameters: {'hidden_size': 4, 'n_layers': 1, 'dropout': 0.34154919077114193, 'activation': 'sigmoid', 'optimizer': 'sgd', 'lr': 0.031593469147117074, 'epochs': 81, 'batch_size': 1}. Best is trial 4 with value: 0.4533705223431966.\u001b[0m\n",
      "\u001b[32m[I 2022-09-14 00:02:19,353]\u001b[0m Trial 6 finished with value: 0.06700060798062558 and parameters: {'hidden_size': 40, 'n_layers': 2, 'dropout': 0.16986950414743673, 'activation': 'relu', 'optimizer': 'adam', 'lr': 0.00023186295589929513, 'epochs': 26, 'batch_size': 128}. Best is trial 4 with value: 0.4533705223431966.\u001b[0m\n",
      "\u001b[32m[I 2022-09-14 00:02:26,114]\u001b[0m Trial 7 finished with value: 0.5385715259397913 and parameters: {'hidden_size': 46, 'n_layers': 2, 'dropout': 0.015622792219367465, 'activation': 'relu', 'optimizer': 'sgd', 'lr': 0.006923392219561317, 'epochs': 32, 'batch_size': 64}. Best is trial 7 with value: 0.5385715259397913.\u001b[0m\n",
      "\u001b[32m[I 2022-09-14 00:02:30,367]\u001b[0m Trial 8 finished with value: 0.09602833903346764 and parameters: {'hidden_size': 5, 'n_layers': 1, 'dropout': 0.18067050189979744, 'activation': 'tanh', 'optimizer': 'adam', 'lr': 0.0004898685033823443, 'epochs': 16, 'batch_size': 32}. Best is trial 7 with value: 0.5385715259397913.\u001b[0m\n",
      "\u001b[32m[I 2022-09-14 00:02:54,794]\u001b[0m Trial 9 finished with value: 0.06295279277888126 and parameters: {'hidden_size': 34, 'n_layers': 3, 'dropout': 0.3064689233838871, 'activation': 'sigmoid', 'optimizer': 'adam', 'lr': 0.00024406227980685208, 'epochs': 92, 'batch_size': 256}. Best is trial 7 with value: 0.5385715259397913.\u001b[0m\n",
      "\u001b[32m[I 2022-09-14 00:02:58,158]\u001b[0m Trial 10 finished with value: 0.43565276740644565 and parameters: {'hidden_size': 84, 'n_layers': 2, 'dropout': 0.47963376160252325, 'activation': 'relu', 'optimizer': 'sgd', 'lr': 0.010375199310638919, 'epochs': 6, 'batch_size': 512}. Best is trial 7 with value: 0.5385715259397913.\u001b[0m\n",
      "\u001b[32m[I 2022-09-14 00:03:04,422]\u001b[0m Trial 11 finished with value: 1.5088291675138814 and parameters: {'hidden_size': 21, 'n_layers': 1, 'dropout': 0.01667093536878276, 'activation': 'sigmoid', 'optimizer': 'sgd', 'lr': 0.002359119207999079, 'epochs': 29, 'batch_size': 64}. Best is trial 11 with value: 1.5088291675138814.\u001b[0m\n",
      "\u001b[32m[I 2022-09-14 00:03:10,761]\u001b[0m Trial 12 finished with value: 0.6033740560315413 and parameters: {'hidden_size': 19, 'n_layers': 1, 'dropout': 0.002188711567154486, 'activation': 'relu', 'optimizer': 'sgd', 'lr': 0.0038310528554175447, 'epochs': 33, 'batch_size': 64}. Best is trial 11 with value: 1.5088291675138814.\u001b[0m\n",
      "\u001b[32m[I 2022-09-14 00:03:19,144]\u001b[0m Trial 13 finished with value: 0.8350013031070782 and parameters: {'hidden_size': 24, 'n_layers': 1, 'dropout': 0.07774967624340043, 'activation': 'sigmoid', 'optimizer': 'sgd', 'lr': 0.0021620988989874703, 'epochs': 62, 'batch_size': 8}. Best is trial 11 with value: 1.5088291675138814.\u001b[0m\n",
      "\u001b[32m[I 2022-09-14 00:03:27,820]\u001b[0m Trial 14 finished with value: 0.5087851478490903 and parameters: {'hidden_size': 25, 'n_layers': 1, 'dropout': 0.0958185570483635, 'activation': 'sigmoid', 'optimizer': 'sgd', 'lr': 0.0022474207319236363, 'epochs': 66, 'batch_size': 8}. Best is trial 11 with value: 1.5088291675138814.\u001b[0m\n",
      "\u001b[32m[I 2022-09-14 00:03:38,064]\u001b[0m Trial 15 finished with value: 0.45196856158801196 and parameters: {'hidden_size': 26, 'n_layers': 1, 'dropout': 0.0656613718068948, 'activation': 'sigmoid', 'optimizer': 'sgd', 'lr': 0.08582831489498122, 'epochs': 70, 'batch_size': 8}. Best is trial 11 with value: 1.5088291675138814.\u001b[0m\n",
      "\u001b[32m[I 2022-09-14 00:03:49,628]\u001b[0m Trial 16 finished with value: 0.48638323940952854 and parameters: {'hidden_size': 60, 'n_layers': 1, 'dropout': 0.22353204643892874, 'activation': 'sigmoid', 'optimizer': 'sgd', 'lr': 0.001924715528880688, 'epochs': 78, 'batch_size': 1024}. Best is trial 11 with value: 1.5088291675138814.\u001b[0m\n",
      "\u001b[32m[I 2022-09-14 00:03:52,150]\u001b[0m Trial 17 finished with value: -0.4203854579982998 and parameters: {'hidden_size': 17, 'n_layers': 1, 'dropout': 0.07073866026518955, 'activation': 'sigmoid', 'optimizer': 'sgd', 'lr': 0.017149348465090888, 'epochs': 2, 'batch_size': 8}. Best is trial 11 with value: 1.5088291675138814.\u001b[0m\n",
      "\u001b[32m[I 2022-09-14 00:04:06,994]\u001b[0m Trial 18 finished with value: 0.04629075211785115 and parameters: {'hidden_size': 93, 'n_layers': 2, 'dropout': 0.13194425896188594, 'activation': 'tanh', 'optimizer': 'adam', 'lr': 0.0012605560260529217, 'epochs': 58, 'batch_size': 4}. Best is trial 11 with value: 1.5088291675138814.\u001b[0m\n",
      "\u001b[32m[I 2022-09-14 00:04:21,008]\u001b[0m Trial 19 finished with value: 0.24211993869840098 and parameters: {'hidden_size': 30, 'n_layers': 1, 'dropout': 0.0427663853601111, 'activation': 'sigmoid', 'optimizer': 'sgd', 'lr': 8.858497112728463e-05, 'epochs': 100, 'batch_size': 16}. Best is trial 11 with value: 1.5088291675138814.\u001b[0m\n",
      "\u001b[32m[I 2022-09-14 00:04:28,530]\u001b[0m Trial 20 finished with value: 0.5053814727355723 and parameters: {'hidden_size': 52, 'n_layers': 1, 'dropout': 0.23837211115595772, 'activation': 'sigmoid', 'optimizer': 'sgd', 'lr': 0.004235879727257555, 'epochs': 44, 'batch_size': 1024}. Best is trial 11 with value: 1.5088291675138814.\u001b[0m\n",
      "\u001b[32m[I 2022-09-14 00:04:32,969]\u001b[0m Trial 21 finished with value: 0.6111719617077935 and parameters: {'hidden_size': 18, 'n_layers': 1, 'dropout': 0.0010923012362192275, 'activation': 'relu', 'optimizer': 'sgd', 'lr': 0.0025851215021027536, 'epochs': 21, 'batch_size': 64}. Best is trial 11 with value: 1.5088291675138814.\u001b[0m\n",
      "\u001b[32m[I 2022-09-14 00:04:36,864]\u001b[0m Trial 22 finished with value: 0.2733119971924632 and parameters: {'hidden_size': 13, 'n_layers': 1, 'dropout': 0.1021227283554352, 'activation': 'relu', 'optimizer': 'sgd', 'lr': 0.0008128652357210886, 'epochs': 17, 'batch_size': 64}. Best is trial 11 with value: 1.5088291675138814.\u001b[0m\n",
      "\u001b[32m[I 2022-09-14 00:04:40,994]\u001b[0m Trial 23 finished with value: 1.675396870643045 and parameters: {'hidden_size': 22, 'n_layers': 1, 'dropout': 0.04490211985556538, 'activation': 'tanh', 'optimizer': 'sgd', 'lr': 0.00297550353899879, 'epochs': 20, 'batch_size': 64}. Best is trial 23 with value: 1.675396870643045.\u001b[0m\n",
      "\u001b[32m[I 2022-09-14 00:04:49,443]\u001b[0m Trial 24 finished with value: 1.117282227048486 and parameters: {'hidden_size': 33, 'n_layers': 2, 'dropout': 0.04222689969457033, 'activation': 'tanh', 'optimizer': 'sgd', 'lr': 0.0009262965657100774, 'epochs': 39, 'batch_size': 4}. Best is trial 23 with value: 1.675396870643045.\u001b[0m\n",
      "\u001b[32m[I 2022-09-14 00:04:58,202]\u001b[0m Trial 25 finished with value: -0.32037466734415376 and parameters: {'hidden_size': 33, 'n_layers': 2, 'dropout': 0.04461755819505223, 'activation': 'tanh', 'optimizer': 'sgd', 'lr': 0.0006930923940180526, 'epochs': 38, 'batch_size': 4}. Best is trial 23 with value: 1.675396870643045.\u001b[0m\n",
      "\u001b[32m[I 2022-09-14 00:05:02,619]\u001b[0m Trial 26 finished with value: 0.27185825385220685 and parameters: {'hidden_size': 55, 'n_layers': 2, 'dropout': 0.1421845202155927, 'activation': 'tanh', 'optimizer': 'sgd', 'lr': 1.1087528986047053e-05, 'epochs': 15, 'batch_size': 4}. Best is trial 23 with value: 1.675396870643045.\u001b[0m\n",
      "\u001b[32m[I 2022-09-14 00:05:06,556]\u001b[0m Trial 27 finished with value: 0.063315342680184 and parameters: {'hidden_size': 9, 'n_layers': 3, 'dropout': 0.18606469070732518, 'activation': 'tanh', 'optimizer': 'adam', 'lr': 0.02301284194512447, 'epochs': 9, 'batch_size': 2}. Best is trial 23 with value: 1.675396870643045.\u001b[0m\n",
      "\u001b[32m[I 2022-09-14 00:05:12,037]\u001b[0m Trial 28 finished with value: 1.3506986134716439 and parameters: {'hidden_size': 1, 'n_layers': 2, 'dropout': 0.04080020003809879, 'activation': 'tanh', 'optimizer': 'sgd', 'lr': 0.006692681594771296, 'epochs': 25, 'batch_size': 512}. Best is trial 23 with value: 1.675396870643045.\u001b[0m\n",
      "\u001b[32m[I 2022-09-14 00:05:18,671]\u001b[0m Trial 29 finished with value: 0.08019156426736232 and parameters: {'hidden_size': 1, 'n_layers': 3, 'dropout': 0.09843771231726112, 'activation': 'tanh', 'optimizer': 'adam', 'lr': 0.052060072021421364, 'epochs': 24, 'batch_size': 512}. Best is trial 23 with value: 1.675396870643045.\u001b[0m\n"
     ]
    },
    {
     "name": "stdout",
     "output_type": "stream",
     "text": [
      "Number of finished trials:  30\n",
      "Best trial:\n",
      "  Value: 1.675396870643045\n",
      "  Params: \n",
      "    hidden_size: 22\n",
      "    n_layers: 1\n",
      "    dropout: 0.04490211985556538\n",
      "    activation: tanh\n",
      "    optimizer: sgd\n",
      "    lr: 0.00297550353899879\n",
      "    epochs: 20\n",
      "    batch_size: 64\n"
     ]
    },
    {
     "data": {
      "image/png": "[encoded data removed]",
      "text/plain": [
       "<Figure size 432x288 with 1 Axes>"
      ]
     },
     "metadata": {
      "needs_background": "light"
     },
     "output_type": "display_data"
    }
   ],
   "source": [
    "# Build optuna objective function.\n",
    "import optuna\n",
    "import sklearn \n",
    "\n",
    "def objective(trial):\n",
    "    # Data loading\n",
    "    y_max_u = pd.read_csv('..\\data\\ground_truth\\\\res_bus_vm_pu_max_bal_constr.csv')\n",
    "    exogenous_data = pd.read_csv('..\\data\\ground_truth\\\\exogenous_data_vm_pu_max_bal.csv').drop(columns=['date'])\n",
    "    X_max_u_train, X_max_u_test, y_max_u_train, y_max_u_test, scaler = utils.split_and_suffle(exogenous_data, y_max_u, scaling=True)\n",
    "    data = {'X_train':X_max_u_train.astype(float),\n",
    "            'X_test': X_max_u_test.astype(float),\n",
    "            'y_train':y_max_u_train.astype(float),\n",
    "            'y_test': y_max_u_test.astype(float)\n",
    "        }\n",
    "    # Dataset object creation\n",
    "    _dataset = myai.ThesisDataset(data)\n",
    "    hyper_params = {\n",
    "        'input_size': _dataset.X.shape[1],\n",
    "        'hidden_size': trial.suggest_int('hidden_size', 1, 100),\n",
    "        'output_size': _dataset.y.shape[1],\n",
    "        'n_layers': trial.suggest_int('n_layers', 1, 3),\n",
    "        'dropout': trial.suggest_float('dropout', 0.0, 0.5),\n",
    "        'activation': trial.suggest_categorical('activation', ['relu', 'tanh', 'sigmoid']),\n",
    "        'optimizer': trial.suggest_categorical('optimizer', ['adam', 'sgd']),\n",
    "        'lr': trial.suggest_float('lr', 1e-5, 1e-1, log=True),\n",
    "        'epochs': trial.suggest_int('epochs', 1, 100),\n",
    "        'batch_size': trial.suggest_categorical('batch_size', [1, 2, 4, 8, 16, 32, 64, 128, 256, 512, 1024]),\n",
    "        'classifier': False\n",
    "        }\n",
    "    model = myai.Context(myai.MultilayerPerceptronStrategy(hyper_params))\n",
    "    model.fit(data)\n",
    "    # print(model.strategy.model.eval())\n",
    "    prediction = model.predict(data).detach().numpy()\n",
    "    prediction = pd.DataFrame(prediction, columns=y_max_u.columns)\n",
    "    # print('bus_16 prediction: ', prediction['bus_16'])\n",
    "    y_max_u_train = pd.DataFrame(y_max_u_train, columns=y_max_u.columns)\n",
    "    # evaluate the regression performance with my metrics\n",
    "    threshold = y_max_u_train.loc[:, y_max_u_train.max(axis=0) != 0].max(axis=0).mean() * 0.1 \n",
    "    # print('threshold: ', threshold)\n",
    "    metric = metrics.Metrics()\n",
    "    data['y_test'] = pd.DataFrame(data['y_test'], columns=y_max_u.columns)\n",
    "    # evaluate the regression performance with my metrics\n",
    "    threshold = data['y_test'].loc[:, data['y_test'].max(axis=0) != 0].max(axis=0).mean() * 0.1 \n",
    "    metric = metrics.Metrics()\n",
    "    metric.get_prediction_scores(prediction, data['y_test'], threshold=threshold)\n",
    "    return metric.hybrid_f1\n",
    "study = optuna.create_study(direction=\"maximize\")\n",
    "study.optimize(objective, n_trials=num_trials)\n",
    "print(\"Number of finished trials: \", len(study.trials))\n",
    "print(\"Best trial:\")\n",
    "trial = study.best_trial\n",
    "print(\"  Value: {}\".format(trial.value))\n",
    "print(\"  Params: \")\n",
    "for key, value in trial.params.items():\n",
    "    print(\"    {}: {}\".format(key, value))\n",
    "# Write the results to a csv file.\n",
    "with open(\"./hyper_params_results/params_mlp_regressor_focused_max_u.csv\", \"w\") as f:\n",
    "    f.write(\"params,value\\n\")\n",
    "    for key, value in trial.params.items():\n",
    "        f.write(\"{},{}\\n\".format(key, value))\n",
    "    f.write(\"value,{}\\n\".format(trial.value))"
   ]
  }
 ],
 "metadata": {
  "kernelspec": {
   "display_name": "Python 3.8.10 ('env': venv)",
   "language": "python",
   "name": "python3"
  },
  "language_info": {
   "codemirror_mode": {
    "name": "ipython",
    "version": 3
   },
   "file_extension": ".py",
   "mimetype": "text/x-python",
   "name": "python",
   "nbconvert_exporter": "python",
   "pygments_lexer": "ipython3",
   "version": "3.8.10"
  },
  "orig_nbformat": 4,
  "vscode": {
   "interpreter": {
    "hash": "4fe4baa4d27e3b73db55d4bb4674105e8dd41faaf9e559c3cc8381041ce15293"
   }
  }
 },
 "nbformat": 4,
 "nbformat_minor": 2
}
