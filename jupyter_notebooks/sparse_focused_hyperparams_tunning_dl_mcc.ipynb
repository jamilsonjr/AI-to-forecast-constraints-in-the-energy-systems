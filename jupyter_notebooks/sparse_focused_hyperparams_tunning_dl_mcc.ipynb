{
 "cells": [
  {
   "cell_type": "markdown",
   "metadata": {},
   "source": [
    "# Hyperparameters Tunning for Deep Learning Models (full of errors)\n",
    "TODO add description"
   ]
  },
  {
   "cell_type": "code",
   "execution_count": 1,
   "metadata": {},
   "outputs": [
    {
     "name": "stderr",
     "output_type": "stream",
     "text": [
      "c:\\Users\\jamil\\Documents\\IST\\Thesis\\new_thesis\\code\\AI-to-forecast-constraints-in-the-energy-systems\\env\\lib\\site-packages\\tqdm\\auto.py:22: TqdmWarning: IProgress not found. Please update jupyter and ipywidgets. See https://ipywidgets.readthedocs.io/en/stable/user_install.html\n",
      "  from .autonotebook import tqdm as notebook_tqdm\n"
     ]
    }
   ],
   "source": [
    "import optuna \n",
    "import sys; sys.path.append('..')\n",
    "from thesis_package import utils, aimodels as myai, metrics\n",
    "\n",
    "import pandas as pd\n",
    "import numpy as np\n",
    "import matplotlib.pyplot as plt\n",
    "import seaborn as sns\n",
    "from sklearn.metrics import mean_squared_error\n",
    "num_trials = 30"
   ]
  },
  {
   "cell_type": "code",
   "execution_count": 2,
   "metadata": {},
   "outputs": [
    {
     "name": "stdout",
     "output_type": "stream",
     "text": [
      "0.06450243730741544\n",
      "0.054008631153497785\n"
     ]
    }
   ],
   "source": [
    "# Regression\n",
    "y_max_u = pd.read_csv('..\\data\\ground_truth\\\\res_bus_vm_pu_max_constr.csv').drop(columns=['timestamps'])\n",
    "exogenous_data = pd.read_csv('..\\data\\processed\\production\\exogenous_data_extended.csv').drop(columns=['date'])\n",
    "train_x, valid_x, train_y, valid_y, scaler_max = utils.split_and_suffle(exogenous_data, y_max_u, test_size=0.2, scaling=True)\n",
    "data_max_reg = {'X_train': train_x, 'X_test': valid_x, 'y_train': train_y, 'y_test': valid_y}\n",
    "y_min_u = pd.read_csv('..\\data\\ground_truth\\\\res_bus_vm_pu_min_constr.csv').drop(columns=['timestamps'])\n",
    "train_x, valid_x, train_y, valid_y, scaler_min = utils.split_and_suffle(exogenous_data, y_min_u, test_size=0.2, scaling=True)\n",
    "data_min_reg = {'X_train': train_x, 'X_test': valid_x, 'y_train': train_y, 'y_test': valid_y}\n",
    "# Threshold\n",
    "threshold_max = utils.compute_threshold(y_max_u) /scaler_max['y']\n",
    "threshold_min = utils.compute_threshold(y_min_u) /scaler_min['y']\n",
    "print(threshold_min)\n",
    "print(threshold_max)\n",
    "# Classification\n",
    "y_max_u_sparse_bool = pd.read_csv('..\\data\\ground_truth\\\\res_bus_vm_pu_max_sparse_bool_constr.csv').drop(columns=['timestamps'])\n",
    "train_x, valid_x, train_y, valid_y, scaler = utils.split_and_suffle(exogenous_data, y_max_u_sparse_bool[utils.cols_with_positive_values(y_max_u_sparse_bool)], test_size=0.2, scaling=True)\n",
    "data_max_class = {'X_train': train_x, 'X_test': valid_x, 'y_train': train_y, 'y_test': valid_y}\n",
    "\n",
    "y_min_u_sparse_bool = pd.read_csv('..\\data\\ground_truth\\\\res_bus_vm_pu_min_sparse_bool_constr.csv').drop(columns=['timestamps'])\n",
    "train_x, valid_x, train_y, valid_y, scaler = utils.split_and_suffle(exogenous_data, y_min_u_sparse_bool[utils.cols_with_positive_values(y_min_u_sparse_bool)], test_size=0.2, scaling=True)\n",
    "data_min_class = {'X_train': train_x, 'X_test': valid_x, 'y_train': train_y, 'y_test': valid_y}"
   ]
  },
  {
   "cell_type": "markdown",
   "metadata": {},
   "source": [
    "# Max u"
   ]
  },
  {
   "cell_type": "markdown",
   "metadata": {},
   "source": [
    "## MLP: Sparse Classification Dataset"
   ]
  },
  {
   "cell_type": "markdown",
   "metadata": {},
   "source": [
    "Build optuna study..."
   ]
  },
  {
   "cell_type": "code",
   "execution_count": 3,
   "metadata": {},
   "outputs": [
    {
     "name": "stderr",
     "output_type": "stream",
     "text": [
      "\u001b[32m[I 2022-10-11 18:54:55,535]\u001b[0m A new study created in memory with name: no-name-4b5b667c-8fac-46b0-802f-5a4731aebd0c\u001b[0m\n",
      "\u001b[32m[I 2022-10-11 18:55:03,780]\u001b[0m Trial 0 finished with value: 0.10123813614517593 and parameters: {'hidden_size': 46, 'n_layers': 1, 'dropout': 0.21956216823237673, 'activation': 'sigmoid', 'optimizer': 'adam', 'lr': 6.53446893175287e-05, 'epochs': 2, 'batch_size': 256}. Best is trial 0 with value: 0.10123813614517593.\u001b[0m\n",
      "\u001b[32m[I 2022-10-11 19:06:03,679]\u001b[0m Trial 1 finished with value: 0.16688661108930072 and parameters: {'hidden_size': 54, 'n_layers': 3, 'dropout': 0.29723486655715725, 'activation': 'tanh', 'optimizer': 'adam', 'lr': 9.275766595865167e-05, 'epochs': 96, 'batch_size': 2}. Best is trial 1 with value: 0.16688661108930072.\u001b[0m\n",
      "\u001b[32m[I 2022-10-11 19:06:18,199]\u001b[0m Trial 2 finished with value: 0.12925573263333254 and parameters: {'hidden_size': 11, 'n_layers': 1, 'dropout': 0.1629851628136027, 'activation': 'tanh', 'optimizer': 'adam', 'lr': 0.006360360661893239, 'epochs': 6, 'batch_size': 256}. Best is trial 1 with value: 0.16688661108930072.\u001b[0m\n",
      "\u001b[32m[I 2022-10-11 19:11:37,222]\u001b[0m Trial 3 finished with value: 0.10479847694833014 and parameters: {'hidden_size': 55, 'n_layers': 1, 'dropout': 0.3157368914954098, 'activation': 'relu', 'optimizer': 'sgd', 'lr': 0.013998638756155172, 'epochs': 98, 'batch_size': 512}. Best is trial 1 with value: 0.16688661108930072.\u001b[0m\n",
      "\u001b[32m[I 2022-10-11 19:20:50,838]\u001b[0m Trial 4 finished with value: 0.12578068729965522 and parameters: {'hidden_size': 72, 'n_layers': 3, 'dropout': 0.4458388968494841, 'activation': 'sigmoid', 'optimizer': 'adam', 'lr': 0.0027592375630580666, 'epochs': 91, 'batch_size': 4}. Best is trial 1 with value: 0.16688661108930072.\u001b[0m\n",
      "\u001b[32m[I 2022-10-11 19:22:14,584]\u001b[0m Trial 5 finished with value: 0.16244504837902618 and parameters: {'hidden_size': 65, 'n_layers': 1, 'dropout': 0.07723237948421885, 'activation': 'relu', 'optimizer': 'adam', 'lr': 0.0019182200696557258, 'epochs': 27, 'batch_size': 512}. Best is trial 1 with value: 0.16688661108930072.\u001b[0m\n",
      "\u001b[32m[I 2022-10-11 19:27:07,484]\u001b[0m Trial 6 finished with value: 0.10323617863501118 and parameters: {'hidden_size': 77, 'n_layers': 3, 'dropout': 0.16575599988832873, 'activation': 'sigmoid', 'optimizer': 'adam', 'lr': 0.01903167469626224, 'epochs': 55, 'batch_size': 8}. Best is trial 1 with value: 0.16688661108930072.\u001b[0m\n",
      "\u001b[32m[I 2022-10-11 19:31:36,172]\u001b[0m Trial 7 finished with value: 0.13823145844436285 and parameters: {'hidden_size': 62, 'n_layers': 3, 'dropout': 0.3727430827516048, 'activation': 'relu', 'optimizer': 'adam', 'lr': 0.0003975792681994089, 'epochs': 60, 'batch_size': 32}. Best is trial 1 with value: 0.16688661108930072.\u001b[0m\n",
      "\u001b[32m[I 2022-10-11 19:36:36,283]\u001b[0m Trial 8 finished with value: 0.08066812804624822 and parameters: {'hidden_size': 62, 'n_layers': 3, 'dropout': 0.123247751578763, 'activation': 'relu', 'optimizer': 'sgd', 'lr': 7.31183875543226e-05, 'epochs': 98, 'batch_size': 32}. Best is trial 1 with value: 0.16688661108930072.\u001b[0m\n",
      "\u001b[32m[I 2022-10-11 19:37:59,670]\u001b[0m Trial 9 finished with value: 0.10102291644306835 and parameters: {'hidden_size': 82, 'n_layers': 2, 'dropout': 0.03593498304397802, 'activation': 'relu', 'optimizer': 'sgd', 'lr': 0.0007915845529770007, 'epochs': 32, 'batch_size': 512}. Best is trial 1 with value: 0.16688661108930072.\u001b[0m\n",
      "\u001b[32m[I 2022-10-11 19:40:47,899]\u001b[0m Trial 10 finished with value: 0.004145782244310464 and parameters: {'hidden_size': 32, 'n_layers': 2, 'dropout': 0.487428990017006, 'activation': 'tanh', 'optimizer': 'sgd', 'lr': 1.0078026948754574e-05, 'epochs': 73, 'batch_size': 2}. Best is trial 1 with value: 0.16688661108930072.\u001b[0m\n",
      "\u001b[32m[I 2022-10-11 19:42:54,220]\u001b[0m Trial 11 finished with value: 0.1944307654928048 and parameters: {'hidden_size': 96, 'n_layers': 2, 'dropout': 0.013655349449629942, 'activation': 'tanh', 'optimizer': 'adam', 'lr': 0.00019771529138577486, 'epochs': 35, 'batch_size': 64}. Best is trial 11 with value: 0.1944307654928048.\u001b[0m\n",
      "\u001b[32m[I 2022-10-11 19:44:24,206]\u001b[0m Trial 12 finished with value: 0.13982526311139487 and parameters: {'hidden_size': 98, 'n_layers': 2, 'dropout': 0.2839339343221953, 'activation': 'tanh', 'optimizer': 'adam', 'lr': 0.00015909039689219326, 'epochs': 23, 'batch_size': 64}. Best is trial 11 with value: 0.1944307654928048.\u001b[0m\n",
      "\u001b[32m[I 2022-10-11 19:46:56,016]\u001b[0m Trial 13 finished with value: 0.13229080642089325 and parameters: {'hidden_size': 98, 'n_layers': 2, 'dropout': 0.012202485238631815, 'activation': 'tanh', 'optimizer': 'adam', 'lr': 2.5784369791526765e-05, 'epochs': 41, 'batch_size': 64}. Best is trial 11 with value: 0.1944307654928048.\u001b[0m\n",
      "\u001b[32m[I 2022-10-11 19:51:05,436]\u001b[0m Trial 14 finished with value: 0.10077767146093874 and parameters: {'hidden_size': 36, 'n_layers': 2, 'dropout': 0.3660190583387548, 'activation': 'tanh', 'optimizer': 'adam', 'lr': 0.0977166992785378, 'epochs': 76, 'batch_size': 2}. Best is trial 11 with value: 0.1944307654928048.\u001b[0m\n",
      "\u001b[32m[I 2022-10-11 19:53:30,522]\u001b[0m Trial 15 finished with value: 0.14934011103997905 and parameters: {'hidden_size': 19, 'n_layers': 3, 'dropout': 0.27812145983410064, 'activation': 'tanh', 'optimizer': 'adam', 'lr': 0.0002616642937178993, 'epochs': 43, 'batch_size': 16}. Best is trial 11 with value: 0.1944307654928048.\u001b[0m\n",
      "\u001b[32m[I 2022-10-11 19:57:30,335]\u001b[0m Trial 16 finished with value: 0.1518535479823399 and parameters: {'hidden_size': 88, 'n_layers': 2, 'dropout': 0.23477725183738113, 'activation': 'tanh', 'optimizer': 'adam', 'lr': 7.110430181385423e-05, 'epochs': 70, 'batch_size': 128}. Best is trial 11 with value: 0.1944307654928048.\u001b[0m\n",
      "\u001b[32m[I 2022-10-11 20:02:00,624]\u001b[0m Trial 17 finished with value: 0.10378099011626724 and parameters: {'hidden_size': 2, 'n_layers': 3, 'dropout': 0.3791705682910978, 'activation': 'tanh', 'optimizer': 'adam', 'lr': 0.0006858382132301477, 'epochs': 84, 'batch_size': 1024}. Best is trial 11 with value: 0.1944307654928048.\u001b[0m\n",
      "\u001b[32m[I 2022-10-11 20:02:33,295]\u001b[0m Trial 18 finished with value: -0.010615062476519072 and parameters: {'hidden_size': 44, 'n_layers': 2, 'dropout': 0.17891553899869928, 'activation': 'tanh', 'optimizer': 'sgd', 'lr': 1.8316977120498868e-05, 'epochs': 14, 'batch_size': 1}. Best is trial 11 with value: 0.1944307654928048.\u001b[0m\n",
      "\u001b[32m[I 2022-10-11 20:05:22,821]\u001b[0m Trial 19 finished with value: 0.1430828654020643 and parameters: {'hidden_size': 28, 'n_layers': 3, 'dropout': 0.08904577766096637, 'activation': 'tanh', 'optimizer': 'adam', 'lr': 0.0001409584671536423, 'epochs': 45, 'batch_size': 64}. Best is trial 11 with value: 0.1944307654928048.\u001b[0m\n",
      "\u001b[32m[I 2022-10-11 20:08:59,047]\u001b[0m Trial 20 finished with value: 0.10359088367880909 and parameters: {'hidden_size': 88, 'n_layers': 2, 'dropout': 0.326891900796227, 'activation': 'sigmoid', 'optimizer': 'adam', 'lr': 3.2058900975622956e-05, 'epochs': 62, 'batch_size': 2}. Best is trial 11 with value: 0.1944307654928048.\u001b[0m\n",
      "\u001b[32m[I 2022-10-11 20:10:12,371]\u001b[0m Trial 21 finished with value: 0.1672702195230912 and parameters: {'hidden_size': 67, 'n_layers': 1, 'dropout': 0.0841556223437471, 'activation': 'relu', 'optimizer': 'adam', 'lr': 0.00210585166672964, 'epochs': 29, 'batch_size': 512}. Best is trial 11 with value: 0.1944307654928048.\u001b[0m\n",
      "\u001b[32m[I 2022-10-11 20:11:43,884]\u001b[0m Trial 22 finished with value: 0.16854755957688067 and parameters: {'hidden_size': 55, 'n_layers': 1, 'dropout': 0.05526171678453998, 'activation': 'relu', 'optimizer': 'adam', 'lr': 0.0025772687564295186, 'epochs': 37, 'batch_size': 16}. Best is trial 11 with value: 0.1944307654928048.\u001b[0m\n",
      "\u001b[32m[I 2022-10-11 20:13:08,561]\u001b[0m Trial 23 finished with value: 0.16417479797575482 and parameters: {'hidden_size': 74, 'n_layers': 1, 'dropout': 0.061195237357733884, 'activation': 'relu', 'optimizer': 'adam', 'lr': 0.0015632863007526226, 'epochs': 34, 'batch_size': 16}. Best is trial 11 with value: 0.1944307654928048.\u001b[0m\n",
      "\u001b[32m[I 2022-10-11 20:13:43,196]\u001b[0m Trial 24 finished with value: 0.12496329588474159 and parameters: {'hidden_size': 40, 'n_layers': 1, 'dropout': 0.0025418490586837372, 'activation': 'relu', 'optimizer': 'adam', 'lr': 0.003941571143079008, 'epochs': 14, 'batch_size': 16}. Best is trial 11 with value: 0.1944307654928048.\u001b[0m\n",
      "\u001b[32m[I 2022-10-11 20:14:37,595]\u001b[0m Trial 25 finished with value: 0.1605733834120488 and parameters: {'hidden_size': 89, 'n_layers': 1, 'dropout': 0.1183894683795305, 'activation': 'relu', 'optimizer': 'adam', 'lr': 0.00817987114804277, 'epochs': 21, 'batch_size': 1}. Best is trial 11 with value: 0.1944307654928048.\u001b[0m\n",
      "\u001b[32m[I 2022-10-11 20:15:46,378]\u001b[0m Trial 26 finished with value: 0.10852549665202368 and parameters: {'hidden_size': 68, 'n_layers': 1, 'dropout': 0.05075940363548488, 'activation': 'relu', 'optimizer': 'sgd', 'lr': 0.00039116433414623943, 'epochs': 35, 'batch_size': 8}. Best is trial 11 with value: 0.1944307654928048.\u001b[0m\n",
      "\u001b[32m[I 2022-10-11 20:17:50,376]\u001b[0m Trial 27 finished with value: 0.10378099011626724 and parameters: {'hidden_size': 51, 'n_layers': 1, 'dropout': 0.11695836003839935, 'activation': 'relu', 'optimizer': 'adam', 'lr': 0.03784740105153734, 'epochs': 50, 'batch_size': 128}. Best is trial 11 with value: 0.1944307654928048.\u001b[0m\n",
      "\u001b[32m[I 2022-10-11 20:18:28,753]\u001b[0m Trial 28 finished with value: 0.1341811134569959 and parameters: {'hidden_size': 79, 'n_layers': 1, 'dropout': 0.03031330155677439, 'activation': 'relu', 'optimizer': 'adam', 'lr': 0.0010806683630595123, 'epochs': 15, 'batch_size': 4}. Best is trial 11 with value: 0.1944307654928048.\u001b[0m\n",
      "\u001b[32m[I 2022-10-11 20:18:32,033]\u001b[0m Trial 29 finished with value: 0.103785992710291 and parameters: {'hidden_size': 58, 'n_layers': 1, 'dropout': 0.1972521044190555, 'activation': 'sigmoid', 'optimizer': 'adam', 'lr': 0.0037515798434891953, 'epochs': 1, 'batch_size': 1024}. Best is trial 11 with value: 0.1944307654928048.\u001b[0m\n"
     ]
    },
    {
     "name": "stdout",
     "output_type": "stream",
     "text": [
      "Number of finished trials:  30\n",
      "Best trial:\n",
      "  Value: 0.1944307654928048\n",
      "  Params: \n",
      "    hidden_size: 96\n",
      "    n_layers: 2\n",
      "    dropout: 0.013655349449629942\n",
      "    activation: tanh\n",
      "    optimizer: adam\n",
      "    lr: 0.00019771529138577486\n",
      "    epochs: 35\n",
      "    batch_size: 64\n"
     ]
    },
    {
     "data": {
      "image/png": "[encoded data removed]",
      "text/plain": [
       "<Figure size 432x288 with 1 Axes>"
      ]
     },
     "metadata": {
      "needs_background": "light"
     },
     "output_type": "display_data"
    }
   ],
   "source": [
    "# Build optuna objective function.\n",
    "import optuna\n",
    "import sklearn \n",
    "\n",
    "def objective(trial):\n",
    "    # Data loading\n",
    "    y_max_u_bool = pd.read_csv('..\\data\\ground_truth\\\\res_bus_vm_pu_max_sparse_bool_constr.csv').drop(columns='timestamps') \n",
    "    exogenous_data = pd.read_csv('..\\data\\processed\\production\\exogenous_data_extended.csv').drop(columns=['date'])\n",
    "    X_max_u_bool_train, X_max_u_bool_test, y_max_u_bool_train, y_max_u_bool_test, scaler = utils.split_and_suffle(exogenous_data, y_max_u_bool[utils.cols_with_positive_values(y_max_u_bool)], test_size=0.2, scaling=True)\n",
    "    data = {'X_train':X_max_u_bool_train.astype(float),\n",
    "            'X_test': X_max_u_bool_test.astype(float),\n",
    "            'y_train':y_max_u_bool_train.astype(float),\n",
    "            'y_test': y_max_u_bool_test.astype(float)\n",
    "        }\n",
    "    # Dataset object creation\n",
    "    _dataset = myai.ThesisDataset(data)\n",
    "    hyper_params = {\n",
    "        'input_size': _dataset.X.shape[1],\n",
    "        'hidden_size': trial.suggest_int('hidden_size', 1, 100),\n",
    "        'output_size': _dataset.y.shape[1],\n",
    "        'n_layers': trial.suggest_int('n_layers', 1, 3),\n",
    "        'dropout': trial.suggest_float('dropout', 0.0, 0.5),\n",
    "        'activation': trial.suggest_categorical('activation', ['relu', 'tanh', 'sigmoid']),\n",
    "        'optimizer': trial.suggest_categorical('optimizer', ['adam', 'sgd']),\n",
    "        'lr': trial.suggest_float('lr', 1e-5, 1e-1, log=True),\n",
    "        'epochs': trial.suggest_int('epochs', 1, 100),\n",
    "        'batch_size': trial.suggest_categorical('batch_size', [1, 2, 4, 8, 16, 32, 64, 128, 256, 512, 1024]),\n",
    "        'classifier': True\n",
    "        }\n",
    "    model = myai.Context(myai.MultilayerPerceptronStrategy(hyper_params))\n",
    "    model.fit(data)\n",
    "    prediction = model.predict(data_max_class)\n",
    "    prediction = pd.DataFrame(prediction, columns=utils.cols_with_positive_values(y_max_u_bool))\n",
    "    tp, tn, fp, fn = 0, 0, 0, 0\n",
    "    for bus in prediction.columns:\n",
    "        tp += sum((prediction[bus] == 1) & (data_max_class['y_test'][bus] == 1))\n",
    "        tn += sum((prediction[bus] == 0) & (data_max_class['y_test'][bus] == 0))\n",
    "        fp += sum((prediction[bus] == 1) & (data_max_class['y_test'][bus] == 0))\n",
    "        fn += sum((prediction[bus] == 0) & (data_max_class['y_test'][bus] == 1))\n",
    "    mcc_score = (tp*tn - fp*fn) / np.sqrt((tp+fp)*(tp+fn)*(tn+fp)*(tn+fn))\n",
    "    return mcc_score\n",
    "study = optuna.create_study(direction=\"maximize\")\n",
    "study.optimize(objective, n_trials=num_trials)\n",
    "print(\"Number of finished trials: \", len(study.trials))\n",
    "print(\"Best trial:\")\n",
    "trial = study.best_trial\n",
    "print(\"  Value: {}\".format(trial.value))\n",
    "print(\"  Params: \")\n",
    "for key, value in trial.params.items():\n",
    "    print(\"    {}: {}\".format(key, value))\n",
    "# Write the results to a csv file.\n",
    "with open(\"./hyper_params_results_mcc/params_mlp_sparse_classifier_max_u.csv\", \"w\") as f:\n",
    "    f.write(\"params,value\\n\")\n",
    "    for key, value in trial.params.items():\n",
    "        f.write(\"{},{}\\n\".format(key, value))\n",
    "    f.write(\"classifier,True\\n\")\n",
    "    f.write(\"value,{}\\n\".format(trial.value))"
   ]
  },
  {
   "cell_type": "code",
   "execution_count": 4,
   "metadata": {},
   "outputs": [],
   "source": [
    "y_max_u_bool = pd.read_csv('..\\data\\ground_truth\\\\res_bus_vm_pu_max_sparse_bool_constr.csv').drop(columns='timestamps') "
   ]
  },
  {
   "cell_type": "code",
   "execution_count": 5,
   "metadata": {},
   "outputs": [
    {
     "data": {
      "text/plain": [
       "Index(['ext_grid', 'bus_1', 'bus_2', 'bus_3', 'bus_4', 'bus_5', 'bus_6',\n",
       "       'bus_7', 'bus_8', 'bus_9', 'bus_10', 'bus_11', 'bus_12', 'bus_13',\n",
       "       'bus_14', 'bus_15', 'bus_16', 'bus_19', 'bus_20', 'bus_22', 'bus_25',\n",
       "       'bus_26', 'bus_28', 'bus_29', 'bus_30', 'bus_31', 'bus_17', 'bus_21',\n",
       "       'bus_24', 'bus_18', 'bus_23', 'bus_27', 'bus_32', 'bus_33'],\n",
       "      dtype='object')"
      ]
     },
     "execution_count": 5,
     "metadata": {},
     "output_type": "execute_result"
    }
   ],
   "source": [
    "y_max_u_bool.columns"
   ]
  },
  {
   "cell_type": "markdown",
   "metadata": {},
   "source": [
    "Now we confirm that the target feature is created correctly, being in accord with the sparse dataset."
   ]
  },
  {
   "cell_type": "markdown",
   "metadata": {},
   "source": [
    "## MLP: Balanced Classification Dataset"
   ]
  },
  {
   "cell_type": "code",
   "execution_count": 6,
   "metadata": {},
   "outputs": [
    {
     "name": "stderr",
     "output_type": "stream",
     "text": [
      "\u001b[32m[I 2022-10-11 20:18:32,958]\u001b[0m A new study created in memory with name: no-name-e5ccfb5e-787d-4ce9-86c1-86aa93bc5657\u001b[0m\n",
      "\u001b[32m[I 2022-10-11 20:19:15,766]\u001b[0m Trial 0 finished with value: 0.10378099011626724 and parameters: {'hidden_size': 13, 'n_layers': 3, 'dropout': 0.4015876650362663, 'activation': 'relu', 'optimizer': 'adam', 'lr': 0.022124155737013387, 'epochs': 87, 'batch_size': 2}. Best is trial 0 with value: 0.10378099011626724.\u001b[0m\n",
      "\u001b[32m[I 2022-10-11 20:19:20,685]\u001b[0m Trial 1 finished with value: 0.019991963139548218 and parameters: {'hidden_size': 79, 'n_layers': 2, 'dropout': 0.3926001200944006, 'activation': 'tanh', 'optimizer': 'sgd', 'lr': 8.195338256501777e-05, 'epochs': 13, 'batch_size': 8}. Best is trial 0 with value: 0.10378099011626724.\u001b[0m\n",
      "\u001b[32m[I 2022-10-11 20:19:21,788]\u001b[0m Trial 2 finished with value: -0.01544614905492283 and parameters: {'hidden_size': 50, 'n_layers': 3, 'dropout': 0.4196942467937907, 'activation': 'relu', 'optimizer': 'sgd', 'lr': 8.159888848063572e-05, 'epochs': 2, 'batch_size': 512}. Best is trial 0 with value: 0.10378099011626724.\u001b[0m\n",
      "\u001b[32m[I 2022-10-11 20:19:26,430]\u001b[0m Trial 3 finished with value: 0.08474857822976567 and parameters: {'hidden_size': 48, 'n_layers': 1, 'dropout': 0.4658749577882664, 'activation': 'sigmoid', 'optimizer': 'adam', 'lr': 1.1620092854903393e-05, 'epochs': 12, 'batch_size': 512}. Best is trial 0 with value: 0.10378099011626724.\u001b[0m\n",
      "\u001b[32m[I 2022-10-11 20:19:31,819]\u001b[0m Trial 4 finished with value: 0.003678376046082918 and parameters: {'hidden_size': 41, 'n_layers': 1, 'dropout': 0.48889246544394555, 'activation': 'relu', 'optimizer': 'sgd', 'lr': 2.510983215666134e-05, 'epochs': 19, 'batch_size': 128}. Best is trial 0 with value: 0.10378099011626724.\u001b[0m\n",
      "\u001b[32m[I 2022-10-11 20:19:35,223]\u001b[0m Trial 5 finished with value: 0.10381100581528212 and parameters: {'hidden_size': 8, 'n_layers': 1, 'dropout': 0.32663662386288206, 'activation': 'sigmoid', 'optimizer': 'sgd', 'lr': 0.0897467197156413, 'epochs': 14, 'batch_size': 4}. Best is trial 5 with value: 0.10381100581528212.\u001b[0m\n",
      "\u001b[32m[I 2022-10-11 20:19:37,663]\u001b[0m Trial 6 finished with value: 0.08493939062956692 and parameters: {'hidden_size': 60, 'n_layers': 2, 'dropout': 0.16393215370930586, 'activation': 'relu', 'optimizer': 'sgd', 'lr': 1.1906162122287135e-05, 'epochs': 6, 'batch_size': 8}. Best is trial 5 with value: 0.10381100581528212.\u001b[0m\n",
      "\u001b[32m[I 2022-10-11 20:19:41,360]\u001b[0m Trial 7 finished with value: 0.11217213705563181 and parameters: {'hidden_size': 25, 'n_layers': 1, 'dropout': 0.30963939822451847, 'activation': 'relu', 'optimizer': 'adam', 'lr': 0.0028952402694712785, 'epochs': 11, 'batch_size': 64}. Best is trial 7 with value: 0.11217213705563181.\u001b[0m\n",
      "\u001b[32m[I 2022-10-11 20:20:31,632]\u001b[0m Trial 8 finished with value: 0.13502234338183725 and parameters: {'hidden_size': 42, 'n_layers': 3, 'dropout': 0.3316284482193635, 'activation': 'sigmoid', 'optimizer': 'adam', 'lr': 0.004198978020823225, 'epochs': 86, 'batch_size': 2}. Best is trial 8 with value: 0.13502234338183725.\u001b[0m\n",
      "\u001b[32m[I 2022-10-11 20:21:04,322]\u001b[0m Trial 9 finished with value: 0.17444272685015788 and parameters: {'hidden_size': 21, 'n_layers': 3, 'dropout': 0.10796011861282312, 'activation': 'relu', 'optimizer': 'adam', 'lr': 0.007151537404333966, 'epochs': 66, 'batch_size': 128}. Best is trial 9 with value: 0.17444272685015788.\u001b[0m\n",
      "\u001b[32m[I 2022-10-11 20:21:42,725]\u001b[0m Trial 10 finished with value: 0.19755032463008196 and parameters: {'hidden_size': 96, 'n_layers': 3, 'dropout': 0.016964138217543778, 'activation': 'tanh', 'optimizer': 'adam', 'lr': 0.0004389248798363944, 'epochs': 60, 'batch_size': 256}. Best is trial 10 with value: 0.19755032463008196.\u001b[0m\n",
      "\u001b[32m[I 2022-10-11 20:22:18,786]\u001b[0m Trial 11 finished with value: 0.18740003852668094 and parameters: {'hidden_size': 100, 'n_layers': 3, 'dropout': 0.005073786906255959, 'activation': 'tanh', 'optimizer': 'adam', 'lr': 0.000484462998498684, 'epochs': 58, 'batch_size': 256}. Best is trial 10 with value: 0.19755032463008196.\u001b[0m\n",
      "\u001b[32m[I 2022-10-11 20:22:39,574]\u001b[0m Trial 12 finished with value: 0.16233509954489253 and parameters: {'hidden_size': 100, 'n_layers': 2, 'dropout': 0.01258616504656829, 'activation': 'tanh', 'optimizer': 'adam', 'lr': 0.00030536421195912053, 'epochs': 41, 'batch_size': 256}. Best is trial 10 with value: 0.19755032463008196.\u001b[0m\n",
      "\u001b[32m[I 2022-10-11 20:23:15,528]\u001b[0m Trial 13 finished with value: 0.17340113334116264 and parameters: {'hidden_size': 100, 'n_layers': 3, 'dropout': 0.012937006417229923, 'activation': 'tanh', 'optimizer': 'adam', 'lr': 0.0007817610645910996, 'epochs': 55, 'batch_size': 256}. Best is trial 10 with value: 0.19755032463008196.\u001b[0m\n",
      "\u001b[32m[I 2022-10-11 20:23:57,449]\u001b[0m Trial 14 finished with value: 0.18140866557699206 and parameters: {'hidden_size': 80, 'n_layers': 3, 'dropout': 0.11094418737935034, 'activation': 'tanh', 'optimizer': 'adam', 'lr': 0.0005419783990839683, 'epochs': 68, 'batch_size': 16}. Best is trial 10 with value: 0.19755032463008196.\u001b[0m\n",
      "\u001b[32m[I 2022-10-11 20:24:18,028]\u001b[0m Trial 15 finished with value: 0.1443967177181152 and parameters: {'hidden_size': 82, 'n_layers': 2, 'dropout': 0.18471106430566053, 'activation': 'tanh', 'optimizer': 'adam', 'lr': 0.000224456671801173, 'epochs': 39, 'batch_size': 256}. Best is trial 10 with value: 0.19755032463008196.\u001b[0m\n",
      "\u001b[32m[I 2022-10-11 20:25:04,329]\u001b[0m Trial 16 finished with value: 0.17322168888128303 and parameters: {'hidden_size': 92, 'n_layers': 3, 'dropout': 0.07076736240576577, 'activation': 'tanh', 'optimizer': 'adam', 'lr': 0.0016742796855378785, 'epochs': 71, 'batch_size': 1024}. Best is trial 10 with value: 0.19755032463008196.\u001b[0m\n",
      "\u001b[32m[I 2022-10-11 20:25:29,816]\u001b[0m Trial 17 finished with value: 0.1157640202134835 and parameters: {'hidden_size': 68, 'n_layers': 2, 'dropout': 0.24843321083651385, 'activation': 'tanh', 'optimizer': 'adam', 'lr': 0.00011104387449297643, 'epochs': 51, 'batch_size': 32}. Best is trial 10 with value: 0.19755032463008196.\u001b[0m\n",
      "\u001b[32m[I 2022-10-11 20:25:48,422]\u001b[0m Trial 18 finished with value: 0.10377014665326668 and parameters: {'hidden_size': 64, 'n_layers': 3, 'dropout': 0.0625183256905802, 'activation': 'tanh', 'optimizer': 'adam', 'lr': 0.01259609650141531, 'epochs': 31, 'batch_size': 1}. Best is trial 10 with value: 0.19755032463008196.\u001b[0m\n",
      "\u001b[32m[I 2022-10-11 20:26:38,050]\u001b[0m Trial 19 finished with value: 0.18760250012742966 and parameters: {'hidden_size': 88, 'n_layers': 3, 'dropout': 0.19233941286540593, 'activation': 'tanh', 'optimizer': 'adam', 'lr': 0.001418959508870893, 'epochs': 78, 'batch_size': 256}. Best is trial 10 with value: 0.19755032463008196.\u001b[0m\n",
      "\u001b[32m[I 2022-10-11 20:27:17,473]\u001b[0m Trial 20 finished with value: 0.17115929487718864 and parameters: {'hidden_size': 89, 'n_layers': 2, 'dropout': 0.20279591149113674, 'activation': 'tanh', 'optimizer': 'adam', 'lr': 0.0015882667834639782, 'epochs': 78, 'batch_size': 256}. Best is trial 10 with value: 0.19755032463008196.\u001b[0m\n",
      "\u001b[32m[I 2022-10-11 20:27:56,887]\u001b[0m Trial 21 finished with value: 0.19003951566604182 and parameters: {'hidden_size': 91, 'n_layers': 3, 'dropout': 0.0010633363315064393, 'activation': 'tanh', 'optimizer': 'adam', 'lr': 0.0004892736278045207, 'epochs': 59, 'batch_size': 256}. Best is trial 10 with value: 0.19755032463008196.\u001b[0m\n",
      "\u001b[32m[I 2022-10-11 20:28:58,836]\u001b[0m Trial 22 finished with value: 0.2076365916650618 and parameters: {'hidden_size': 88, 'n_layers': 3, 'dropout': 0.06624961197723803, 'activation': 'tanh', 'optimizer': 'adam', 'lr': 0.00021523947986686875, 'epochs': 97, 'batch_size': 256}. Best is trial 22 with value: 0.2076365916650618.\u001b[0m\n",
      "\u001b[32m[I 2022-10-11 20:29:58,938]\u001b[0m Trial 23 finished with value: 0.18460150215431556 and parameters: {'hidden_size': 72, 'n_layers': 3, 'dropout': 0.06331009664557866, 'activation': 'tanh', 'optimizer': 'adam', 'lr': 0.00017960970738038607, 'epochs': 99, 'batch_size': 256}. Best is trial 22 with value: 0.2076365916650618.\u001b[0m\n",
      "\u001b[32m[I 2022-10-11 20:31:01,322]\u001b[0m Trial 24 finished with value: 0.12518242376630065 and parameters: {'hidden_size': 74, 'n_layers': 3, 'dropout': 0.10517831226869281, 'activation': 'tanh', 'optimizer': 'adam', 'lr': 3.478973168248834e-05, 'epochs': 99, 'batch_size': 16}. Best is trial 22 with value: 0.2076365916650618.\u001b[0m\n",
      "\u001b[32m[I 2022-10-11 20:31:23,418]\u001b[0m Trial 25 finished with value: 0.10375597728063142 and parameters: {'hidden_size': 91, 'n_layers': 2, 'dropout': 0.041800890202020186, 'activation': 'sigmoid', 'optimizer': 'adam', 'lr': 0.00034594321424685873, 'epochs': 43, 'batch_size': 4}. Best is trial 22 with value: 0.2076365916650618.\u001b[0m\n",
      "\u001b[32m[I 2022-10-11 20:31:35,215]\u001b[0m Trial 26 finished with value: 0.09492991881500389 and parameters: {'hidden_size': 60, 'n_layers': 3, 'dropout': 0.14271253905688835, 'activation': 'tanh', 'optimizer': 'sgd', 'lr': 4.8298271830071145e-05, 'epochs': 29, 'batch_size': 32}. Best is trial 22 with value: 0.2076365916650618.\u001b[0m\n",
      "\u001b[32m[I 2022-10-11 20:32:12,944]\u001b[0m Trial 27 finished with value: 0.1690288054702938 and parameters: {'hidden_size': 84, 'n_layers': 3, 'dropout': 0.04170845292554531, 'activation': 'tanh', 'optimizer': 'adam', 'lr': 0.0007416933270185108, 'epochs': 61, 'batch_size': 1}. Best is trial 22 with value: 0.2076365916650618.\u001b[0m\n",
      "\u001b[32m[I 2022-10-11 20:33:08,847]\u001b[0m Trial 28 finished with value: 0.19299366357031295 and parameters: {'hidden_size': 92, 'n_layers': 3, 'dropout': 0.08733106816550162, 'activation': 'tanh', 'optimizer': 'adam', 'lr': 0.00014566351344835345, 'epochs': 88, 'batch_size': 1024}. Best is trial 22 with value: 0.2076365916650618.\u001b[0m\n",
      "\u001b[32m[I 2022-10-11 20:34:05,696]\u001b[0m Trial 29 finished with value: 0.10384940404608636 and parameters: {'hidden_size': 75, 'n_layers': 3, 'dropout': 0.2336905210537686, 'activation': 'sigmoid', 'optimizer': 'adam', 'lr': 0.00015225875548642584, 'epochs': 88, 'batch_size': 1024}. Best is trial 22 with value: 0.2076365916650618.\u001b[0m\n"
     ]
    },
    {
     "name": "stdout",
     "output_type": "stream",
     "text": [
      "Number of finished trials:  30\n",
      "Best trial:\n",
      "  Value: 0.2076365916650618\n",
      "  Params: \n",
      "    hidden_size: 88\n",
      "    n_layers: 3\n",
      "    dropout: 0.06624961197723803\n",
      "    activation: tanh\n",
      "    optimizer: adam\n",
      "    lr: 0.00021523947986686875\n",
      "    epochs: 97\n",
      "    batch_size: 256\n"
     ]
    },
    {
     "data": {
      "image/png": "[encoded data removed]",
      "text/plain": [
       "<Figure size 432x288 with 1 Axes>"
      ]
     },
     "metadata": {
      "needs_background": "light"
     },
     "output_type": "display_data"
    }
   ],
   "source": [
    "# Build optuna objective function.\n",
    "import optuna\n",
    "import sklearn \n",
    "\n",
    "def objective(trial):\n",
    "    # Data loading\n",
    "    y_max_u_bool = pd.read_csv('..\\data\\ground_truth\\\\res_bus_vm_pu_max_balanced_bool_constr.csv')\n",
    "    exogenous_data = pd.read_csv('..\\data\\ground_truth\\\\exogenous_data_vm_pu_max_balanced.csv').drop(columns=['date'])\n",
    "    X_max_u_bool_train, X_max_u_bool_test, y_max_u_bool_train, y_max_u_bool_test, scaler = utils.split_and_suffle(exogenous_data, y_max_u_bool[utils.cols_with_positive_values(y_max_u_bool)], test_size=0.2, scaling=True)\n",
    "    data = {'X_train':X_max_u_bool_train.astype(float),\n",
    "            'X_test': X_max_u_bool_test.astype(float),\n",
    "            'y_train':y_max_u_bool_train.astype(float),\n",
    "            'y_test': y_max_u_bool_test.astype(float)\n",
    "        }\n",
    "    # Dataset object creation\n",
    "    _dataset = myai.ThesisDataset(data)\n",
    "    hyper_params = {\n",
    "        'input_size': _dataset.X.shape[1],\n",
    "        'hidden_size': trial.suggest_int('hidden_size', 1, 100),\n",
    "        'output_size': _dataset.y.shape[1],\n",
    "        'n_layers': trial.suggest_int('n_layers', 1, 3),\n",
    "        'dropout': trial.suggest_float('dropout', 0.0, 0.5),\n",
    "        'activation': trial.suggest_categorical('activation', ['relu', 'tanh', 'sigmoid']),\n",
    "        'optimizer': trial.suggest_categorical('optimizer', ['adam', 'sgd']),\n",
    "        'lr': trial.suggest_float('lr', 1e-5, 1e-1, log=True),\n",
    "        'epochs': trial.suggest_int('epochs', 1, 100),\n",
    "        'batch_size': trial.suggest_categorical('batch_size', [1, 2, 4, 8, 16, 32, 64, 128, 256, 512, 1024]),\n",
    "        'classifier': True\n",
    "        }\n",
    "    model = myai.Context(myai.MultilayerPerceptronStrategy(hyper_params))\n",
    "    model.fit(data)\n",
    "    prediction = model.predict(data_max_class)\n",
    "    prediction = pd.DataFrame(prediction, columns=utils.cols_with_positive_values(y_max_u_bool))\n",
    "    tp, tn, fp, fn = 0, 0, 0, 0\n",
    "    for bus in prediction.columns:\n",
    "        tp += sum((prediction[bus] == 1) & (data_max_class['y_test'][bus] == 1))\n",
    "        tn += sum((prediction[bus] == 0) & (data_max_class['y_test'][bus] == 0))\n",
    "        fp += sum((prediction[bus] == 1) & (data_max_class['y_test'][bus] == 0))\n",
    "        fn += sum((prediction[bus] == 0) & (data_max_class['y_test'][bus] == 1))\n",
    "    mcc_score = (tp*tn - fp*fn) / np.sqrt((tp+fp)*(tp+fn)*(tn+fp)*(tn+fn))\n",
    "    return mcc_score\n",
    "study = optuna.create_study(direction=\"maximize\")\n",
    "study.optimize(objective, n_trials=num_trials)\n",
    "print(\"Number of finished trials: \", len(study.trials))\n",
    "print(\"Best trial:\")\n",
    "trial = study.best_trial\n",
    "print(\"  Value: {}\".format(trial.value))\n",
    "print(\"  Params: \")\n",
    "for key, value in trial.params.items():\n",
    "    print(\"    {}: {}\".format(key, value))\n",
    "# Write the results to a csv file.\n",
    "with open(\"./hyper_params_results_mcc/params_mlp_balanced_classifier_max_u.csv\", \"w\") as f:\n",
    "    f.write(\"params,value\\n\")\n",
    "    for key, value in trial.params.items():\n",
    "        f.write(\"{},{}\\n\".format(key, value))\n",
    "    f.write(\"classifier,True\\n\")\n",
    "    f.write(\"value,{}\\n\".format(trial.value))"
   ]
  },
  {
   "cell_type": "markdown",
   "metadata": {},
   "source": [
    "## MLP: Regression Sparse Dataset"
   ]
  },
  {
   "cell_type": "code",
   "execution_count": 7,
   "metadata": {},
   "outputs": [
    {
     "name": "stderr",
     "output_type": "stream",
     "text": [
      "\u001b[32m[I 2022-10-11 20:34:06,066]\u001b[0m A new study created in memory with name: no-name-727b8965-0488-4e52-9583-b0c1fc7ab249\u001b[0m\n",
      "\u001b[32m[I 2022-10-11 20:37:14,227]\u001b[0m Trial 0 finished with value: 0.1331702461303271 and parameters: {'hidden_size': 16, 'n_layers': 3, 'dropout': 0.2537763582209544, 'activation': 'sigmoid', 'optimizer': 'adam', 'lr': 0.006989677938342164, 'epochs': 51, 'batch_size': 1}. Best is trial 0 with value: 0.1331702461303271.\u001b[0m\n",
      "\u001b[32m[I 2022-10-11 20:39:10,401]\u001b[0m Trial 1 finished with value: 0.12842714923355375 and parameters: {'hidden_size': 95, 'n_layers': 3, 'dropout': 0.12316494341855255, 'activation': 'sigmoid', 'optimizer': 'adam', 'lr': 0.0005823287769279183, 'epochs': 19, 'batch_size': 512}. Best is trial 0 with value: 0.1331702461303271.\u001b[0m\n",
      "\u001b[32m[I 2022-10-11 20:41:38,215]\u001b[0m Trial 2 finished with value: -0.5861798434094343 and parameters: {'hidden_size': 79, 'n_layers': 3, 'dropout': 0.10034935505284936, 'activation': 'relu', 'optimizer': 'adam', 'lr': 0.043595183253444365, 'epochs': 23, 'batch_size': 1024}. Best is trial 0 with value: 0.1331702461303271.\u001b[0m\n",
      "\u001b[32m[I 2022-10-11 20:44:21,966]\u001b[0m Trial 3 finished with value: 0.15544444089857215 and parameters: {'hidden_size': 41, 'n_layers': 2, 'dropout': 0.08714351206015758, 'activation': 'tanh', 'optimizer': 'sgd', 'lr': 0.03038324881827253, 'epochs': 61, 'batch_size': 4}. Best is trial 3 with value: 0.15544444089857215.\u001b[0m\n",
      "\u001b[32m[I 2022-10-11 20:47:46,446]\u001b[0m Trial 4 finished with value: 0.0 and parameters: {'hidden_size': 92, 'n_layers': 1, 'dropout': 0.11675610477198001, 'activation': 'sigmoid', 'optimizer': 'sgd', 'lr': 0.00039294430568476005, 'epochs': 87, 'batch_size': 128}. Best is trial 3 with value: 0.15544444089857215.\u001b[0m\n",
      "\u001b[32m[I 2022-10-11 20:51:30,066]\u001b[0m Trial 5 finished with value: 0.14918183446427222 and parameters: {'hidden_size': 72, 'n_layers': 3, 'dropout': 0.4250243703472618, 'activation': 'sigmoid', 'optimizer': 'sgd', 'lr': 0.003414506153851312, 'epochs': 67, 'batch_size': 16}. Best is trial 3 with value: 0.15544444089857215.\u001b[0m\n",
      "\u001b[32m[I 2022-10-11 20:57:13,916]\u001b[0m Trial 6 finished with value: 0.16235698699270049 and parameters: {'hidden_size': 63, 'n_layers': 2, 'dropout': 0.1780977497359295, 'activation': 'tanh', 'optimizer': 'adam', 'lr': 0.0005006129087263225, 'epochs': 94, 'batch_size': 8}. Best is trial 6 with value: 0.16235698699270049.\u001b[0m\n",
      "\u001b[32m[I 2022-10-11 20:58:02,454]\u001b[0m Trial 7 finished with value: 0.22203995840696578 and parameters: {'hidden_size': 73, 'n_layers': 2, 'dropout': 0.27284229659067843, 'activation': 'sigmoid', 'optimizer': 'adam', 'lr': 2.548563840868202e-05, 'epochs': 7, 'batch_size': 128}. Best is trial 7 with value: 0.22203995840696578.\u001b[0m\n",
      "\u001b[32m[I 2022-10-11 21:02:23,028]\u001b[0m Trial 8 finished with value: 0.13398595770919974 and parameters: {'hidden_size': 45, 'n_layers': 2, 'dropout': 0.1041248792456847, 'activation': 'relu', 'optimizer': 'adam', 'lr': 0.0002610066042977712, 'epochs': 82, 'batch_size': 1}. Best is trial 7 with value: 0.22203995840696578.\u001b[0m\n",
      "\u001b[32m[I 2022-10-11 21:03:41,868]\u001b[0m Trial 9 finished with value: 0.22801727254957715 and parameters: {'hidden_size': 5, 'n_layers': 1, 'dropout': 0.19791196229235447, 'activation': 'sigmoid', 'optimizer': 'adam', 'lr': 6.295736956496488e-05, 'epochs': 29, 'batch_size': 16}. Best is trial 9 with value: 0.22801727254957715.\u001b[0m\n",
      "\u001b[32m[I 2022-10-11 21:05:03,703]\u001b[0m Trial 10 finished with value: -0.01846341978497997 and parameters: {'hidden_size': 1, 'n_layers': 1, 'dropout': 0.0009878639244156329, 'activation': 'tanh', 'optimizer': 'adam', 'lr': 1.0403158200839952e-05, 'epochs': 32, 'batch_size': 16}. Best is trial 9 with value: 0.22801727254957715.\u001b[0m\n",
      "\u001b[32m[I 2022-10-11 21:05:36,422]\u001b[0m Trial 11 finished with value: 0.2055007061416712 and parameters: {'hidden_size': 27, 'n_layers': 1, 'dropout': 0.30714306120971213, 'activation': 'sigmoid', 'optimizer': 'adam', 'lr': 2.3859733507435685e-05, 'epochs': 2, 'batch_size': 2}. Best is trial 9 with value: 0.22801727254957715.\u001b[0m\n",
      "\u001b[32m[I 2022-10-11 21:06:13,073]\u001b[0m Trial 12 finished with value: 0.22758269934685987 and parameters: {'hidden_size': 59, 'n_layers': 1, 'dropout': 0.36178416233091615, 'activation': 'sigmoid', 'optimizer': 'adam', 'lr': 6.163493090224257e-05, 'epochs': 4, 'batch_size': 32}. Best is trial 9 with value: 0.22801727254957715.\u001b[0m\n",
      "\u001b[32m[I 2022-10-11 21:07:59,166]\u001b[0m Trial 13 finished with value: 0.22570563084779902 and parameters: {'hidden_size': 54, 'n_layers': 1, 'dropout': 0.3886472733929697, 'activation': 'sigmoid', 'optimizer': 'adam', 'lr': 9.241305091128271e-05, 'epochs': 38, 'batch_size': 32}. Best is trial 9 with value: 0.22801727254957715.\u001b[0m\n",
      "\u001b[32m[I 2022-10-11 21:09:34,782]\u001b[0m Trial 14 finished with value: 0.23908612324680312 and parameters: {'hidden_size': 31, 'n_layers': 1, 'dropout': 0.4863118778830751, 'activation': 'sigmoid', 'optimizer': 'adam', 'lr': 9.098933848299788e-05, 'epochs': 13, 'batch_size': 32}. Best is trial 14 with value: 0.23908612324680312.\u001b[0m\n",
      "\u001b[32m[I 2022-10-11 21:11:37,235]\u001b[0m Trial 15 finished with value: 0.050784722274169546 and parameters: {'hidden_size': 1, 'n_layers': 1, 'dropout': 0.4986517027107279, 'activation': 'relu', 'optimizer': 'sgd', 'lr': 9.181208140732997e-05, 'epochs': 41, 'batch_size': 64}. Best is trial 14 with value: 0.23908612324680312.\u001b[0m\n",
      "\u001b[32m[I 2022-10-11 21:13:40,817]\u001b[0m Trial 16 finished with value: 0.11566766238790324 and parameters: {'hidden_size': 26, 'n_layers': 1, 'dropout': 0.2001722981279409, 'activation': 'sigmoid', 'optimizer': 'adam', 'lr': 0.0017859834803558418, 'epochs': 20, 'batch_size': 256}. Best is trial 14 with value: 0.23908612324680312.\u001b[0m\n",
      "\u001b[32m[I 2022-10-11 21:16:42,901]\u001b[0m Trial 17 finished with value: 0.23512607190935944 and parameters: {'hidden_size': 16, 'n_layers': 2, 'dropout': 0.47246228888656294, 'activation': 'sigmoid', 'optimizer': 'adam', 'lr': 0.00019366965742956645, 'epochs': 27, 'batch_size': 16}. Best is trial 14 with value: 0.23908612324680312.\u001b[0m\n",
      "\u001b[32m[I 2022-10-11 21:18:39,529]\u001b[0m Trial 18 finished with value: 0.0776692884520671 and parameters: {'hidden_size': 32, 'n_layers': 2, 'dropout': 0.49535991827383097, 'activation': 'tanh', 'optimizer': 'sgd', 'lr': 0.000157619546336037, 'epochs': 14, 'batch_size': 32}. Best is trial 14 with value: 0.23908612324680312.\u001b[0m\n",
      "\u001b[32m[I 2022-10-11 21:24:04,337]\u001b[0m Trial 19 finished with value: 0.09815491635054217 and parameters: {'hidden_size': 15, 'n_layers': 2, 'dropout': 0.4488653294546315, 'activation': 'relu', 'optimizer': 'adam', 'lr': 0.0016638907853806595, 'epochs': 47, 'batch_size': 4}. Best is trial 14 with value: 0.23908612324680312.\u001b[0m\n",
      "\u001b[32m[I 2022-10-11 21:27:15,546]\u001b[0m Trial 20 finished with value: 0.14575298159991104 and parameters: {'hidden_size': 37, 'n_layers': 2, 'dropout': 0.3336497647149892, 'activation': 'sigmoid', 'optimizer': 'adam', 'lr': 0.011094763286237534, 'epochs': 12, 'batch_size': 512}. Best is trial 14 with value: 0.23908612324680312.\u001b[0m\n",
      "\u001b[32m[I 2022-10-11 21:31:57,154]\u001b[0m Trial 21 finished with value: 0.23853927001293085 and parameters: {'hidden_size': 11, 'n_layers': 1, 'dropout': 0.43202318503631787, 'activation': 'sigmoid', 'optimizer': 'adam', 'lr': 3.164068912275097e-05, 'epochs': 29, 'batch_size': 16}. Best is trial 14 with value: 0.23908612324680312.\u001b[0m\n",
      "\u001b[32m[I 2022-10-11 21:35:19,492]\u001b[0m Trial 22 finished with value: 0.23122787436439748 and parameters: {'hidden_size': 15, 'n_layers': 1, 'dropout': 0.44122903886636655, 'activation': 'sigmoid', 'optimizer': 'adam', 'lr': 3.0591948279531144e-05, 'epochs': 31, 'batch_size': 16}. Best is trial 14 with value: 0.23908612324680312.\u001b[0m\n",
      "\u001b[32m[I 2022-10-11 21:37:08,530]\u001b[0m Trial 23 finished with value: 0.23098785061230762 and parameters: {'hidden_size': 20, 'n_layers': 1, 'dropout': 0.4215200509782257, 'activation': 'sigmoid', 'optimizer': 'adam', 'lr': 1.24586739088667e-05, 'epochs': 26, 'batch_size': 16}. Best is trial 14 with value: 0.23908612324680312.\u001b[0m\n",
      "\u001b[32m[I 2022-10-11 21:39:55,397]\u001b[0m Trial 24 finished with value: 0.23748535537604826 and parameters: {'hidden_size': 9, 'n_layers': 2, 'dropout': 0.4792075535160777, 'activation': 'sigmoid', 'optimizer': 'adam', 'lr': 0.00018279901992221433, 'epochs': 38, 'batch_size': 64}. Best is trial 14 with value: 0.23908612324680312.\u001b[0m\n",
      "\u001b[32m[I 2022-10-11 21:43:09,355]\u001b[0m Trial 25 finished with value: 0.2366126269458611 and parameters: {'hidden_size': 9, 'n_layers': 1, 'dropout': 0.38714160917776663, 'activation': 'sigmoid', 'optimizer': 'adam', 'lr': 3.812792412976035e-05, 'epochs': 59, 'batch_size': 64}. Best is trial 14 with value: 0.23908612324680312.\u001b[0m\n",
      "\u001b[32m[I 2022-10-11 21:45:27,463]\u001b[0m Trial 26 finished with value: 0.12783723960759744 and parameters: {'hidden_size': 25, 'n_layers': 2, 'dropout': 0.38807409968583423, 'activation': 'sigmoid', 'optimizer': 'sgd', 'lr': 0.00013493525572406335, 'epochs': 41, 'batch_size': 64}. Best is trial 14 with value: 0.23908612324680312.\u001b[0m\n",
      "\u001b[32m[I 2022-10-11 21:46:46,703]\u001b[0m Trial 27 finished with value: 0.23785789732869636 and parameters: {'hidden_size': 10, 'n_layers': 1, 'dropout': 0.4725311038881761, 'activation': 'sigmoid', 'optimizer': 'adam', 'lr': 0.0009229190298608875, 'epochs': 13, 'batch_size': 2}. Best is trial 14 with value: 0.23908612324680312.\u001b[0m\n",
      "\u001b[32m[I 2022-10-11 21:48:16,938]\u001b[0m Trial 28 finished with value: 0.21838710706647432 and parameters: {'hidden_size': 35, 'n_layers': 1, 'dropout': 0.34408624756423256, 'activation': 'relu', 'optimizer': 'adam', 'lr': 0.001353433681171881, 'epochs': 13, 'batch_size': 2}. Best is trial 14 with value: 0.23908612324680312.\u001b[0m\n",
      "\u001b[32m[I 2022-10-11 21:49:27,213]\u001b[0m Trial 29 finished with value: 0.18429620494091695 and parameters: {'hidden_size': 47, 'n_layers': 1, 'dropout': 0.4526520902224071, 'activation': 'tanh', 'optimizer': 'adam', 'lr': 0.005657134014786055, 'epochs': 9, 'batch_size': 2}. Best is trial 14 with value: 0.23908612324680312.\u001b[0m\n"
     ]
    },
    {
     "name": "stdout",
     "output_type": "stream",
     "text": [
      "Number of finished trials:  30\n",
      "Best trial:\n",
      "  Value: 0.23908612324680312\n",
      "  Params: \n",
      "    hidden_size: 31\n",
      "    n_layers: 1\n",
      "    dropout: 0.4863118778830751\n",
      "    activation: sigmoid\n",
      "    optimizer: adam\n",
      "    lr: 9.098933848299788e-05\n",
      "    epochs: 13\n",
      "    batch_size: 32\n"
     ]
    },
    {
     "data": {
      "image/png": "[encoded data removed]",
      "text/plain": [
       "<Figure size 432x288 with 1 Axes>"
      ]
     },
     "metadata": {
      "needs_background": "light"
     },
     "output_type": "display_data"
    }
   ],
   "source": [
    "# Build optuna objective function.\n",
    "import optuna\n",
    "import sklearn \n",
    "\n",
    "def objective(trial):\n",
    "    # Data loading\n",
    "    y_max_u = pd.read_csv('..\\data\\ground_truth\\\\res_bus_vm_pu_max_constr.csv').drop(columns='timestamps')\n",
    "    exogenous_data = pd.read_csv('..\\data\\processed\\production\\exogenous_data_extended.csv').drop(columns=['date'])\n",
    "    X_max_u_train, X_max_u_test, y_max_u_train, y_max_u_test, scaler = utils.split_and_suffle(exogenous_data, y_max_u, test_size=0.2, scaling=True)\n",
    "    data = {'X_train':X_max_u_train.astype(float),\n",
    "            'X_test': X_max_u_test.astype(float),\n",
    "            'y_train':y_max_u_train.astype(float),\n",
    "            'y_test': y_max_u_test.astype(float)\n",
    "        }\n",
    "    # Dataset object creation\n",
    "    _dataset = myai.ThesisDataset(data)\n",
    "    hyper_params = {\n",
    "        'input_size': _dataset.X.shape[1],\n",
    "        'hidden_size': trial.suggest_int('hidden_size', 1, 100),\n",
    "        'output_size': _dataset.y.shape[1],\n",
    "        'n_layers': trial.suggest_int('n_layers', 1, 3),\n",
    "        'dropout': trial.suggest_float('dropout', 0.0, 0.5),\n",
    "        'activation': trial.suggest_categorical('activation', ['relu', 'tanh', 'sigmoid']),\n",
    "        'optimizer': trial.suggest_categorical('optimizer', ['adam', 'sgd']),\n",
    "        'lr': trial.suggest_float('lr', 1e-5, 1e-1, log=True),\n",
    "        'epochs': trial.suggest_int('epochs', 1, 100),\n",
    "        'batch_size': trial.suggest_categorical('batch_size', [1, 2, 4, 8, 16, 32, 64, 128, 256, 512, 1024]),\n",
    "        'classifier': False\n",
    "        }\n",
    "    model = myai.Context(myai.MultilayerPerceptronStrategy(hyper_params))\n",
    "    model.fit(data)\n",
    "    prediction = model.predict(data_max_reg)\n",
    "    prediction = pd.DataFrame(prediction, columns=y_max_u.columns)\n",
    "    # evaluate the regression performance with my metrics\n",
    "    metric = metrics.Metrics()\n",
    "    metric.get_prediction_scores(prediction, data_max_reg['y_test'], threshold=threshold_max)\n",
    "    return metric.hybrid_mcc\n",
    "study = optuna.create_study(direction=\"maximize\")\n",
    "study.optimize(objective, n_trials=num_trials)\n",
    "print(\"Number of finished trials: \", len(study.trials))\n",
    "print(\"Best trial:\")\n",
    "trial = study.best_trial\n",
    "print(\"  Value: {}\".format(trial.value))\n",
    "print(\"  Params: \")\n",
    "for key, value in trial.params.items():\n",
    "    print(\"    {}: {}\".format(key, value))\n",
    "# Write the results to a csv file.\n",
    "with open(\"./hyper_params_results_mcc/params_mlp_regression_sparse_max_u.csv\", \"w\") as f:\n",
    "    f.write(\"params,value\\n\")\n",
    "    for key, value in trial.params.items():\n",
    "        f.write(\"{},{}\\n\".format(key, value))\n",
    "    f.write(\"classifier,False\\n\")\n",
    "    f.write(\"value,{}\\n\".format(trial.value))"
   ]
  },
  {
   "cell_type": "markdown",
   "metadata": {},
   "source": [
    "## MLP: Regression Focused Dataset"
   ]
  },
  {
   "cell_type": "code",
   "execution_count": 17,
   "metadata": {},
   "outputs": [
    {
     "name": "stderr",
     "output_type": "stream",
     "text": [
      "\u001b[32m[I 2022-10-12 10:39:27,343]\u001b[0m A new study created in memory with name: no-name-b4217da8-6404-4384-a72c-6a7a21af2a19\u001b[0m\n",
      "\u001b[32m[I 2022-10-12 10:40:41,606]\u001b[0m Trial 0 finished with value: 0.024497474103154976 and parameters: {'hidden_size': 68, 'n_layers': 3, 'dropout': 0.3898452385193764, 'activation': 'relu', 'optimizer': 'sgd', 'lr': 1.5406125384223418e-05, 'epochs': 82, 'batch_size': 8}. Best is trial 0 with value: 0.024497474103154976.\u001b[0m\n",
      "\u001b[32m[I 2022-10-12 10:41:25,180]\u001b[0m Trial 1 finished with value: 0.21878851381116945 and parameters: {'hidden_size': 11, 'n_layers': 3, 'dropout': 0.3519964637747069, 'activation': 'sigmoid', 'optimizer': 'adam', 'lr': 0.006197644742236854, 'epochs': 1, 'batch_size': 2}. Best is trial 1 with value: 0.21878851381116945.\u001b[0m\n",
      "\u001b[32m[I 2022-10-12 10:42:03,057]\u001b[0m Trial 2 finished with value: 0.053560042611659794 and parameters: {'hidden_size': 56, 'n_layers': 2, 'dropout': 0.2840089467446075, 'activation': 'tanh', 'optimizer': 'sgd', 'lr': 5.402150742833307e-05, 'epochs': 1, 'batch_size': 4}. Best is trial 1 with value: 0.21878851381116945.\u001b[0m\n",
      "\u001b[32m[I 2022-10-12 10:42:36,890]\u001b[0m Trial 3 finished with value: 0.12132075648126532 and parameters: {'hidden_size': 85, 'n_layers': 1, 'dropout': 0.1777197745668052, 'activation': 'relu', 'optimizer': 'sgd', 'lr': 0.0026265370718595166, 'epochs': 37, 'batch_size': 64}. Best is trial 1 with value: 0.21878851381116945.\u001b[0m\n",
      "\u001b[32m[I 2022-10-12 10:43:19,735]\u001b[0m Trial 4 finished with value: 0.1376063070808632 and parameters: {'hidden_size': 97, 'n_layers': 3, 'dropout': 0.4179669317405185, 'activation': 'tanh', 'optimizer': 'sgd', 'lr': 0.0012737613235122686, 'epochs': 67, 'batch_size': 1}. Best is trial 1 with value: 0.21878851381116945.\u001b[0m\n",
      "\u001b[32m[I 2022-10-12 10:44:06,737]\u001b[0m Trial 5 finished with value: 0.14193425256840267 and parameters: {'hidden_size': 85, 'n_layers': 3, 'dropout': 0.36129450120246465, 'activation': 'relu', 'optimizer': 'sgd', 'lr': 4.526355125105464e-05, 'epochs': 91, 'batch_size': 1}. Best is trial 1 with value: 0.21878851381116945.\u001b[0m\n",
      "\u001b[32m[I 2022-10-12 10:44:51,439]\u001b[0m Trial 6 finished with value: 0.19430915831190462 and parameters: {'hidden_size': 85, 'n_layers': 2, 'dropout': 0.37500235495099277, 'activation': 'relu', 'optimizer': 'adam', 'lr': 0.0003322258181867951, 'epochs': 67, 'batch_size': 4}. Best is trial 1 with value: 0.21878851381116945.\u001b[0m\n",
      "\u001b[32m[I 2022-10-12 10:45:27,708]\u001b[0m Trial 7 finished with value: 0.1810491162411292 and parameters: {'hidden_size': 21, 'n_layers': 2, 'dropout': 0.3200734695017222, 'activation': 'relu', 'optimizer': 'sgd', 'lr': 0.03134004862141496, 'epochs': 61, 'batch_size': 16}. Best is trial 1 with value: 0.21878851381116945.\u001b[0m\n",
      "\u001b[32m[I 2022-10-12 10:46:02,543]\u001b[0m Trial 8 finished with value: 0.20964123483302857 and parameters: {'hidden_size': 66, 'n_layers': 3, 'dropout': 0.06224964016474038, 'activation': 'tanh', 'optimizer': 'adam', 'lr': 3.297283868809702e-05, 'epochs': 17, 'batch_size': 128}. Best is trial 1 with value: 0.21878851381116945.\u001b[0m\n",
      "\u001b[32m[I 2022-10-12 10:46:41,223]\u001b[0m Trial 9 finished with value: 0.10587013048407054 and parameters: {'hidden_size': 4, 'n_layers': 1, 'dropout': 0.04414914356472732, 'activation': 'tanh', 'optimizer': 'sgd', 'lr': 0.004073965346658508, 'epochs': 99, 'batch_size': 256}. Best is trial 1 with value: 0.21878851381116945.\u001b[0m\n",
      "\u001b[32m[I 2022-10-12 10:47:18,381]\u001b[0m Trial 10 finished with value: 0.2256884697095747 and parameters: {'hidden_size': 30, 'n_layers': 3, 'dropout': 0.4867426267189938, 'activation': 'sigmoid', 'optimizer': 'adam', 'lr': 0.06378707995289302, 'epochs': 33, 'batch_size': 1024}. Best is trial 10 with value: 0.2256884697095747.\u001b[0m\n",
      "\u001b[32m[I 2022-10-12 10:47:55,227]\u001b[0m Trial 11 finished with value: 0.22652525033654897 and parameters: {'hidden_size': 31, 'n_layers': 3, 'dropout': 0.49047975232445257, 'activation': 'sigmoid', 'optimizer': 'adam', 'lr': 0.09795851566327125, 'epochs': 30, 'batch_size': 1024}. Best is trial 11 with value: 0.22652525033654897.\u001b[0m\n",
      "\u001b[32m[I 2022-10-12 10:48:34,631]\u001b[0m Trial 12 finished with value: 0.2307427041806885 and parameters: {'hidden_size': 32, 'n_layers': 3, 'dropout': 0.4787224351557658, 'activation': 'sigmoid', 'optimizer': 'adam', 'lr': 0.09583424958539406, 'epochs': 41, 'batch_size': 1024}. Best is trial 12 with value: 0.2307427041806885.\u001b[0m\n",
      "\u001b[32m[I 2022-10-12 10:49:35,453]\u001b[0m Trial 13 finished with value: 0.18659550667517882 and parameters: {'hidden_size': 39, 'n_layers': 2, 'dropout': 0.4996107573275864, 'activation': 'sigmoid', 'optimizer': 'adam', 'lr': 0.018161349140410024, 'epochs': 45, 'batch_size': 1024}. Best is trial 12 with value: 0.2307427041806885.\u001b[0m\n",
      "\u001b[32m[I 2022-10-12 10:50:21,650]\u001b[0m Trial 14 finished with value: 0.23768005017442514 and parameters: {'hidden_size': 46, 'n_layers': 3, 'dropout': 0.20394036647910374, 'activation': 'sigmoid', 'optimizer': 'adam', 'lr': 0.07592738134364785, 'epochs': 22, 'batch_size': 32}. Best is trial 14 with value: 0.23768005017442514.\u001b[0m\n",
      "\u001b[32m[I 2022-10-12 10:51:03,346]\u001b[0m Trial 15 finished with value: 0.2112820584625539 and parameters: {'hidden_size': 46, 'n_layers': 2, 'dropout': 0.18602803923086342, 'activation': 'sigmoid', 'optimizer': 'adam', 'lr': 0.018336158406844737, 'epochs': 18, 'batch_size': 32}. Best is trial 14 with value: 0.23768005017442514.\u001b[0m\n",
      "\u001b[32m[I 2022-10-12 10:51:53,051]\u001b[0m Trial 16 finished with value: 0.22068436366826563 and parameters: {'hidden_size': 51, 'n_layers': 3, 'dropout': 0.2039375626168618, 'activation': 'sigmoid', 'optimizer': 'adam', 'lr': 0.00033038344355393247, 'epochs': 50, 'batch_size': 32}. Best is trial 14 with value: 0.23768005017442514.\u001b[0m\n",
      "\u001b[32m[I 2022-10-12 10:52:36,304]\u001b[0m Trial 17 finished with value: 0.21225764065154748 and parameters: {'hidden_size': 19, 'n_layers': 1, 'dropout': 0.10757217423135959, 'activation': 'sigmoid', 'optimizer': 'adam', 'lr': 0.014556047190033458, 'epochs': 19, 'batch_size': 512}. Best is trial 14 with value: 0.23768005017442514.\u001b[0m\n",
      "\u001b[32m[I 2022-10-12 10:53:17,210]\u001b[0m Trial 18 finished with value: 0.23933420230066543 and parameters: {'hidden_size': 37, 'n_layers': 3, 'dropout': 0.23369787210186146, 'activation': 'sigmoid', 'optimizer': 'adam', 'lr': 0.054342682853257544, 'epochs': 24, 'batch_size': 32}. Best is trial 18 with value: 0.23933420230066543.\u001b[0m\n",
      "\u001b[32m[I 2022-10-12 10:53:56,444]\u001b[0m Trial 19 finished with value: 0.2168565358140836 and parameters: {'hidden_size': 59, 'n_layers': 2, 'dropout': 0.2531130029109466, 'activation': 'sigmoid', 'optimizer': 'adam', 'lr': 0.009188582004669831, 'epochs': 24, 'batch_size': 32}. Best is trial 18 with value: 0.23933420230066543.\u001b[0m\n",
      "\u001b[32m[I 2022-10-12 10:54:33,053]\u001b[0m Trial 20 finished with value: 0.2060443389419861 and parameters: {'hidden_size': 44, 'n_layers': 2, 'dropout': 0.1456983230481026, 'activation': 'sigmoid', 'optimizer': 'adam', 'lr': 0.034960940750931375, 'epochs': 9, 'batch_size': 32}. Best is trial 18 with value: 0.23933420230066543.\u001b[0m\n",
      "\u001b[32m[I 2022-10-12 10:55:18,818]\u001b[0m Trial 21 finished with value: 0.20771585752055963 and parameters: {'hidden_size': 35, 'n_layers': 3, 'dropout': 0.25111864204922535, 'activation': 'sigmoid', 'optimizer': 'adam', 'lr': 0.056999938010556354, 'epochs': 41, 'batch_size': 32}. Best is trial 18 with value: 0.23933420230066543.\u001b[0m\n",
      "\u001b[32m[I 2022-10-12 10:55:59,886]\u001b[0m Trial 22 finished with value: 0.22144523944665037 and parameters: {'hidden_size': 24, 'n_layers': 3, 'dropout': 0.21370587683526854, 'activation': 'sigmoid', 'optimizer': 'adam', 'lr': 0.08472359204365422, 'epochs': 29, 'batch_size': 256}. Best is trial 18 with value: 0.23933420230066543.\u001b[0m\n",
      "\u001b[32m[I 2022-10-12 10:56:50,019]\u001b[0m Trial 23 finished with value: 0.2032295045971578 and parameters: {'hidden_size': 41, 'n_layers': 3, 'dropout': 0.30057938041862975, 'activation': 'sigmoid', 'optimizer': 'adam', 'lr': 0.035297902742194014, 'epochs': 55, 'batch_size': 2}. Best is trial 18 with value: 0.23933420230066543.\u001b[0m\n",
      "\u001b[32m[I 2022-10-12 10:57:25,723]\u001b[0m Trial 24 finished with value: 0.22833929014079682 and parameters: {'hidden_size': 15, 'n_layers': 3, 'dropout': 0.12266005687881712, 'activation': 'sigmoid', 'optimizer': 'adam', 'lr': 0.0992324052540073, 'epochs': 9, 'batch_size': 128}. Best is trial 18 with value: 0.23933420230066543.\u001b[0m\n",
      "\u001b[32m[I 2022-10-12 10:58:12,276]\u001b[0m Trial 25 finished with value: 0.22330260045418343 and parameters: {'hidden_size': 27, 'n_layers': 3, 'dropout': 0.42564897875331936, 'activation': 'sigmoid', 'optimizer': 'adam', 'lr': 0.03299777054420544, 'epochs': 43, 'batch_size': 16}. Best is trial 18 with value: 0.23933420230066543.\u001b[0m\n",
      "\u001b[32m[I 2022-10-12 10:58:50,935]\u001b[0m Trial 26 finished with value: 0.23036938050929565 and parameters: {'hidden_size': 51, 'n_layers': 3, 'dropout': 0.2221921500641013, 'activation': 'sigmoid', 'optimizer': 'adam', 'lr': 0.012822103044326518, 'epochs': 25, 'batch_size': 64}. Best is trial 18 with value: 0.23933420230066543.\u001b[0m\n",
      "\u001b[32m[I 2022-10-12 10:59:25,456]\u001b[0m Trial 27 finished with value: 0.22081680760757494 and parameters: {'hidden_size': 65, 'n_layers': 2, 'dropout': 0.15361568754332622, 'activation': 'sigmoid', 'optimizer': 'adam', 'lr': 0.002431413321605023, 'epochs': 11, 'batch_size': 8}. Best is trial 18 with value: 0.23933420230066543.\u001b[0m\n",
      "\u001b[32m[I 2022-10-12 11:00:07,254]\u001b[0m Trial 28 finished with value: 0.22151246357115423 and parameters: {'hidden_size': 36, 'n_layers': 3, 'dropout': 0.0054414872774001255, 'activation': 'tanh', 'optimizer': 'adam', 'lr': 0.0005399794861479565, 'epochs': 37, 'batch_size': 512}. Best is trial 18 with value: 0.23933420230066543.\u001b[0m\n",
      "\u001b[32m[I 2022-10-12 11:00:51,052]\u001b[0m Trial 29 finished with value: 0.22780763784243466 and parameters: {'hidden_size': 2, 'n_layers': 3, 'dropout': 0.2734637915981989, 'activation': 'sigmoid', 'optimizer': 'adam', 'lr': 0.04598242365726916, 'epochs': 51, 'batch_size': 8}. Best is trial 18 with value: 0.23933420230066543.\u001b[0m\n"
     ]
    },
    {
     "name": "stdout",
     "output_type": "stream",
     "text": [
      "Number of finished trials:  30\n",
      "Best trial:\n",
      "  Value: 0.23933420230066543\n",
      "  Params: \n",
      "    hidden_size: 37\n",
      "    n_layers: 3\n",
      "    dropout: 0.23369787210186146\n",
      "    activation: sigmoid\n",
      "    optimizer: adam\n",
      "    lr: 0.054342682853257544\n",
      "    epochs: 24\n",
      "    batch_size: 32\n"
     ]
    },
    {
     "data": {
      "image/png": "[encoded data removed]",
      "text/plain": [
       "<Figure size 432x288 with 1 Axes>"
      ]
     },
     "metadata": {
      "needs_background": "light"
     },
     "output_type": "display_data"
    }
   ],
   "source": [
    "# Build optuna objective function.\n",
    "import optuna\n",
    "import sklearn \n",
    "\n",
    "def objective(trial):\n",
    "    # Data loading\n",
    "    y_max_u = pd.read_csv('..\\data\\ground_truth\\\\res_bus_vm_pu_max_focused_constr.csv')\n",
    "    exogenous_data = pd.read_csv('..\\data\\ground_truth\\\\exogenous_data_vm_pu_max_focused.csv').drop(columns=['date'])\n",
    "    X_max_u_train, X_max_u_test, y_max_u_train, y_max_u_test, scaler = utils.split_and_suffle(exogenous_data, y_max_u, scaling=True)\n",
    "    data = {'X_train':X_max_u_train.astype(float),\n",
    "            'X_test': X_max_u_test.astype(float),\n",
    "            'y_train':y_max_u_train.astype(float),\n",
    "            'y_test': y_max_u_test.astype(float)\n",
    "        }\n",
    "    # Dataset object creation\n",
    "    _dataset = myai.ThesisDataset(data)\n",
    "    hyper_params = {\n",
    "        'input_size': _dataset.X.shape[1],\n",
    "        'hidden_size': trial.suggest_int('hidden_size', 1, 100),\n",
    "        'output_size': _dataset.y.shape[1],\n",
    "        'n_layers': trial.suggest_int('n_layers', 1, 3),\n",
    "        'dropout': trial.suggest_float('dropout', 0.0, 0.5),\n",
    "        'activation': trial.suggest_categorical('activation', ['relu', 'tanh', 'sigmoid']),\n",
    "        'optimizer': trial.suggest_categorical('optimizer', ['adam', 'sgd']),\n",
    "        'lr': trial.suggest_float('lr', 1e-5, 1e-1, log=True),\n",
    "        'epochs': trial.suggest_int('epochs', 1, 100),\n",
    "        'batch_size': trial.suggest_categorical('batch_size', [1, 2, 4, 8, 16, 32, 64, 128, 256, 512, 1024]),\n",
    "        'classifier': False\n",
    "        }\n",
    "    model = myai.Context(myai.MultilayerPerceptronStrategy(hyper_params))\n",
    "    model.fit(data)\n",
    "    # print(model.strategy.model.eval())\n",
    "    prediction = model.predict(data_max_reg)\n",
    "    prediction = pd.DataFrame(prediction, columns=y_max_u.columns)\n",
    "    metric = metrics.Metrics()\n",
    "    metric.get_prediction_scores(prediction, data_max_reg['y_test'], threshold=threshold_max)\n",
    "    return metric.hybrid_mcc\n",
    "study = optuna.create_study(direction=\"maximize\")\n",
    "study.optimize(objective, n_trials=num_trials)\n",
    "print(\"Number of finished trials: \", len(study.trials))\n",
    "print(\"Best trial:\")\n",
    "trial = study.best_trial\n",
    "print(\"  Value: {}\".format(trial.value))\n",
    "print(\"  Params: \")\n",
    "for key, value in trial.params.items():\n",
    "    print(\"    {}: {}\".format(key, value))\n",
    "# Write the results to a csv file.\n",
    "with open(\"./hyper_params_results_mcc/params_mlp_regression_focused_max_u.csv\", \"w\") as f:\n",
    "    f.write(\"params,value\\n\")\n",
    "    for key, value in trial.params.items():\n",
    "        f.write(\"{},{}\\n\".format(key, value))\n",
    "    f.write(\"classifier,False\\n\")\n",
    "    f.write(\"value,{}\\n\".format(trial.value))"
   ]
  },
  {
   "cell_type": "markdown",
   "metadata": {},
   "source": [
    "## MLP: Regression Filtered Dataset"
   ]
  },
  {
   "cell_type": "code",
   "execution_count": 9,
   "metadata": {},
   "outputs": [
    {
     "name": "stderr",
     "output_type": "stream",
     "text": [
      "\u001b[32m[I 2022-10-11 22:16:36,405]\u001b[0m A new study created in memory with name: no-name-b0db9e35-acc7-4ff9-97a4-d22a5bf0a991\u001b[0m\n",
      "\u001b[32m[I 2022-10-11 22:20:33,090]\u001b[0m Trial 0 finished with value: 0.08350977870926284 and parameters: {'hidden_size': 41, 'n_layers': 2, 'dropout': 0.18737970739115906, 'activation': 'relu', 'optimizer': 'adam', 'lr': 0.00034457349475340126, 'epochs': 49, 'batch_size': 1024}. Best is trial 0 with value: 0.08350977870926284.\u001b[0m\n",
      "\u001b[32m[I 2022-10-11 22:24:52,189]\u001b[0m Trial 1 finished with value: 0.21788706324376234 and parameters: {'hidden_size': 85, 'n_layers': 3, 'dropout': 0.07745347417297999, 'activation': 'relu', 'optimizer': 'sgd', 'lr': 0.038919695270299384, 'epochs': 29, 'batch_size': 2}. Best is trial 1 with value: 0.21788706324376234.\u001b[0m\n",
      "\u001b[32m[I 2022-10-11 22:26:27,213]\u001b[0m Trial 2 finished with value: 0.6057057289742825 and parameters: {'hidden_size': 30, 'n_layers': 1, 'dropout': 0.026142792607936505, 'activation': 'sigmoid', 'optimizer': 'sgd', 'lr': 0.000912435841009572, 'epochs': 30, 'batch_size': 64}. Best is trial 2 with value: 0.6057057289742825.\u001b[0m\n",
      "\u001b[32m[I 2022-10-11 22:27:24,037]\u001b[0m Trial 3 finished with value: 0.15886520575381227 and parameters: {'hidden_size': 56, 'n_layers': 1, 'dropout': 0.42551497585943476, 'activation': 'tanh', 'optimizer': 'sgd', 'lr': 0.0004064306136801611, 'epochs': 16, 'batch_size': 128}. Best is trial 2 with value: 0.6057057289742825.\u001b[0m\n",
      "\u001b[32m[I 2022-10-11 22:33:03,091]\u001b[0m Trial 4 finished with value: 0.21982587056341943 and parameters: {'hidden_size': 35, 'n_layers': 3, 'dropout': 0.04062058868425117, 'activation': 'relu', 'optimizer': 'sgd', 'lr': 0.007607109074672287, 'epochs': 85, 'batch_size': 32}. Best is trial 2 with value: 0.6057057289742825.\u001b[0m\n",
      "\u001b[32m[I 2022-10-11 22:33:50,257]\u001b[0m Trial 5 finished with value: 0.0 and parameters: {'hidden_size': 13, 'n_layers': 2, 'dropout': 0.35652420447453215, 'activation': 'relu', 'optimizer': 'adam', 'lr': 0.0030728856253343906, 'epochs': 10, 'batch_size': 1024}. Best is trial 2 with value: 0.6057057289742825.\u001b[0m\n",
      "\u001b[32m[I 2022-10-11 22:35:21,746]\u001b[0m Trial 6 finished with value: 0.13533874277468425 and parameters: {'hidden_size': 6, 'n_layers': 3, 'dropout': 0.23320728105150096, 'activation': 'relu', 'optimizer': 'adam', 'lr': 2.3338501316634688e-05, 'epochs': 20, 'batch_size': 32}. Best is trial 2 with value: 0.6057057289742825.\u001b[0m\n",
      "\u001b[32m[I 2022-10-11 22:36:21,591]\u001b[0m Trial 7 finished with value: 0.2075813385859613 and parameters: {'hidden_size': 82, 'n_layers': 1, 'dropout': 0.2066651651696878, 'activation': 'relu', 'optimizer': 'adam', 'lr': 7.323769798900704e-05, 'epochs': 14, 'batch_size': 32}. Best is trial 2 with value: 0.6057057289742825.\u001b[0m\n",
      "\u001b[32m[I 2022-10-11 22:37:42,430]\u001b[0m Trial 8 finished with value: 0.13471138496234816 and parameters: {'hidden_size': 71, 'n_layers': 1, 'dropout': 0.20248732213925702, 'activation': 'relu', 'optimizer': 'sgd', 'lr': 8.75358294322595e-05, 'epochs': 27, 'batch_size': 64}. Best is trial 2 with value: 0.6057057289742825.\u001b[0m\n",
      "\u001b[32m[I 2022-10-11 22:43:29,392]\u001b[0m Trial 9 finished with value: -0.39727326174951266 and parameters: {'hidden_size': 82, 'n_layers': 2, 'dropout': 0.12604030921138754, 'activation': 'relu', 'optimizer': 'adam', 'lr': 0.02104493489570272, 'epochs': 53, 'batch_size': 16}. Best is trial 2 with value: 0.6057057289742825.\u001b[0m\n",
      "\u001b[32m[I 2022-10-11 22:46:40,684]\u001b[0m Trial 10 finished with value: 0.19994636457908646 and parameters: {'hidden_size': 23, 'n_layers': 1, 'dropout': 0.000955691841457107, 'activation': 'sigmoid', 'optimizer': 'sgd', 'lr': 0.001386596415388501, 'epochs': 97, 'batch_size': 8}. Best is trial 2 with value: 0.6057057289742825.\u001b[0m\n",
      "\u001b[32m[I 2022-10-11 22:53:16,024]\u001b[0m Trial 11 finished with value: 0.18630345267935758 and parameters: {'hidden_size': 34, 'n_layers': 3, 'dropout': 0.018335596796183323, 'activation': 'sigmoid', 'optimizer': 'sgd', 'lr': 0.008871164785763979, 'epochs': 95, 'batch_size': 64}. Best is trial 2 with value: 0.6057057289742825.\u001b[0m\n",
      "\u001b[32m[I 2022-10-11 23:01:05,847]\u001b[0m Trial 12 finished with value: 0.18059214059335954 and parameters: {'hidden_size': 55, 'n_layers': 3, 'dropout': 0.10516468818484778, 'activation': 'sigmoid', 'optimizer': 'sgd', 'lr': 0.004602149818993935, 'epochs': 73, 'batch_size': 512}. Best is trial 2 with value: 0.6057057289742825.\u001b[0m\n",
      "\u001b[32m[I 2022-10-11 23:03:17,712]\u001b[0m Trial 13 finished with value: 0.19141254930454743 and parameters: {'hidden_size': 28, 'n_layers': 2, 'dropout': 0.31506438535876646, 'activation': 'tanh', 'optimizer': 'sgd', 'lr': 0.06742262099421678, 'epochs': 43, 'batch_size': 1}. Best is trial 2 with value: 0.6057057289742825.\u001b[0m\n",
      "\u001b[32m[I 2022-10-11 23:07:11,461]\u001b[0m Trial 14 finished with value: 0.1656683019618473 and parameters: {'hidden_size': 41, 'n_layers': 2, 'dropout': 0.05958716756615209, 'activation': 'sigmoid', 'optimizer': 'sgd', 'lr': 0.0010921114112682148, 'epochs': 77, 'batch_size': 4}. Best is trial 2 with value: 0.6057057289742825.\u001b[0m\n",
      "\u001b[32m[I 2022-10-11 23:09:27,565]\u001b[0m Trial 15 finished with value: 0.18779272327848 and parameters: {'hidden_size': 18, 'n_layers': 1, 'dropout': 0.14108065647949225, 'activation': 'sigmoid', 'optimizer': 'sgd', 'lr': 0.011230558347561294, 'epochs': 67, 'batch_size': 256}. Best is trial 2 with value: 0.6057057289742825.\u001b[0m\n",
      "\u001b[32m[I 2022-10-11 23:11:14,701]\u001b[0m Trial 16 finished with value: 0.104924412873679 and parameters: {'hidden_size': 1, 'n_layers': 3, 'dropout': 0.4883042502857427, 'activation': 'tanh', 'optimizer': 'sgd', 'lr': 0.0003290744543562588, 'epochs': 39, 'batch_size': 64}. Best is trial 2 with value: 0.6057057289742825.\u001b[0m\n",
      "\u001b[32m[I 2022-10-11 23:14:48,032]\u001b[0m Trial 17 finished with value: 0.18081307018046583 and parameters: {'hidden_size': 64, 'n_layers': 2, 'dropout': 0.2917838501048519, 'activation': 'sigmoid', 'optimizer': 'sgd', 'lr': 0.0038202816304796195, 'epochs': 63, 'batch_size': 32}. Best is trial 2 with value: 0.6057057289742825.\u001b[0m\n",
      "\u001b[32m[I 2022-10-11 23:15:08,277]\u001b[0m Trial 18 finished with value: 0.07422794925120703 and parameters: {'hidden_size': 45, 'n_layers': 3, 'dropout': 0.04401838152421127, 'activation': 'sigmoid', 'optimizer': 'sgd', 'lr': 1.0132915017967236e-05, 'epochs': 1, 'batch_size': 16}. Best is trial 2 with value: 0.6057057289742825.\u001b[0m\n",
      "\u001b[32m[I 2022-10-11 23:18:33,316]\u001b[0m Trial 19 finished with value: 0.22836352735854343 and parameters: {'hidden_size': 28, 'n_layers': 1, 'dropout': 0.1493678179690448, 'activation': 'tanh', 'optimizer': 'sgd', 'lr': 0.0017168203290825062, 'epochs': 81, 'batch_size': 2}. Best is trial 2 with value: 0.6057057289742825.\u001b[0m\n",
      "\u001b[32m[I 2022-10-11 23:20:25,686]\u001b[0m Trial 20 finished with value: 0.13061646064075583 and parameters: {'hidden_size': 12, 'n_layers': 1, 'dropout': 0.16971791169262257, 'activation': 'tanh', 'optimizer': 'sgd', 'lr': 0.00012168120182715527, 'epochs': 57, 'batch_size': 2}. Best is trial 2 with value: 0.6057057289742825.\u001b[0m\n",
      "\u001b[32m[I 2022-10-11 23:23:52,706]\u001b[0m Trial 21 finished with value: 0.2250660029177369 and parameters: {'hidden_size': 99, 'n_layers': 1, 'dropout': 0.10100105147367472, 'activation': 'tanh', 'optimizer': 'sgd', 'lr': 0.002268467394629189, 'epochs': 86, 'batch_size': 2}. Best is trial 2 with value: 0.6057057289742825.\u001b[0m\n",
      "\u001b[32m[I 2022-10-11 23:27:31,642]\u001b[0m Trial 22 finished with value: 0.24573061406441093 and parameters: {'hidden_size': 100, 'n_layers': 1, 'dropout': 0.0928783603684463, 'activation': 'tanh', 'optimizer': 'sgd', 'lr': 0.001490119135411451, 'epochs': 90, 'batch_size': 2}. Best is trial 2 with value: 0.6057057289742825.\u001b[0m\n",
      "\u001b[32m[I 2022-10-11 23:30:46,290]\u001b[0m Trial 23 finished with value: 0.3966275073124518 and parameters: {'hidden_size': 98, 'n_layers': 1, 'dropout': 0.14696899384839698, 'activation': 'tanh', 'optimizer': 'sgd', 'lr': 0.0006351121465993762, 'epochs': 83, 'batch_size': 2}. Best is trial 2 with value: 0.6057057289742825.\u001b[0m\n",
      "\u001b[32m[I 2022-10-11 23:34:27,733]\u001b[0m Trial 24 finished with value: -0.32922898671581874 and parameters: {'hidden_size': 98, 'n_layers': 1, 'dropout': 0.08360638956688063, 'activation': 'tanh', 'optimizer': 'sgd', 'lr': 0.0005680789684479877, 'epochs': 89, 'batch_size': 2}. Best is trial 2 with value: 0.6057057289742825.\u001b[0m\n",
      "\u001b[32m[I 2022-10-11 23:36:06,891]\u001b[0m Trial 25 finished with value: -0.06978729548857246 and parameters: {'hidden_size': 89, 'n_layers': 1, 'dropout': 0.2636236965577108, 'activation': 'tanh', 'optimizer': 'sgd', 'lr': 0.0006942734024670129, 'epochs': 36, 'batch_size': 512}. Best is trial 2 with value: 0.6057057289742825.\u001b[0m\n",
      "\u001b[32m[I 2022-10-11 23:39:42,525]\u001b[0m Trial 26 finished with value: 0.0 and parameters: {'hidden_size': 72, 'n_layers': 1, 'dropout': 0.11898018073412635, 'activation': 'tanh', 'optimizer': 'adam', 'lr': 0.00020574101526620015, 'epochs': 72, 'batch_size': 8}. Best is trial 2 with value: 0.6057057289742825.\u001b[0m\n",
      "\u001b[32m[I 2022-10-11 23:43:40,730]\u001b[0m Trial 27 finished with value: 0.25371102307270876 and parameters: {'hidden_size': 91, 'n_layers': 1, 'dropout': 0.0031500543202672357, 'activation': 'tanh', 'optimizer': 'sgd', 'lr': 0.0008465594967603418, 'epochs': 100, 'batch_size': 256}. Best is trial 2 with value: 0.6057057289742825.\u001b[0m\n",
      "\u001b[32m[I 2022-10-11 23:47:38,086]\u001b[0m Trial 28 finished with value: -0.024227295074819164 and parameters: {'hidden_size': 90, 'n_layers': 1, 'dropout': 0.016033658469059436, 'activation': 'tanh', 'optimizer': 'sgd', 'lr': 0.00018105721596530736, 'epochs': 95, 'batch_size': 256}. Best is trial 2 with value: 0.6057057289742825.\u001b[0m\n",
      "\u001b[32m[I 2022-10-11 23:55:44,540]\u001b[0m Trial 29 finished with value: 0.0 and parameters: {'hidden_size': 71, 'n_layers': 2, 'dropout': 0.05485422665575612, 'activation': 'sigmoid', 'optimizer': 'adam', 'lr': 4.365902163267089e-05, 'epochs': 99, 'batch_size': 256}. Best is trial 2 with value: 0.6057057289742825.\u001b[0m\n"
     ]
    },
    {
     "name": "stdout",
     "output_type": "stream",
     "text": [
      "Number of finished trials:  30\n",
      "Best trial:\n",
      "  Value: 0.6057057289742825\n",
      "  Params: \n",
      "    hidden_size: 30\n",
      "    n_layers: 1\n",
      "    dropout: 0.026142792607936505\n",
      "    activation: sigmoid\n",
      "    optimizer: sgd\n",
      "    lr: 0.000912435841009572\n",
      "    epochs: 30\n",
      "    batch_size: 64\n"
     ]
    },
    {
     "data": {
      "image/png": "[encoded data removed]",
      "text/plain": [
       "<Figure size 432x288 with 1 Axes>"
      ]
     },
     "metadata": {
      "needs_background": "light"
     },
     "output_type": "display_data"
    }
   ],
   "source": [
    "# Build optuna objective function.\n",
    "import optuna\n",
    "import sklearn \n",
    "\n",
    "def objective(trial):\n",
    "    # Data loading\n",
    "    y_max_u = pd.read_csv('..\\data\\ground_truth\\\\res_bus_vm_pu_max_constr.csv').drop(columns='timestamps')\n",
    "    y_max_u = y_max_u[utils.cols_with_positive_values(y_max_u)]\n",
    "    exogenous_data = pd.read_csv('..\\data\\processed\\production\\exogenous_data_extended.csv').drop(columns=['date'])\n",
    "    X_max_u_train, X_max_u_test, y_max_u_train, y_max_u_test, scaler = utils.split_and_suffle(exogenous_data, y_max_u, test_size=0.2, scaling=True)\n",
    "    data = {'X_train':X_max_u_train.astype(float),\n",
    "            'X_test': X_max_u_test.astype(float),\n",
    "            'y_train':y_max_u_train.astype(float),\n",
    "            'y_test': y_max_u_test.astype(float)\n",
    "        }\n",
    "    # Dataset object creation\n",
    "    _dataset = myai.ThesisDataset(data)\n",
    "    hyper_params = {\n",
    "        'input_size': _dataset.X.shape[1],\n",
    "        'hidden_size': trial.suggest_int('hidden_size', 1, 100),\n",
    "        'output_size': _dataset.y.shape[1],\n",
    "        'n_layers': trial.suggest_int('n_layers', 1, 3),\n",
    "        'dropout': trial.suggest_float('dropout', 0.0, 0.5),\n",
    "        'activation': trial.suggest_categorical('activation', ['relu', 'tanh', 'sigmoid']),\n",
    "        'optimizer': trial.suggest_categorical('optimizer', ['adam', 'sgd']),\n",
    "        'lr': trial.suggest_float('lr', 1e-5, 1e-1, log=True),\n",
    "        'epochs': trial.suggest_int('epochs', 1, 100),\n",
    "        'batch_size': trial.suggest_categorical('batch_size', [1, 2, 4, 8, 16, 32, 64, 128, 256, 512, 1024]),\n",
    "        'classifier': False\n",
    "        }\n",
    "    model = myai.Context(myai.MultilayerPerceptronStrategy(hyper_params))\n",
    "    model.fit(data)\n",
    "    prediction = model.predict(data_max_reg)\n",
    "    prediction = pd.DataFrame(prediction, columns=y_max_u.columns)\n",
    "    metric = metrics.Metrics()\n",
    "    metric.get_prediction_scores(prediction, data_max_reg['y_test'][prediction.columns], threshold=threshold_max)\n",
    "    return metric.hybrid_mcc\n",
    "study = optuna.create_study(direction=\"maximize\")\n",
    "study.optimize(objective, n_trials=num_trials)\n",
    "print(\"Number of finished trials: \", len(study.trials))\n",
    "print(\"Best trial:\")\n",
    "trial = study.best_trial\n",
    "print(\"  Value: {}\".format(trial.value))\n",
    "print(\"  Params: \")\n",
    "for key, value in trial.params.items():\n",
    "    print(\"    {}: {}\".format(key, value))\n",
    "# Write the results to a csv file.\n",
    "with open(\"./hyper_params_results_mcc/params_mlp_regression_filtered_max_u.csv\", \"w\") as f:\n",
    "    f.write(\"params,value\\n\")\n",
    "    for key, value in trial.params.items():\n",
    "        f.write(\"{},{}\\n\".format(key, value))\n",
    "    f.write(\"classifier,False\\n\")\n",
    "    f.write(\"value,{}\\n\".format(trial.value))"
   ]
  },
  {
   "cell_type": "markdown",
   "metadata": {},
   "source": [
    "# Min u"
   ]
  },
  {
   "cell_type": "markdown",
   "metadata": {},
   "source": [
    "## MLP: Sparse Classification Dataset"
   ]
  },
  {
   "cell_type": "code",
   "execution_count": 10,
   "metadata": {},
   "outputs": [
    {
     "name": "stderr",
     "output_type": "stream",
     "text": [
      "\u001b[32m[I 2022-10-11 23:55:44,793]\u001b[0m A new study created in memory with name: no-name-ca8b8744-42f4-4848-aa54-8850fbc5432c\u001b[0m\n",
      "\u001b[32m[I 2022-10-11 23:55:54,123]\u001b[0m Trial 0 finished with value: 0.17049753398494594 and parameters: {'hidden_size': 16, 'n_layers': 2, 'dropout': 0.06435535317685281, 'activation': 'relu', 'optimizer': 'adam', 'lr': 0.03939901468037142, 'epochs': 3, 'batch_size': 256}. Best is trial 0 with value: 0.17049753398494594.\u001b[0m\n",
      "\u001b[32m[I 2022-10-12 00:06:12,839]\u001b[0m Trial 1 finished with value: 0.19951311573318037 and parameters: {'hidden_size': 87, 'n_layers': 3, 'dropout': 0.13748487887420796, 'activation': 'relu', 'optimizer': 'adam', 'lr': 1.0498473255119416e-05, 'epochs': 98, 'batch_size': 64}. Best is trial 1 with value: 0.19951311573318037.\u001b[0m\n",
      "\u001b[32m[I 2022-10-12 00:06:41,992]\u001b[0m Trial 2 finished with value: 0.17819032099254267 and parameters: {'hidden_size': 61, 'n_layers': 2, 'dropout': 0.28325942382445835, 'activation': 'sigmoid', 'optimizer': 'adam', 'lr': 0.0030025693732338445, 'epochs': 8, 'batch_size': 1}. Best is trial 1 with value: 0.19951311573318037.\u001b[0m\n",
      "\u001b[32m[I 2022-10-12 00:07:59,823]\u001b[0m Trial 3 finished with value: 0.1359866045628973 and parameters: {'hidden_size': 64, 'n_layers': 2, 'dropout': 0.42489763098833355, 'activation': 'relu', 'optimizer': 'adam', 'lr': 0.048832891298903267, 'epochs': 19, 'batch_size': 256}. Best is trial 1 with value: 0.19951311573318037.\u001b[0m\n",
      "\u001b[32m[I 2022-10-12 00:12:02,146]\u001b[0m Trial 4 finished with value: 0.1964075910007607 and parameters: {'hidden_size': 39, 'n_layers': 2, 'dropout': 0.13020607332057477, 'activation': 'tanh', 'optimizer': 'adam', 'lr': 6.0439926296238655e-05, 'epochs': 67, 'batch_size': 64}. Best is trial 1 with value: 0.19951311573318037.\u001b[0m\n",
      "\u001b[32m[I 2022-10-12 00:16:00,056]\u001b[0m Trial 5 finished with value: 0.18996786471414023 and parameters: {'hidden_size': 94, 'n_layers': 3, 'dropout': 0.3936428413268505, 'activation': 'sigmoid', 'optimizer': 'adam', 'lr': 0.01067033961401275, 'epochs': 42, 'batch_size': 4}. Best is trial 1 with value: 0.19951311573318037.\u001b[0m\n",
      "\u001b[32m[I 2022-10-12 00:19:03,674]\u001b[0m Trial 6 finished with value: 0.0834967043914967 and parameters: {'hidden_size': 51, 'n_layers': 3, 'dropout': 0.2436966182437189, 'activation': 'relu', 'optimizer': 'sgd', 'lr': 2.3917706295962642e-05, 'epochs': 55, 'batch_size': 128}. Best is trial 1 with value: 0.19951311573318037.\u001b[0m\n",
      "\u001b[32m[I 2022-10-12 00:20:02,149]\u001b[0m Trial 7 finished with value: 0.1567812004087211 and parameters: {'hidden_size': 91, 'n_layers': 2, 'dropout': 0.433730608259993, 'activation': 'tanh', 'optimizer': 'sgd', 'lr': 0.008185424410842197, 'epochs': 21, 'batch_size': 16}. Best is trial 1 with value: 0.19951311573318037.\u001b[0m\n",
      "\u001b[32m[I 2022-10-12 00:22:52,235]\u001b[0m Trial 8 finished with value: 0.14061542262603827 and parameters: {'hidden_size': 37, 'n_layers': 1, 'dropout': 0.1307277425760765, 'activation': 'relu', 'optimizer': 'sgd', 'lr': 5.285234537069133e-05, 'epochs': 81, 'batch_size': 16}. Best is trial 1 with value: 0.19951311573318037.\u001b[0m\n",
      "\u001b[32m[I 2022-10-12 00:28:35,779]\u001b[0m Trial 9 finished with value: 0.1331257195528069 and parameters: {'hidden_size': 55, 'n_layers': 2, 'dropout': 0.4849982531171279, 'activation': 'sigmoid', 'optimizer': 'sgd', 'lr': 2.8538058775543853e-05, 'epochs': 93, 'batch_size': 32}. Best is trial 1 with value: 0.19951311573318037.\u001b[0m\n",
      "\u001b[32m[I 2022-10-12 00:38:01,768]\u001b[0m Trial 10 finished with value: 0.2474715540854845 and parameters: {'hidden_size': 78, 'n_layers': 3, 'dropout': 0.025365607041757388, 'activation': 'relu', 'optimizer': 'adam', 'lr': 0.0003982089248796279, 'epochs': 97, 'batch_size': 512}. Best is trial 10 with value: 0.2474715540854845.\u001b[0m\n",
      "\u001b[32m[I 2022-10-12 00:47:57,317]\u001b[0m Trial 11 finished with value: 0.22503912930708206 and parameters: {'hidden_size': 80, 'n_layers': 3, 'dropout': 0.011410844170786501, 'activation': 'relu', 'optimizer': 'adam', 'lr': 0.000283954707269318, 'epochs': 100, 'batch_size': 512}. Best is trial 10 with value: 0.2474715540854845.\u001b[0m\n",
      "\u001b[32m[I 2022-10-12 00:55:47,103]\u001b[0m Trial 12 finished with value: 0.25186190444930534 and parameters: {'hidden_size': 76, 'n_layers': 3, 'dropout': 0.009010956258775578, 'activation': 'relu', 'optimizer': 'adam', 'lr': 0.0004426054149615868, 'epochs': 79, 'batch_size': 512}. Best is trial 12 with value: 0.25186190444930534.\u001b[0m\n",
      "\u001b[32m[I 2022-10-12 01:03:16,115]\u001b[0m Trial 13 finished with value: 0.2517161600510674 and parameters: {'hidden_size': 74, 'n_layers': 3, 'dropout': 0.010178390976035387, 'activation': 'relu', 'optimizer': 'adam', 'lr': 0.0003478987385086931, 'epochs': 76, 'batch_size': 512}. Best is trial 12 with value: 0.25186190444930534.\u001b[0m\n",
      "\u001b[32m[I 2022-10-12 01:06:37,473]\u001b[0m Trial 14 finished with value: 0.21968846585979557 and parameters: {'hidden_size': 70, 'n_layers': 1, 'dropout': 0.20525066853020607, 'activation': 'relu', 'optimizer': 'adam', 'lr': 0.0008609064306607082, 'epochs': 70, 'batch_size': 2}. Best is trial 12 with value: 0.25186190444930534.\u001b[0m\n",
      "\u001b[32m[I 2022-10-12 01:11:14,359]\u001b[0m Trial 15 finished with value: 0.17519682885171925 and parameters: {'hidden_size': 7, 'n_layers': 3, 'dropout': 0.08494849595603293, 'activation': 'tanh', 'optimizer': 'adam', 'lr': 0.00017060750618876257, 'epochs': 77, 'batch_size': 512}. Best is trial 12 with value: 0.25186190444930534.\u001b[0m\n",
      "\u001b[32m[I 2022-10-12 01:16:39,381]\u001b[0m Trial 16 finished with value: 0.22964588227301289 and parameters: {'hidden_size': 100, 'n_layers': 3, 'dropout': 0.31571068719742784, 'activation': 'relu', 'optimizer': 'adam', 'lr': 0.0015576009566411774, 'epochs': 48, 'batch_size': 1024}. Best is trial 12 with value: 0.25186190444930534.\u001b[0m\n",
      "\u001b[32m[I 2022-10-12 01:22:51,062]\u001b[0m Trial 17 finished with value: 0.2424612409023243 and parameters: {'hidden_size': 74, 'n_layers': 3, 'dropout': 0.008552922720801309, 'activation': 'relu', 'optimizer': 'adam', 'lr': 0.0001588837458158367, 'epochs': 62, 'batch_size': 8}. Best is trial 12 with value: 0.25186190444930534.\u001b[0m\n",
      "\u001b[32m[I 2022-10-12 01:25:42,119]\u001b[0m Trial 18 finished with value: 0.15492784497664874 and parameters: {'hidden_size': 26, 'n_layers': 1, 'dropout': 0.1903055041305286, 'activation': 'tanh', 'optimizer': 'sgd', 'lr': 0.0007321441433298136, 'epochs': 82, 'batch_size': 512}. Best is trial 12 with value: 0.25186190444930534.\u001b[0m\n",
      "\u001b[32m[I 2022-10-12 01:28:49,038]\u001b[0m Trial 19 finished with value: 0.1847604148412136 and parameters: {'hidden_size': 43, 'n_layers': 3, 'dropout': 0.07352844048552415, 'activation': 'sigmoid', 'optimizer': 'adam', 'lr': 0.003302324903677781, 'epochs': 38, 'batch_size': 512}. Best is trial 12 with value: 0.25186190444930534.\u001b[0m\n",
      "\u001b[32m[I 2022-10-12 01:37:35,966]\u001b[0m Trial 20 finished with value: 0.22067758218990527 and parameters: {'hidden_size': 83, 'n_layers': 3, 'dropout': 0.18501481882712412, 'activation': 'relu', 'optimizer': 'adam', 'lr': 8.536656203260868e-05, 'epochs': 90, 'batch_size': 1024}. Best is trial 12 with value: 0.25186190444930534.\u001b[0m\n",
      "\u001b[32m[I 2022-10-12 01:46:22,565]\u001b[0m Trial 21 finished with value: 0.2565751867083222 and parameters: {'hidden_size': 74, 'n_layers': 3, 'dropout': 0.007771775886303526, 'activation': 'relu', 'optimizer': 'adam', 'lr': 0.00040146929650186966, 'epochs': 88, 'batch_size': 512}. Best is trial 21 with value: 0.2565751867083222.\u001b[0m\n",
      "\u001b[32m[I 2022-10-12 01:54:44,952]\u001b[0m Trial 22 finished with value: 0.277318282293507 and parameters: {'hidden_size': 67, 'n_layers': 3, 'dropout': 0.05278884826693009, 'activation': 'relu', 'optimizer': 'adam', 'lr': 0.0004383841784714103, 'epochs': 86, 'batch_size': 512}. Best is trial 22 with value: 0.277318282293507.\u001b[0m\n",
      "\u001b[32m[I 2022-10-12 02:03:53,744]\u001b[0m Trial 23 finished with value: 0.22994836326996834 and parameters: {'hidden_size': 62, 'n_layers': 3, 'dropout': 0.0574792684294953, 'activation': 'relu', 'optimizer': 'adam', 'lr': 0.0007514171466675417, 'epochs': 87, 'batch_size': 512}. Best is trial 22 with value: 0.277318282293507.\u001b[0m\n",
      "\u001b[32m[I 2022-10-12 02:11:16,049]\u001b[0m Trial 24 finished with value: 0.2267740527922413 and parameters: {'hidden_size': 68, 'n_layers': 2, 'dropout': 0.10969684246042047, 'activation': 'relu', 'optimizer': 'adam', 'lr': 0.0015685766926822743, 'epochs': 86, 'batch_size': 32}. Best is trial 22 with value: 0.277318282293507.\u001b[0m\n",
      "\u001b[32m[I 2022-10-12 02:19:03,046]\u001b[0m Trial 25 finished with value: 0.21339470238657723 and parameters: {'hidden_size': 55, 'n_layers': 3, 'dropout': 0.044221393844771396, 'activation': 'relu', 'optimizer': 'adam', 'lr': 0.00022472435325552763, 'epochs': 71, 'batch_size': 8}. Best is trial 22 with value: 0.277318282293507.\u001b[0m\n",
      "\u001b[32m[I 2022-10-12 02:22:31,857]\u001b[0m Trial 26 finished with value: 0.09605248867820147 and parameters: {'hidden_size': 46, 'n_layers': 3, 'dropout': 0.09620860489016844, 'activation': 'relu', 'optimizer': 'sgd', 'lr': 0.00010076343645082821, 'epochs': 60, 'batch_size': 2}. Best is trial 22 with value: 0.277318282293507.\u001b[0m\n",
      "\u001b[32m[I 2022-10-12 02:28:54,375]\u001b[0m Trial 27 finished with value: 0.23681925608017412 and parameters: {'hidden_size': 84, 'n_layers': 2, 'dropout': 0.0422661733778887, 'activation': 'relu', 'optimizer': 'adam', 'lr': 0.0005418745759620609, 'epochs': 75, 'batch_size': 128}. Best is trial 22 with value: 0.277318282293507.\u001b[0m\n",
      "\u001b[32m[I 2022-10-12 02:38:07,870]\u001b[0m Trial 28 finished with value: 0.19509194481697814 and parameters: {'hidden_size': 69, 'n_layers': 3, 'dropout': 0.16154624866972755, 'activation': 'tanh', 'optimizer': 'adam', 'lr': 0.0019709109754743543, 'epochs': 90, 'batch_size': 4}. Best is trial 22 with value: 0.277318282293507.\u001b[0m\n",
      "\u001b[32m[I 2022-10-12 02:45:02,223]\u001b[0m Trial 29 finished with value: 0.19431128066282088 and parameters: {'hidden_size': 100, 'n_layers': 2, 'dropout': 0.0642011966838984, 'activation': 'sigmoid', 'optimizer': 'adam', 'lr': 0.005582367441954609, 'epochs': 82, 'batch_size': 1}. Best is trial 22 with value: 0.277318282293507.\u001b[0m\n"
     ]
    },
    {
     "name": "stdout",
     "output_type": "stream",
     "text": [
      "Number of finished trials:  30\n",
      "Best trial:\n",
      "  Value: 0.277318282293507\n",
      "  Params: \n",
      "    hidden_size: 67\n",
      "    n_layers: 3\n",
      "    dropout: 0.05278884826693009\n",
      "    activation: relu\n",
      "    optimizer: adam\n",
      "    lr: 0.0004383841784714103\n",
      "    epochs: 86\n",
      "    batch_size: 512\n"
     ]
    },
    {
     "data": {
      "image/png": "[encoded data removed]",
      "text/plain": [
       "<Figure size 432x288 with 1 Axes>"
      ]
     },
     "metadata": {
      "needs_background": "light"
     },
     "output_type": "display_data"
    }
   ],
   "source": [
    "# Build optuna objective function.\n",
    "import optuna\n",
    "import sklearn \n",
    "\n",
    "def objective(trial):\n",
    "    # Data loading\n",
    "    y_min_u_bool = pd.read_csv('..\\data\\ground_truth\\\\res_bus_vm_pu_min_sparse_bool_constr.csv').drop(columns='timestamps')\n",
    "    exogenous_data = pd.read_csv('..\\data\\processed\\production\\exogenous_data_extended.csv').drop(columns=['date'])\n",
    "    X_min_u_bool_train, X_min_u_bool_test, y_min_u_bool_train, y_min_u_bool_test, scaler = utils.split_and_suffle(exogenous_data, y_min_u_bool[utils.cols_with_positive_values(y_min_u_bool)], test_size=0.2, scaling=True)\n",
    "    data = {'X_train':X_min_u_bool_train.astype(float),\n",
    "            'X_test': X_min_u_bool_test.astype(float),\n",
    "            'y_train':y_min_u_bool_train.astype(float),\n",
    "            'y_test': y_min_u_bool_test.astype(float)\n",
    "        }\n",
    "    # Dataset object creation\n",
    "    _dataset = myai.ThesisDataset(data)\n",
    "    hyper_params = {\n",
    "        'input_size': _dataset.X.shape[1],\n",
    "        'hidden_size': trial.suggest_int('hidden_size', 1, 100),\n",
    "        'output_size': _dataset.y.shape[1],\n",
    "        'n_layers': trial.suggest_int('n_layers', 1, 3),\n",
    "        'dropout': trial.suggest_float('dropout', 0.0, 0.5),\n",
    "        'activation': trial.suggest_categorical('activation', ['relu', 'tanh', 'sigmoid']),\n",
    "        'optimizer': trial.suggest_categorical('optimizer', ['adam', 'sgd']),\n",
    "        'lr': trial.suggest_float('lr', 1e-5, 1e-1, log=True),\n",
    "        'epochs': trial.suggest_int('epochs', 1, 100),\n",
    "        'batch_size': trial.suggest_categorical('batch_size', [1, 2, 4, 8, 16, 32, 64, 128, 256, 512, 1024]),\n",
    "        'classifier': True\n",
    "        }\n",
    "    model = myai.Context(myai.MultilayerPerceptronStrategy(hyper_params))\n",
    "    model.fit(data)\n",
    "    prediction = model.predict(data_min_class)       \n",
    "    prediction = pd.DataFrame(prediction, columns=utils.cols_with_positive_values(y_min_u_bool))\n",
    "    tp, tn, fp, fn = 0, 0, 0, 0\n",
    "    for bus in prediction.columns:\n",
    "        tp += sum((prediction[bus] == 1) & (data_min_class['y_test'][bus] == 1))\n",
    "        tn += sum((prediction[bus] == 0) & (data_min_class['y_test'][bus] == 0))\n",
    "        fp += sum((prediction[bus] == 1) & (data_min_class['y_test'][bus] == 0))\n",
    "        fn += sum((prediction[bus] == 0) & (data_min_class['y_test'][bus] == 1))\n",
    "    mcc_score = (tp*tn - fp*fn) / np.sqrt((tp+fp)*(tp+fn)*(tn+fp)*(tn+fn))\n",
    "    return mcc_score\n",
    "study = optuna.create_study(direction=\"maximize\")\n",
    "study.optimize(objective, n_trials=num_trials)\n",
    "print(\"Number of finished trials: \", len(study.trials))\n",
    "print(\"Best trial:\")\n",
    "trial = study.best_trial\n",
    "print(\"  Value: {}\".format(trial.value))\n",
    "print(\"  Params: \")\n",
    "for key, value in trial.params.items():\n",
    "    print(\"    {}: {}\".format(key, value))\n",
    "# Write the results to a csv file.\n",
    "with open(\"./hyper_params_results_mcc/params_mlp_sparse_classifier_min_u.csv\", \"w\") as f:\n",
    "    f.write(\"params,value\\n\")\n",
    "    for key, value in trial.params.items():\n",
    "        f.write(\"{},{}\\n\".format(key, value))\n",
    "    f.write(\"classifier,True\\n\")\n",
    "    f.write(\"value,{}\\n\".format(trial.value))"
   ]
  },
  {
   "cell_type": "markdown",
   "metadata": {},
   "source": [
    "## MLP: Balanced Classification Dataset"
   ]
  },
  {
   "cell_type": "code",
   "execution_count": 11,
   "metadata": {},
   "outputs": [
    {
     "name": "stderr",
     "output_type": "stream",
     "text": [
      "\u001b[32m[I 2022-10-12 02:45:02,657]\u001b[0m A new study created in memory with name: no-name-5e153e7c-9819-4d86-aad4-96523a394f64\u001b[0m\n",
      "\u001b[32m[I 2022-10-12 02:45:56,363]\u001b[0m Trial 0 finished with value: 0.2304077262017171 and parameters: {'hidden_size': 30, 'n_layers': 1, 'dropout': 0.4152657834564196, 'activation': 'sigmoid', 'optimizer': 'adam', 'lr': 0.062032037432359084, 'epochs': 62, 'batch_size': 256}. Best is trial 0 with value: 0.2304077262017171.\u001b[0m\n",
      "\u001b[32m[I 2022-10-12 02:48:19,871]\u001b[0m Trial 1 finished with value: 0.2029832252293598 and parameters: {'hidden_size': 53, 'n_layers': 3, 'dropout': 0.05286335288910249, 'activation': 'tanh', 'optimizer': 'adam', 'lr': 7.682456107663536e-05, 'epochs': 100, 'batch_size': 16}. Best is trial 0 with value: 0.2304077262017171.\u001b[0m\n",
      "\u001b[32m[I 2022-10-12 02:48:43,520]\u001b[0m Trial 2 finished with value: 0.15407385502185547 and parameters: {'hidden_size': 59, 'n_layers': 2, 'dropout': 0.2713086038895366, 'activation': 'relu', 'optimizer': 'sgd', 'lr': 0.06700908429376028, 'epochs': 23, 'batch_size': 1024}. Best is trial 0 with value: 0.2304077262017171.\u001b[0m\n",
      "\u001b[32m[I 2022-10-12 02:49:05,360]\u001b[0m Trial 3 finished with value: 0.06841330261753863 and parameters: {'hidden_size': 61, 'n_layers': 3, 'dropout': 0.42213962070617245, 'activation': 'relu', 'optimizer': 'sgd', 'lr': 7.390431588882899e-05, 'epochs': 21, 'batch_size': 1}. Best is trial 0 with value: 0.2304077262017171.\u001b[0m\n",
      "\u001b[32m[I 2022-10-12 02:50:52,120]\u001b[0m Trial 4 finished with value: 0.1568366958486599 and parameters: {'hidden_size': 56, 'n_layers': 2, 'dropout': 0.09689103969902829, 'activation': 'tanh', 'optimizer': 'sgd', 'lr': 0.003549620868382006, 'epochs': 92, 'batch_size': 128}. Best is trial 0 with value: 0.2304077262017171.\u001b[0m\n",
      "\u001b[32m[I 2022-10-12 02:51:37,352]\u001b[0m Trial 5 finished with value: 0.15783867534737617 and parameters: {'hidden_size': 54, 'n_layers': 3, 'dropout': 0.1503578236085395, 'activation': 'sigmoid', 'optimizer': 'adam', 'lr': 1.4039440360205561e-05, 'epochs': 27, 'batch_size': 2}. Best is trial 0 with value: 0.2304077262017171.\u001b[0m\n",
      "\u001b[32m[I 2022-10-12 02:52:20,453]\u001b[0m Trial 6 finished with value: 0.1556180247135245 and parameters: {'hidden_size': 17, 'n_layers': 3, 'dropout': 0.4126808829570308, 'activation': 'relu', 'optimizer': 'adam', 'lr': 2.47012594408279e-05, 'epochs': 38, 'batch_size': 512}. Best is trial 0 with value: 0.2304077262017171.\u001b[0m\n",
      "\u001b[32m[I 2022-10-12 02:52:40,801]\u001b[0m Trial 7 finished with value: 0.055737860732726525 and parameters: {'hidden_size': 2, 'n_layers': 3, 'dropout': 0.06862866021579023, 'activation': 'relu', 'optimizer': 'sgd', 'lr': 7.321618684846582e-05, 'epochs': 27, 'batch_size': 512}. Best is trial 0 with value: 0.2304077262017171.\u001b[0m\n",
      "\u001b[32m[I 2022-10-12 02:53:43,058]\u001b[0m Trial 8 finished with value: 0.15560404861439597 and parameters: {'hidden_size': 44, 'n_layers': 3, 'dropout': 0.4141565916340562, 'activation': 'tanh', 'optimizer': 'sgd', 'lr': 0.00020406593352833357, 'epochs': 65, 'batch_size': 1024}. Best is trial 0 with value: 0.2304077262017171.\u001b[0m\n",
      "\u001b[32m[I 2022-10-12 02:54:11,504]\u001b[0m Trial 9 finished with value: 0.152255317866966 and parameters: {'hidden_size': 6, 'n_layers': 1, 'dropout': 0.13275597517578752, 'activation': 'relu', 'optimizer': 'sgd', 'lr': 0.0408171344389242, 'epochs': 50, 'batch_size': 256}. Best is trial 0 with value: 0.2304077262017171.\u001b[0m\n",
      "\u001b[32m[I 2022-10-12 02:55:14,339]\u001b[0m Trial 10 finished with value: 0.24137876483106438 and parameters: {'hidden_size': 96, 'n_layers': 1, 'dropout': 0.30195078150700194, 'activation': 'sigmoid', 'optimizer': 'adam', 'lr': 0.005006824042543569, 'epochs': 69, 'batch_size': 64}. Best is trial 10 with value: 0.24137876483106438.\u001b[0m\n",
      "\u001b[32m[I 2022-10-12 02:56:22,104]\u001b[0m Trial 11 finished with value: 0.2391984004979868 and parameters: {'hidden_size': 92, 'n_layers': 1, 'dropout': 0.2997329927135936, 'activation': 'sigmoid', 'optimizer': 'adam', 'lr': 0.007134615988427537, 'epochs': 72, 'batch_size': 64}. Best is trial 10 with value: 0.24137876483106438.\u001b[0m\n",
      "\u001b[32m[I 2022-10-12 02:57:31,295]\u001b[0m Trial 12 finished with value: 0.23989218853827668 and parameters: {'hidden_size': 100, 'n_layers': 1, 'dropout': 0.29510899595024326, 'activation': 'sigmoid', 'optimizer': 'adam', 'lr': 0.005427594552921637, 'epochs': 77, 'batch_size': 64}. Best is trial 10 with value: 0.24137876483106438.\u001b[0m\n",
      "\u001b[32m[I 2022-10-12 02:58:36,499]\u001b[0m Trial 13 finished with value: 0.2062180975818487 and parameters: {'hidden_size': 98, 'n_layers': 1, 'dropout': 0.3205174300674361, 'activation': 'sigmoid', 'optimizer': 'adam', 'lr': 0.0014062387654108796, 'epochs': 80, 'batch_size': 64}. Best is trial 10 with value: 0.24137876483106438.\u001b[0m\n",
      "\u001b[32m[I 2022-10-12 03:00:04,261]\u001b[0m Trial 14 finished with value: 0.2189870042625136 and parameters: {'hidden_size': 82, 'n_layers': 2, 'dropout': 0.2190937278483793, 'activation': 'sigmoid', 'optimizer': 'adam', 'lr': 0.012111750481908818, 'epochs': 82, 'batch_size': 8}. Best is trial 10 with value: 0.24137876483106438.\u001b[0m\n",
      "\u001b[32m[I 2022-10-12 03:00:08,739]\u001b[0m Trial 15 finished with value: 0.15334702808569892 and parameters: {'hidden_size': 76, 'n_layers': 1, 'dropout': 0.20255590634278037, 'activation': 'sigmoid', 'optimizer': 'adam', 'lr': 0.0007884355590088402, 'epochs': 5, 'batch_size': 32}. Best is trial 10 with value: 0.24137876483106438.\u001b[0m\n",
      "\u001b[32m[I 2022-10-12 03:00:53,112]\u001b[0m Trial 16 finished with value: 0.23208049200485129 and parameters: {'hidden_size': 80, 'n_layers': 1, 'dropout': 0.32183114286261283, 'activation': 'sigmoid', 'optimizer': 'adam', 'lr': 0.01546976881405145, 'epochs': 52, 'batch_size': 4}. Best is trial 10 with value: 0.24137876483106438.\u001b[0m\n",
      "\u001b[32m[I 2022-10-12 03:02:24,949]\u001b[0m Trial 17 finished with value: 0.1861285942660452 and parameters: {'hidden_size': 90, 'n_layers': 2, 'dropout': 0.3430373505986113, 'activation': 'sigmoid', 'optimizer': 'adam', 'lr': 0.0012549264895216417, 'epochs': 84, 'batch_size': 64}. Best is trial 10 with value: 0.24137876483106438.\u001b[0m\n",
      "\u001b[32m[I 2022-10-12 03:03:21,212]\u001b[0m Trial 18 finished with value: 0.19173013261038574 and parameters: {'hidden_size': 70, 'n_layers': 2, 'dropout': 0.47796794307030344, 'activation': 'sigmoid', 'optimizer': 'adam', 'lr': 0.003473691852931468, 'epochs': 54, 'batch_size': 64}. Best is trial 10 with value: 0.24137876483106438.\u001b[0m\n",
      "\u001b[32m[I 2022-10-12 03:04:17,641]\u001b[0m Trial 19 finished with value: 0.17555468589642734 and parameters: {'hidden_size': 100, 'n_layers': 1, 'dropout': 0.22975560908236464, 'activation': 'sigmoid', 'optimizer': 'adam', 'lr': 0.00035867630615067316, 'epochs': 71, 'batch_size': 64}. Best is trial 10 with value: 0.24137876483106438.\u001b[0m\n",
      "\u001b[32m[I 2022-10-12 03:04:47,849]\u001b[0m Trial 20 finished with value: 0.19721073108552298 and parameters: {'hidden_size': 86, 'n_layers': 1, 'dropout': 0.007802753480436131, 'activation': 'tanh', 'optimizer': 'adam', 'lr': 0.024191856230860946, 'epochs': 40, 'batch_size': 8}. Best is trial 10 with value: 0.24137876483106438.\u001b[0m\n",
      "\u001b[32m[I 2022-10-12 03:05:46,755]\u001b[0m Trial 21 finished with value: 0.2305999950676728 and parameters: {'hidden_size': 91, 'n_layers': 1, 'dropout': 0.2790441199930404, 'activation': 'sigmoid', 'optimizer': 'adam', 'lr': 0.005590800967346435, 'epochs': 73, 'batch_size': 64}. Best is trial 10 with value: 0.24137876483106438.\u001b[0m\n",
      "\u001b[32m[I 2022-10-12 03:06:41,789]\u001b[0m Trial 22 finished with value: 0.23454407279818512 and parameters: {'hidden_size': 70, 'n_layers': 1, 'dropout': 0.3546288458190191, 'activation': 'sigmoid', 'optimizer': 'adam', 'lr': 0.009202531962859384, 'epochs': 72, 'batch_size': 64}. Best is trial 10 with value: 0.24137876483106438.\u001b[0m\n",
      "\u001b[32m[I 2022-10-12 03:07:54,256]\u001b[0m Trial 23 finished with value: 0.23066117004451683 and parameters: {'hidden_size': 100, 'n_layers': 1, 'dropout': 0.2813764736253138, 'activation': 'sigmoid', 'optimizer': 'adam', 'lr': 0.003555749046647238, 'epochs': 92, 'batch_size': 64}. Best is trial 10 with value: 0.24137876483106438.\u001b[0m\n",
      "\u001b[32m[I 2022-10-12 03:08:42,915]\u001b[0m Trial 24 finished with value: 0.2110869680141764 and parameters: {'hidden_size': 92, 'n_layers': 1, 'dropout': 0.1778701582947995, 'activation': 'sigmoid', 'optimizer': 'adam', 'lr': 0.0020163751640394057, 'epochs': 62, 'batch_size': 2}. Best is trial 10 with value: 0.24137876483106438.\u001b[0m\n",
      "\u001b[32m[I 2022-10-12 03:10:05,031]\u001b[0m Trial 25 finished with value: 0.18586351124918196 and parameters: {'hidden_size': 73, 'n_layers': 2, 'dropout': 0.35610322425173674, 'activation': 'sigmoid', 'optimizer': 'adam', 'lr': 0.000606256095474379, 'epochs': 78, 'batch_size': 1}. Best is trial 10 with value: 0.24137876483106438.\u001b[0m\n",
      "\u001b[32m[I 2022-10-12 03:11:14,764]\u001b[0m Trial 26 finished with value: 0.24376806644558535 and parameters: {'hidden_size': 93, 'n_layers': 1, 'dropout': 0.2567761330261016, 'activation': 'sigmoid', 'optimizer': 'adam', 'lr': 0.007067153262594293, 'epochs': 89, 'batch_size': 16}. Best is trial 26 with value: 0.24376806644558535.\u001b[0m\n",
      "\u001b[32m[I 2022-10-12 03:12:23,049]\u001b[0m Trial 27 finished with value: 0.22415197586102847 and parameters: {'hidden_size': 39, 'n_layers': 1, 'dropout': 0.24763265252321792, 'activation': 'sigmoid', 'optimizer': 'adam', 'lr': 0.026205219538876046, 'epochs': 90, 'batch_size': 16}. Best is trial 26 with value: 0.24376806644558535.\u001b[0m\n",
      "\u001b[32m[I 2022-10-12 03:14:06,817]\u001b[0m Trial 28 finished with value: 0.20693580364531738 and parameters: {'hidden_size': 84, 'n_layers': 2, 'dropout': 0.3751228546344809, 'activation': 'tanh', 'optimizer': 'adam', 'lr': 0.0022079238257073242, 'epochs': 100, 'batch_size': 16}. Best is trial 26 with value: 0.24376806644558535.\u001b[0m\n",
      "\u001b[32m[I 2022-10-12 03:14:53,129]\u001b[0m Trial 29 finished with value: 0.23307757980019025 and parameters: {'hidden_size': 65, 'n_layers': 1, 'dropout': 0.18397554774652802, 'activation': 'sigmoid', 'optimizer': 'adam', 'lr': 0.016169990866747235, 'epochs': 58, 'batch_size': 128}. Best is trial 26 with value: 0.24376806644558535.\u001b[0m\n"
     ]
    },
    {
     "name": "stdout",
     "output_type": "stream",
     "text": [
      "Number of finished trials:  30\n",
      "Best trial:\n",
      "  Value: 0.24376806644558535\n",
      "  Params: \n",
      "    hidden_size: 93\n",
      "    n_layers: 1\n",
      "    dropout: 0.2567761330261016\n",
      "    activation: sigmoid\n",
      "    optimizer: adam\n",
      "    lr: 0.007067153262594293\n",
      "    epochs: 89\n",
      "    batch_size: 16\n"
     ]
    },
    {
     "data": {
      "image/png": "[encoded data removed]",
      "text/plain": [
       "<Figure size 432x288 with 1 Axes>"
      ]
     },
     "metadata": {
      "needs_background": "light"
     },
     "output_type": "display_data"
    }
   ],
   "source": [
    "# Build optuna objective function.\n",
    "import optuna\n",
    "import sklearn \n",
    "\n",
    "def objective(trial):\n",
    "    # Data loading\n",
    "    y_min_u_bool = pd.read_csv('..\\data\\ground_truth\\\\res_bus_vm_pu_min_balanced_bool_constr.csv')\n",
    "    exogenous_data = pd.read_csv('..\\data\\ground_truth\\\\exogenous_data_vm_pu_min_balanced.csv').drop(columns=['date'])\n",
    "    X_max_u_bool_train, X_max_u_bool_test, y_max_u_bool_train, y_max_u_bool_test, scaler = utils.split_and_suffle(exogenous_data, y_min_u_bool[utils.cols_with_positive_values(y_min_u_bool)], test_size=0.2, scaling=True)\n",
    "    data = {'X_train':X_max_u_bool_train.astype(float),\n",
    "            'X_test': X_max_u_bool_test.astype(float),\n",
    "            'y_train':y_max_u_bool_train.astype(float),\n",
    "            'y_test': y_max_u_bool_test.astype(float)\n",
    "        }\n",
    "    # Dataset object creation\n",
    "    _dataset = myai.ThesisDataset(data)\n",
    "    hyper_params = {\n",
    "        'input_size': _dataset.X.shape[1],\n",
    "        'hidden_size': trial.suggest_int('hidden_size', 1, 100),\n",
    "        'output_size': _dataset.y.shape[1],\n",
    "        'n_layers': trial.suggest_int('n_layers', 1, 3),\n",
    "        'dropout': trial.suggest_float('dropout', 0.0, 0.5),\n",
    "        'activation': trial.suggest_categorical('activation', ['relu', 'tanh', 'sigmoid']),\n",
    "        'optimizer': trial.suggest_categorical('optimizer', ['adam', 'sgd']),\n",
    "        'lr': trial.suggest_float('lr', 1e-5, 1e-1, log=True),\n",
    "        'epochs': trial.suggest_int('epochs', 1, 100),\n",
    "        'batch_size': trial.suggest_categorical('batch_size', [1, 2, 4, 8, 16, 32, 64, 128, 256, 512, 1024]),\n",
    "        'classifier': True\n",
    "        }\n",
    "    model = myai.Context(myai.MultilayerPerceptronStrategy(hyper_params))\n",
    "    model.fit(data)\n",
    "    prediction = model.predict(data_min_class)\n",
    "    prediction = pd.DataFrame(prediction, columns=utils.cols_with_positive_values(y_min_u_bool))\n",
    "    tp, tn, fp, fn = 0, 0, 0, 0\n",
    "    for bus in prediction.columns:\n",
    "        tp += sum((prediction[bus] == 1) & (data_min_class['y_test'][bus] == 1))\n",
    "        tn += sum((prediction[bus] == 0) & (data_min_class['y_test'][bus] == 0))\n",
    "        fp += sum((prediction[bus] == 1) & (data_min_class['y_test'][bus] == 0))\n",
    "        fn += sum((prediction[bus] == 0) & (data_min_class['y_test'][bus] == 1))\n",
    "    mcc_score = (tp*tn - fp*fn) / np.sqrt((tp+fp)*(tp+fn)*(tn+fp)*(tn+fn))\n",
    "    return mcc_score\n",
    "study = optuna.create_study(direction=\"maximize\")\n",
    "study.optimize(objective, n_trials=num_trials)\n",
    "print(\"Number of finished trials: \", len(study.trials))\n",
    "print(\"Best trial:\")\n",
    "trial = study.best_trial\n",
    "print(\"  Value: {}\".format(trial.value))\n",
    "print(\"  Params: \")\n",
    "for key, value in trial.params.items():\n",
    "    print(\"    {}: {}\".format(key, value))\n",
    "# Write the results to a csv file.\n",
    "with open(\"./hyper_params_results_mcc/params_mlp_balanced_classifier_min_u.csv\", \"w\") as f:\n",
    "    f.write(\"params,value\\n\")\n",
    "    for key, value in trial.params.items():\n",
    "        f.write(\"{},{}\\n\".format(key, value))\n",
    "    f.write(\"classifier,True\\n\")\n",
    "    f.write(\"value,{}\\n\".format(trial.value))"
   ]
  },
  {
   "cell_type": "markdown",
   "metadata": {},
   "source": [
    "## MLP: Regression Sparse Dataset"
   ]
  },
  {
   "cell_type": "code",
   "execution_count": 12,
   "metadata": {},
   "outputs": [
    {
     "name": "stderr",
     "output_type": "stream",
     "text": [
      "\u001b[32m[I 2022-10-12 03:14:53,397]\u001b[0m A new study created in memory with name: no-name-70436556-6c3c-4b0c-b470-ba2073c4a3f5\u001b[0m\n",
      "\u001b[32m[I 2022-10-12 03:16:57,278]\u001b[0m Trial 0 finished with value: 0.305028785839454 and parameters: {'hidden_size': 88, 'n_layers': 1, 'dropout': 0.19921430309138527, 'activation': 'tanh', 'optimizer': 'adam', 'lr': 1.0964389357017035e-05, 'epochs': 35, 'batch_size': 64}. Best is trial 0 with value: 0.305028785839454.\u001b[0m\n",
      "\u001b[32m[I 2022-10-12 03:22:29,282]\u001b[0m Trial 1 finished with value: 0.27364510195444774 and parameters: {'hidden_size': 48, 'n_layers': 2, 'dropout': 0.08414417561464144, 'activation': 'tanh', 'optimizer': 'adam', 'lr': 0.0011332852662332667, 'epochs': 85, 'batch_size': 1024}. Best is trial 0 with value: 0.305028785839454.\u001b[0m\n",
      "\u001b[32m[I 2022-10-12 03:24:07,752]\u001b[0m Trial 2 finished with value: 0.046720398937252924 and parameters: {'hidden_size': 47, 'n_layers': 3, 'dropout': 0.22342858401774857, 'activation': 'sigmoid', 'optimizer': 'sgd', 'lr': 0.0019168079780038248, 'epochs': 16, 'batch_size': 4}. Best is trial 0 with value: 0.305028785839454.\u001b[0m\n",
      "\u001b[32m[I 2022-10-12 03:26:13,209]\u001b[0m Trial 3 finished with value: 0.3034674085919927 and parameters: {'hidden_size': 89, 'n_layers': 1, 'dropout': 0.14046678527461398, 'activation': 'tanh', 'optimizer': 'adam', 'lr': 3.87796036530241e-05, 'epochs': 27, 'batch_size': 8}. Best is trial 0 with value: 0.305028785839454.\u001b[0m\n",
      "\u001b[32m[I 2022-10-12 03:29:27,230]\u001b[0m Trial 4 finished with value: -0.06864180009305813 and parameters: {'hidden_size': 98, 'n_layers': 2, 'dropout': 0.1568262563015962, 'activation': 'sigmoid', 'optimizer': 'adam', 'lr': 0.018949339665795754, 'epochs': 32, 'batch_size': 1}. Best is trial 0 with value: 0.305028785839454.\u001b[0m\n",
      "\u001b[32m[I 2022-10-12 03:37:38,962]\u001b[0m Trial 5 finished with value: 0.14597858142707273 and parameters: {'hidden_size': 67, 'n_layers': 3, 'dropout': 0.3267466520117714, 'activation': 'relu', 'optimizer': 'adam', 'lr': 0.00015153549791005884, 'epochs': 89, 'batch_size': 2}. Best is trial 0 with value: 0.305028785839454.\u001b[0m\n",
      "\u001b[32m[I 2022-10-12 03:40:03,345]\u001b[0m Trial 6 finished with value: 0.18506275054814042 and parameters: {'hidden_size': 9, 'n_layers': 3, 'dropout': 0.31612029989168694, 'activation': 'relu', 'optimizer': 'sgd', 'lr': 0.004914515212175207, 'epochs': 52, 'batch_size': 128}. Best is trial 0 with value: 0.305028785839454.\u001b[0m\n",
      "\u001b[32m[I 2022-10-12 03:42:14,748]\u001b[0m Trial 7 finished with value: 0.1703407930460776 and parameters: {'hidden_size': 16, 'n_layers': 2, 'dropout': 0.2538322332299998, 'activation': 'sigmoid', 'optimizer': 'sgd', 'lr': 0.025631750992909826, 'epochs': 53, 'batch_size': 128}. Best is trial 0 with value: 0.305028785839454.\u001b[0m\n",
      "\u001b[32m[I 2022-10-12 03:46:16,278]\u001b[0m Trial 8 finished with value: 0.11384716682609196 and parameters: {'hidden_size': 43, 'n_layers': 2, 'dropout': 0.11162306250640225, 'activation': 'relu', 'optimizer': 'sgd', 'lr': 3.619102279488665e-05, 'epochs': 91, 'batch_size': 32}. Best is trial 0 with value: 0.305028785839454.\u001b[0m\n",
      "\u001b[32m[I 2022-10-12 03:49:42,937]\u001b[0m Trial 9 finished with value: 0.20502890274346058 and parameters: {'hidden_size': 13, 'n_layers': 2, 'dropout': 0.37961816950599203, 'activation': 'sigmoid', 'optimizer': 'adam', 'lr': 0.0027367807864912413, 'epochs': 67, 'batch_size': 2}. Best is trial 0 with value: 0.305028785839454.\u001b[0m\n",
      "\u001b[32m[I 2022-10-12 03:50:33,418]\u001b[0m Trial 10 finished with value: 0.2955282941266025 and parameters: {'hidden_size': 76, 'n_layers': 1, 'dropout': 0.49255174981924055, 'activation': 'tanh', 'optimizer': 'adam', 'lr': 1.2815443275909807e-05, 'epochs': 6, 'batch_size': 64}. Best is trial 0 with value: 0.305028785839454.\u001b[0m\n",
      "\u001b[32m[I 2022-10-12 03:52:26,682]\u001b[0m Trial 11 finished with value: 0.2899197857385744 and parameters: {'hidden_size': 99, 'n_layers': 1, 'dropout': 0.0008972174740733141, 'activation': 'tanh', 'optimizer': 'adam', 'lr': 0.00012917248356276922, 'epochs': 30, 'batch_size': 8}. Best is trial 0 with value: 0.305028785839454.\u001b[0m\n",
      "\u001b[32m[I 2022-10-12 03:54:18,972]\u001b[0m Trial 12 finished with value: 0.30473693277693953 and parameters: {'hidden_size': 81, 'n_layers': 1, 'dropout': 0.19283403924037887, 'activation': 'tanh', 'optimizer': 'adam', 'lr': 1.0462057559559604e-05, 'epochs': 31, 'batch_size': 512}. Best is trial 0 with value: 0.305028785839454.\u001b[0m\n",
      "\u001b[32m[I 2022-10-12 03:56:27,319]\u001b[0m Trial 13 finished with value: 0.2838338318982641 and parameters: {'hidden_size': 71, 'n_layers': 1, 'dropout': 0.20068557005001175, 'activation': 'tanh', 'optimizer': 'adam', 'lr': 0.0002157107607959905, 'epochs': 38, 'batch_size': 512}. Best is trial 0 with value: 0.305028785839454.\u001b[0m\n",
      "\u001b[32m[I 2022-10-12 03:59:46,563]\u001b[0m Trial 14 finished with value: 0.3048876318204881 and parameters: {'hidden_size': 83, 'n_layers': 1, 'dropout': 0.04730515475021263, 'activation': 'tanh', 'optimizer': 'adam', 'lr': 1.4397743869253319e-05, 'epochs': 66, 'batch_size': 64}. Best is trial 0 with value: 0.305028785839454.\u001b[0m\n",
      "\u001b[32m[I 2022-10-12 04:03:04,085]\u001b[0m Trial 15 finished with value: 0.2837297988210754 and parameters: {'hidden_size': 63, 'n_layers': 1, 'dropout': 0.0002703258563227784, 'activation': 'tanh', 'optimizer': 'adam', 'lr': 0.0003906226631897451, 'epochs': 67, 'batch_size': 64}. Best is trial 0 with value: 0.305028785839454.\u001b[0m\n",
      "\u001b[32m[I 2022-10-12 04:06:34,326]\u001b[0m Trial 16 finished with value: 0.2903638457741153 and parameters: {'hidden_size': 34, 'n_layers': 1, 'dropout': 0.06820849926957762, 'activation': 'tanh', 'optimizer': 'adam', 'lr': 2.8337231537019416e-05, 'epochs': 72, 'batch_size': 256}. Best is trial 0 with value: 0.305028785839454.\u001b[0m\n",
      "\u001b[32m[I 2022-10-12 04:09:04,072]\u001b[0m Trial 17 finished with value: 0.29054159376011074 and parameters: {'hidden_size': 59, 'n_layers': 1, 'dropout': 0.043627967852582966, 'activation': 'tanh', 'optimizer': 'adam', 'lr': 5.481414509373947e-05, 'epochs': 47, 'batch_size': 16}. Best is trial 0 with value: 0.305028785839454.\u001b[0m\n",
      "\u001b[32m[I 2022-10-12 04:12:43,638]\u001b[0m Trial 18 finished with value: 0.18370133405535014 and parameters: {'hidden_size': 86, 'n_layers': 1, 'dropout': 0.2803512627334907, 'activation': 'tanh', 'optimizer': 'sgd', 'lr': 0.08631951923142121, 'epochs': 100, 'batch_size': 64}. Best is trial 0 with value: 0.305028785839454.\u001b[0m\n",
      "\u001b[32m[I 2022-10-12 04:16:52,287]\u001b[0m Trial 19 finished with value: 0.12177657512418515 and parameters: {'hidden_size': 89, 'n_layers': 2, 'dropout': 0.4843976828867923, 'activation': 'relu', 'optimizer': 'adam', 'lr': 0.0003727612573867422, 'epochs': 58, 'batch_size': 64}. Best is trial 0 with value: 0.305028785839454.\u001b[0m\n",
      "\u001b[32m[I 2022-10-12 04:20:39,871]\u001b[0m Trial 20 finished with value: 0.30362704658935785 and parameters: {'hidden_size': 60, 'n_layers': 1, 'dropout': 0.4238079503129081, 'activation': 'tanh', 'optimizer': 'adam', 'lr': 1.647252459054344e-05, 'epochs': 78, 'batch_size': 64}. Best is trial 0 with value: 0.305028785839454.\u001b[0m\n",
      "\u001b[32m[I 2022-10-12 04:22:03,995]\u001b[0m Trial 21 finished with value: 0.2950698549667056 and parameters: {'hidden_size': 81, 'n_layers': 1, 'dropout': 0.18760621472668443, 'activation': 'tanh', 'optimizer': 'adam', 'lr': 1.156279792746382e-05, 'epochs': 20, 'batch_size': 512}. Best is trial 0 with value: 0.305028785839454.\u001b[0m\n",
      "\u001b[32m[I 2022-10-12 04:24:25,709]\u001b[0m Trial 22 finished with value: 0.2911238956532761 and parameters: {'hidden_size': 78, 'n_layers': 1, 'dropout': 0.1309253251771963, 'activation': 'tanh', 'optimizer': 'adam', 'lr': 6.574439538927526e-05, 'epochs': 43, 'batch_size': 512}. Best is trial 0 with value: 0.305028785839454.\u001b[0m\n",
      "\u001b[32m[I 2022-10-12 04:25:20,279]\u001b[0m Trial 23 finished with value: 0.30081475383960915 and parameters: {'hidden_size': 94, 'n_layers': 1, 'dropout': 0.18170111589439247, 'activation': 'tanh', 'optimizer': 'adam', 'lr': 1.1738193603383855e-05, 'epochs': 8, 'batch_size': 4}. Best is trial 0 with value: 0.305028785839454.\u001b[0m\n",
      "\u001b[32m[I 2022-10-12 04:27:28,919]\u001b[0m Trial 24 finished with value: 0.28379122005404195 and parameters: {'hidden_size': 83, 'n_layers': 1, 'dropout': 0.24508345327021475, 'activation': 'tanh', 'optimizer': 'adam', 'lr': 8.372342081512329e-05, 'epochs': 37, 'batch_size': 256}. Best is trial 0 with value: 0.305028785839454.\u001b[0m\n",
      "\u001b[32m[I 2022-10-12 04:31:20,240]\u001b[0m Trial 25 finished with value: 0.26797915071675443 and parameters: {'hidden_size': 72, 'n_layers': 2, 'dropout': 0.09585852735809343, 'activation': 'tanh', 'optimizer': 'adam', 'lr': 2.9826591205920434e-05, 'epochs': 59, 'batch_size': 16}. Best is trial 0 with value: 0.305028785839454.\u001b[0m\n",
      "\u001b[32m[I 2022-10-12 04:32:30,198]\u001b[0m Trial 26 finished with value: 0.08296337932109296 and parameters: {'hidden_size': 91, 'n_layers': 1, 'dropout': 0.2896259685926432, 'activation': 'tanh', 'optimizer': 'sgd', 'lr': 2.2877371814674428e-05, 'epochs': 18, 'batch_size': 32}. Best is trial 0 with value: 0.305028785839454.\u001b[0m\n",
      "\u001b[32m[I 2022-10-12 04:34:33,914]\u001b[0m Trial 27 finished with value: 0.2761924354324962 and parameters: {'hidden_size': 22, 'n_layers': 1, 'dropout': 0.05519416531637684, 'activation': 'tanh', 'optimizer': 'adam', 'lr': 0.0004942214332521222, 'epochs': 43, 'batch_size': 1}. Best is trial 0 with value: 0.305028785839454.\u001b[0m\n",
      "\u001b[32m[I 2022-10-12 04:36:24,302]\u001b[0m Trial 28 finished with value: 0.2824507580231359 and parameters: {'hidden_size': 76, 'n_layers': 2, 'dropout': 0.37864211750235854, 'activation': 'sigmoid', 'optimizer': 'adam', 'lr': 1.11570141663312e-05, 'epochs': 22, 'batch_size': 1024}. Best is trial 0 with value: 0.305028785839454.\u001b[0m\n",
      "\u001b[32m[I 2022-10-12 04:41:19,572]\u001b[0m Trial 29 finished with value: 0.1982476476239937 and parameters: {'hidden_size': 55, 'n_layers': 2, 'dropout': 0.21969684428843655, 'activation': 'relu', 'optimizer': 'adam', 'lr': 8.826519482287098e-05, 'epochs': 79, 'batch_size': 1024}. Best is trial 0 with value: 0.305028785839454.\u001b[0m\n"
     ]
    },
    {
     "name": "stdout",
     "output_type": "stream",
     "text": [
      "Number of finished trials:  30\n",
      "Best trial:\n",
      "  Value: 0.305028785839454\n",
      "  Params: \n",
      "    hidden_size: 88\n",
      "    n_layers: 1\n",
      "    dropout: 0.19921430309138527\n",
      "    activation: tanh\n",
      "    optimizer: adam\n",
      "    lr: 1.0964389357017035e-05\n",
      "    epochs: 35\n",
      "    batch_size: 64\n"
     ]
    },
    {
     "data": {
      "image/png": "[encoded data removed]",
      "text/plain": [
       "<Figure size 432x288 with 1 Axes>"
      ]
     },
     "metadata": {
      "needs_background": "light"
     },
     "output_type": "display_data"
    }
   ],
   "source": [
    "# Build optuna objective function.\n",
    "import optuna\n",
    "import sklearn \n",
    "\n",
    "def objective(trial):\n",
    "    # Data loading\n",
    "    y_min_u = pd.read_csv('..\\data\\ground_truth\\\\res_bus_vm_pu_min_constr.csv').drop(columns='timestamps')\n",
    "    exogenous_data = pd.read_csv('..\\data\\processed\\production\\exogenous_data_extended.csv').drop(columns=['date'])\n",
    "    X_min_u_train, X_min_u_test, y_min_u_train, y_min_u_test, scaler = utils.split_and_suffle(exogenous_data, y_min_u, test_size=0.2, scaling=True)\n",
    "    data = {'X_train':X_min_u_train.astype(float),\n",
    "            'X_test': X_min_u_test.astype(float),\n",
    "            'y_train':y_min_u_train.astype(float),\n",
    "            'y_test': y_min_u_test.astype(float)\n",
    "        }\n",
    "    # Dataset object creation\n",
    "    _dataset = myai.ThesisDataset(data)\n",
    "    hyper_params = {\n",
    "        'input_size': _dataset.X.shape[1],\n",
    "        'hidden_size': trial.suggest_int('hidden_size', 1, 100),\n",
    "        'output_size': _dataset.y.shape[1],\n",
    "        'n_layers': trial.suggest_int('n_layers', 1, 3),\n",
    "        'dropout': trial.suggest_float('dropout', 0.0, 0.5),\n",
    "        'activation': trial.suggest_categorical('activation', ['relu', 'tanh', 'sigmoid']),\n",
    "        'optimizer': trial.suggest_categorical('optimizer', ['adam', 'sgd']),\n",
    "        'lr': trial.suggest_float('lr', 1e-5, 1e-1, log=True),\n",
    "        'epochs': trial.suggest_int('epochs', 1, 100),\n",
    "        'batch_size': trial.suggest_categorical('batch_size', [1, 2, 4, 8, 16, 32, 64, 128, 256, 512, 1024]),\n",
    "        'classifier': False\n",
    "        }\n",
    "    model = myai.Context(myai.MultilayerPerceptronStrategy(hyper_params))\n",
    "    model.fit(data)\n",
    "    prediction = model.predict(data_min_class)\n",
    "    prediction = pd.DataFrame(prediction, columns=y_min_u.columns)\n",
    "    # evaluate the regression performance with my metrics\n",
    "    metric = metrics.Metrics()\n",
    "    metric.get_prediction_scores(prediction, data_min_reg['y_test'], threshold=threshold_min)\n",
    "    return metric.hybrid_mcc\n",
    "study = optuna.create_study(direction=\"maximize\")\n",
    "study.optimize(objective, n_trials=num_trials)\n",
    "print(\"Number of finished trials: \", len(study.trials))\n",
    "print(\"Best trial:\")\n",
    "trial = study.best_trial\n",
    "print(\"  Value: {}\".format(trial.value))\n",
    "print(\"  Params: \")\n",
    "for key, value in trial.params.items():\n",
    "    print(\"    {}: {}\".format(key, value))\n",
    "# Write the results to a csv file.\n",
    "with open(\"./hyper_params_results_mcc/params_mlp_regression_sparse_min_u.csv\", \"w\") as f:\n",
    "    f.write(\"params,value\\n\")\n",
    "    for key, value in trial.params.items():\n",
    "        f.write(\"{},{}\\n\".format(key, value))\n",
    "    f.write(\"classifier,False\\n\")\n",
    "    f.write(\"value,{}\\n\".format(trial.value))"
   ]
  },
  {
   "cell_type": "markdown",
   "metadata": {},
   "source": [
    "## MLP: Regression Focused Dataset"
   ]
  },
  {
   "cell_type": "code",
   "execution_count": 18,
   "metadata": {},
   "outputs": [
    {
     "name": "stderr",
     "output_type": "stream",
     "text": [
      "\u001b[32m[I 2022-10-12 11:00:51,316]\u001b[0m A new study created in memory with name: no-name-2ea55109-d1fd-4446-b05c-5c26d195a610\u001b[0m\n",
      "\u001b[32m[I 2022-10-12 11:01:37,862]\u001b[0m Trial 0 finished with value: 0.194375176238762 and parameters: {'hidden_size': 7, 'n_layers': 2, 'dropout': 0.28640836471088615, 'activation': 'sigmoid', 'optimizer': 'adam', 'lr': 0.051059424836098787, 'epochs': 41, 'batch_size': 512}. Best is trial 0 with value: 0.194375176238762.\u001b[0m\n",
      "\u001b[32m[I 2022-10-12 11:02:16,943]\u001b[0m Trial 1 finished with value: 0.24666375370025495 and parameters: {'hidden_size': 83, 'n_layers': 1, 'dropout': 0.4049284813963393, 'activation': 'relu', 'optimizer': 'adam', 'lr': 0.008042190945511498, 'epochs': 17, 'batch_size': 4}. Best is trial 1 with value: 0.24666375370025495.\u001b[0m\n",
      "\u001b[32m[I 2022-10-12 11:02:53,973]\u001b[0m Trial 2 finished with value: 0.2590390916871134 and parameters: {'hidden_size': 91, 'n_layers': 2, 'dropout': 0.0011454447507394105, 'activation': 'tanh', 'optimizer': 'adam', 'lr': 1.861295920522715e-05, 'epochs': 11, 'batch_size': 1}. Best is trial 2 with value: 0.2590390916871134.\u001b[0m\n",
      "\u001b[32m[I 2022-10-12 11:03:31,963]\u001b[0m Trial 3 finished with value: 0.257573344942813 and parameters: {'hidden_size': 88, 'n_layers': 3, 'dropout': 0.306344809264043, 'activation': 'sigmoid', 'optimizer': 'adam', 'lr': 7.260230218362545e-05, 'epochs': 10, 'batch_size': 1}. Best is trial 2 with value: 0.2590390916871134.\u001b[0m\n",
      "\u001b[32m[I 2022-10-12 11:04:22,609]\u001b[0m Trial 4 finished with value: -0.37367342969070266 and parameters: {'hidden_size': 23, 'n_layers': 3, 'dropout': 0.14466783228645386, 'activation': 'sigmoid', 'optimizer': 'sgd', 'lr': 0.00026586945877871376, 'epochs': 62, 'batch_size': 1024}. Best is trial 2 with value: 0.2590390916871134.\u001b[0m\n",
      "\u001b[32m[I 2022-10-12 11:05:01,296]\u001b[0m Trial 5 finished with value: 0.07625478396651453 and parameters: {'hidden_size': 12, 'n_layers': 3, 'dropout': 0.04493960897445537, 'activation': 'relu', 'optimizer': 'sgd', 'lr': 7.181352185587652e-05, 'epochs': 24, 'batch_size': 8}. Best is trial 2 with value: 0.2590390916871134.\u001b[0m\n",
      "\u001b[32m[I 2022-10-12 11:05:50,180]\u001b[0m Trial 6 finished with value: 0.13929015774104586 and parameters: {'hidden_size': 53, 'n_layers': 3, 'dropout': 0.32222473183377437, 'activation': 'sigmoid', 'optimizer': 'adam', 'lr': 0.0967998305243753, 'epochs': 30, 'batch_size': 256}. Best is trial 2 with value: 0.2590390916871134.\u001b[0m\n",
      "\u001b[32m[I 2022-10-12 11:06:34,726]\u001b[0m Trial 7 finished with value: 0.1893019588743625 and parameters: {'hidden_size': 67, 'n_layers': 3, 'dropout': 0.36960141279920666, 'activation': 'relu', 'optimizer': 'sgd', 'lr': 0.00024812480725276394, 'epochs': 30, 'batch_size': 8}. Best is trial 2 with value: 0.2590390916871134.\u001b[0m\n",
      "\u001b[32m[I 2022-10-12 11:07:21,346]\u001b[0m Trial 8 finished with value: 0.2289970834430443 and parameters: {'hidden_size': 70, 'n_layers': 3, 'dropout': 0.11550325167572945, 'activation': 'relu', 'optimizer': 'adam', 'lr': 0.00014793246016924695, 'epochs': 26, 'batch_size': 256}. Best is trial 2 with value: 0.2590390916871134.\u001b[0m\n",
      "\u001b[32m[I 2022-10-12 11:07:55,335]\u001b[0m Trial 9 finished with value: 0.27886386631050614 and parameters: {'hidden_size': 90, 'n_layers': 1, 'dropout': 0.008567434610666058, 'activation': 'relu', 'optimizer': 'adam', 'lr': 0.004750390678850799, 'epochs': 6, 'batch_size': 512}. Best is trial 9 with value: 0.27886386631050614.\u001b[0m\n",
      "\u001b[32m[I 2022-10-12 11:08:51,383]\u001b[0m Trial 10 finished with value: 0.17102152507664337 and parameters: {'hidden_size': 38, 'n_layers': 1, 'dropout': 0.4853893807969046, 'activation': 'tanh', 'optimizer': 'sgd', 'lr': 0.004620233462099913, 'epochs': 96, 'batch_size': 32}. Best is trial 9 with value: 0.27886386631050614.\u001b[0m\n",
      "\u001b[32m[I 2022-10-12 11:09:23,349]\u001b[0m Trial 11 finished with value: 0.1431141998063648 and parameters: {'hidden_size': 97, 'n_layers': 2, 'dropout': 0.008047433509025542, 'activation': 'tanh', 'optimizer': 'adam', 'lr': 1.0838856622097512e-05, 'epochs': 1, 'batch_size': 512}. Best is trial 9 with value: 0.27886386631050614.\u001b[0m\n",
      "\u001b[32m[I 2022-10-12 11:10:16,167]\u001b[0m Trial 12 finished with value: 0.28044523064251853 and parameters: {'hidden_size': 73, 'n_layers': 1, 'dropout': 0.18318110557759434, 'activation': 'tanh', 'optimizer': 'adam', 'lr': 0.0018180852109487171, 'epochs': 60, 'batch_size': 1}. Best is trial 12 with value: 0.28044523064251853.\u001b[0m\n",
      "\u001b[32m[I 2022-10-12 11:11:10,982]\u001b[0m Trial 13 finished with value: 0.2633056092040409 and parameters: {'hidden_size': 75, 'n_layers': 1, 'dropout': 0.19336998999269853, 'activation': 'tanh', 'optimizer': 'adam', 'lr': 0.001915602244677458, 'epochs': 65, 'batch_size': 2}. Best is trial 12 with value: 0.28044523064251853.\u001b[0m\n",
      "\u001b[32m[I 2022-10-12 11:12:09,302]\u001b[0m Trial 14 finished with value: 0.2859806822821461 and parameters: {'hidden_size': 56, 'n_layers': 1, 'dropout': 0.21480332660161375, 'activation': 'tanh', 'optimizer': 'adam', 'lr': 0.0009321858866019156, 'epochs': 77, 'batch_size': 128}. Best is trial 14 with value: 0.2859806822821461.\u001b[0m\n",
      "\u001b[32m[I 2022-10-12 11:13:10,425]\u001b[0m Trial 15 finished with value: 0.2789767222672063 and parameters: {'hidden_size': 52, 'n_layers': 1, 'dropout': 0.22942747512431022, 'activation': 'tanh', 'optimizer': 'adam', 'lr': 0.0009389660694243388, 'epochs': 84, 'batch_size': 128}. Best is trial 14 with value: 0.2859806822821461.\u001b[0m\n",
      "\u001b[32m[I 2022-10-12 11:14:08,490]\u001b[0m Trial 16 finished with value: 0.2823271824010639 and parameters: {'hidden_size': 38, 'n_layers': 1, 'dropout': 0.15839711628210615, 'activation': 'tanh', 'optimizer': 'adam', 'lr': 0.0009999414156409076, 'epochs': 75, 'batch_size': 16}. Best is trial 14 with value: 0.2859806822821461.\u001b[0m\n",
      "\u001b[32m[I 2022-10-12 11:15:13,504]\u001b[0m Trial 17 finished with value: 0.2772150197756976 and parameters: {'hidden_size': 40, 'n_layers': 2, 'dropout': 0.12086067651643953, 'activation': 'tanh', 'optimizer': 'adam', 'lr': 0.01835608649178834, 'epochs': 77, 'batch_size': 16}. Best is trial 14 with value: 0.2859806822821461.\u001b[0m\n",
      "\u001b[32m[I 2022-10-12 11:16:09,243]\u001b[0m Trial 18 finished with value: 0.13535087007421212 and parameters: {'hidden_size': 31, 'n_layers': 2, 'dropout': 0.23700603315397567, 'activation': 'tanh', 'optimizer': 'sgd', 'lr': 0.0006489119178106726, 'epochs': 79, 'batch_size': 16}. Best is trial 14 with value: 0.2859806822821461.\u001b[0m\n",
      "\u001b[32m[I 2022-10-12 11:17:13,363]\u001b[0m Trial 19 finished with value: 0.28023689453101946 and parameters: {'hidden_size': 60, 'n_layers': 1, 'dropout': 0.09521272226876654, 'activation': 'tanh', 'optimizer': 'adam', 'lr': 0.0005311331000002208, 'epochs': 94, 'batch_size': 128}. Best is trial 14 with value: 0.2859806822821461.\u001b[0m\n",
      "\u001b[32m[I 2022-10-12 11:18:05,347]\u001b[0m Trial 20 finished with value: 0.27031329639524737 and parameters: {'hidden_size': 21, 'n_layers': 1, 'dropout': 0.19410348724348925, 'activation': 'tanh', 'optimizer': 'adam', 'lr': 0.0017969397149221321, 'epochs': 48, 'batch_size': 64}. Best is trial 14 with value: 0.2859806822821461.\u001b[0m\n",
      "\u001b[32m[I 2022-10-12 11:19:09,918]\u001b[0m Trial 21 finished with value: 0.2705208519323916 and parameters: {'hidden_size': 44, 'n_layers': 1, 'dropout': 0.16592174388334208, 'activation': 'tanh', 'optimizer': 'adam', 'lr': 0.0012760099240912755, 'epochs': 63, 'batch_size': 1}. Best is trial 14 with value: 0.2859806822821461.\u001b[0m\n",
      "\u001b[32m[I 2022-10-12 11:20:08,509]\u001b[0m Trial 22 finished with value: 0.2542577274522683 and parameters: {'hidden_size': 61, 'n_layers': 1, 'dropout': 0.19950421740433694, 'activation': 'tanh', 'optimizer': 'adam', 'lr': 0.0034124484096525838, 'epochs': 73, 'batch_size': 16}. Best is trial 14 with value: 0.2859806822821461.\u001b[0m\n",
      "\u001b[32m[I 2022-10-12 11:20:59,392]\u001b[0m Trial 23 finished with value: 0.29230382748876316 and parameters: {'hidden_size': 75, 'n_layers': 1, 'dropout': 0.25712606425673146, 'activation': 'tanh', 'optimizer': 'adam', 'lr': 0.014691238771535914, 'epochs': 53, 'batch_size': 128}. Best is trial 23 with value: 0.29230382748876316.\u001b[0m\n",
      "\u001b[32m[I 2022-10-12 11:21:45,360]\u001b[0m Trial 24 finished with value: 0.2728760238508403 and parameters: {'hidden_size': 48, 'n_layers': 1, 'dropout': 0.2675896860116191, 'activation': 'tanh', 'optimizer': 'adam', 'lr': 0.014196448427951761, 'epochs': 43, 'batch_size': 128}. Best is trial 23 with value: 0.29230382748876316.\u001b[0m\n",
      "\u001b[32m[I 2022-10-12 11:22:51,134]\u001b[0m Trial 25 finished with value: 0.30434151897189593 and parameters: {'hidden_size': 32, 'n_layers': 2, 'dropout': 0.3410237285820917, 'activation': 'tanh', 'optimizer': 'adam', 'lr': 0.026201845509130853, 'epochs': 86, 'batch_size': 128}. Best is trial 25 with value: 0.30434151897189593.\u001b[0m\n",
      "\u001b[32m[I 2022-10-12 11:23:49,795]\u001b[0m Trial 26 finished with value: 0.18473353417524746 and parameters: {'hidden_size': 60, 'n_layers': 2, 'dropout': 0.36513640564236616, 'activation': 'tanh', 'optimizer': 'sgd', 'lr': 0.029995442003642576, 'epochs': 90, 'batch_size': 128}. Best is trial 25 with value: 0.30434151897189593.\u001b[0m\n",
      "\u001b[32m[I 2022-10-12 11:24:58,362]\u001b[0m Trial 27 finished with value: 0.3089448108180535 and parameters: {'hidden_size': 80, 'n_layers': 2, 'dropout': 0.457350255024655, 'activation': 'tanh', 'optimizer': 'adam', 'lr': 0.012743491505149463, 'epochs': 89, 'batch_size': 128}. Best is trial 27 with value: 0.3089448108180535.\u001b[0m\n",
      "\u001b[32m[I 2022-10-12 11:26:04,962]\u001b[0m Trial 28 finished with value: 0.2899774057917512 and parameters: {'hidden_size': 80, 'n_layers': 2, 'dropout': 0.4859420564857836, 'activation': 'tanh', 'optimizer': 'adam', 'lr': 0.010725845151764645, 'epochs': 84, 'batch_size': 128}. Best is trial 27 with value: 0.3089448108180535.\u001b[0m\n",
      "\u001b[32m[I 2022-10-12 11:27:33,497]\u001b[0m Trial 29 finished with value: 0.1972501649551438 and parameters: {'hidden_size': 10, 'n_layers': 2, 'dropout': 0.4308632211879633, 'activation': 'sigmoid', 'optimizer': 'adam', 'lr': 0.04570351502002165, 'epochs': 99, 'batch_size': 128}. Best is trial 27 with value: 0.3089448108180535.\u001b[0m\n"
     ]
    },
    {
     "name": "stdout",
     "output_type": "stream",
     "text": [
      "Number of finished trials:  30\n",
      "Best trial:\n",
      "  Value: 0.3089448108180535\n",
      "  Params: \n",
      "    hidden_size: 80\n",
      "    n_layers: 2\n",
      "    dropout: 0.457350255024655\n",
      "    activation: tanh\n",
      "    optimizer: adam\n",
      "    lr: 0.012743491505149463\n",
      "    epochs: 89\n",
      "    batch_size: 128\n"
     ]
    },
    {
     "data": {
      "image/png": "[encoded data removed]",
      "text/plain": [
       "<Figure size 432x288 with 1 Axes>"
      ]
     },
     "metadata": {
      "needs_background": "light"
     },
     "output_type": "display_data"
    }
   ],
   "source": [
    "# Build optuna objective function.\n",
    "import optuna\n",
    "import sklearn \n",
    "\n",
    "def objective(trial):\n",
    "    # Data loading\n",
    "    y_min_u = pd.read_csv('..\\data\\ground_truth\\\\res_bus_vm_pu_min_focused_constr.csv')\n",
    "    exogenous_data = pd.read_csv('..\\data\\ground_truth\\\\exogenous_data_vm_pu_min_focused.csv').drop(columns=['date'])\n",
    "    X_min_u_train, X_min_u_test, y_min_u_train, y_min_u_test, scaler = utils.split_and_suffle(exogenous_data, y_min_u, scaling=True)\n",
    "    data = {'X_train':X_min_u_train.astype(float),\n",
    "            'X_test': X_min_u_test.astype(float),\n",
    "            'y_train':y_min_u_train.astype(float),\n",
    "            'y_test': y_min_u_test.astype(float)\n",
    "        }\n",
    "    # Dataset object creation\n",
    "    _dataset = myai.ThesisDataset(data)\n",
    "    hyper_params = {\n",
    "        'input_size': _dataset.X.shape[1],\n",
    "        'hidden_size': trial.suggest_int('hidden_size', 1, 100),\n",
    "        'output_size': _dataset.y.shape[1],\n",
    "        'n_layers': trial.suggest_int('n_layers', 1, 3),\n",
    "        'dropout': trial.suggest_float('dropout', 0.0, 0.5),\n",
    "        'activation': trial.suggest_categorical('activation', ['relu', 'tanh', 'sigmoid']),\n",
    "        'optimizer': trial.suggest_categorical('optimizer', ['adam', 'sgd']),\n",
    "        'lr': trial.suggest_float('lr', 1e-5, 1e-1, log=True),\n",
    "        'epochs': trial.suggest_int('epochs', 1, 100),\n",
    "        'batch_size': trial.suggest_categorical('batch_size', [1, 2, 4, 8, 16, 32, 64, 128, 256, 512, 1024]),\n",
    "        'classifier': False\n",
    "        }\n",
    "    model = myai.Context(myai.MultilayerPerceptronStrategy(hyper_params))\n",
    "    model.fit(data)\n",
    "    # print(model.strategy.model.eval())\n",
    "    prediction = model.predict(data_min_reg)\n",
    "    prediction = pd.DataFrame(prediction, columns=y_min_u.columns)\n",
    "    metric = metrics.Metrics()\n",
    "    metric.get_prediction_scores(prediction, data_min_reg['y_test'], threshold=threshold_min)\n",
    "    return metric.hybrid_mcc\n",
    "study = optuna.create_study(direction=\"maximize\")\n",
    "study.optimize(objective, n_trials=num_trials)\n",
    "print(\"Number of finished trials: \", len(study.trials))\n",
    "print(\"Best trial:\")\n",
    "trial = study.best_trial\n",
    "print(\"  Value: {}\".format(trial.value))\n",
    "print(\"  Params: \")\n",
    "for key, value in trial.params.items():\n",
    "    print(\"    {}: {}\".format(key, value))\n",
    "# Write the results to a csv file.\n",
    "with open(\"./hyper_params_results_mcc/params_mlp_regression_focused_min_u.csv\", \"w\") as f:\n",
    "    f.write(\"params,value\\n\")\n",
    "    for key, value in trial.params.items():\n",
    "        f.write(\"{},{}\\n\".format(key, value))\n",
    "    f.write(\"classifier,False\\n\")\n",
    "    f.write(\"value,{}\\n\".format(trial.value))"
   ]
  },
  {
   "cell_type": "markdown",
   "metadata": {},
   "source": [
    "## Regression Filtered Dataset"
   ]
  },
  {
   "cell_type": "code",
   "execution_count": 14,
   "metadata": {},
   "outputs": [
    {
     "name": "stderr",
     "output_type": "stream",
     "text": [
      "\u001b[32m[I 2022-10-12 05:07:35,421]\u001b[0m A new study created in memory with name: no-name-e6b7de2c-bc51-4c17-b57f-fbaf2e747e4c\u001b[0m\n",
      "\u001b[32m[I 2022-10-12 05:08:00,806]\u001b[0m Trial 0 finished with value: 0.2282209159012125 and parameters: {'hidden_size': 95, 'n_layers': 3, 'dropout': 0.07969144399606698, 'activation': 'tanh', 'optimizer': 'adam', 'lr': 0.034052357158140596, 'epochs': 3, 'batch_size': 8}. Best is trial 0 with value: 0.2282209159012125.\u001b[0m\n",
      "\u001b[32m[I 2022-10-12 05:09:55,106]\u001b[0m Trial 1 finished with value: 0.12659597968788616 and parameters: {'hidden_size': 85, 'n_layers': 1, 'dropout': 0.3958069874842727, 'activation': 'sigmoid', 'optimizer': 'sgd', 'lr': 9.827293531091858e-05, 'epochs': 56, 'batch_size': 4}. Best is trial 0 with value: 0.2282209159012125.\u001b[0m\n",
      "\u001b[32m[I 2022-10-12 05:14:02,881]\u001b[0m Trial 2 finished with value: 0.2013896631062636 and parameters: {'hidden_size': 91, 'n_layers': 2, 'dropout': 0.36545214123275704, 'activation': 'tanh', 'optimizer': 'adam', 'lr': 0.00011090436768622155, 'epochs': 72, 'batch_size': 64}. Best is trial 0 with value: 0.2282209159012125.\u001b[0m\n",
      "\u001b[32m[I 2022-10-12 05:17:05,986]\u001b[0m Trial 3 finished with value: 0.0 and parameters: {'hidden_size': 90, 'n_layers': 3, 'dropout': 0.19669460288697577, 'activation': 'relu', 'optimizer': 'adam', 'lr': 0.013750525375906326, 'epochs': 31, 'batch_size': 32}. Best is trial 0 with value: 0.2282209159012125.\u001b[0m\n",
      "\u001b[32m[I 2022-10-12 05:20:42,544]\u001b[0m Trial 4 finished with value: -0.5332048199046806 and parameters: {'hidden_size': 6, 'n_layers': 3, 'dropout': 0.3683241388379882, 'activation': 'tanh', 'optimizer': 'sgd', 'lr': 0.0014702353575905595, 'epochs': 99, 'batch_size': 2}. Best is trial 0 with value: 0.2282209159012125.\u001b[0m\n",
      "\u001b[32m[I 2022-10-12 05:23:42,750]\u001b[0m Trial 5 finished with value: -0.10914536487988794 and parameters: {'hidden_size': 42, 'n_layers': 3, 'dropout': 0.017843450757867696, 'activation': 'sigmoid', 'optimizer': 'sgd', 'lr': 0.00020008531134565755, 'epochs': 64, 'batch_size': 16}. Best is trial 0 with value: 0.2282209159012125.\u001b[0m\n",
      "\u001b[32m[I 2022-10-12 05:26:13,298]\u001b[0m Trial 6 finished with value: 0.23963643533137732 and parameters: {'hidden_size': 95, 'n_layers': 1, 'dropout': 0.08845581201764902, 'activation': 'sigmoid', 'optimizer': 'sgd', 'lr': 0.002046590730596629, 'epochs': 73, 'batch_size': 256}. Best is trial 6 with value: 0.23963643533137732.\u001b[0m\n",
      "\u001b[32m[I 2022-10-12 05:30:53,226]\u001b[0m Trial 7 finished with value: 0.14090141814395996 and parameters: {'hidden_size': 66, 'n_layers': 3, 'dropout': 0.17367919146037047, 'activation': 'relu', 'optimizer': 'adam', 'lr': 3.856176901769437e-05, 'epochs': 63, 'batch_size': 1024}. Best is trial 6 with value: 0.23963643533137732.\u001b[0m\n",
      "\u001b[32m[I 2022-10-12 05:34:18,734]\u001b[0m Trial 8 finished with value: -0.0818686348842625 and parameters: {'hidden_size': 23, 'n_layers': 2, 'dropout': 0.13857002304829552, 'activation': 'sigmoid', 'optimizer': 'adam', 'lr': 0.004358204167570805, 'epochs': 74, 'batch_size': 2}. Best is trial 6 with value: 0.23963643533137732.\u001b[0m\n",
      "\u001b[32m[I 2022-10-12 05:34:42,116]\u001b[0m Trial 9 finished with value: 0.32422634750182666 and parameters: {'hidden_size': 2, 'n_layers': 3, 'dropout': 0.3421319255099196, 'activation': 'sigmoid', 'optimizer': 'adam', 'lr': 1.216821987057375e-05, 'epochs': 4, 'batch_size': 8}. Best is trial 9 with value: 0.32422634750182666.\u001b[0m\n",
      "\u001b[32m[I 2022-10-12 05:35:20,270]\u001b[0m Trial 10 finished with value: 0.06079047553509543 and parameters: {'hidden_size': 1, 'n_layers': 2, 'dropout': 0.4995747617144821, 'activation': 'sigmoid', 'optimizer': 'adam', 'lr': 1.2657140269395518e-05, 'epochs': 10, 'batch_size': 1}. Best is trial 9 with value: 0.32422634750182666.\u001b[0m\n",
      "\u001b[32m[I 2022-10-12 05:36:38,342]\u001b[0m Trial 11 finished with value: -0.5799749302699495 and parameters: {'hidden_size': 56, 'n_layers': 1, 'dropout': 0.2640016709617728, 'activation': 'sigmoid', 'optimizer': 'sgd', 'lr': 0.0006556990932966378, 'epochs': 36, 'batch_size': 256}. Best is trial 9 with value: 0.32422634750182666.\u001b[0m\n",
      "\u001b[32m[I 2022-10-12 05:39:28,095]\u001b[0m Trial 12 finished with value: 0.6912324689925611 and parameters: {'hidden_size': 30, 'n_layers': 1, 'dropout': 0.28012208837939606, 'activation': 'sigmoid', 'optimizer': 'sgd', 'lr': 0.0009630990229242362, 'epochs': 88, 'batch_size': 256}. Best is trial 12 with value: 0.6912324689925611.\u001b[0m\n",
      "\u001b[32m[I 2022-10-12 05:42:14,433]\u001b[0m Trial 13 finished with value: 0.11709857522870185 and parameters: {'hidden_size': 25, 'n_layers': 1, 'dropout': 0.29518684032899273, 'activation': 'sigmoid', 'optimizer': 'sgd', 'lr': 1.3984865719491605e-05, 'epochs': 99, 'batch_size': 8}. Best is trial 12 with value: 0.6912324689925611.\u001b[0m\n",
      "\u001b[32m[I 2022-10-12 05:43:16,700]\u001b[0m Trial 14 finished with value: 0.18004452556681244 and parameters: {'hidden_size': 20, 'n_layers': 2, 'dropout': 0.3069622539645255, 'activation': 'sigmoid', 'optimizer': 'sgd', 'lr': 0.0005653632973456376, 'epochs': 26, 'batch_size': 128}. Best is trial 12 with value: 0.6912324689925611.\u001b[0m\n",
      "\u001b[32m[I 2022-10-12 05:48:17,503]\u001b[0m Trial 15 finished with value: 0.0 and parameters: {'hidden_size': 39, 'n_layers': 2, 'dropout': 0.43878220764229175, 'activation': 'relu', 'optimizer': 'adam', 'lr': 0.013194831248610324, 'epochs': 87, 'batch_size': 8}. Best is trial 12 with value: 0.6912324689925611.\u001b[0m\n",
      "\u001b[32m[I 2022-10-12 05:49:39,167]\u001b[0m Trial 16 finished with value: 0.21075292593922976 and parameters: {'hidden_size': 9, 'n_layers': 1, 'dropout': 0.2138943410184529, 'activation': 'sigmoid', 'optimizer': 'sgd', 'lr': 0.0002995770654454665, 'epochs': 47, 'batch_size': 512}. Best is trial 12 with value: 0.6912324689925611.\u001b[0m\n",
      "\u001b[32m[I 2022-10-12 05:50:59,846]\u001b[0m Trial 17 finished with value: -0.6040248922395978 and parameters: {'hidden_size': 35, 'n_layers': 2, 'dropout': 0.3151140263710813, 'activation': 'sigmoid', 'optimizer': 'adam', 'lr': 0.09636198974814224, 'epochs': 21, 'batch_size': 256}. Best is trial 12 with value: 0.6912324689925611.\u001b[0m\n",
      "\u001b[32m[I 2022-10-12 05:53:24,097]\u001b[0m Trial 18 finished with value: -0.6119262103950323 and parameters: {'hidden_size': 15, 'n_layers': 2, 'dropout': 0.23948395568684958, 'activation': 'relu', 'optimizer': 'adam', 'lr': 3.90612651278881e-05, 'epochs': 45, 'batch_size': 64}. Best is trial 12 with value: 0.6912324689925611.\u001b[0m\n",
      "\u001b[32m[I 2022-10-12 05:56:42,188]\u001b[0m Trial 19 finished with value: 0.25781035354540427 and parameters: {'hidden_size': 58, 'n_layers': 1, 'dropout': 0.43812451733627455, 'activation': 'tanh', 'optimizer': 'sgd', 'lr': 0.0038347047123141846, 'epochs': 86, 'batch_size': 1}. Best is trial 12 with value: 0.6912324689925611.\u001b[0m\n",
      "\u001b[32m[I 2022-10-12 05:58:29,108]\u001b[0m Trial 20 finished with value: 0.0 and parameters: {'hidden_size': 76, 'n_layers': 3, 'dropout': 0.3294316467574223, 'activation': 'sigmoid', 'optimizer': 'adam', 'lr': 4.578322579519628e-05, 'epochs': 16, 'batch_size': 1024}. Best is trial 12 with value: 0.6912324689925611.\u001b[0m\n",
      "\u001b[32m[I 2022-10-12 06:02:28,131]\u001b[0m Trial 21 finished with value: 0.2877996077797702 and parameters: {'hidden_size': 53, 'n_layers': 1, 'dropout': 0.4525392573942355, 'activation': 'tanh', 'optimizer': 'sgd', 'lr': 0.00421167345120742, 'epochs': 89, 'batch_size': 1}. Best is trial 12 with value: 0.6912324689925611.\u001b[0m\n",
      "\u001b[32m[I 2022-10-12 06:05:35,645]\u001b[0m Trial 22 finished with value: 0.2710232205663096 and parameters: {'hidden_size': 47, 'n_layers': 1, 'dropout': 0.49555847262944325, 'activation': 'tanh', 'optimizer': 'sgd', 'lr': 0.006873041669101489, 'epochs': 86, 'batch_size': 1}. Best is trial 12 with value: 0.6912324689925611.\u001b[0m\n",
      "\u001b[32m[I 2022-10-12 06:08:45,639]\u001b[0m Trial 23 finished with value: 0.2819658304643949 and parameters: {'hidden_size': 28, 'n_layers': 1, 'dropout': 0.4317868491674918, 'activation': 'tanh', 'optimizer': 'sgd', 'lr': 0.001022407324048849, 'epochs': 92, 'batch_size': 128}. Best is trial 12 with value: 0.6912324689925611.\u001b[0m\n",
      "\u001b[32m[I 2022-10-12 06:11:36,293]\u001b[0m Trial 24 finished with value: 0.24488196770710874 and parameters: {'hidden_size': 68, 'n_layers': 1, 'dropout': 0.3649764897762159, 'activation': 'tanh', 'optimizer': 'sgd', 'lr': 0.033735133686083135, 'epochs': 79, 'batch_size': 32}. Best is trial 12 with value: 0.6912324689925611.\u001b[0m\n",
      "\u001b[32m[I 2022-10-12 06:13:16,685]\u001b[0m Trial 25 finished with value: 0.26199574236884116 and parameters: {'hidden_size': 33, 'n_layers': 2, 'dropout': 0.253638347614435, 'activation': 'tanh', 'optimizer': 'sgd', 'lr': 0.0027997522576363766, 'epochs': 38, 'batch_size': 4}. Best is trial 12 with value: 0.6912324689925611.\u001b[0m\n",
      "\u001b[32m[I 2022-10-12 06:15:25,242]\u001b[0m Trial 26 finished with value: 0.2440803266058063 and parameters: {'hidden_size': 50, 'n_layers': 1, 'dropout': 0.40817474028117395, 'activation': 'sigmoid', 'optimizer': 'sgd', 'lr': 0.009436603446269362, 'epochs': 55, 'batch_size': 16}. Best is trial 12 with value: 0.6912324689925611.\u001b[0m\n",
      "\u001b[32m[I 2022-10-12 06:17:50,663]\u001b[0m Trial 27 finished with value: 0.018477162255675184 and parameters: {'hidden_size': 15, 'n_layers': 2, 'dropout': 0.28194452919941315, 'activation': 'tanh', 'optimizer': 'sgd', 'lr': 0.000493563208391616, 'epochs': 65, 'batch_size': 512}. Best is trial 12 with value: 0.6912324689925611.\u001b[0m\n",
      "\u001b[32m[I 2022-10-12 06:18:12,246]\u001b[0m Trial 28 finished with value: 0.0 and parameters: {'hidden_size': 59, 'n_layers': 1, 'dropout': 0.4716730990526659, 'activation': 'relu', 'optimizer': 'adam', 'lr': 0.0376761843839695, 'epochs': 3, 'batch_size': 1}. Best is trial 12 with value: 0.6912324689925611.\u001b[0m\n",
      "\u001b[32m[I 2022-10-12 06:24:47,180]\u001b[0m Trial 29 finished with value: 0.0 and parameters: {'hidden_size': 31, 'n_layers': 3, 'dropout': 0.33301595811832524, 'activation': 'sigmoid', 'optimizer': 'adam', 'lr': 0.02347680696733043, 'epochs': 93, 'batch_size': 8}. Best is trial 12 with value: 0.6912324689925611.\u001b[0m\n"
     ]
    },
    {
     "name": "stdout",
     "output_type": "stream",
     "text": [
      "Number of finished trials:  30\n",
      "Best trial:\n",
      "  Value: 0.6912324689925611\n",
      "  Params: \n",
      "    hidden_size: 30\n",
      "    n_layers: 1\n",
      "    dropout: 0.28012208837939606\n",
      "    activation: sigmoid\n",
      "    optimizer: sgd\n",
      "    lr: 0.0009630990229242362\n",
      "    epochs: 88\n",
      "    batch_size: 256\n"
     ]
    },
    {
     "data": {
      "image/png": "[encoded data removed]",
      "text/plain": [
       "<Figure size 432x288 with 1 Axes>"
      ]
     },
     "metadata": {
      "needs_background": "light"
     },
     "output_type": "display_data"
    }
   ],
   "source": [
    "# Build optuna objective function.\n",
    "import optuna\n",
    "import sklearn \n",
    "\n",
    "def objective(trial):\n",
    "    # Data loading\n",
    "    y_min_u = pd.read_csv('..\\data\\ground_truth\\\\res_bus_vm_pu_min_constr.csv').drop(columns='timestamps')\n",
    "    exogenous_data = pd.read_csv('..\\data\\processed\\production\\exogenous_data_extended.csv').drop(columns=['date'])\n",
    "    X_min_u_train, X_min_u_test, y_min_u_train, y_min_u_test, scaler = utils.split_and_suffle(exogenous_data, y_min_u[utils.cols_with_positive_values(y_min_u)], test_size=0.2, scaling=True)\n",
    "    data = {'X_train':X_min_u_train.astype(float),\n",
    "            'X_test': X_min_u_test.astype(float),\n",
    "            'y_train':y_min_u_train.astype(float),\n",
    "            'y_test': y_min_u_test.astype(float)\n",
    "        }\n",
    "    # Dataset object creation\n",
    "    _dataset = myai.ThesisDataset(data)\n",
    "    hyper_params = {\n",
    "        'input_size': _dataset.X.shape[1],\n",
    "        'hidden_size': trial.suggest_int('hidden_size', 1, 100),\n",
    "        'output_size': _dataset.y.shape[1],\n",
    "        'n_layers': trial.suggest_int('n_layers', 1, 3),\n",
    "        'dropout': trial.suggest_float('dropout', 0.0, 0.5),\n",
    "        'activation': trial.suggest_categorical('activation', ['relu', 'tanh', 'sigmoid']),\n",
    "        'optimizer': trial.suggest_categorical('optimizer', ['adam', 'sgd']),\n",
    "        'lr': trial.suggest_float('lr', 1e-5, 1e-1, log=True),\n",
    "        'epochs': trial.suggest_int('epochs', 1, 100),\n",
    "        'batch_size': trial.suggest_categorical('batch_size', [1, 2, 4, 8, 16, 32, 64, 128, 256, 512, 1024]),\n",
    "        'classifier': False\n",
    "        }\n",
    "    model = myai.Context(myai.MultilayerPerceptronStrategy(hyper_params))\n",
    "    model.fit(data)\n",
    "    prediction = model.predict(data_min_reg)\n",
    "    prediction = pd.DataFrame(prediction, columns=utils.cols_with_positive_values(y_min_u))\n",
    "    # evaluate the regression performance with my metrics\n",
    "    metric = metrics.Metrics()\n",
    "    metric.get_prediction_scores(prediction, data_min_reg['y_test'][prediction.columns], threshold=threshold_min)\n",
    "    return metric.hybrid_mcc\n",
    "study = optuna.create_study(direction=\"maximize\")\n",
    "study.optimize(objective, n_trials=num_trials)\n",
    "print(\"Number of finished trials: \", len(study.trials))\n",
    "print(\"Best trial:\")\n",
    "trial = study.best_trial\n",
    "print(\"  Value: {}\".format(trial.value))\n",
    "print(\"  Params: \")\n",
    "for key, value in trial.params.items():\n",
    "    print(\"    {}: {}\".format(key, value))\n",
    "# Write the results to a csv file.\n",
    "with open(\"./hyper_params_results_mcc/params_mlp_regression_filtered_min_u.csv\", \"w\") as f:\n",
    "    f.write(\"params,value\\n\")\n",
    "    for key, value in trial.params.items():\n",
    "        f.write(\"{},{}\\n\".format(key, value))\n",
    "    f.write(\"classifier,False\\n\")\n",
    "    f.write(\"value,{}\\n\".format(trial.value))"
   ]
  },
  {
   "cell_type": "markdown",
   "metadata": {},
   "source": [
    "## MLP: Regression Balanced Dataset"
   ]
  },
  {
   "cell_type": "code",
   "execution_count": 15,
   "metadata": {},
   "outputs": [
    {
     "name": "stderr",
     "output_type": "stream",
     "text": [
      "\u001b[32m[I 2022-10-12 06:24:47,421]\u001b[0m A new study created in memory with name: no-name-69f266ab-64ab-44a9-a491-b519a86fa983\u001b[0m\n",
      "\u001b[32m[I 2022-10-12 06:25:50,382]\u001b[0m Trial 0 finished with value: 0.08488734232243897 and parameters: {'hidden_size': 5, 'n_layers': 1, 'dropout': 0.18998865444671503, 'activation': 'sigmoid', 'optimizer': 'sgd', 'lr': 5.613455343247345e-05, 'epochs': 28, 'batch_size': 32}. Best is trial 0 with value: 0.08488734232243897.\u001b[0m\n",
      "\u001b[32m[I 2022-10-12 06:28:50,017]\u001b[0m Trial 1 finished with value: 0.17640304667237397 and parameters: {'hidden_size': 97, 'n_layers': 2, 'dropout': 0.22132519368499187, 'activation': 'sigmoid', 'optimizer': 'sgd', 'lr': 1.9995635958997307e-05, 'epochs': 70, 'batch_size': 2}. Best is trial 1 with value: 0.17640304667237397.\u001b[0m\n",
      "\u001b[32m[I 2022-10-12 06:30:45,472]\u001b[0m Trial 2 finished with value: 0.26803606431832033 and parameters: {'hidden_size': 63, 'n_layers': 2, 'dropout': 0.34466168811848585, 'activation': 'sigmoid', 'optimizer': 'adam', 'lr': 0.0007252882110512738, 'epochs': 23, 'batch_size': 4}. Best is trial 2 with value: 0.26803606431832033.\u001b[0m\n",
      "\u001b[32m[I 2022-10-12 06:32:29,621]\u001b[0m Trial 3 finished with value: 0.2162570450509836 and parameters: {'hidden_size': 29, 'n_layers': 1, 'dropout': 0.20126187953164398, 'activation': 'tanh', 'optimizer': 'adam', 'lr': 0.002401921922644413, 'epochs': 50, 'batch_size': 256}. Best is trial 2 with value: 0.26803606431832033.\u001b[0m\n",
      "\u001b[32m[I 2022-10-12 06:35:31,257]\u001b[0m Trial 4 finished with value: 0.06262675615580264 and parameters: {'hidden_size': 55, 'n_layers': 2, 'dropout': 0.38506155514543927, 'activation': 'relu', 'optimizer': 'adam', 'lr': 0.00304732438060323, 'epochs': 92, 'batch_size': 4}. Best is trial 2 with value: 0.26803606431832033.\u001b[0m\n",
      "\u001b[32m[I 2022-10-12 06:36:23,722]\u001b[0m Trial 5 finished with value: 0.17160599494099685 and parameters: {'hidden_size': 62, 'n_layers': 3, 'dropout': 0.2852600503667741, 'activation': 'sigmoid', 'optimizer': 'sgd', 'lr': 0.0991960321061612, 'epochs': 5, 'batch_size': 256}. Best is trial 2 with value: 0.26803606431832033.\u001b[0m\n",
      "\u001b[32m[I 2022-10-12 06:37:55,093]\u001b[0m Trial 6 finished with value: 0.175751964679227 and parameters: {'hidden_size': 78, 'n_layers': 2, 'dropout': 0.4810968306016413, 'activation': 'tanh', 'optimizer': 'sgd', 'lr': 0.05283940882274192, 'epochs': 50, 'batch_size': 512}. Best is trial 2 with value: 0.26803606431832033.\u001b[0m\n",
      "\u001b[32m[I 2022-10-12 06:40:27,515]\u001b[0m Trial 7 finished with value: 0.2681145562394403 and parameters: {'hidden_size': 70, 'n_layers': 3, 'dropout': 0.3929657237851364, 'activation': 'tanh', 'optimizer': 'adam', 'lr': 3.9825485138284816e-05, 'epochs': 63, 'batch_size': 2}. Best is trial 7 with value: 0.2681145562394403.\u001b[0m\n",
      "\u001b[32m[I 2022-10-12 06:41:42,740]\u001b[0m Trial 8 finished with value: 0.2675578724975503 and parameters: {'hidden_size': 8, 'n_layers': 3, 'dropout': 0.10720078323967414, 'activation': 'sigmoid', 'optimizer': 'adam', 'lr': 5.365679636557024e-05, 'epochs': 34, 'batch_size': 256}. Best is trial 7 with value: 0.2681145562394403.\u001b[0m\n",
      "\u001b[32m[I 2022-10-12 06:42:51,392]\u001b[0m Trial 9 finished with value: 0.18290530968999616 and parameters: {'hidden_size': 19, 'n_layers': 1, 'dropout': 0.3033188997074856, 'activation': 'sigmoid', 'optimizer': 'sgd', 'lr': 0.030039071006987095, 'epochs': 69, 'batch_size': 64}. Best is trial 7 with value: 0.2681145562394403.\u001b[0m\n",
      "\u001b[32m[I 2022-10-12 06:45:12,333]\u001b[0m Trial 10 finished with value: 0.25393336077949913 and parameters: {'hidden_size': 40, 'n_layers': 3, 'dropout': 0.4812804727475346, 'activation': 'tanh', 'optimizer': 'adam', 'lr': 0.0002661055679552521, 'epochs': 98, 'batch_size': 8}. Best is trial 7 with value: 0.2681145562394403.\u001b[0m\n",
      "\u001b[32m[I 2022-10-12 06:45:45,575]\u001b[0m Trial 11 finished with value: 0.2622070964672013 and parameters: {'hidden_size': 72, 'n_layers': 2, 'dropout': 0.38014779229548423, 'activation': 'relu', 'optimizer': 'adam', 'lr': 0.0004577198945669872, 'epochs': 5, 'batch_size': 2}. Best is trial 7 with value: 0.2681145562394403.\u001b[0m\n",
      "\u001b[32m[I 2022-10-12 06:47:34,234]\u001b[0m Trial 12 finished with value: 0.2641720125615373 and parameters: {'hidden_size': 86, 'n_layers': 3, 'dropout': 0.377130425006571, 'activation': 'tanh', 'optimizer': 'adam', 'lr': 0.00015664425541097237, 'epochs': 71, 'batch_size': 4}. Best is trial 7 with value: 0.2681145562394403.\u001b[0m\n",
      "\u001b[32m[I 2022-10-12 06:48:25,644]\u001b[0m Trial 13 finished with value: 0.2693934499958066 and parameters: {'hidden_size': 64, 'n_layers': 2, 'dropout': 0.32228286175194354, 'activation': 'tanh', 'optimizer': 'adam', 'lr': 1.0700451790605689e-05, 'epochs': 26, 'batch_size': 128}. Best is trial 13 with value: 0.2693934499958066.\u001b[0m\n",
      "\u001b[32m[I 2022-10-12 06:49:34,779]\u001b[0m Trial 14 finished with value: 0.26935636444855837 and parameters: {'hidden_size': 45, 'n_layers': 3, 'dropout': 0.021027757092086236, 'activation': 'tanh', 'optimizer': 'adam', 'lr': 1.812958909926739e-05, 'epochs': 40, 'batch_size': 128}. Best is trial 13 with value: 0.2693934499958066.\u001b[0m\n",
      "\u001b[32m[I 2022-10-12 06:50:41,932]\u001b[0m Trial 15 finished with value: 0.27477835294019204 and parameters: {'hidden_size': 46, 'n_layers': 2, 'dropout': 0.05156378336462028, 'activation': 'tanh', 'optimizer': 'adam', 'lr': 1.0082287066603865e-05, 'epochs': 41, 'batch_size': 128}. Best is trial 15 with value: 0.27477835294019204.\u001b[0m\n",
      "\u001b[32m[I 2022-10-12 06:51:21,527]\u001b[0m Trial 16 finished with value: 0.2818475753563227 and parameters: {'hidden_size': 33, 'n_layers': 2, 'dropout': 0.09775515283029318, 'activation': 'tanh', 'optimizer': 'adam', 'lr': 1.2879376601592916e-05, 'epochs': 14, 'batch_size': 128}. Best is trial 16 with value: 0.2818475753563227.\u001b[0m\n",
      "\u001b[32m[I 2022-10-12 06:51:59,403]\u001b[0m Trial 17 finished with value: 0.2801763378763698 and parameters: {'hidden_size': 34, 'n_layers': 1, 'dropout': 0.0016573659912211894, 'activation': 'relu', 'optimizer': 'adam', 'lr': 0.00010674282343812037, 'epochs': 15, 'batch_size': 1}. Best is trial 16 with value: 0.2818475753563227.\u001b[0m\n",
      "\u001b[32m[I 2022-10-12 06:52:38,949]\u001b[0m Trial 18 finished with value: 0.2915452841338719 and parameters: {'hidden_size': 33, 'n_layers': 1, 'dropout': 0.11978322291064605, 'activation': 'relu', 'optimizer': 'adam', 'lr': 0.00012007750486729899, 'epochs': 17, 'batch_size': 1}. Best is trial 18 with value: 0.2915452841338719.\u001b[0m\n",
      "\u001b[32m[I 2022-10-12 06:53:15,629]\u001b[0m Trial 19 finished with value: 0.26617255500196685 and parameters: {'hidden_size': 18, 'n_layers': 1, 'dropout': 0.13664673507049774, 'activation': 'relu', 'optimizer': 'adam', 'lr': 0.0018084531899675883, 'epochs': 15, 'batch_size': 1}. Best is trial 18 with value: 0.2915452841338719.\u001b[0m\n",
      "\u001b[32m[I 2022-10-12 06:53:51,854]\u001b[0m Trial 20 finished with value: 0.2400869274437787 and parameters: {'hidden_size': 25, 'n_layers': 1, 'dropout': 0.10558986029619871, 'activation': 'relu', 'optimizer': 'adam', 'lr': 0.009880660762652637, 'epochs': 15, 'batch_size': 1024}. Best is trial 18 with value: 0.2915452841338719.\u001b[0m\n",
      "\u001b[32m[I 2022-10-12 06:54:29,904]\u001b[0m Trial 21 finished with value: 0.2793015073680083 and parameters: {'hidden_size': 33, 'n_layers': 1, 'dropout': 0.011447791266853042, 'activation': 'relu', 'optimizer': 'adam', 'lr': 0.0001611961325549219, 'epochs': 15, 'batch_size': 1}. Best is trial 18 with value: 0.2915452841338719.\u001b[0m\n",
      "\u001b[32m[I 2022-10-12 06:54:59,863]\u001b[0m Trial 22 finished with value: -0.2747281434298033 and parameters: {'hidden_size': 35, 'n_layers': 1, 'dropout': 0.06820281447762802, 'activation': 'relu', 'optimizer': 'adam', 'lr': 9.729308082753776e-05, 'epochs': 2, 'batch_size': 16}. Best is trial 18 with value: 0.2915452841338719.\u001b[0m\n",
      "\u001b[32m[I 2022-10-12 06:55:36,545]\u001b[0m Trial 23 finished with value: 0.34618337833031865 and parameters: {'hidden_size': 15, 'n_layers': 1, 'dropout': 0.15780196616971087, 'activation': 'relu', 'optimizer': 'adam', 'lr': 3.0734592698099293e-05, 'epochs': 13, 'batch_size': 1}. Best is trial 23 with value: 0.34618337833031865.\u001b[0m\n",
      "\u001b[32m[I 2022-10-12 06:56:15,876]\u001b[0m Trial 24 finished with value: 0.2926684620502265 and parameters: {'hidden_size': 13, 'n_layers': 1, 'dropout': 0.15850767134389782, 'activation': 'relu', 'optimizer': 'adam', 'lr': 3.9233763461156926e-05, 'epochs': 21, 'batch_size': 1}. Best is trial 23 with value: 0.34618337833031865.\u001b[0m\n",
      "\u001b[32m[I 2022-10-12 06:57:02,197]\u001b[0m Trial 25 finished with value: 0.3012748593099183 and parameters: {'hidden_size': 13, 'n_layers': 1, 'dropout': 0.15830595313274468, 'activation': 'relu', 'optimizer': 'adam', 'lr': 2.7430082173450786e-05, 'epochs': 34, 'batch_size': 1}. Best is trial 23 with value: 0.34618337833031865.\u001b[0m\n",
      "\u001b[32m[I 2022-10-12 06:57:44,784]\u001b[0m Trial 26 finished with value: 0.09667020545945135 and parameters: {'hidden_size': 12, 'n_layers': 1, 'dropout': 0.16156223307692175, 'activation': 'relu', 'optimizer': 'sgd', 'lr': 3.0340964314590433e-05, 'epochs': 35, 'batch_size': 1}. Best is trial 23 with value: 0.34618337833031865.\u001b[0m\n",
      "\u001b[32m[I 2022-10-12 06:58:30,188]\u001b[0m Trial 27 finished with value: 0.2877615259719903 and parameters: {'hidden_size': 16, 'n_layers': 1, 'dropout': 0.2509967427712198, 'activation': 'relu', 'optimizer': 'adam', 'lr': 0.00030750704308967207, 'epochs': 32, 'batch_size': 1}. Best is trial 23 with value: 0.34618337833031865.\u001b[0m\n",
      "\u001b[32m[I 2022-10-12 06:59:21,705]\u001b[0m Trial 28 finished with value: 0.2940660275516599 and parameters: {'hidden_size': 4, 'n_layers': 1, 'dropout': 0.1759025980604631, 'activation': 'relu', 'optimizer': 'adam', 'lr': 2.9186427534656337e-05, 'epochs': 44, 'batch_size': 1}. Best is trial 23 with value: 0.34618337833031865.\u001b[0m\n",
      "\u001b[32m[I 2022-10-12 07:00:12,355]\u001b[0m Trial 29 finished with value: 0.09234128071923196 and parameters: {'hidden_size': 2, 'n_layers': 1, 'dropout': 0.24458251145844057, 'activation': 'relu', 'optimizer': 'sgd', 'lr': 6.95072537413065e-05, 'epochs': 56, 'batch_size': 32}. Best is trial 23 with value: 0.34618337833031865.\u001b[0m\n"
     ]
    },
    {
     "name": "stdout",
     "output_type": "stream",
     "text": [
      "Number of finished trials:  30\n",
      "Best trial:\n",
      "  Value: 0.34618337833031865\n",
      "  Params: \n",
      "    hidden_size: 15\n",
      "    n_layers: 1\n",
      "    dropout: 0.15780196616971087\n",
      "    activation: relu\n",
      "    optimizer: adam\n",
      "    lr: 3.0734592698099293e-05\n",
      "    epochs: 13\n",
      "    batch_size: 1\n"
     ]
    },
    {
     "data": {
      "image/png": "[encoded data removed]",
      "text/plain": [
       "<Figure size 432x288 with 1 Axes>"
      ]
     },
     "metadata": {
      "needs_background": "light"
     },
     "output_type": "display_data"
    }
   ],
   "source": [
    "# Build optuna objective function.\n",
    "import optuna\n",
    "import sklearn \n",
    "\n",
    "def objective(trial):\n",
    "    # Data loading\n",
    "    y_min_u = pd.read_csv('..\\data\\ground_truth\\\\res_bus_vm_pu_min_balanced_constr.csv')\n",
    "    exogenous_data = pd.read_csv('..\\data\\ground_truth\\\\exogenous_data_vm_pu_min_balanced.csv').drop(columns=['date'])\n",
    "    X_min_u_train, X_min_u_test, y_min_u_train, y_min_u_test, scaler = utils.split_and_suffle(exogenous_data, y_min_u, test_size=0.2, scaling=True)\n",
    "    data = {'X_train':X_min_u_train.astype(float),\n",
    "            'X_test': X_min_u_test.astype(float),\n",
    "            'y_train':y_min_u_train.astype(float),\n",
    "            'y_test': y_min_u_test.astype(float)\n",
    "        }\n",
    "    # Dataset object creation\n",
    "    _dataset = myai.ThesisDataset(data)\n",
    "    hyper_params = {\n",
    "        'input_size': _dataset.X.shape[1],\n",
    "        'hidden_size': trial.suggest_int('hidden_size', 1, 100),\n",
    "        'output_size': _dataset.y.shape[1],\n",
    "        'n_layers': trial.suggest_int('n_layers', 1, 3),\n",
    "        'dropout': trial.suggest_float('dropout', 0.0, 0.5),\n",
    "        'activation': trial.suggest_categorical('activation', ['relu', 'tanh', 'sigmoid']),\n",
    "        'optimizer': trial.suggest_categorical('optimizer', ['adam', 'sgd']),\n",
    "        'lr': trial.suggest_float('lr', 1e-5, 1e-1, log=True),\n",
    "        'epochs': trial.suggest_int('epochs', 1, 100),\n",
    "        'batch_size': trial.suggest_categorical('batch_size', [1, 2, 4, 8, 16, 32, 64, 128, 256, 512, 1024]),\n",
    "        'classifier': False\n",
    "        }\n",
    "    model = myai.Context(myai.MultilayerPerceptronStrategy(hyper_params))\n",
    "    model.fit(data)\n",
    "    prediction = model.predict(data_min_reg)\n",
    "    prediction = pd.DataFrame(prediction, columns=y_min_u.columns)\n",
    "    y_min_u_train = pd.DataFrame(y_min_u_train, columns=y_min_u.columns)\n",
    "    # evaluate the regression performance with my metrics\n",
    "    metric = metrics.Metrics()\n",
    "    metric.get_prediction_scores(prediction, data_min_reg['y_test'], threshold=threshold_min)\n",
    "    return metric.hybrid_mcc\n",
    "study = optuna.create_study(direction=\"maximize\")\n",
    "study.optimize(objective, n_trials=num_trials)\n",
    "print(\"Number of finished trials: \", len(study.trials))\n",
    "print(\"Best trial:\")\n",
    "trial = study.best_trial\n",
    "print(\"  Value: {}\".format(trial.value))\n",
    "print(\"  Params: \")\n",
    "for key, value in trial.params.items():\n",
    "    print(\"    {}: {}\".format(key, value))\n",
    "# Write the results to a csv file.\n",
    "with open(\"./hyper_params_results_mcc/params_mlp_regression_balanced_min_u.csv\", \"w\") as f:\n",
    "    f.write(\"params,value\\n\")\n",
    "    for key, value in trial.params.items():\n",
    "        f.write(\"{},{}\\n\".format(key, value))\n",
    "    f.write(\"classifier,False\\n\")\n",
    "    f.write(\"value,{}\\n\".format(trial.value))"
   ]
  },
  {
   "cell_type": "code",
   "execution_count": 16,
   "metadata": {},
   "outputs": [
    {
     "name": "stderr",
     "output_type": "stream",
     "text": [
      "\u001b[32m[I 2022-10-12 07:00:12,603]\u001b[0m A new study created in memory with name: no-name-c3e726c9-7c6a-4043-ac1c-c843c48897f7\u001b[0m\n",
      "\u001b[32m[I 2022-10-12 07:00:56,846]\u001b[0m Trial 0 finished with value: 0.0 and parameters: {'hidden_size': 11, 'n_layers': 2, 'dropout': 0.16359356987346652, 'activation': 'relu', 'optimizer': 'sgd', 'lr': 0.0004853237480739025, 'epochs': 65, 'batch_size': 128}. Best is trial 0 with value: 0.0.\u001b[0m\n",
      "\u001b[32m[I 2022-10-12 07:01:37,048]\u001b[0m Trial 1 finished with value: 0.02899303294601774 and parameters: {'hidden_size': 4, 'n_layers': 1, 'dropout': 0.12274470250858904, 'activation': 'tanh', 'optimizer': 'sgd', 'lr': 1.0441909940303813e-05, 'epochs': 60, 'batch_size': 1024}. Best is trial 1 with value: 0.02899303294601774.\u001b[0m\n",
      "\u001b[32m[I 2022-10-12 07:02:25,933]\u001b[0m Trial 2 finished with value: 0.08206905657153682 and parameters: {'hidden_size': 98, 'n_layers': 1, 'dropout': 0.42882076686829707, 'activation': 'sigmoid', 'optimizer': 'sgd', 'lr': 0.000505850010443583, 'epochs': 77, 'batch_size': 1024}. Best is trial 2 with value: 0.08206905657153682.\u001b[0m\n",
      "\u001b[32m[I 2022-10-12 07:03:17,125]\u001b[0m Trial 3 finished with value: 0.07158179929895954 and parameters: {'hidden_size': 21, 'n_layers': 2, 'dropout': 0.4751763771534649, 'activation': 'tanh', 'optimizer': 'sgd', 'lr': 2.6695101464406912e-05, 'epochs': 94, 'batch_size': 1024}. Best is trial 2 with value: 0.08206905657153682.\u001b[0m\n",
      "\u001b[32m[I 2022-10-12 07:04:08,495]\u001b[0m Trial 4 finished with value: 0.1374107262777971 and parameters: {'hidden_size': 94, 'n_layers': 2, 'dropout': 0.09991374094109884, 'activation': 'sigmoid', 'optimizer': 'sgd', 'lr': 0.0019585488004962514, 'epochs': 63, 'batch_size': 64}. Best is trial 4 with value: 0.1374107262777971.\u001b[0m\n",
      "\u001b[32m[I 2022-10-12 07:04:45,817]\u001b[0m Trial 5 finished with value: 0.08923853990557008 and parameters: {'hidden_size': 50, 'n_layers': 2, 'dropout': 0.16030167695918018, 'activation': 'sigmoid', 'optimizer': 'sgd', 'lr': 2.4132107112265443e-05, 'epochs': 29, 'batch_size': 64}. Best is trial 4 with value: 0.1374107262777971.\u001b[0m\n",
      "\u001b[32m[I 2022-10-12 07:05:47,140]\u001b[0m Trial 6 finished with value: 0.2400605562734727 and parameters: {'hidden_size': 50, 'n_layers': 1, 'dropout': 0.13386045769073823, 'activation': 'tanh', 'optimizer': 'adam', 'lr': 0.0001269902023212983, 'epochs': 98, 'batch_size': 1024}. Best is trial 6 with value: 0.2400605562734727.\u001b[0m\n",
      "\u001b[32m[I 2022-10-12 07:06:56,159]\u001b[0m Trial 7 finished with value: 0.23041953352080427 and parameters: {'hidden_size': 25, 'n_layers': 3, 'dropout': 0.3221527384798039, 'activation': 'relu', 'optimizer': 'adam', 'lr': 6.580695341099406e-05, 'epochs': 99, 'batch_size': 256}. Best is trial 6 with value: 0.2400605562734727.\u001b[0m\n",
      "\u001b[32m[I 2022-10-12 07:08:02,099]\u001b[0m Trial 8 finished with value: 0.16623532112920528 and parameters: {'hidden_size': 82, 'n_layers': 3, 'dropout': 0.009357387519593974, 'activation': 'relu', 'optimizer': 'sgd', 'lr': 0.008979444455416008, 'epochs': 96, 'batch_size': 32}. Best is trial 6 with value: 0.2400605562734727.\u001b[0m\n",
      "\u001b[32m[I 2022-10-12 07:09:13,890]\u001b[0m Trial 9 finished with value: 0.15848159124934647 and parameters: {'hidden_size': 57, 'n_layers': 3, 'dropout': 0.12810015732641816, 'activation': 'relu', 'optimizer': 'adam', 'lr': 0.00013616340974100753, 'epochs': 76, 'batch_size': 16}. Best is trial 6 with value: 0.2400605562734727.\u001b[0m\n",
      "\u001b[32m[I 2022-10-12 07:09:43,372]\u001b[0m Trial 10 finished with value: 0.1877257870113798 and parameters: {'hidden_size': 51, 'n_layers': 1, 'dropout': 0.26973480689167817, 'activation': 'tanh', 'optimizer': 'adam', 'lr': 0.04232224980794756, 'epochs': 5, 'batch_size': 4}. Best is trial 6 with value: 0.2400605562734727.\u001b[0m\n",
      "\u001b[32m[I 2022-10-12 07:11:01,997]\u001b[0m Trial 11 finished with value: 0.1834187923466954 and parameters: {'hidden_size': 31, 'n_layers': 3, 'dropout': 0.316530758582414, 'activation': 'relu', 'optimizer': 'adam', 'lr': 0.00010969841546843814, 'epochs': 97, 'batch_size': 256}. Best is trial 6 with value: 0.2400605562734727.\u001b[0m\n",
      "\u001b[32m[I 2022-10-12 07:11:41,039]\u001b[0m Trial 12 finished with value: 0.23626521483688587 and parameters: {'hidden_size': 36, 'n_layers': 1, 'dropout': 0.3543149909085856, 'activation': 'tanh', 'optimizer': 'adam', 'lr': 0.00010026931366662212, 'epochs': 33, 'batch_size': 256}. Best is trial 6 with value: 0.2400605562734727.\u001b[0m\n",
      "\u001b[32m[I 2022-10-12 07:12:20,103]\u001b[0m Trial 13 finished with value: 0.20734422141948544 and parameters: {'hidden_size': 64, 'n_layers': 1, 'dropout': 0.38291828003068107, 'activation': 'tanh', 'optimizer': 'adam', 'lr': 0.0016351402763986444, 'epochs': 34, 'batch_size': 512}. Best is trial 6 with value: 0.2400605562734727.\u001b[0m\n",
      "\u001b[32m[I 2022-10-12 07:13:00,797]\u001b[0m Trial 14 finished with value: 0.2428354318320756 and parameters: {'hidden_size': 39, 'n_layers': 1, 'dropout': 0.22027395037013692, 'activation': 'tanh', 'optimizer': 'adam', 'lr': 0.00024676279502682533, 'epochs': 38, 'batch_size': 2}. Best is trial 14 with value: 0.2428354318320756.\u001b[0m\n",
      "\u001b[32m[I 2022-10-12 07:13:43,938]\u001b[0m Trial 15 finished with value: 0.2377975139301025 and parameters: {'hidden_size': 74, 'n_layers': 1, 'dropout': 0.21826992813314655, 'activation': 'tanh', 'optimizer': 'adam', 'lr': 0.0003524612752679442, 'epochs': 45, 'batch_size': 2}. Best is trial 14 with value: 0.2428354318320756.\u001b[0m\n",
      "\u001b[32m[I 2022-10-12 07:14:16,201]\u001b[0m Trial 16 finished with value: 0.22630858232631434 and parameters: {'hidden_size': 42, 'n_layers': 1, 'dropout': 0.03582929943338767, 'activation': 'tanh', 'optimizer': 'adam', 'lr': 0.004639859610117075, 'epochs': 12, 'batch_size': 1}. Best is trial 14 with value: 0.2428354318320756.\u001b[0m\n",
      "\u001b[32m[I 2022-10-12 07:14:52,918]\u001b[0m Trial 17 finished with value: 0.23029156901186282 and parameters: {'hidden_size': 71, 'n_layers': 2, 'dropout': 0.21596370380507904, 'activation': 'tanh', 'optimizer': 'adam', 'lr': 0.00018382966751768765, 'epochs': 19, 'batch_size': 2}. Best is trial 14 with value: 0.2428354318320756.\u001b[0m\n",
      "\u001b[32m[I 2022-10-12 07:15:36,803]\u001b[0m Trial 18 finished with value: 0.2508004372010185 and parameters: {'hidden_size': 43, 'n_layers': 1, 'dropout': 0.06971521024401563, 'activation': 'tanh', 'optimizer': 'adam', 'lr': 3.998753423003042e-05, 'epochs': 47, 'batch_size': 8}. Best is trial 18 with value: 0.2508004372010185.\u001b[0m\n",
      "\u001b[32m[I 2022-10-12 07:16:27,133]\u001b[0m Trial 19 finished with value: 0.22715549885850927 and parameters: {'hidden_size': 40, 'n_layers': 2, 'dropout': 0.06149262538244182, 'activation': 'tanh', 'optimizer': 'adam', 'lr': 2.3535232457616928e-05, 'epochs': 52, 'batch_size': 8}. Best is trial 18 with value: 0.2508004372010185.\u001b[0m\n",
      "\u001b[32m[I 2022-10-12 07:17:06,504]\u001b[0m Trial 20 finished with value: 0.22359123938725486 and parameters: {'hidden_size': 13, 'n_layers': 1, 'dropout': 0.24623960069784437, 'activation': 'sigmoid', 'optimizer': 'adam', 'lr': 4.769694073330245e-05, 'epochs': 42, 'batch_size': 8}. Best is trial 18 with value: 0.2508004372010185.\u001b[0m\n",
      "\u001b[32m[I 2022-10-12 07:17:42,275]\u001b[0m Trial 21 finished with value: 0.24215049940374786 and parameters: {'hidden_size': 47, 'n_layers': 1, 'dropout': 0.0658319003788706, 'activation': 'tanh', 'optimizer': 'adam', 'lr': 0.0002523547222567704, 'epochs': 23, 'batch_size': 8}. Best is trial 18 with value: 0.2508004372010185.\u001b[0m\n",
      "\u001b[32m[I 2022-10-12 07:18:18,020]\u001b[0m Trial 22 finished with value: 0.23787833756088933 and parameters: {'hidden_size': 30, 'n_layers': 1, 'dropout': 0.0627070402033779, 'activation': 'tanh', 'optimizer': 'adam', 'lr': 0.0003050486149971489, 'epochs': 23, 'batch_size': 8}. Best is trial 18 with value: 0.2508004372010185.\u001b[0m\n",
      "\u001b[32m[I 2022-10-12 07:18:59,344]\u001b[0m Trial 23 finished with value: 0.22902026448795137 and parameters: {'hidden_size': 43, 'n_layers': 1, 'dropout': 0.0007600890176346492, 'activation': 'tanh', 'optimizer': 'adam', 'lr': 0.0008912633914736427, 'epochs': 41, 'batch_size': 8}. Best is trial 18 with value: 0.2508004372010185.\u001b[0m\n",
      "\u001b[32m[I 2022-10-12 07:19:33,814]\u001b[0m Trial 24 finished with value: 0.2585468824463755 and parameters: {'hidden_size': 56, 'n_layers': 1, 'dropout': 0.07023952502546275, 'activation': 'tanh', 'optimizer': 'adam', 'lr': 1.079686772327594e-05, 'epochs': 19, 'batch_size': 8}. Best is trial 24 with value: 0.2585468824463755.\u001b[0m\n",
      "\u001b[32m[I 2022-10-12 07:20:24,851]\u001b[0m Trial 25 finished with value: 0.24549445820030713 and parameters: {'hidden_size': 59, 'n_layers': 2, 'dropout': 0.17890107802354852, 'activation': 'tanh', 'optimizer': 'adam', 'lr': 3.373372375682774e-05, 'epochs': 51, 'batch_size': 2}. Best is trial 24 with value: 0.2585468824463755.\u001b[0m\n",
      "\u001b[32m[I 2022-10-12 07:21:16,359]\u001b[0m Trial 26 finished with value: 0.23849578885640682 and parameters: {'hidden_size': 60, 'n_layers': 2, 'dropout': 0.17518575962069222, 'activation': 'tanh', 'optimizer': 'adam', 'lr': 1.2897844246072432e-05, 'epochs': 50, 'batch_size': 16}. Best is trial 24 with value: 0.2585468824463755.\u001b[0m\n",
      "\u001b[32m[I 2022-10-12 07:22:16,354]\u001b[0m Trial 27 finished with value: 0.24508322204836813 and parameters: {'hidden_size': 81, 'n_layers': 2, 'dropout': 0.0784320107542454, 'activation': 'tanh', 'optimizer': 'adam', 'lr': 4.7823462572803256e-05, 'epochs': 72, 'batch_size': 128}. Best is trial 24 with value: 0.2585468824463755.\u001b[0m\n",
      "\u001b[32m[I 2022-10-12 07:23:14,717]\u001b[0m Trial 28 finished with value: 0.22714549214871965 and parameters: {'hidden_size': 68, 'n_layers': 3, 'dropout': 0.09877608228271816, 'activation': 'tanh', 'optimizer': 'adam', 'lr': 1.8656541354051744e-05, 'epochs': 51, 'batch_size': 512}. Best is trial 24 with value: 0.2585468824463755.\u001b[0m\n",
      "\u001b[32m[I 2022-10-12 07:24:11,602]\u001b[0m Trial 29 finished with value: 0.22622646441790908 and parameters: {'hidden_size': 59, 'n_layers': 2, 'dropout': 0.177420658342354, 'activation': 'sigmoid', 'optimizer': 'adam', 'lr': 4.436378721693453e-05, 'epochs': 58, 'batch_size': 32}. Best is trial 24 with value: 0.2585468824463755.\u001b[0m\n"
     ]
    },
    {
     "name": "stdout",
     "output_type": "stream",
     "text": [
      "Number of finished trials:  30\n",
      "Best trial:\n",
      "  Value: 0.2585468824463755\n",
      "  Params: \n",
      "    hidden_size: 56\n",
      "    n_layers: 1\n",
      "    dropout: 0.07023952502546275\n",
      "    activation: tanh\n",
      "    optimizer: adam\n",
      "    lr: 1.079686772327594e-05\n",
      "    epochs: 19\n",
      "    batch_size: 8\n"
     ]
    },
    {
     "data": {
      "image/png": "[encoded data removed]",
      "text/plain": [
       "<Figure size 432x288 with 1 Axes>"
      ]
     },
     "metadata": {
      "needs_background": "light"
     },
     "output_type": "display_data"
    }
   ],
   "source": [
    "# Build optuna objective function.\n",
    "import optuna\n",
    "import sklearn \n",
    "\n",
    "def objective(trial):\n",
    "    # Data loading\n",
    "    y_max_u = pd.read_csv('..\\data\\ground_truth\\\\res_bus_vm_pu_max_balanced_constr.csv')\n",
    "    exogenous_data = pd.read_csv('..\\data\\ground_truth\\\\exogenous_data_vm_pu_max_balanced.csv').drop(columns=['date'])\n",
    "    X_max_u_train, X_max_u_test, y_max_u_train, y_max_u_test, scaler = utils.split_and_suffle(exogenous_data, y_max_u, test_size=0.2, scaling=True)\n",
    "    data = {'X_train':X_max_u_train.astype(float),\n",
    "            'X_test': X_max_u_test.astype(float),\n",
    "            'y_train':y_max_u_train.astype(float),\n",
    "            'y_test': y_max_u_test.astype(float)\n",
    "        }\n",
    "    # Dataset object creation\n",
    "    _dataset = myai.ThesisDataset(data)\n",
    "    hyper_params = {\n",
    "        'input_size': _dataset.X.shape[1],\n",
    "        'hidden_size': trial.suggest_int('hidden_size', 1, 100),\n",
    "        'output_size': _dataset.y.shape[1],\n",
    "        'n_layers': trial.suggest_int('n_layers', 1, 3),\n",
    "        'dropout': trial.suggest_float('dropout', 0.0, 0.5),\n",
    "        'activation': trial.suggest_categorical('activation', ['relu', 'tanh', 'sigmoid']),\n",
    "        'optimizer': trial.suggest_categorical('optimizer', ['adam', 'sgd']),\n",
    "        'lr': trial.suggest_float('lr', 1e-5, 1e-1, log=True),\n",
    "        'epochs': trial.suggest_int('epochs', 1, 100),\n",
    "        'batch_size': trial.suggest_categorical('batch_size', [1, 2, 4, 8, 16, 32, 64, 128, 256, 512, 1024]),\n",
    "        'classifier': False\n",
    "        }\n",
    "    model = myai.Context(myai.MultilayerPerceptronStrategy(hyper_params))\n",
    "    model.fit(data)\n",
    "    prediction = model.predict(data_max_reg)\n",
    "    prediction = pd.DataFrame(prediction, columns=y_max_u.columns)\n",
    "    metric = metrics.Metrics()\n",
    "    metric.get_prediction_scores(prediction, data_max_reg['y_test'], threshold=threshold_max)\n",
    "    return metric.hybrid_mcc\n",
    "study = optuna.create_study(direction=\"maximize\")\n",
    "study.optimize(objective, n_trials=num_trials)\n",
    "print(\"Number of finished trials: \", len(study.trials))\n",
    "print(\"Best trial:\")\n",
    "trial = study.best_trial\n",
    "print(\"  Value: {}\".format(trial.value))\n",
    "print(\"  Params: \")\n",
    "for key, value in trial.params.items():\n",
    "    print(\"    {}: {}\".format(key, value))\n",
    "# Write the results to a csv file.\n",
    "with open(\"./hyper_params_results_mcc/params_mlp_regression_balanced_max_u.csv\", \"w\") as f:\n",
    "    f.write(\"params,value\\n\")\n",
    "    for key, value in trial.params.items():\n",
    "        f.write(\"{},{}\\n\".format(key, value))\n",
    "    f.write(\"classifier,False\\n\")\n",
    "    f.write(\"value,{}\\n\".format(trial.value))"
   ]
  }
 ],
 "metadata": {
  "kernelspec": {
   "display_name": "Python 3.8.10 ('env': venv)",
   "language": "python",
   "name": "python3"
  },
  "language_info": {
   "codemirror_mode": {
    "name": "ipython",
    "version": 3
   },
   "file_extension": ".py",
   "mimetype": "text/x-python",
   "name": "python",
   "nbconvert_exporter": "python",
   "pygments_lexer": "ipython3",
   "version": "3.8.10"
  },
  "orig_nbformat": 4,
  "vscode": {
   "interpreter": {
    "hash": "4fe4baa4d27e3b73db55d4bb4674105e8dd41faaf9e559c3cc8381041ce15293"
   }
  }
 },
 "nbformat": 4,
 "nbformat_minor": 2
}
