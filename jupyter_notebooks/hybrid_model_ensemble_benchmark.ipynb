{
 "cells": [
  {
   "cell_type": "markdown",
   "metadata": {},
   "source": [
    "# Hybrid Model Ensemble Benchmark\n",
    "The objective of this notebook is to benchmark the performance of the hybrid model ensemble. \n",
    "\n",
    "**Summary of the notebook**\n",
    "- Explanation of the methodology.\n",
    "- Benchmarking of the hybrid model ensemble.  "
   ]
  },
  {
   "cell_type": "markdown",
   "metadata": {},
   "source": [
    "## Introduction to the model \n",
    "The objective of the hybrid model ensemble is to combine the classification and regression models in the same prediction task. Since the objective is to forecast the occurrence and amplitude of constraint violations, the objective is to divide this task into two subtasks to be carried out by two different models. The first model is a classification model that predicts the occurrence of constraint violations. The second model is a regression model that predicts the amplitude of constraint violations. The hybrid model ensemble combines the predictions of the two models to obtain the final prediction. The models chosen are the ones that had the best performance in the dataset benchmarking. \n",
    "\n",
    "To test this methodology it is necessary to create a hybrid data set as well, where for each bus, there are two target features, one for the classification task and one for the regression task. The classification target is a binary variable that indicates whether the bus has a constraint violation or not. The regression target is the amplitude of the constraint violation. \n",
    "\n",
    "The prediction generation of the hybrid ensemble model has the following algoruthm:\n",
    "- constr_occurrence ⟵  classification_prediction()\n",
    "- if constr_occurrence > 1\n",
    "    - amplitude_constr ⟵ regression_prediction()\n",
    "- else\n",
    "    - amplitude_constr  0\n",
    "- target_datapoint ⟵ (constr_occurrence, amplitude_constr) "
   ]
  },
  {
   "cell_type": "markdown",
   "metadata": {},
   "source": []
  },
  {
   "cell_type": "markdown",
   "metadata": {},
   "source": [
    "model_c, model_r \n",
    "fow row in rows:\n",
    "    if model_c(row):\n",
    "        res = model_r(row)\n",
    "    else:\n",
    "        res = 0\n",
    "    output.append(res)\n",
    "output\n",
    "\n",
    "train: |exogenous|real_bool| -> |constraint_amplitude|\n",
    "test: |exogenous|predict_bool| -> |predicted constraint_amplitude|"
   ]
  }
 ],
 "metadata": {
  "kernelspec": {
   "display_name": "Python 3.8.10 ('env': venv)",
   "language": "python",
   "name": "python3"
  },
  "language_info": {
   "name": "python",
   "version": "3.8.10"
  },
  "orig_nbformat": 4,
  "vscode": {
   "interpreter": {
    "hash": "4fe4baa4d27e3b73db55d4bb4674105e8dd41faaf9e559c3cc8381041ce15293"
   }
  }
 },
 "nbformat": 4,
 "nbformat_minor": 2
}
