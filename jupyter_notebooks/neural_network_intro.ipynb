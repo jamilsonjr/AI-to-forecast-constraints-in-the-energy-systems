{
 "cells": [
  {
   "cell_type": "markdown",
   "metadata": {},
   "source": [
    "# Neural Network Intro\n",
    "\n",
    "**Summary of Article**\n",
    "- Theoretical Introduction to Neural Networks.\n",
    "- FeedForward Neural Network Implementation for Regression.\n",
    "- FeedForward Neural Network Implementation for Classification.\n",
    "\n"
   ]
  },
  {
   "cell_type": "markdown",
   "metadata": {},
   "source": [
    "## Neural Network Intro\n",
    "### Theoretical Introduction to Neural Networks\n",
    "Neural Networks (NN)  are a class of ML models that are based on the connections of layers of artificial neurons. The connections between the layers are made up of weights and biases, that are updated during the training process. Activation functions are used to determine the output of a neuron. Different activation functions are what allow the NN to learn and generalize expressive results. The following illustration represents the architecture of a neural network. (Only on thesis)\n",
    "** Figure here **.\n",
    "### Training Process \n",
    "The training process of a NN is the process of updating the weights and biases of the neural network to make it better at predicting the output of the input. Backpropagation is a method of updating the weights and biases, where the derivative of the loss fuction with respect to the weights and biases, is used to update the respective values. The training process takes the following steps:\n",
    "\n",
    "- Take a batch of training data.\n",
    "- Forward propagate the batch of data through the neural network.\n",
    "- Compute the loss function for the batch of data.\n",
    "- Backpropagate the loss function to get the gradients.\n",
    "- Update the weights and biases using the gradients.\n",
    "- Repeat the above steps until the loss function is less than a determined threshold.\n",
    "\n",
    "The most common activation function are: \n",
    "- Sigmoid function: $$g(z) = \\frac{1}{1+e^{-z}}$$\n",
    "- Tanh: $$ g(z)= \\frac{e^{z} - e^{-z}}{e^{z} + e^{-z}}$$\n",
    "- ReLu: $$ g(z) = \\max(0,z)$$\n",
    "\n",
    "The most common Loss functions for Regression is:\n",
    "- RMSE: $$L(z,y) = \\sqrt{\\frac{1}{n} \\sum_{i=1}^{n} (y_i - z_i)^2}$$\n"
   ]
  },
  {
   "cell_type": "markdown",
   "metadata": {},
   "source": [
    "## Training a Neural Network with PyTorch \n",
    "Now Pytorch will be used to train a neural network. The data will be the sparse dataset normalized."
   ]
  },
  {
   "cell_type": "code",
   "execution_count": 1,
   "metadata": {},
   "outputs": [
    {
     "name": "stderr",
     "output_type": "stream",
     "text": [
      "c:\\Users\\jamil\\Documents\\IST\\Thesis\\new_thesis\\code\\AI-to-forecast-constraints-in-the-energy-systems\\env\\lib\\site-packages\\tqdm\\auto.py:22: TqdmWarning: IProgress not found. Please update jupyter and ipywidgets. See https://ipywidgets.readthedocs.io/en/stable/user_install.html\n",
      "  from .autonotebook import tqdm as notebook_tqdm\n"
     ]
    }
   ],
   "source": [
    "import pandas as pd\n",
    "import torch\n",
    "import sys; sys.path.append('..')\n",
    "from thesis_package import utils"
   ]
  },
  {
   "cell_type": "markdown",
   "metadata": {},
   "source": [
    "The first step is to create the data set class. Our data set class will extend `torch.utils.data.Dataset`. Afterwards, we will create the data loader class. The data loader class will extend `torch.utils.data.DataLoader`. The data loader is used to separate the data set in batches, shuffle the data set and create an iterator.\n",
    "\n",
    "First the dataset is loaded and prepared in tha same fashion as for the other ML models."
   ]
  },
  {
   "cell_type": "code",
   "execution_count": 2,
   "metadata": {},
   "outputs": [],
   "source": [
    "y_max_u_bool = pd.read_csv('..\\data\\ground_truth\\\\res_bus_vm_pu_max_bool_constr.csv').drop(columns='timestamps')\n",
    "y_max_u = y_max_u_bool[utils.cols_with_positive_values(y_max_u_bool)]\n",
    "exogenous_data = pd.read_csv('..\\data\\processed\\production\\exogenous_data_extended.csv').drop(columns=['date'])\n",
    "X_max_u_bool_train, X_max_u_bool_test, y_max_u_bool_train, y_max_u_bool_test, scaler = utils.split_and_suffle(exogenous_data, y_max_u_bool, scaling=True)\n",
    "data = {'X_train':X_max_u_bool_train.astype(float),\n",
    "        'X_test': X_max_u_bool_test.astype(float),\n",
    "        'y_train':y_max_u_bool_train.astype(float),\n",
    "        'y_test': y_max_u_bool_test.astype(float)\n",
    "    }"
   ]
  },
  {
   "cell_type": "markdown",
   "metadata": {},
   "source": [
    "Then the dataset class is declared."
   ]
  },
  {
   "cell_type": "code",
   "execution_count": 3,
   "metadata": {},
   "outputs": [
    {
     "data": {
      "text/plain": [
       "(tensor([0.9355, 0.4582, 0.4807, 0.4887, 1.0000, 0.8571, 0.4955, 0.4880, 0.9356,\n",
       "         0.7071, 0.4650]),\n",
       " tensor([0., 0., 0., 0., 0., 0., 0., 0., 0., 0., 0., 0., 0., 0., 0., 0., 0., 0., 0., 0., 0., 0., 0., 0.,\n",
       "         0., 0., 0., 0., 0., 0., 0., 0., 0., 0.]))"
      ]
     },
     "execution_count": 3,
     "metadata": {},
     "output_type": "execute_result"
    }
   ],
   "source": [
    "from torch.utils.data import Dataset, DataLoader\n",
    "class ThesisDataset(Dataset):\n",
    "    def __init__(self, data) -> None:\n",
    "        train_X, train_y = data['X_train'], data['y_train']\n",
    "        test_X, test_y = data['X_test'], data['y_test']\n",
    "        self.X = torch.from_numpy(train_X.values).float()\n",
    "        self.y = torch.from_numpy(train_y.values).float()\n",
    "        self.X_test = torch.from_numpy(test_X.values).float()\n",
    "        self.y_test = torch.from_numpy(test_y.values).float()\n",
    "    def __getitem__(self, index) -> tuple:\n",
    "        return self.X[index], self.y[index]\n",
    "    def __len__(self) -> int:\n",
    "        return len(self.X)\n",
    "dataset = ThesisDataset(data)\n",
    "dataset[0]"
   ]
  },
  {
   "cell_type": "markdown",
   "metadata": {},
   "source": [
    "Now we create our data loader object."
   ]
  },
  {
   "cell_type": "code",
   "execution_count": 4,
   "metadata": {},
   "outputs": [
    {
     "name": "stdout",
     "output_type": "stream",
     "text": [
      "Total samples: 36172, total interations: 1131\n"
     ]
    }
   ],
   "source": [
    "dataloader = DataLoader(dataset, batch_size=32, shuffle=True)\n",
    "dataiter = iter(dataloader)\n",
    "from math import ceil\n",
    "total_samples = len(dataset)\n",
    "n_iterations = ceil(total_samples / 32)\n",
    "print('Total samples: {}, total interations: {}'.format(total_samples, n_iterations))"
   ]
  },
  {
   "cell_type": "markdown",
   "metadata": {},
   "source": [
    "Now our training loop will look like the follwing:\n",
    "\n",
    "```python\t\n",
    "for epoch in range(num_epochs):\n",
    "    for i, (features, labels) in enumerate(dataloader):\n",
    "        # Zero grads, Forward, Backwards and Update\n",
    "    # Compute and print loss\n",
    "    # Evaluate model on validation set\n",
    "```"
   ]
  },
  {
   "cell_type": "markdown",
   "metadata": {},
   "source": [
    "Now, it is necessary to decide on hyperparameters for the neural network. These hyper parameters will later be tunned using optuna."
   ]
  },
  {
   "cell_type": "code",
   "execution_count": 5,
   "metadata": {},
   "outputs": [],
   "source": [
    "model_params = {\n",
    "    'input_size': dataset.X.shape[1],\n",
    "    'hidden_size': 32,\n",
    "    'output_size': dataset.y.shape[1],\n",
    "    'n_layers': 4,\n",
    "    'dropout': 0.5\n",
    "}"
   ]
  },
  {
   "cell_type": "code",
   "execution_count": 6,
   "metadata": {},
   "outputs": [
    {
     "name": "stdout",
     "output_type": "stream",
     "text": [
      "11\n",
      "34\n"
     ]
    }
   ],
   "source": [
    "print(dataset.X.shape[1])\n",
    "print(dataset.y.shape[1])"
   ]
  },
  {
   "cell_type": "markdown",
   "metadata": {},
   "source": [
    "It is important to configure the device once it is faster to train the models oh the GPU, if one is available. Later it is necessary to push th tensors into device."
   ]
  },
  {
   "cell_type": "code",
   "execution_count": 7,
   "metadata": {},
   "outputs": [
    {
     "data": {
      "text/plain": [
       "device(type='cpu')"
      ]
     },
     "execution_count": 7,
     "metadata": {},
     "output_type": "execute_result"
    }
   ],
   "source": [
    "device = torch.device('cuda' if torch.cuda.is_available() else 'cpu')\n",
    "device # In my case I don't have a GPU, so I use the CPU ... Sad, so if anyone wants to give me a GPU, hit me up on LinkedIn :) "
   ]
  },
  {
   "cell_type": "markdown",
   "metadata": {},
   "source": [
    "First, we define a model."
   ]
  },
  {
   "cell_type": "code",
   "execution_count": 8,
   "metadata": {},
   "outputs": [],
   "source": [
    "import torch.nn as nn\n",
    "class FeedforwardNetwork(nn.Module):\n",
    "    def __init__(\n",
    "            self, model_params, **kwargs):\n",
    "        \"\"\"\n",
    "        n_classes (int)\n",
    "        n_features (int)\n",
    "        hidden_size (int)   \n",
    "        layers (int)\n",
    "        activation_type (str)\n",
    "        dropout (float): dropout probability\n",
    "        As in logistic regression, the __init__ here defines a bunch of\n",
    "        attributes that each FeedforwardNetwork instance has. Note that nn\n",
    "        includes modules for several activation functions and dropout as well.\n",
    "        \"\"\"\n",
    "        super(FeedforwardNetwork, self).__init__()\n",
    "        output_size, input_size, hidden_size, n_leayers, dropout = model_params['output_size'], model_params['input_size'], model_params['hidden_size'], model_params['n_layers'], model_params['dropout']\n",
    "        layers = []\n",
    "        for i in range(n_leayers):\n",
    "            if i == 0:\n",
    "                layers.append(nn.Linear(input_size, hidden_size))\n",
    "            else:\n",
    "                layers.append(nn.Linear(hidden_size, hidden_size))\n",
    "            layers.append(nn.Tanh())\n",
    "            layers.append(nn.Dropout(dropout))\n",
    "        layers.append(nn.Linear(hidden_size, output_size))\n",
    "        self.feedforward_nn = nn.Sequential(*layers)\n",
    "    def forward(self, x, **kwargs):\n",
    "        \"\"\"\n",
    "        x (batch_size x n_features): a batch of training examples\n",
    "        This method needs to perform all the computation needed to compute\n",
    "        the output logits from x. This will include using various hidden\n",
    "        layers, pointwise nonlinear functions, and dropout.\n",
    "        \"\"\"\n",
    "        return self.feedforward_nn(x)"
   ]
  },
  {
   "cell_type": "code",
   "execution_count": 9,
   "metadata": {},
   "outputs": [
    {
     "data": {
      "text/plain": [
       "FeedforwardNetwork(\n",
       "  (feedforward_nn): Sequential(\n",
       "    (0): Linear(in_features=11, out_features=32, bias=True)\n",
       "    (1): Tanh()\n",
       "    (2): Dropout(p=0.5, inplace=False)\n",
       "    (3): Linear(in_features=32, out_features=32, bias=True)\n",
       "    (4): Tanh()\n",
       "    (5): Dropout(p=0.5, inplace=False)\n",
       "    (6): Linear(in_features=32, out_features=32, bias=True)\n",
       "    (7): Tanh()\n",
       "    (8): Dropout(p=0.5, inplace=False)\n",
       "    (9): Linear(in_features=32, out_features=32, bias=True)\n",
       "    (10): Tanh()\n",
       "    (11): Dropout(p=0.5, inplace=False)\n",
       "    (12): Linear(in_features=32, out_features=34, bias=True)\n",
       "  )\n",
       ")"
      ]
     },
     "execution_count": 9,
     "metadata": {},
     "output_type": "execute_result"
    }
   ],
   "source": [
    "model = FeedforwardNetwork(model_params)\n",
    "model"
   ]
  },
  {
   "cell_type": "markdown",
   "metadata": {},
   "source": [
    "Now we define the `train_batch()` function. This function will be used to train the model on a batch of data. The train_batch has he following steps:\n",
    "- Setting the stored gradient values to zero.\n",
    "- Computes the gradient of the given tensor with respect to the weights and biases.\n",
    "-  Computes the gradient of the given tensor w.r.t. graph leaves.\n",
    "- Updates weights and biases with the optimizer (SGD of ADAM)"
   ]
  },
  {
   "cell_type": "code",
   "execution_count": 10,
   "metadata": {},
   "outputs": [],
   "source": [
    "def train_batch(X, y, model, optimizer, criterion, **kwargs):\n",
    "    \"\"\"\n",
    "    X (n_examples x n_features)\n",
    "    y (n_examples): gold labels\n",
    "    model: a PyTorch defined model\n",
    "    optimizer: optimizer used in gradient step\n",
    "    criterion: loss function\n",
    "    To train a batch, the model needs to predict outputs for X, compute the\n",
    "    loss between these predictions and the \"gold\" labels y using the criterion,\n",
    "    and compute the gradient of the loss with respect to the model parameters.\n",
    "    Check out https://pytorch.org/docs/stable/optim.html for examples of how\n",
    "    to use an optimizer object to update the parameters.\n",
    "    This function should return the loss (tip: call loss.item()) to get the\n",
    "    loss as a numerical value that is not part of the computation graph.\n",
    "    \"\"\"\n",
    "    # Forward\n",
    "    #print('X shape: {}'.format(X.shape))\n",
    "    output = model(X)  # Computes the gradient of the given tensor w.r.t. the weights/bias\n",
    "    #print('output shape: {}, y_shape: {}'.format(output.shape, y.shape))\n",
    "    loss = criterion(output, y) # cross entropy in this case\n",
    "    # Backwards\n",
    "    optimizer.zero_grad()  # Setting our stored gradients equal to zero\n",
    "    loss.backward() # Computes the gradient of the given tensor w.r.t. graph leaves \n",
    "    optimizer.step() # Updates weights and biases with the optimizer (SGD of ADAM)\n",
    "    return loss.item()\n",
    "    \n",
    "def predict(model, X):\n",
    "    \"\"\"X (n_examples x n_features)\"\"\"\n",
    "    scores = model(X)  # (n_examples x n_classes)\n",
    "    return scores\n",
    "\n",
    "def evaluate(model, X, y):\n",
    "    \"\"\"\n",
    "    X (n_examples x n_features)\n",
    "    y (n_examples): gold labels\n",
    "    \"\"\"\n",
    "    model.eval()\n",
    "    y_hat = predict(model, X)\n",
    "    y_hat = torch.heaviside(y_hat, torch.tensor(0.0))\n",
    "    n_correct = (y == y_hat).sum().item()\n",
    "    n_possible = float(y.shape[0])\n",
    "    model.train()\n",
    "    return n_correct / n_possible"
   ]
  },
  {
   "cell_type": "markdown",
   "metadata": {},
   "source": [
    "Plotting function."
   ]
  },
  {
   "cell_type": "code",
   "execution_count": 11,
   "metadata": {},
   "outputs": [],
   "source": [
    "import matplotlib.pyplot as plt\n",
    "def plot(epochs, plottable, ylabel='', title=''):\n",
    "    plt.clf()\n",
    "    plt.xlabel('Epoch')\n",
    "    plt.ylabel(ylabel)\n",
    "    plt.plot(epochs, plottable)\n",
    "    plt.grid()\n",
    "    plt.title(title)"
   ]
  },
  {
   "cell_type": "code",
   "execution_count": 12,
   "metadata": {},
   "outputs": [
    {
     "name": "stdout",
     "output_type": "stream",
     "text": [
      "Training epoch 1\n",
      "Training loss: 1.9284\n",
      "Training epoch 2\n",
      "Training loss: 1.8939\n",
      "Training epoch 3\n",
      "Training loss: 1.8542\n",
      "Training epoch 4\n",
      "Training loss: 1.8101\n",
      "Training epoch 5\n",
      "Training loss: 1.7636\n",
      "Final Test acc: 25.3266\n"
     ]
    },
    {
     "data": {
      "image/png": "[encoded data removed]",
      "text/plain": [
       "<Figure size 432x288 with 1 Axes>"
      ]
     },
     "metadata": {
      "needs_background": "light"
     },
     "output_type": "display_data"
    }
   ],
   "source": [
    "# Data\n",
    "test_X, test_y = dataset.X_test, dataset.y_test\n",
    "# initialize the model    \n",
    "model = FeedforwardNetwork(model_params)\n",
    "# Hyperparameters\n",
    "hyper_params = {'optimizer': 'adam', 'lr': 0.001, 'epochs': 5, 'batch_size': 32}\n",
    "# get an optimizer\n",
    "optims = {\"adam\": torch.optim.Adam, \"sgd\": torch.optim.SGD}\n",
    "optim_cls = optims[\"sgd\"]\n",
    "optimizer = optim_cls(\n",
    "    model.parameters(),\n",
    "    lr=hyper_params[\"lr\"],\n",
    "    weight_decay=0.0)\n",
    "\n",
    "# get a loss criterion\n",
    "criterion = nn.CrossEntropyLoss()\n",
    "\n",
    "# training loop\n",
    "epochs = torch.arange(1, hyper_params['epochs'] + 1)\n",
    "train_mean_losses = []\n",
    "valid_accs = []\n",
    "train_losses = []\n",
    "for ii in epochs:\n",
    "    print('Training epoch {}'.format(ii))\n",
    "    for X_batch, y_batch in dataloader:\n",
    "        # X = batch_size x 11, y = batch_size x 34\n",
    "        # Print X_batch.shape, y_batch.shape\n",
    "        # print('X_batch shape: {}, y_batch shape: {}'.format(X_batch.shape, y_batch.shape))\n",
    "        loss = train_batch(\n",
    "            X_batch, y_batch, model, optimizer, criterion)\n",
    "        train_losses.append(loss)\n",
    "    mean_loss = torch.tensor(train_losses).mean().item()\n",
    "    print('Training loss: %.4f' % (mean_loss))\n",
    "\n",
    "    train_mean_losses.append(mean_loss)\n",
    "final_acc = evaluate(model, test_X, test_y)\n",
    "print('Final Test acc: %.4f' % (evaluate(model, test_X, test_y)))\n",
    "# plot\n",
    "plot(epochs, train_mean_losses, ylabel='Loss', title='Loss(Epoch)')"
   ]
  },
  {
   "cell_type": "code",
   "execution_count": 13,
   "metadata": {},
   "outputs": [],
   "source": [
    "prediction = predict(model, test_X)\n",
    "prediction = torch.heaviside(prediction, torch.tensor(0.0))\n",
    "prediction = pd.DataFrame(prediction.detach().numpy(), columns=y_max_u_bool.columns)"
   ]
  },
  {
   "cell_type": "code",
   "execution_count": 14,
   "metadata": {},
   "outputs": [
    {
     "data": {
      "text/html": [
       "<div>\n",
       "<style scoped>\n",
       "    .dataframe tbody tr th:only-of-type {\n",
       "        vertical-align: middle;\n",
       "    }\n",
       "\n",
       "    .dataframe tbody tr th {\n",
       "        vertical-align: top;\n",
       "    }\n",
       "\n",
       "    .dataframe thead th {\n",
       "        text-align: right;\n",
       "    }\n",
       "</style>\n",
       "<table border=\"1\" class=\"dataframe\">\n",
       "  <thead>\n",
       "    <tr style=\"text-align: right;\">\n",
       "      <th></th>\n",
       "      <th>ext_grid</th>\n",
       "      <th>bus_1</th>\n",
       "      <th>bus_2</th>\n",
       "      <th>bus_3</th>\n",
       "      <th>bus_4</th>\n",
       "      <th>bus_5</th>\n",
       "      <th>bus_6</th>\n",
       "      <th>bus_7</th>\n",
       "      <th>bus_8</th>\n",
       "      <th>bus_9</th>\n",
       "      <th>...</th>\n",
       "      <th>bus_30</th>\n",
       "      <th>bus_31</th>\n",
       "      <th>bus_17</th>\n",
       "      <th>bus_21</th>\n",
       "      <th>bus_24</th>\n",
       "      <th>bus_18</th>\n",
       "      <th>bus_23</th>\n",
       "      <th>bus_27</th>\n",
       "      <th>bus_32</th>\n",
       "      <th>bus_33</th>\n",
       "    </tr>\n",
       "  </thead>\n",
       "  <tbody>\n",
       "    <tr>\n",
       "      <th>0</th>\n",
       "      <td>0.0</td>\n",
       "      <td>0.0</td>\n",
       "      <td>0.0</td>\n",
       "      <td>0.0</td>\n",
       "      <td>0.0</td>\n",
       "      <td>0.0</td>\n",
       "      <td>0.0</td>\n",
       "      <td>0.0</td>\n",
       "      <td>0.0</td>\n",
       "      <td>1.0</td>\n",
       "      <td>...</td>\n",
       "      <td>0.0</td>\n",
       "      <td>0.0</td>\n",
       "      <td>0.0</td>\n",
       "      <td>1.0</td>\n",
       "      <td>0.0</td>\n",
       "      <td>1.0</td>\n",
       "      <td>0.0</td>\n",
       "      <td>0.0</td>\n",
       "      <td>0.0</td>\n",
       "      <td>1.0</td>\n",
       "    </tr>\n",
       "    <tr>\n",
       "      <th>1</th>\n",
       "      <td>0.0</td>\n",
       "      <td>0.0</td>\n",
       "      <td>0.0</td>\n",
       "      <td>0.0</td>\n",
       "      <td>0.0</td>\n",
       "      <td>0.0</td>\n",
       "      <td>0.0</td>\n",
       "      <td>0.0</td>\n",
       "      <td>0.0</td>\n",
       "      <td>1.0</td>\n",
       "      <td>...</td>\n",
       "      <td>0.0</td>\n",
       "      <td>0.0</td>\n",
       "      <td>0.0</td>\n",
       "      <td>0.0</td>\n",
       "      <td>0.0</td>\n",
       "      <td>1.0</td>\n",
       "      <td>0.0</td>\n",
       "      <td>0.0</td>\n",
       "      <td>0.0</td>\n",
       "      <td>0.0</td>\n",
       "    </tr>\n",
       "    <tr>\n",
       "      <th>2</th>\n",
       "      <td>0.0</td>\n",
       "      <td>0.0</td>\n",
       "      <td>0.0</td>\n",
       "      <td>0.0</td>\n",
       "      <td>0.0</td>\n",
       "      <td>0.0</td>\n",
       "      <td>0.0</td>\n",
       "      <td>0.0</td>\n",
       "      <td>0.0</td>\n",
       "      <td>1.0</td>\n",
       "      <td>...</td>\n",
       "      <td>1.0</td>\n",
       "      <td>0.0</td>\n",
       "      <td>0.0</td>\n",
       "      <td>0.0</td>\n",
       "      <td>0.0</td>\n",
       "      <td>1.0</td>\n",
       "      <td>1.0</td>\n",
       "      <td>0.0</td>\n",
       "      <td>0.0</td>\n",
       "      <td>0.0</td>\n",
       "    </tr>\n",
       "    <tr>\n",
       "      <th>3</th>\n",
       "      <td>0.0</td>\n",
       "      <td>0.0</td>\n",
       "      <td>0.0</td>\n",
       "      <td>0.0</td>\n",
       "      <td>0.0</td>\n",
       "      <td>1.0</td>\n",
       "      <td>0.0</td>\n",
       "      <td>0.0</td>\n",
       "      <td>0.0</td>\n",
       "      <td>1.0</td>\n",
       "      <td>...</td>\n",
       "      <td>1.0</td>\n",
       "      <td>0.0</td>\n",
       "      <td>0.0</td>\n",
       "      <td>0.0</td>\n",
       "      <td>0.0</td>\n",
       "      <td>1.0</td>\n",
       "      <td>0.0</td>\n",
       "      <td>0.0</td>\n",
       "      <td>0.0</td>\n",
       "      <td>0.0</td>\n",
       "    </tr>\n",
       "    <tr>\n",
       "      <th>4</th>\n",
       "      <td>0.0</td>\n",
       "      <td>0.0</td>\n",
       "      <td>1.0</td>\n",
       "      <td>0.0</td>\n",
       "      <td>0.0</td>\n",
       "      <td>1.0</td>\n",
       "      <td>0.0</td>\n",
       "      <td>0.0</td>\n",
       "      <td>0.0</td>\n",
       "      <td>1.0</td>\n",
       "      <td>...</td>\n",
       "      <td>0.0</td>\n",
       "      <td>0.0</td>\n",
       "      <td>0.0</td>\n",
       "      <td>1.0</td>\n",
       "      <td>1.0</td>\n",
       "      <td>1.0</td>\n",
       "      <td>1.0</td>\n",
       "      <td>0.0</td>\n",
       "      <td>0.0</td>\n",
       "      <td>1.0</td>\n",
       "    </tr>\n",
       "    <tr>\n",
       "      <th>...</th>\n",
       "      <td>...</td>\n",
       "      <td>...</td>\n",
       "      <td>...</td>\n",
       "      <td>...</td>\n",
       "      <td>...</td>\n",
       "      <td>...</td>\n",
       "      <td>...</td>\n",
       "      <td>...</td>\n",
       "      <td>...</td>\n",
       "      <td>...</td>\n",
       "      <td>...</td>\n",
       "      <td>...</td>\n",
       "      <td>...</td>\n",
       "      <td>...</td>\n",
       "      <td>...</td>\n",
       "      <td>...</td>\n",
       "      <td>...</td>\n",
       "      <td>...</td>\n",
       "      <td>...</td>\n",
       "      <td>...</td>\n",
       "      <td>...</td>\n",
       "    </tr>\n",
       "    <tr>\n",
       "      <th>9039</th>\n",
       "      <td>0.0</td>\n",
       "      <td>1.0</td>\n",
       "      <td>0.0</td>\n",
       "      <td>1.0</td>\n",
       "      <td>0.0</td>\n",
       "      <td>1.0</td>\n",
       "      <td>0.0</td>\n",
       "      <td>0.0</td>\n",
       "      <td>1.0</td>\n",
       "      <td>0.0</td>\n",
       "      <td>...</td>\n",
       "      <td>0.0</td>\n",
       "      <td>0.0</td>\n",
       "      <td>0.0</td>\n",
       "      <td>0.0</td>\n",
       "      <td>0.0</td>\n",
       "      <td>1.0</td>\n",
       "      <td>1.0</td>\n",
       "      <td>0.0</td>\n",
       "      <td>0.0</td>\n",
       "      <td>1.0</td>\n",
       "    </tr>\n",
       "    <tr>\n",
       "      <th>9040</th>\n",
       "      <td>0.0</td>\n",
       "      <td>0.0</td>\n",
       "      <td>0.0</td>\n",
       "      <td>0.0</td>\n",
       "      <td>0.0</td>\n",
       "      <td>0.0</td>\n",
       "      <td>0.0</td>\n",
       "      <td>0.0</td>\n",
       "      <td>1.0</td>\n",
       "      <td>0.0</td>\n",
       "      <td>...</td>\n",
       "      <td>0.0</td>\n",
       "      <td>0.0</td>\n",
       "      <td>0.0</td>\n",
       "      <td>1.0</td>\n",
       "      <td>0.0</td>\n",
       "      <td>1.0</td>\n",
       "      <td>1.0</td>\n",
       "      <td>0.0</td>\n",
       "      <td>0.0</td>\n",
       "      <td>1.0</td>\n",
       "    </tr>\n",
       "    <tr>\n",
       "      <th>9041</th>\n",
       "      <td>0.0</td>\n",
       "      <td>0.0</td>\n",
       "      <td>0.0</td>\n",
       "      <td>1.0</td>\n",
       "      <td>0.0</td>\n",
       "      <td>1.0</td>\n",
       "      <td>0.0</td>\n",
       "      <td>1.0</td>\n",
       "      <td>1.0</td>\n",
       "      <td>1.0</td>\n",
       "      <td>...</td>\n",
       "      <td>1.0</td>\n",
       "      <td>0.0</td>\n",
       "      <td>1.0</td>\n",
       "      <td>1.0</td>\n",
       "      <td>1.0</td>\n",
       "      <td>1.0</td>\n",
       "      <td>1.0</td>\n",
       "      <td>0.0</td>\n",
       "      <td>0.0</td>\n",
       "      <td>1.0</td>\n",
       "    </tr>\n",
       "    <tr>\n",
       "      <th>9042</th>\n",
       "      <td>0.0</td>\n",
       "      <td>0.0</td>\n",
       "      <td>1.0</td>\n",
       "      <td>0.0</td>\n",
       "      <td>0.0</td>\n",
       "      <td>1.0</td>\n",
       "      <td>0.0</td>\n",
       "      <td>0.0</td>\n",
       "      <td>0.0</td>\n",
       "      <td>1.0</td>\n",
       "      <td>...</td>\n",
       "      <td>1.0</td>\n",
       "      <td>1.0</td>\n",
       "      <td>0.0</td>\n",
       "      <td>0.0</td>\n",
       "      <td>0.0</td>\n",
       "      <td>1.0</td>\n",
       "      <td>0.0</td>\n",
       "      <td>0.0</td>\n",
       "      <td>0.0</td>\n",
       "      <td>0.0</td>\n",
       "    </tr>\n",
       "    <tr>\n",
       "      <th>9043</th>\n",
       "      <td>0.0</td>\n",
       "      <td>0.0</td>\n",
       "      <td>0.0</td>\n",
       "      <td>0.0</td>\n",
       "      <td>0.0</td>\n",
       "      <td>0.0</td>\n",
       "      <td>0.0</td>\n",
       "      <td>0.0</td>\n",
       "      <td>0.0</td>\n",
       "      <td>1.0</td>\n",
       "      <td>...</td>\n",
       "      <td>0.0</td>\n",
       "      <td>0.0</td>\n",
       "      <td>0.0</td>\n",
       "      <td>1.0</td>\n",
       "      <td>0.0</td>\n",
       "      <td>1.0</td>\n",
       "      <td>1.0</td>\n",
       "      <td>0.0</td>\n",
       "      <td>0.0</td>\n",
       "      <td>1.0</td>\n",
       "    </tr>\n",
       "  </tbody>\n",
       "</table>\n",
       "<p>9044 rows × 34 columns</p>\n",
       "</div>"
      ],
      "text/plain": [
       "      ext_grid  bus_1  bus_2  bus_3  bus_4  bus_5  bus_6  bus_7  bus_8  bus_9  \\\n",
       "0          0.0    0.0    0.0    0.0    0.0    0.0    0.0    0.0    0.0    1.0   \n",
       "1          0.0    0.0    0.0    0.0    0.0    0.0    0.0    0.0    0.0    1.0   \n",
       "2          0.0    0.0    0.0    0.0    0.0    0.0    0.0    0.0    0.0    1.0   \n",
       "3          0.0    0.0    0.0    0.0    0.0    1.0    0.0    0.0    0.0    1.0   \n",
       "4          0.0    0.0    1.0    0.0    0.0    1.0    0.0    0.0    0.0    1.0   \n",
       "...        ...    ...    ...    ...    ...    ...    ...    ...    ...    ...   \n",
       "9039       0.0    1.0    0.0    1.0    0.0    1.0    0.0    0.0    1.0    0.0   \n",
       "9040       0.0    0.0    0.0    0.0    0.0    0.0    0.0    0.0    1.0    0.0   \n",
       "9041       0.0    0.0    0.0    1.0    0.0    1.0    0.0    1.0    1.0    1.0   \n",
       "9042       0.0    0.0    1.0    0.0    0.0    1.0    0.0    0.0    0.0    1.0   \n",
       "9043       0.0    0.0    0.0    0.0    0.0    0.0    0.0    0.0    0.0    1.0   \n",
       "\n",
       "      ...  bus_30  bus_31  bus_17  bus_21  bus_24  bus_18  bus_23  bus_27  \\\n",
       "0     ...     0.0     0.0     0.0     1.0     0.0     1.0     0.0     0.0   \n",
       "1     ...     0.0     0.0     0.0     0.0     0.0     1.0     0.0     0.0   \n",
       "2     ...     1.0     0.0     0.0     0.0     0.0     1.0     1.0     0.0   \n",
       "3     ...     1.0     0.0     0.0     0.0     0.0     1.0     0.0     0.0   \n",
       "4     ...     0.0     0.0     0.0     1.0     1.0     1.0     1.0     0.0   \n",
       "...   ...     ...     ...     ...     ...     ...     ...     ...     ...   \n",
       "9039  ...     0.0     0.0     0.0     0.0     0.0     1.0     1.0     0.0   \n",
       "9040  ...     0.0     0.0     0.0     1.0     0.0     1.0     1.0     0.0   \n",
       "9041  ...     1.0     0.0     1.0     1.0     1.0     1.0     1.0     0.0   \n",
       "9042  ...     1.0     1.0     0.0     0.0     0.0     1.0     0.0     0.0   \n",
       "9043  ...     0.0     0.0     0.0     1.0     0.0     1.0     1.0     0.0   \n",
       "\n",
       "      bus_32  bus_33  \n",
       "0        0.0     1.0  \n",
       "1        0.0     0.0  \n",
       "2        0.0     0.0  \n",
       "3        0.0     0.0  \n",
       "4        0.0     1.0  \n",
       "...      ...     ...  \n",
       "9039     0.0     1.0  \n",
       "9040     0.0     1.0  \n",
       "9041     0.0     1.0  \n",
       "9042     0.0     0.0  \n",
       "9043     0.0     1.0  \n",
       "\n",
       "[9044 rows x 34 columns]"
      ]
     },
     "execution_count": 14,
     "metadata": {},
     "output_type": "execute_result"
    }
   ],
   "source": [
    "prediction"
   ]
  },
  {
   "cell_type": "code",
   "execution_count": 15,
   "metadata": {},
   "outputs": [
    {
     "data": {
      "text/plain": [
       "0.08962851231835677"
      ]
     },
     "execution_count": 15,
     "metadata": {},
     "output_type": "execute_result"
    }
   ],
   "source": [
    "import sklearn\n",
    "sklearn.metrics.f1_score(data['y_test'], prediction, average='micro')"
   ]
  },
  {
   "cell_type": "code",
   "execution_count": 16,
   "metadata": {},
   "outputs": [
    {
     "name": "stdout",
     "output_type": "stream",
     "text": [
      "FeedforwardNetwork(\n",
      "  (feedforward_nn): Sequential(\n",
      "    (0): Linear(in_features=11, out_features=32, bias=True)\n",
      "    (1): Tanh()\n",
      "    (2): Dropout(p=0.5, inplace=False)\n",
      "    (3): Linear(in_features=32, out_features=32, bias=True)\n",
      "    (4): Tanh()\n",
      "    (5): Dropout(p=0.5, inplace=False)\n",
      "    (6): Linear(in_features=32, out_features=32, bias=True)\n",
      "    (7): Tanh()\n",
      "    (8): Dropout(p=0.5, inplace=False)\n",
      "    (9): Linear(in_features=32, out_features=32, bias=True)\n",
      "    (10): Tanh()\n",
      "    (11): Dropout(p=0.5, inplace=False)\n",
      "    (12): Linear(in_features=32, out_features=34, bias=True)\n",
      "  )\n",
      ")\n"
     ]
    }
   ],
   "source": [
    "print(model.eval())"
   ]
  },
  {
   "cell_type": "code",
   "execution_count": 26,
   "metadata": {},
   "outputs": [],
   "source": [
    "# unscale the X_max_u_bool_train data for plotting.\n",
    "X_max_u_bool_train_unscaled = scaler['X_train'].inverse_transform(X_max_u_bool_train)\n",
    "# Each data set has its own scaler in order to be possible to inverse scale."
   ]
  },
  {
   "cell_type": "code",
   "execution_count": 27,
   "metadata": {},
   "outputs": [],
   "source": [
    "X_max_u_bool_train_unscaled = pd.DataFrame(X_max_u_bool_train_unscaled, columns=exogenous_data.columns)"
   ]
  }
 ],
 "metadata": {
  "kernelspec": {
   "display_name": "Python 3.8.10 ('env': venv)",
   "language": "python",
   "name": "python3"
  },
  "language_info": {
   "codemirror_mode": {
    "name": "ipython",
    "version": 3
   },
   "file_extension": ".py",
   "mimetype": "text/x-python",
   "name": "python",
   "nbconvert_exporter": "python",
   "pygments_lexer": "ipython3",
   "version": "3.8.10"
  },
  "orig_nbformat": 4,
  "vscode": {
   "interpreter": {
    "hash": "4fe4baa4d27e3b73db55d4bb4674105e8dd41faaf9e559c3cc8381041ce15293"
   }
  }
 },
 "nbformat": 4,
 "nbformat_minor": 2
}
