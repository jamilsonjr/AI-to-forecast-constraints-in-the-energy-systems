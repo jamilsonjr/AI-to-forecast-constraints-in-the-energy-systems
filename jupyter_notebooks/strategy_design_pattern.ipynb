{
 "cells": [
  {
   "cell_type": "markdown",
   "metadata": {},
   "source": [
    "# Stretegy Design Pattern for Machine Learning Algorithms Training\n",
    "This document presents the implementation in Python of the [Strategy Design Pattern](https://refactoring.guru/design-patterns/strategy/python/example#) in the context of Machine Learning Algorithms benchmarking.\n",
    "\n",
    "Note: The benchmarking is inside the scope of my master thesis titled \"Use of Artificial Intelligence to\n",
    "Forecast Constraints in the\n",
    "Energy Systems\" - Jamilson Junior\n",
    "\n",
    "All the classes functions and methods are implemented in the `thesis_package` in my [github repo](https://github.com/jamilsonjr)."
   ]
  },
  {
   "cell_type": "markdown",
   "metadata": {},
   "source": [
    "### Introduction to the Strategy Design Pattern \n",
    "Design Patterns, in general, are a set of best practices that can be used to solve common problems. The Strategy design pattern is one of the most common design patterns in software development, as it is used to solve the problem of selecting the correct algorithm to use for a given problem. The Strategy design pattern is a behavioral design pattern that defines a family of algorithms, encapsulates each one, and makes them interchangeable. In this context, it is used to select the appropriate model for the problem of predicting the power flow results of a power system."
   ]
  },
  {
   "cell_type": "markdown",
   "metadata": {},
   "source": [
    "### Implementation Structure of the Strategy Design Pattern in Python\n",
    "The Strategy design pattern has four major components:\n",
    "- **Context**: The context class defines the interface of the Strategy objects. It also defines the interface of the client that uses the Strategy objects.\n",
    "- **Strategy**: The strategy class defines the interface of the algorithm objects. It also defines the interface of the client that uses the algorithm objects.\n",
    "- **Concrete Strategy**: The concrete strategy class defines the algorithm objects.\n",
    "- **Client**: The client class uses the Strategy objects."
   ]
  },
  {
   "cell_type": "code",
   "execution_count": 7,
   "metadata": {},
   "outputs": [],
   "source": [
    "# Imports \n",
    "import pandas as pd\n",
    "from abc import ABC, abstractmethod\n"
   ]
  },
  {
   "cell_type": "code",
   "execution_count": 5,
   "metadata": {},
   "outputs": [],
   "source": [
    "# Implement the Stretegy design pattern.\n",
    "class Strategy(ABC):\n",
    "    @abstractmethod\n",
    "    def do_algorithm(self, data: dict) -> None:\n",
    "        pass    \n",
    "# Actual Strategies\n",
    "class Strategy_1(Strategy):\n",
    "    def do_algorithm(self, data: dict) -> None:\n",
    "        result = data['test'] * 100\n",
    "        print(\"Strategy 1: \", data, ' Result: ', result)\n",
    "        return result\n",
    "class Strategy_2(Strategy):\n",
    "    def do_algorithm(self, data: dict) -> None:\n",
    "        result = data['test'] * 10\n",
    "        print(\"Strategy 2: \", data, ' Result: ', result)\n",
    "        return result\n",
    "class Context():\n",
    "    def __init__(self, strategy: Strategy) -> None:\n",
    "        self._strategy = strategy\n",
    "    @property\n",
    "    def strategy(self) -> Strategy:\n",
    "        return self._strategy\n",
    "    @strategy.setter\n",
    "    def strategy(self, strategy: Strategy) -> None:\n",
    "        self._strategy = strategy\n",
    "    def do_algorithm(self, data: dict) -> None:\n",
    "        return self._strategy.do_algorithm(data)"
   ]
  },
  {
   "cell_type": "markdown",
   "metadata": {},
   "source": [
    "A toy example of the Strategy design pattern in Python is presented below."
   ]
  },
  {
   "cell_type": "code",
   "execution_count": 6,
   "metadata": {},
   "outputs": [
    {
     "name": "stdout",
     "output_type": "stream",
     "text": [
      "Strategy 1:  {'test': 2}  Result:  200\n",
      "Strategy 2:  {'test': 2}  Result:  20\n"
     ]
    },
    {
     "data": {
      "text/plain": [
       "20"
      ]
     },
     "execution_count": 6,
     "metadata": {},
     "output_type": "execute_result"
    }
   ],
   "source": [
    "# Create inputs.\n",
    "example_input = {'test': 2} \n",
    "# Create context object with Strategy_1 as a concrete strategy.\n",
    "context = Context(strategy=Strategy_1())\n",
    "context.do_algorithm(example_input)\n",
    "# Set it as Strategy_2.\n",
    "context.strategy = Strategy_2()\n",
    "context.do_algorithm(example_input)"
   ]
  },
  {
   "cell_type": "markdown",
   "metadata": {},
   "source": [
    "## Practical Example: Feature Selection of Machine Learning Algorithms for Power System Forecasting\n",
    "\n",
    "Explanation of Machine Learning explainability...\n",
    "\n",
    "\n"
   ]
  },
  {
   "cell_type": "markdown",
   "metadata": {},
   "source": [
    "### Data\n",
    "The datasets used are the combination of the ones created in  `pandapower_time_series_power_flow.ipynb` and `cleaned_profile_data.ipynb`. The complete dataset is created bellow.\n"
   ]
  },
  {
   "cell_type": "code",
   "execution_count": 15,
   "metadata": {},
   "outputs": [
    {
     "data": {
      "text/html": [
       "<div>\n",
       "<style scoped>\n",
       "    .dataframe tbody tr th:only-of-type {\n",
       "        vertical-align: middle;\n",
       "    }\n",
       "\n",
       "    .dataframe tbody tr th {\n",
       "        vertical-align: top;\n",
       "    }\n",
       "\n",
       "    .dataframe thead th {\n",
       "        text-align: right;\n",
       "    }\n",
       "</style>\n",
       "<table border=\"1\" class=\"dataframe\">\n",
       "  <thead>\n",
       "    <tr style=\"text-align: right;\">\n",
       "      <th></th>\n",
       "      <th>value</th>\n",
       "      <th>T</th>\n",
       "      <th>R</th>\n",
       "      <th>year</th>\n",
       "      <th>month</th>\n",
       "      <th>normalized_value</th>\n",
       "      <th>date</th>\n",
       "    </tr>\n",
       "  </thead>\n",
       "  <tbody>\n",
       "    <tr>\n",
       "      <th>0</th>\n",
       "      <td>0.0</td>\n",
       "      <td>282.260500</td>\n",
       "      <td>448.421296</td>\n",
       "      <td>2020</td>\n",
       "      <td>1</td>\n",
       "      <td>0.0</td>\n",
       "      <td>2020-01-01 00:00:00</td>\n",
       "    </tr>\n",
       "    <tr>\n",
       "      <th>1</th>\n",
       "      <td>0.0</td>\n",
       "      <td>282.228792</td>\n",
       "      <td>411.052855</td>\n",
       "      <td>2020</td>\n",
       "      <td>1</td>\n",
       "      <td>0.0</td>\n",
       "      <td>2020-01-01 00:15:00</td>\n",
       "    </tr>\n",
       "    <tr>\n",
       "      <th>2</th>\n",
       "      <td>0.0</td>\n",
       "      <td>282.197083</td>\n",
       "      <td>373.684414</td>\n",
       "      <td>2020</td>\n",
       "      <td>1</td>\n",
       "      <td>0.0</td>\n",
       "      <td>2020-01-01 00:30:00</td>\n",
       "    </tr>\n",
       "    <tr>\n",
       "      <th>3</th>\n",
       "      <td>0.0</td>\n",
       "      <td>282.165375</td>\n",
       "      <td>336.315972</td>\n",
       "      <td>2020</td>\n",
       "      <td>1</td>\n",
       "      <td>0.0</td>\n",
       "      <td>2020-01-01 00:45:00</td>\n",
       "    </tr>\n",
       "    <tr>\n",
       "      <th>4</th>\n",
       "      <td>0.0</td>\n",
       "      <td>282.133667</td>\n",
       "      <td>298.947531</td>\n",
       "      <td>2020</td>\n",
       "      <td>1</td>\n",
       "      <td>0.0</td>\n",
       "      <td>2020-01-01 01:00:00</td>\n",
       "    </tr>\n",
       "  </tbody>\n",
       "</table>\n",
       "</div>"
      ],
      "text/plain": [
       "   value           T           R  year  month  normalized_value  \\\n",
       "0    0.0  282.260500  448.421296  2020      1               0.0   \n",
       "1    0.0  282.228792  411.052855  2020      1               0.0   \n",
       "2    0.0  282.197083  373.684414  2020      1               0.0   \n",
       "3    0.0  282.165375  336.315972  2020      1               0.0   \n",
       "4    0.0  282.133667  298.947531  2020      1               0.0   \n",
       "\n",
       "                  date  \n",
       "0  2020-01-01 00:00:00  \n",
       "1  2020-01-01 00:15:00  \n",
       "2  2020-01-01 00:30:00  \n",
       "3  2020-01-01 00:45:00  \n",
       "4  2020-01-01 01:00:00  "
      ]
     },
     "execution_count": 15,
     "metadata": {},
     "output_type": "execute_result"
    }
   ],
   "source": [
    "pv_data = pd.read_csv('..\\data\\processed\\production\\pv_data_processed.csv')\n",
    "pv_data.head(5)"
   ]
  },
  {
   "cell_type": "markdown",
   "metadata": {},
   "source": [
    "The same values of temperature `T` and irradication `R` will be considered for every bus, since they are all in the same geographical region."
   ]
  },
  {
   "cell_type": "code",
   "execution_count": 20,
   "metadata": {},
   "outputs": [],
   "source": [
    "pv_data.drop(['year', 'month', 'value', 'normalized_value', 'date'], axis=1, inplace=True)"
   ]
  },
  {
   "cell_type": "code",
   "execution_count": 16,
   "metadata": {},
   "outputs": [
    {
     "data": {
      "text/html": [
       "<div>\n",
       "<style scoped>\n",
       "    .dataframe tbody tr th:only-of-type {\n",
       "        vertical-align: middle;\n",
       "    }\n",
       "\n",
       "    .dataframe tbody tr th {\n",
       "        vertical-align: top;\n",
       "    }\n",
       "\n",
       "    .dataframe thead th {\n",
       "        text-align: right;\n",
       "    }\n",
       "</style>\n",
       "<table border=\"1\" class=\"dataframe\">\n",
       "  <thead>\n",
       "    <tr style=\"text-align: right;\">\n",
       "      <th></th>\n",
       "      <th>value</th>\n",
       "      <th>T</th>\n",
       "      <th>R</th>\n",
       "      <th>wind_speed</th>\n",
       "      <th>wind_direction</th>\n",
       "      <th>year</th>\n",
       "      <th>month</th>\n",
       "      <th>normalized_value</th>\n",
       "      <th>date</th>\n",
       "    </tr>\n",
       "  </thead>\n",
       "  <tbody>\n",
       "    <tr>\n",
       "      <th>0</th>\n",
       "      <td>0.0</td>\n",
       "      <td>NaN</td>\n",
       "      <td>372.261111</td>\n",
       "      <td>0.809418</td>\n",
       "      <td>221.622702</td>\n",
       "      <td>2020</td>\n",
       "      <td>1</td>\n",
       "      <td>0.0</td>\n",
       "      <td>2020-01-01 00:00:00</td>\n",
       "    </tr>\n",
       "    <tr>\n",
       "      <th>1</th>\n",
       "      <td>0.0</td>\n",
       "      <td>NaN</td>\n",
       "      <td>341.239352</td>\n",
       "      <td>0.809418</td>\n",
       "      <td>221.622702</td>\n",
       "      <td>2020</td>\n",
       "      <td>1</td>\n",
       "      <td>0.0</td>\n",
       "      <td>2020-01-01 00:15:00</td>\n",
       "    </tr>\n",
       "    <tr>\n",
       "      <th>2</th>\n",
       "      <td>0.0</td>\n",
       "      <td>NaN</td>\n",
       "      <td>310.217593</td>\n",
       "      <td>0.809418</td>\n",
       "      <td>221.622702</td>\n",
       "      <td>2020</td>\n",
       "      <td>1</td>\n",
       "      <td>0.0</td>\n",
       "      <td>2020-01-01 00:30:00</td>\n",
       "    </tr>\n",
       "    <tr>\n",
       "      <th>3</th>\n",
       "      <td>0.0</td>\n",
       "      <td>NaN</td>\n",
       "      <td>279.195833</td>\n",
       "      <td>0.809418</td>\n",
       "      <td>221.622702</td>\n",
       "      <td>2020</td>\n",
       "      <td>1</td>\n",
       "      <td>0.0</td>\n",
       "      <td>2020-01-01 00:45:00</td>\n",
       "    </tr>\n",
       "    <tr>\n",
       "      <th>4</th>\n",
       "      <td>0.0</td>\n",
       "      <td>NaN</td>\n",
       "      <td>248.174074</td>\n",
       "      <td>0.809418</td>\n",
       "      <td>221.622702</td>\n",
       "      <td>2020</td>\n",
       "      <td>1</td>\n",
       "      <td>0.0</td>\n",
       "      <td>2020-01-01 01:00:00</td>\n",
       "    </tr>\n",
       "  </tbody>\n",
       "</table>\n",
       "</div>"
      ],
      "text/plain": [
       "   value   T           R  wind_speed  wind_direction  year  month  \\\n",
       "0    0.0 NaN  372.261111    0.809418      221.622702  2020      1   \n",
       "1    0.0 NaN  341.239352    0.809418      221.622702  2020      1   \n",
       "2    0.0 NaN  310.217593    0.809418      221.622702  2020      1   \n",
       "3    0.0 NaN  279.195833    0.809418      221.622702  2020      1   \n",
       "4    0.0 NaN  248.174074    0.809418      221.622702  2020      1   \n",
       "\n",
       "   normalized_value                 date  \n",
       "0               0.0  2020-01-01 00:00:00  \n",
       "1               0.0  2020-01-01 00:15:00  \n",
       "2               0.0  2020-01-01 00:30:00  \n",
       "3               0.0  2020-01-01 00:45:00  \n",
       "4               0.0  2020-01-01 01:00:00  "
      ]
     },
     "execution_count": 16,
     "metadata": {},
     "output_type": "execute_result"
    }
   ],
   "source": [
    "wind_data = pd.read_csv('..\\data\\processed\\production\\wind_data_processed.csv')\n",
    "wind_data.head(5)"
   ]
  },
  {
   "cell_type": "markdown",
   "metadata": {},
   "source": [
    "From the `wind_data` the features `wind_speed` and `wind_direction` are considered for every bus, once these are all approximetely in the same geographical region."
   ]
  },
  {
   "cell_type": "code",
   "execution_count": 17,
   "metadata": {},
   "outputs": [],
   "source": [
    "wind_data.drop(['year', 'month', 'value', 'normalized_value', 'date', 'T', 'R'], axis=1, inplace=True)"
   ]
  },
  {
   "cell_type": "code",
   "execution_count": 21,
   "metadata": {},
   "outputs": [
    {
     "data": {
      "text/html": [
       "<div>\n",
       "<style scoped>\n",
       "    .dataframe tbody tr th:only-of-type {\n",
       "        vertical-align: middle;\n",
       "    }\n",
       "\n",
       "    .dataframe tbody tr th {\n",
       "        vertical-align: top;\n",
       "    }\n",
       "\n",
       "    .dataframe thead th {\n",
       "        text-align: right;\n",
       "    }\n",
       "</style>\n",
       "<table border=\"1\" class=\"dataframe\">\n",
       "  <thead>\n",
       "    <tr style=\"text-align: right;\">\n",
       "      <th></th>\n",
       "      <th>T</th>\n",
       "      <th>R</th>\n",
       "    </tr>\n",
       "  </thead>\n",
       "  <tbody>\n",
       "    <tr>\n",
       "      <th>count</th>\n",
       "      <td>45216.000000</td>\n",
       "      <td>45216.000000</td>\n",
       "    </tr>\n",
       "    <tr>\n",
       "      <th>mean</th>\n",
       "      <td>288.376189</td>\n",
       "      <td>689.990778</td>\n",
       "    </tr>\n",
       "    <tr>\n",
       "      <th>std</th>\n",
       "      <td>4.044865</td>\n",
       "      <td>701.609477</td>\n",
       "    </tr>\n",
       "    <tr>\n",
       "      <th>min</th>\n",
       "      <td>275.930000</td>\n",
       "      <td>0.000000</td>\n",
       "    </tr>\n",
       "    <tr>\n",
       "      <th>25%</th>\n",
       "      <td>285.788990</td>\n",
       "      <td>71.479205</td>\n",
       "    </tr>\n",
       "    <tr>\n",
       "      <th>50%</th>\n",
       "      <td>287.979000</td>\n",
       "      <td>478.544753</td>\n",
       "    </tr>\n",
       "    <tr>\n",
       "      <th>75%</th>\n",
       "      <td>290.821688</td>\n",
       "      <td>1104.397338</td>\n",
       "    </tr>\n",
       "    <tr>\n",
       "      <th>max</th>\n",
       "      <td>304.526000</td>\n",
       "      <td>2817.027778</td>\n",
       "    </tr>\n",
       "  </tbody>\n",
       "</table>\n",
       "</div>"
      ],
      "text/plain": [
       "                  T             R\n",
       "count  45216.000000  45216.000000\n",
       "mean     288.376189    689.990778\n",
       "std        4.044865    701.609477\n",
       "min      275.930000      0.000000\n",
       "25%      285.788990     71.479205\n",
       "50%      287.979000    478.544753\n",
       "75%      290.821688   1104.397338\n",
       "max      304.526000   2817.027778"
      ]
     },
     "execution_count": 21,
     "metadata": {},
     "output_type": "execute_result"
    }
   ],
   "source": [
    "pv_data.describe()"
   ]
  },
  {
   "cell_type": "markdown",
   "metadata": {},
   "source": [
    "ADDING Network data "
   ]
  }
 ],
 "metadata": {
  "interpreter": {
   "hash": "4fe4baa4d27e3b73db55d4bb4674105e8dd41faaf9e559c3cc8381041ce15293"
  },
  "kernelspec": {
   "display_name": "Python 3.8.10 ('env': venv)",
   "language": "python",
   "name": "python3"
  },
  "language_info": {
   "codemirror_mode": {
    "name": "ipython",
    "version": 3
   },
   "file_extension": ".py",
   "mimetype": "text/x-python",
   "name": "python",
   "nbconvert_exporter": "python",
   "pygments_lexer": "ipython3",
   "version": "3.8.10"
  },
  "orig_nbformat": 4
 },
 "nbformat": 4,
 "nbformat_minor": 2
}
