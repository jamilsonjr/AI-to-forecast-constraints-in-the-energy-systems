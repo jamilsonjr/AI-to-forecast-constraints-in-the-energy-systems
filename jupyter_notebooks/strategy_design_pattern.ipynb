{
 "cells": [
  {
   "cell_type": "markdown",
   "metadata": {},
   "source": [
    "# Stretegy Design Pattern for Machine Learning Algorithms Training\n",
    "This document presents the implementation in Python of the [Strategy Design Pattern](https://refactoring.guru/design-patterns/strategy/python/example#) in the context of Machine Learning Algorithms benchmarking.\n",
    "\n",
    "Note: The benchmarking is inside the scope of my master thesis titled \"Use of Artificial Intelligence to\n",
    "Forecast Constraints in the\n",
    "Energy Systems\" - Jamilson Junior"
   ]
  },
  {
   "cell_type": "markdown",
   "metadata": {},
   "source": [
    "### Introduction to the Strategy Design Pattern \n",
    "Design Patterns, in general, are a set of best practices that can be used to solve common problems. The Strategy design pattern is one of the most common design patterns in software development, as it is used to solve the problem of selecting the correct algorithm to use for a given problem. The Strategy design pattern is a behavioral design pattern that defines a family of algorithms, encapsulates each one, and makes them interchangeable. In this context, it is used to select the appropriate model for the problem of predicting the power flow results of a power system."
   ]
  },
  {
   "cell_type": "markdown",
   "metadata": {},
   "source": [
    "### Implementation Structure of the Strategy Design Pattern in Python\n",
    "The Strategy design pattern has four major components:\n",
    "- **Context**: The context class defines the interface of the Strategy objects. It also defines the interface of the client that uses the Strategy objects.\n",
    "- **Strategy**: The strategy class defines the interface of the algorithm objects. It also defines the interface of the client that uses the algorithm objects.\n",
    "- **Concrete Strategy**: The concrete strategy class defines the algorithm objects.\n",
    "- **Client**: The client class uses the Strategy objects."
   ]
  }
 ],
 "metadata": {
  "language_info": {
   "name": "python"
  },
  "orig_nbformat": 4
 },
 "nbformat": 4,
 "nbformat_minor": 2
}
