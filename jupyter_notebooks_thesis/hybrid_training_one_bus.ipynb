{
 "cells": [
  {
   "cell_type": "markdown",
   "metadata": {},
   "source": [
    "# Classification"
   ]
  },
  {
   "cell_type": "code",
   "execution_count": 13,
   "metadata": {},
   "outputs": [],
   "source": [
    "import pandas as pd\n",
    "import sys;sys.path.append('..');from thesis_package import aimodels as my_ai, utils, metrics\n",
    "import pandas as pd\n",
    "import matplotlib.pyplot as plt\n",
    "from copy import deepcopy\n",
    "import numpy as np\n",
    "import os\n",
    "import optuna"
   ]
  },
  {
   "cell_type": "markdown",
   "metadata": {},
   "source": [
    "## Max u"
   ]
  },
  {
   "cell_type": "code",
   "execution_count": 14,
   "metadata": {},
   "outputs": [],
   "source": [
    "exogenous_data = pd.read_csv('..\\data\\processed\\production\\exogenous_data_extended.csv').drop(columns=['date'])\n",
    "y_max_u_sparse_bool = pd.read_csv('..\\data\\ground_truth\\\\res_bus_vm_pu_max_sparse_bool_constr.csv').drop(columns=['timestamps'])\n",
    "y_max_u_sparse_bool = pd.DataFrame(y_max_u_sparse_bool['bus_16'], columns=['bus_16'])\n",
    "# Testing data\n",
    "train_x, valid_x, train_y, valid_y, scaler = utils.split_and_suffle(exogenous_data, y_max_u_sparse_bool, test_size=0.2, scaling=True)\n",
    "data_max_class = {'X_train': train_x, 'X_test': valid_x, 'y_train': train_y, 'y_test': valid_y}"
   ]
  },
  {
   "cell_type": "code",
   "execution_count": 15,
   "metadata": {},
   "outputs": [],
   "source": [
    "num_trials = 30"
   ]
  },
  {
   "cell_type": "code",
   "execution_count": 16,
   "metadata": {},
   "outputs": [
    {
     "name": "stderr",
     "output_type": "stream",
     "text": [
      "\u001b[32m[I 2022-10-21 11:54:40,358]\u001b[0m A new study created in memory with name: no-name-15dbeefd-eab2-4049-9473-0e512f919b2b\u001b[0m\n",
      "\u001b[32m[I 2022-10-21 11:54:48,338]\u001b[0m Trial 0 finished with value: 0.5714118338843156 and parameters: {'booster': 'dart', 'lambda': 1.8835371958220824e-07, 'alpha': 0.0011088719841518557, 'subsample': 0.38388708006168515, 'colsample_bytree': 0.4229607331161819, 'max_depth': 5, 'min_child_weight': 3, 'eta': 2.949719000498082e-08, 'gamma': 0.000951669624987712, 'grow_policy': 'depthwise', 'sample_type': 'uniform', 'normalize_type': 'forest', 'rate_drop': 5.29171444639736e-07, 'skip_drop': 2.52446204905082e-07}. Best is trial 0 with value: 0.5714118338843156.\u001b[0m\n",
      "\u001b[32m[I 2022-10-21 11:54:53,150]\u001b[0m Trial 1 finished with value: 0.5577008373282989 and parameters: {'booster': 'dart', 'lambda': 0.38092412350783944, 'alpha': 0.0109230063924983, 'subsample': 0.8200628263535812, 'colsample_bytree': 0.25117596916460444, 'max_depth': 9, 'min_child_weight': 8, 'eta': 0.003510497976179185, 'gamma': 5.939985567176814e-05, 'grow_policy': 'lossguide', 'sample_type': 'uniform', 'normalize_type': 'forest', 'rate_drop': 0.00011335789607213093, 'skip_drop': 2.493481797546454e-08}. Best is trial 0 with value: 0.5714118338843156.\u001b[0m\n",
      "\u001b[32m[I 2022-10-21 11:54:53,867]\u001b[0m Trial 2 finished with value: 0.6061686032292246 and parameters: {'booster': 'gbtree', 'lambda': 0.010569896893503801, 'alpha': 0.06996558730339536, 'subsample': 0.3250294454067831, 'colsample_bytree': 0.9310084124875155, 'max_depth': 5, 'min_child_weight': 2, 'eta': 0.000651662554328739, 'gamma': 0.0019291641049446872, 'grow_policy': 'depthwise'}. Best is trial 2 with value: 0.6061686032292246.\u001b[0m\n",
      "\u001b[32m[I 2022-10-21 11:54:54,168]\u001b[0m Trial 3 finished with value: 0.5744857908208603 and parameters: {'booster': 'gblinear', 'lambda': 0.0002179291252336542, 'alpha': 2.4186182533312776e-08, 'subsample': 0.6619208624074591, 'colsample_bytree': 0.7325956986290152}. Best is trial 2 with value: 0.6061686032292246.\u001b[0m\n",
      "\u001b[32m[I 2022-10-21 11:54:57,206]\u001b[0m Trial 4 finished with value: 0.6172602907888739 and parameters: {'booster': 'dart', 'lambda': 1.8028772962797594e-08, 'alpha': 6.65360803373903e-06, 'subsample': 0.7234167654577159, 'colsample_bytree': 0.6670192785670519, 'max_depth': 7, 'min_child_weight': 2, 'eta': 0.0028211641793049716, 'gamma': 1.317592065188169e-07, 'grow_policy': 'lossguide', 'sample_type': 'uniform', 'normalize_type': 'forest', 'rate_drop': 1.4710739342269307e-05, 'skip_drop': 8.019167250657055e-08}. Best is trial 4 with value: 0.6172602907888739.\u001b[0m\n",
      "\u001b[32m[I 2022-10-21 11:54:59,580]\u001b[0m Trial 5 finished with value: 0.5896758181674366 and parameters: {'booster': 'dart', 'lambda': 1.5125281003899373e-06, 'alpha': 2.18721226686953e-06, 'subsample': 0.41879695861974353, 'colsample_bytree': 0.5708779039707645, 'max_depth': 5, 'min_child_weight': 8, 'eta': 0.002208509225985436, 'gamma': 2.2541102666117475e-07, 'grow_policy': 'lossguide', 'sample_type': 'weighted', 'normalize_type': 'forest', 'rate_drop': 0.01606574186477746, 'skip_drop': 0.021712593153409183}. Best is trial 4 with value: 0.6172602907888739.\u001b[0m\n",
      "\u001b[32m[I 2022-10-21 11:55:00,444]\u001b[0m Trial 6 finished with value: 0.6208557378698087 and parameters: {'booster': 'gbtree', 'lambda': 0.041345696964705365, 'alpha': 8.258163851016478e-08, 'subsample': 0.6133678112279088, 'colsample_bytree': 0.6318994446573392, 'max_depth': 7, 'min_child_weight': 5, 'eta': 0.3382320507547764, 'gamma': 5.02481708146417e-07, 'grow_policy': 'depthwise'}. Best is trial 6 with value: 0.6208557378698087.\u001b[0m\n",
      "\u001b[32m[I 2022-10-21 11:55:01,240]\u001b[0m Trial 7 finished with value: 0.6058460538311043 and parameters: {'booster': 'gbtree', 'lambda': 0.0006968220734110518, 'alpha': 0.0012754708514594918, 'subsample': 0.4597816456801287, 'colsample_bytree': 0.31921665984530306, 'max_depth': 7, 'min_child_weight': 2, 'eta': 3.723895484250392e-07, 'gamma': 0.0035734531836557493, 'grow_policy': 'lossguide'}. Best is trial 6 with value: 0.6208557378698087.\u001b[0m\n",
      "\u001b[32m[I 2022-10-21 11:55:01,858]\u001b[0m Trial 8 finished with value: 0.588941566774225 and parameters: {'booster': 'gbtree', 'lambda': 2.7056103041808694e-05, 'alpha': 3.256180404066343e-08, 'subsample': 0.35768200798732314, 'colsample_bytree': 0.355699024968527, 'max_depth': 5, 'min_child_weight': 4, 'eta': 4.19732920318323e-08, 'gamma': 3.2816867330155523e-06, 'grow_policy': 'depthwise'}. Best is trial 6 with value: 0.6208557378698087.\u001b[0m\n",
      "\u001b[32m[I 2022-10-21 11:55:04,678]\u001b[0m Trial 9 finished with value: 0.631218176089729 and parameters: {'booster': 'dart', 'lambda': 0.018759971840587197, 'alpha': 3.70095183069956e-05, 'subsample': 0.9752131372983455, 'colsample_bytree': 0.7736002351014699, 'max_depth': 9, 'min_child_weight': 4, 'eta': 4.5622202661273746e-08, 'gamma': 0.0028170407223951787, 'grow_policy': 'depthwise', 'sample_type': 'weighted', 'normalize_type': 'tree', 'rate_drop': 0.36854791556150546, 'skip_drop': 2.7341638256406026e-08}. Best is trial 9 with value: 0.631218176089729.\u001b[0m\n",
      "\u001b[32m[I 2022-10-21 11:55:05,056]\u001b[0m Trial 10 finished with value: 0.5165775979214883 and parameters: {'booster': 'gblinear', 'lambda': 0.0037643803799987906, 'alpha': 2.2725198237680205e-05, 'subsample': 0.9793359207880942, 'colsample_bytree': 0.9848900919834469}. Best is trial 9 with value: 0.631218176089729.\u001b[0m\n",
      "\u001b[32m[I 2022-10-21 11:55:06,456]\u001b[0m Trial 11 finished with value: 0.6159589358821995 and parameters: {'booster': 'gbtree', 'lambda': 0.5981053077552666, 'alpha': 6.456012578182692e-07, 'subsample': 0.9558576296110703, 'colsample_bytree': 0.8017942465262011, 'max_depth': 9, 'min_child_weight': 5, 'eta': 0.5658933812981672, 'gamma': 0.9742398652806996, 'grow_policy': 'depthwise'}. Best is trial 9 with value: 0.631218176089729.\u001b[0m\n",
      "\u001b[32m[I 2022-10-21 11:55:09,059]\u001b[0m Trial 12 finished with value: 0.5938576340992303 and parameters: {'booster': 'dart', 'lambda': 0.03675082969483778, 'alpha': 0.650416397880421, 'subsample': 0.5533338706734079, 'colsample_bytree': 0.5058599776033754, 'max_depth': 9, 'min_child_weight': 6, 'eta': 5.957055137109305e-06, 'gamma': 1.530224290801887e-08, 'grow_policy': 'depthwise', 'sample_type': 'weighted', 'normalize_type': 'tree', 'rate_drop': 0.16019425479547533, 'skip_drop': 9.269426846457859e-05}. Best is trial 9 with value: 0.631218176089729.\u001b[0m\n",
      "\u001b[32m[I 2022-10-21 11:55:09,625]\u001b[0m Trial 13 finished with value: 0.609434097849449 and parameters: {'booster': 'gbtree', 'lambda': 0.07914360577275727, 'alpha': 3.007734309928586e-07, 'subsample': 0.21290677391804036, 'colsample_bytree': 0.8521979292483417, 'max_depth': 7, 'min_child_weight': 10, 'eta': 0.720649535664345, 'gamma': 0.08830669184101675, 'grow_policy': 'depthwise'}. Best is trial 9 with value: 0.631218176089729.\u001b[0m\n",
      "\u001b[32m[I 2022-10-21 11:55:09,937]\u001b[0m Trial 14 finished with value: 0.5826940527519435 and parameters: {'booster': 'gblinear', 'lambda': 1.545988847638936e-05, 'alpha': 5.1457444554474794e-05, 'subsample': 0.8357379249904314, 'colsample_bytree': 0.6560001208752082}. Best is trial 9 with value: 0.631218176089729.\u001b[0m\n",
      "\u001b[32m[I 2022-10-21 11:55:10,660]\u001b[0m Trial 15 finished with value: 0.5466436230218739 and parameters: {'booster': 'gbtree', 'lambda': 0.0027476634342514512, 'alpha': 0.00041854622084511905, 'subsample': 0.5582507325890479, 'colsample_bytree': 0.5279072765172377, 'max_depth': 3, 'min_child_weight': 5, 'eta': 2.3441930179436146e-05, 'gamma': 1.798829480114787e-05, 'grow_policy': 'depthwise'}. Best is trial 9 with value: 0.631218176089729.\u001b[0m\n",
      "\u001b[32m[I 2022-10-21 11:55:14,189]\u001b[0m Trial 16 finished with value: 0.6256279469431683 and parameters: {'booster': 'dart', 'lambda': 0.14271687655470774, 'alpha': 1.8170663171999022e-07, 'subsample': 0.8363274097683143, 'colsample_bytree': 0.7628215226103525, 'max_depth': 9, 'min_child_weight': 7, 'eta': 0.047015930165082355, 'gamma': 1.2412561899481965e-06, 'grow_policy': 'depthwise', 'sample_type': 'weighted', 'normalize_type': 'tree', 'rate_drop': 0.0013421324525703432, 'skip_drop': 8.635297827915446e-06}. Best is trial 9 with value: 0.631218176089729.\u001b[0m\n",
      "\u001b[32m[I 2022-10-21 11:55:17,261]\u001b[0m Trial 17 finished with value: 0.6246980806672217 and parameters: {'booster': 'dart', 'lambda': 0.45861064447741035, 'alpha': 3.88305897967171e-06, 'subsample': 0.8690249192343437, 'colsample_bytree': 0.8084546266437712, 'max_depth': 9, 'min_child_weight': 8, 'eta': 0.04379752950237939, 'gamma': 0.0003058309728142887, 'grow_policy': 'depthwise', 'sample_type': 'weighted', 'normalize_type': 'tree', 'rate_drop': 0.0029021802847809873, 'skip_drop': 4.07024908028379e-05}. Best is trial 9 with value: 0.631218176089729.\u001b[0m\n",
      "\u001b[32m[I 2022-10-21 11:55:20,038]\u001b[0m Trial 18 finished with value: 0.6134239899039872 and parameters: {'booster': 'dart', 'lambda': 0.0008104083550655301, 'alpha': 0.0002756842141496046, 'subsample': 0.7379827283079345, 'colsample_bytree': 0.8868740850600912, 'max_depth': 9, 'min_child_weight': 7, 'eta': 1.2982132443532128e-06, 'gamma': 0.023003942305906706, 'grow_policy': 'depthwise', 'sample_type': 'weighted', 'normalize_type': 'tree', 'rate_drop': 0.19034167347821962, 'skip_drop': 3.7875216681440316e-06}. Best is trial 9 with value: 0.631218176089729.\u001b[0m\n",
      "\u001b[32m[I 2022-10-21 11:55:22,912]\u001b[0m Trial 19 finished with value: 0.5583829501724935 and parameters: {'booster': 'dart', 'lambda': 0.011346127129426767, 'alpha': 2.3558517127533995e-05, 'subsample': 0.908773557764064, 'colsample_bytree': 0.7311439836460416, 'max_depth': 3, 'min_child_weight': 6, 'eta': 0.00014585450077151166, 'gamma': 8.872022573816977e-06, 'grow_policy': 'depthwise', 'sample_type': 'weighted', 'normalize_type': 'tree', 'rate_drop': 0.00036426783931976895, 'skip_drop': 0.021191603007724595}. Best is trial 9 with value: 0.631218176089729.\u001b[0m\n",
      "\u001b[32m[I 2022-10-21 11:55:25,189]\u001b[0m Trial 20 finished with value: 0.6293885128432499 and parameters: {'booster': 'dart', 'lambda': 0.059634576462971274, 'alpha': 3.281494761959629e-07, 'subsample': 0.9994390356487407, 'colsample_bytree': 0.7764998773141281, 'max_depth': 9, 'min_child_weight': 10, 'eta': 0.0637843288552211, 'gamma': 1.7768398694949247e-06, 'grow_policy': 'depthwise', 'sample_type': 'weighted', 'normalize_type': 'tree', 'rate_drop': 0.8928225415412837, 'skip_drop': 1.8314893208802142e-06}. Best is trial 9 with value: 0.631218176089729.\u001b[0m\n",
      "\u001b[32m[I 2022-10-21 11:55:28,263]\u001b[0m Trial 21 finished with value: 0.6318979566344004 and parameters: {'booster': 'dart', 'lambda': 0.15206389969789097, 'alpha': 2.5408171958541994e-07, 'subsample': 0.9967627974745937, 'colsample_bytree': 0.7409478288910233, 'max_depth': 9, 'min_child_weight': 10, 'eta': 0.029633594540441677, 'gamma': 8.095462688045661e-05, 'grow_policy': 'depthwise', 'sample_type': 'weighted', 'normalize_type': 'tree', 'rate_drop': 0.5466949706335338, 'skip_drop': 2.410395601384898e-06}. Best is trial 21 with value: 0.6318979566344004.\u001b[0m\n",
      "\u001b[32m[I 2022-10-21 11:55:30,879]\u001b[0m Trial 22 finished with value: 0.615264186042259 and parameters: {'booster': 'dart', 'lambda': 0.015313442370760098, 'alpha': 1.0514044987916296e-06, 'subsample': 0.9857551833579887, 'colsample_bytree': 0.7090827221831728, 'max_depth': 9, 'min_child_weight': 10, 'eta': 0.029323063364537997, 'gamma': 8.940001193605931e-05, 'grow_policy': 'depthwise', 'sample_type': 'weighted', 'normalize_type': 'tree', 'rate_drop': 0.6056386096383721, 'skip_drop': 5.500902076229502e-07}. Best is trial 21 with value: 0.6318979566344004.\u001b[0m\n",
      "\u001b[32m[I 2022-10-21 11:55:32,945]\u001b[0m Trial 23 finished with value: 0.6170618710801794 and parameters: {'booster': 'dart', 'lambda': 0.12991505195949452, 'alpha': 7.71101756110151e-06, 'subsample': 0.9239438770872065, 'colsample_bytree': 0.8618198394755621, 'max_depth': 7, 'min_child_weight': 9, 'eta': 0.014558183511569773, 'gamma': 0.013076382825921265, 'grow_policy': 'depthwise', 'sample_type': 'weighted', 'normalize_type': 'tree', 'rate_drop': 0.8870313885973903, 'skip_drop': 1.0012646219556978e-08}. Best is trial 21 with value: 0.6318979566344004.\u001b[0m\n",
      "\u001b[32m[I 2022-10-21 11:55:36,071]\u001b[0m Trial 24 finished with value: 0.6136654789623143 and parameters: {'booster': 'dart', 'lambda': 0.9703120622677082, 'alpha': 1.305293270361765e-08, 'subsample': 0.999483675264285, 'colsample_bytree': 0.7908980447713452, 'max_depth': 9, 'min_child_weight': 9, 'eta': 0.00020235052491070975, 'gamma': 0.0003085331560613975, 'grow_policy': 'depthwise', 'sample_type': 'weighted', 'normalize_type': 'tree', 'rate_drop': 0.020447138997255147, 'skip_drop': 0.0014516362740735426}. Best is trial 21 with value: 0.6318979566344004.\u001b[0m\n",
      "\u001b[32m[I 2022-10-21 11:55:38,821]\u001b[0m Trial 25 finished with value: 0.6255631906717386 and parameters: {'booster': 'dart', 'lambda': 0.0045239311724037095, 'alpha': 7.809036224101326e-08, 'subsample': 0.7628069081673661, 'colsample_bytree': 0.9988071641375411, 'max_depth': 7, 'min_child_weight': 10, 'eta': 1.5516220542252065e-05, 'gamma': 2.1813197880766392e-05, 'grow_policy': 'depthwise', 'sample_type': 'weighted', 'normalize_type': 'tree', 'rate_drop': 0.028960527950924516, 'skip_drop': 1.3015042967367608e-06}. Best is trial 21 with value: 0.6318979566344004.\u001b[0m\n",
      "\u001b[32m[I 2022-10-21 11:55:39,127]\u001b[0m Trial 26 finished with value: 0.5767555228337268 and parameters: {'booster': 'gblinear', 'lambda': 0.00018890472853246823, 'alpha': 6.3803870941045e-07, 'subsample': 0.8901338705794342, 'colsample_bytree': 0.5803144671691296}. Best is trial 21 with value: 0.6318979566344004.\u001b[0m\n",
      "\u001b[32m[I 2022-10-21 11:55:41,949]\u001b[0m Trial 27 finished with value: 0.6404548085149984 and parameters: {'booster': 'dart', 'lambda': 0.14182485122786342, 'alpha': 0.0001488031719695729, 'subsample': 0.7911264853768102, 'colsample_bytree': 0.6710795352112778, 'max_depth': 9, 'min_child_weight': 9, 'eta': 0.11948410602614275, 'gamma': 2.970868915721095e-08, 'grow_policy': 'lossguide', 'sample_type': 'weighted', 'normalize_type': 'tree', 'rate_drop': 0.06814776932706042, 'skip_drop': 0.95055313893407}. Best is trial 27 with value: 0.6404548085149984.\u001b[0m\n",
      "\u001b[32m[I 2022-10-21 11:55:45,181]\u001b[0m Trial 28 finished with value: 0.6068427532783196 and parameters: {'booster': 'dart', 'lambda': 0.0014540372110053205, 'alpha': 0.009013386129598617, 'subsample': 0.7954245278894316, 'colsample_bytree': 0.6931044173436945, 'max_depth': 9, 'min_child_weight': 9, 'eta': 1.465477935215076e-07, 'gamma': 2.0072283198465567e-08, 'grow_policy': 'lossguide', 'sample_type': 'weighted', 'normalize_type': 'tree', 'rate_drop': 0.053138952898564226, 'skip_drop': 0.9198928455868867}. Best is trial 27 with value: 0.6404548085149984.\u001b[0m\n",
      "\u001b[32m[I 2022-10-21 11:55:47,847]\u001b[0m Trial 29 finished with value: 0.6184775001634124 and parameters: {'booster': 'dart', 'lambda': 0.1820917299753756, 'alpha': 0.003908997920810638, 'subsample': 0.6970750878572691, 'colsample_bytree': 0.4922075558424789, 'max_depth': 7, 'min_child_weight': 4, 'eta': 0.005953046164176509, 'gamma': 0.2263130569659068, 'grow_policy': 'lossguide', 'sample_type': 'uniform', 'normalize_type': 'tree', 'rate_drop': 1.0578004935811743e-08, 'skip_drop': 0.6891018095636771}. Best is trial 27 with value: 0.6404548085149984.\u001b[0m\n"
     ]
    },
    {
     "name": "stdout",
     "output_type": "stream",
     "text": [
      "Number of finished trials:  30\n",
      "Best trial:\n",
      "  Value: 0.6404548085149984\n",
      "  Params: \n",
      "    booster: dart\n",
      "    lambda: 0.14182485122786342\n",
      "    alpha: 0.0001488031719695729\n",
      "    subsample: 0.7911264853768102\n",
      "    colsample_bytree: 0.6710795352112778\n",
      "    max_depth: 9\n",
      "    min_child_weight: 9\n",
      "    eta: 0.11948410602614275\n",
      "    gamma: 2.970868915721095e-08\n",
      "    grow_policy: lossguide\n",
      "    sample_type: weighted\n",
      "    normalize_type: tree\n",
      "    rate_drop: 0.06814776932706042\n",
      "    skip_drop: 0.95055313893407\n"
     ]
    }
   ],
   "source": [
    "def objective(trial):\n",
    "    # import data\n",
    "    y_max_u_balanced_bool = pd.read_csv('..\\data\\ground_truth\\\\res_bus_vm_pu_max_balanced_bool_constr.csv')\n",
    "    y_max_u_balanced_bool = pd.DataFrame(y_max_u_balanced_bool['bus_16'], columns=['bus_16'])\n",
    "    exogenous_data = pd.read_csv('..\\data\\ground_truth\\\\exogenous_data_vm_pu_max_balanced.csv').drop(columns=['date'])\n",
    "    train_x, valid_x, train_y, valid_y, scaler = utils.split_and_suffle(exogenous_data, y_max_u_balanced_bool, test_size=0.2, scaling=True)\n",
    "    data = {'X_train': train_x, 'X_test': valid_x, 'y_train': train_y, 'y_test': valid_y}\n",
    "    param = {\n",
    "        \"verbosity\": 0,\n",
    "        \"objective\": \"binary:logistic\",\n",
    "        # use exact for small dataset.\n",
    "        \"tree_method\": \"exact\",\n",
    "        # defines booster, gblinear for linear functions.\n",
    "        \"booster\": trial.suggest_categorical(\"booster\", [\"gbtree\", \"gblinear\", \"dart\"]),\n",
    "        # L2 regularization weight.\n",
    "        \"lambda\": trial.suggest_float(\"lambda\", 1e-8, 1.0, log=True),\n",
    "        # L1 regularization weight.\n",
    "        \"alpha\": trial.suggest_float(\"alpha\", 1e-8, 1.0, log=True),\n",
    "        # sampling ratio for training data.\n",
    "        \"subsample\": trial.suggest_float(\"subsample\", 0.2, 1.0),\n",
    "        # sampling according to each tree.\n",
    "        \"colsample_bytree\": trial.suggest_float(\"colsample_bytree\", 0.2, 1.0),\n",
    "    }\n",
    "\n",
    "    if param[\"booster\"] in [\"gbtree\", \"dart\"]:\n",
    "        # maximum depth of the tree, signifies complexity of the tree.\n",
    "        param[\"max_depth\"] = trial.suggest_int(\"max_depth\", 3, 9, step=2)\n",
    "        # minimum child weight, larger the term more conservative the tree.\n",
    "        param[\"min_child_weight\"] = trial.suggest_int(\"min_child_weight\", 2, 10)\n",
    "        param[\"eta\"] = trial.suggest_float(\"eta\", 1e-8, 1.0, log=True)\n",
    "        # defines how selective algorithm is.\n",
    "        param[\"gamma\"] = trial.suggest_float(\"gamma\", 1e-8, 1.0, log=True)\n",
    "        param[\"grow_policy\"] = trial.suggest_categorical(\"grow_policy\", [\"depthwise\", \"lossguide\"])\n",
    "\n",
    "    if param[\"booster\"] == \"dart\":\n",
    "        param[\"sample_type\"] = trial.suggest_categorical(\"sample_type\", [\"uniform\", \"weighted\"])\n",
    "        param[\"normalize_type\"] = trial.suggest_categorical(\"normalize_type\", [\"tree\", \"forest\"])\n",
    "        param[\"rate_drop\"] = trial.suggest_float(\"rate_drop\", 1e-8, 1.0, log=True)\n",
    "        param[\"skip_drop\"] = trial.suggest_float(\"skip_drop\", 1e-8, 1.0, log=True)\n",
    "    model = my_ai.Context(my_ai.XGBoostClassifierStrategy(param))\n",
    "    model.fit(data)\n",
    "    prediction = model.predict(data_max_class)\n",
    "    prediction = pd.DataFrame(prediction , columns=valid_y.columns)\n",
    "    tp, tn, fp, fn = 0, 0, 0, 0\n",
    "    tp += sum((prediction['bus_16'] == 1) & (data_max_class['y_test']['bus_16'] == 1))\n",
    "    tn += sum((prediction['bus_16'] == 0) & (data_max_class['y_test']['bus_16'] == 0))\n",
    "    fp += sum((prediction['bus_16'] == 1) & (data_max_class['y_test']['bus_16'] == 0))\n",
    "    fn += sum((prediction['bus_16'] == 0) & (data_max_class['y_test']['bus_16'] == 1))\n",
    "    if (tp+fp)*(tp+fn)*(tn+fp)*(tn+fn) > 0:\n",
    "        mcc_score = (tp*tn - fp*fn) / np.sqrt((tp+fp)*(tp+fn)*(tn+fp)*(tn+fn))\n",
    "    else: \n",
    "        mcc_score = 0\n",
    "    return mcc_score\n",
    "study = optuna.create_study(direction=\"maximize\")\n",
    "study.optimize(objective, n_trials=num_trials)\n",
    "print(\"Number of finished trials: \", len(study.trials))\n",
    "print(\"Best trial:\")\n",
    "trial = study.best_trial\n",
    "print(\"  Value: {}\".format(trial.value))\n",
    "print(\"  Params: \")\n",
    "for key, value in trial.params.items():\n",
    "    print(\"    {}: {}\".format(key, value))\n",
    "# Write the results to a csv file.\n",
    "with open(\"./hyper_params_results_mcc/params_xgboost_balanced_classifier_max_u_test_bus_16.csv\", \"w\") as f:\n",
    "    f.write(\"params,value\\n\")\n",
    "    for key, value in trial.params.items():\n",
    "        f.write(\"{},{}\\n\".format(key, value))\n",
    "    f.write(\"value,{}\\n\".format(trial.value))"
   ]
  },
  {
   "cell_type": "markdown",
   "metadata": {},
   "source": [
    "# Hybrid training and testing"
   ]
  },
  {
   "cell_type": "code",
   "execution_count": 17,
   "metadata": {},
   "outputs": [],
   "source": [
    "# Classification data sparse\n",
    "y_max_u_bool = pd.read_csv('..\\data\\ground_truth\\\\res_bus_vm_pu_max_sparse_bool_constr.csv').drop(columns=['timestamps'])\n",
    "y_max_u_bool = pd.DataFrame(y_max_u_bool['bus_16'], columns=['bus_16'])\n",
    "train_x, test_x, train_y, test_y, scaler = utils.split_and_suffle(exogenous_data, y_max_u_bool, test_size=0.2, scaling=True)\n",
    "data_max_u_bool = {'X_train': deepcopy(train_x), 'X_test': deepcopy(test_x), 'y_train': deepcopy(train_y), 'y_test': deepcopy(test_y), 'scaler': deepcopy(scaler)}\n",
    "# reg data sparse\n",
    "y_max_u = pd.read_csv('..\\data\\ground_truth\\\\res_bus_vm_pu_max_constr.csv').drop(columns=['timestamps'])\n",
    "y_max_u = pd.DataFrame(y_max_u['bus_16'], columns=['bus_16'])\n",
    "exogenous_data = pd.read_csv('..\\data\\processed\\production\\exogenous_data_extended.csv').drop(columns=['date'])\n",
    "train_x, valid_x, train_y, valid_y, scaler_max = utils.split_and_suffle(exogenous_data, y_max_u, test_size=0.2, scaling=True)\n",
    "data_max_reg = {'X_train': deepcopy(train_x), 'X_test': deepcopy(valid_x), 'y_train': deepcopy(train_y), 'y_test': deepcopy(valid_y)}\n",
    "threshold_max = utils.compute_threshold(y_max_u) / scaler_max['y']\n",
    "# balanced data reg\n",
    "y_max_u_balanced = pd.read_csv('..\\data\\ground_truth\\\\res_bus_vm_pu_max_balanced_constr.csv')\n",
    "y_max_u_balanced = pd.DataFrame(y_max_u_balanced['bus_16'], columns=['bus_16'])\n",
    "exogenous_data_vm_pu_max_balanced = pd.read_csv('..\\data\\ground_truth\\\\exogenous_data_vm_pu_max_balanced.csv').drop(columns=['date'])\n",
    "X_max_u_train, X_max_u_test, y_max_u_train, y_max_u_test = utils.split_and_suffle(exogenous_data_vm_pu_max_balanced, y_max_u_balanced)\n",
    "data_max_u_balanced = {'X_train': deepcopy(X_max_u_train), 'X_test': deepcopy(X_max_u_test), 'y_train': deepcopy(y_max_u_train), 'y_test': deepcopy(y_max_u_test)}\n",
    "# class data bool balanced\n",
    "y_max_u_balanced_bool = pd.read_csv('..\\data\\ground_truth\\\\res_bus_vm_pu_max_balanced_bool_constr.csv')\n",
    "y_max_u_balanced_bool = pd.DataFrame(y_max_u_balanced_bool['bus_16'], columns=['bus_16'])\n",
    "exogenous_data_balanced = pd.read_csv('..\\data\\ground_truth\\\\exogenous_data_vm_pu_max_balanced.csv').drop(columns=['date'])\n",
    "train_x, valid_x, train_y, valid_y, scaler = utils.split_and_suffle(exogenous_data_balanced, y_max_u_balanced_bool, test_size=0.2, scaling=True)\n",
    "data_max_u_bool_balanced = {'X_train': train_x, 'X_test': valid_x, 'y_train': train_y, 'y_test': valid_y}\n",
    "# hybrid data training\n",
    "data_max_u_hybrid = {}\n",
    "data_max_u_hybrid['X_train'] = pd.concat([data_max_u_balanced['X_train'], data_max_u_bool_balanced['y_train']], axis=1)\n",
    "data_max_u_hybrid['y_train'] = deepcopy(data_max_u_balanced['y_train'])\n"
   ]
  },
  {
   "cell_type": "code",
   "execution_count": 18,
   "metadata": {},
   "outputs": [],
   "source": [
    "\n",
    "# hybrid data test\n",
    "import ast\n",
    "def get_hyper_params_from_df(df):\n",
    "    output = {}\n",
    "    for row in df.iterrows():\n",
    "        if row[1]['params'] != 'value':\n",
    "            try:\n",
    "                output[row[1]['params']] = ast.literal_eval(row[1]['value'])\n",
    "            except :\n",
    "                output[row[1]['params']] = row[1]['value']\n",
    "    return output\n",
    "# import classifier hyper params \n",
    "df = pd.read_csv('hyper_params_results_mcc/params_xgboost_balanced_classifier_max_u_test_bus_16.csv')\n",
    "hyper_params = get_hyper_params_from_df(df)\n",
    "classifier_max_u = my_ai.Context(strategy=my_ai.XGBoostClassifierStrategy(hyper_params)) \n",
    "classifier_max_u.fit(data_max_u_bool_balanced)\n",
    "class_prediction = classifier_max_u.predict(data_max_u_bool).to_csv('class_prediction_max_u.csv', index=False)\n",
    "data_max_u_hybrid['X_test']  = pd.concat([data_max_reg['X_test'], class_prediction], axis=1)\n",
    "data_max_u_hybrid['y_test'] = deepcopy(data_max_reg['y_test'])\n",
    "\n",
    "\n",
    "# # \n",
    "# if 'hybrid_regressor_max_u.pickle' not in os.listdir('pickles\\hybrid_models_benchmark'):\n",
    "#     print('training max u hybrid model... wait for it...')\n",
    "#     hybrid_regressor_max_u = my_ai.Context(strategy=my_ai.GradientBoostRegressorStrategy(hyper_params)) \n",
    "#     hybrid_regressor_max_u.fit(data=data_max_u_hybrid)\n",
    "#     utils.serialize_object('pickles\\hybrid_models_benchmark\\hybrid_regressor_max_u_one_bus', hybrid_regressor_max_u)\n",
    "# else: \n",
    "#     print('loading max u hybrid model...')\n",
    "#     hybrid_regressor_max_u = utils.deserialize_object('pickles\\hybrid_models_benchmark\\hybrid_regressor_max_u_one_bus')\n"
   ]
  },
  {
   "cell_type": "code",
   "execution_count": 19,
   "metadata": {},
   "outputs": [
    {
     "name": "stdout",
     "output_type": "stream",
     "text": [
      "data_max_u_hybrid X_train shape:  (5561, 12)\n",
      "data_max_u_hybrid y_train shape:  (5561, 1)\n",
      "data_max_u_hybrid X_test shape:  (9044, 11)\n",
      "data_max_u_hybrid y_test shape:  (9044, 1)\n"
     ]
    }
   ],
   "source": [
    "print('data_max_u_hybrid X_train shape: ', data_max_u_hybrid['X_train'].shape)\n",
    "print('data_max_u_hybrid y_train shape: ', data_max_u_hybrid['y_train'].shape)\n",
    "print('data_max_u_hybrid X_test shape: ', data_max_u_hybrid['X_test'].shape)\n",
    "print('data_max_u_hybrid y_test shape: ', data_max_u_hybrid['y_test'].shape)\n"
   ]
  },
  {
   "cell_type": "code",
   "execution_count": 20,
   "metadata": {},
   "outputs": [
    {
     "name": "stderr",
     "output_type": "stream",
     "text": [
      "\u001b[32m[I 2022-10-21 11:55:52,501]\u001b[0m A new study created in memory with name: no-name-e199fcd9-c8be-4118-9b13-fdecc5c04c25\u001b[0m\n",
      "\u001b[32m[I 2022-10-21 11:56:02,280]\u001b[0m Trial 0 finished with value: 0.4002266609671506 and parameters: {'n_estimators': 417, 'learning_rate': 0.35977006145588475, 'loss': 'squared_error'}. Best is trial 0 with value: 0.4002266609671506.\u001b[0m\n"
     ]
    },
    {
     "name": "stdout",
     "output_type": "stream",
     "text": [
      "true_positives_ctr:  591\n",
      "true_negatives_ctr:  7315\n",
      "false_positives_ctr:  1035\n",
      "false_negatives_ctr:  103\n",
      "69896159893200\n",
      "hybrid_recall 0.7765614215615608\n",
      "hybrid_precision 0.2719271446503238\n",
      "hybrid_f1 0.4028048312892285\n",
      "hybrid_accuracy 0.8491732157762555\n",
      "hybrid_mcc 0.4002266609671506\n"
     ]
    },
    {
     "name": "stderr",
     "output_type": "stream",
     "text": [
      "\u001b[32m[I 2022-10-21 11:56:15,829]\u001b[0m Trial 1 finished with value: 0.25309767453785365 and parameters: {'n_estimators': 623, 'learning_rate': 0.5356408547957667, 'loss': 'squared_error'}. Best is trial 0 with value: 0.4002266609671506.\u001b[0m\n"
     ]
    },
    {
     "name": "stdout",
     "output_type": "stream",
     "text": [
      "true_positives_ctr:  545\n",
      "true_negatives_ctr:  6633\n",
      "false_positives_ctr:  1717\n",
      "false_negatives_ctr:  149\n",
      "88898888691600\n",
      "hybrid_recall 0.6857393435463653\n",
      "hybrid_precision 0.1719975824556419\n",
      "hybrid_f1 0.2750155804401447\n",
      "hybrid_accuracy 0.756767255065997\n",
      "hybrid_mcc 0.25309767453785365\n"
     ]
    },
    {
     "name": "stderr",
     "output_type": "stream",
     "text": [
      "\u001b[32m[I 2022-10-21 11:56:20,495]\u001b[0m Trial 2 finished with value: 0.5281841316632668 and parameters: {'n_estimators': 160, 'learning_rate': 0.12869537094053457, 'loss': 'absolute_error'}. Best is trial 2 with value: 0.5281841316632668.\u001b[0m\n"
     ]
    },
    {
     "name": "stdout",
     "output_type": "stream",
     "text": [
      "true_positives_ctr:  619\n",
      "true_negatives_ctr:  7716\n",
      "false_positives_ctr:  634\n",
      "false_negatives_ctr:  75\n",
      "56570526572700\n",
      "hybrid_recall 0.8371331662465814\n",
      "hybrid_precision 0.3847820863700829\n",
      "hybrid_f1 0.5272278017451111\n",
      "hybrid_accuracy 0.9061877354323458\n",
      "hybrid_mcc 0.5281841316632668\n"
     ]
    },
    {
     "name": "stderr",
     "output_type": "stream",
     "text": [
      "\u001b[32m[I 2022-10-21 11:56:22,675]\u001b[0m Trial 3 finished with value: 0.5003477812636629 and parameters: {'n_estimators': 55, 'learning_rate': 0.26149573493887496, 'loss': 'absolute_error'}. Best is trial 2 with value: 0.5281841316632668.\u001b[0m\n"
     ]
    },
    {
     "name": "stdout",
     "output_type": "stream",
     "text": [
      "true_positives_ctr:  599\n",
      "true_negatives_ctr:  7711\n",
      "false_positives_ctr:  639\n",
      "false_negatives_ctr:  95\n",
      "56000916877200\n",
      "hybrid_recall 0.790376794269534\n",
      "hybrid_precision 0.3730161507185551\n",
      "hybrid_f1 0.5068335865122705\n",
      "hybrid_accuracy 0.9021138578808843\n",
      "hybrid_mcc 0.5003477812636629\n"
     ]
    },
    {
     "name": "stderr",
     "output_type": "stream",
     "text": [
      "\u001b[32m[I 2022-10-21 11:56:24,253]\u001b[0m Trial 4 finished with value: 0.49890218503492495 and parameters: {'n_estimators': 21, 'learning_rate': 0.14773255250896278, 'loss': 'squared_error'}. Best is trial 2 with value: 0.5281841316632668.\u001b[0m\n"
     ]
    },
    {
     "name": "stdout",
     "output_type": "stream",
     "text": [
      "true_positives_ctr:  683\n",
      "true_negatives_ctr:  7306\n",
      "false_positives_ctr:  1044\n",
      "false_negatives_ctr:  11\n",
      "73227016259100\n",
      "hybrid_recall 0.9769701855065157\n",
      "hybrid_precision 0.3009031443103157\n",
      "hybrid_f1 0.46009787332908925\n",
      "hybrid_accuracy 0.8622951944506604\n",
      "hybrid_mcc 0.49890218503492495\n"
     ]
    },
    {
     "name": "stderr",
     "output_type": "stream",
     "text": [
      "\u001b[32m[I 2022-10-21 11:56:26,926]\u001b[0m Trial 5 finished with value: 0.4943204945994142 and parameters: {'n_estimators': 77, 'learning_rate': 0.24798521893885972, 'loss': 'absolute_error'}. Best is trial 2 with value: 0.5281841316632668.\u001b[0m\n"
     ]
    },
    {
     "name": "stdout",
     "output_type": "stream",
     "text": [
      "true_positives_ctr:  591\n",
      "true_negatives_ctr:  7719\n",
      "false_positives_ctr:  631\n",
      "false_negatives_ctr:  103\n",
      "55390458931600\n",
      "hybrid_recall 0.7756727330359768\n",
      "hybrid_precision 0.3722593784123848\n",
      "hybrid_f1 0.5030810560514538\n",
      "hybrid_accuracy 0.9024784500428922\n",
      "hybrid_mcc 0.4943204945994142\n"
     ]
    },
    {
     "name": "stderr",
     "output_type": "stream",
     "text": [
      "\u001b[32m[I 2022-10-21 11:56:28,154]\u001b[0m Trial 6 finished with value: 0.4575268821786998 and parameters: {'n_estimators': 11, 'learning_rate': 0.12531912545843432, 'loss': 'squared_error'}. Best is trial 2 with value: 0.5281841316632668.\u001b[0m\n"
     ]
    },
    {
     "name": "stdout",
     "output_type": "stream",
     "text": [
      "true_positives_ctr:  692\n",
      "true_negatives_ctr:  7047\n",
      "false_positives_ctr:  1303\n",
      "false_negatives_ctr:  2\n",
      "81492258949500\n",
      "hybrid_recall 0.9960655590754403\n",
      "hybrid_precision 0.2582978492561267\n",
      "hybrid_f1 0.4102185856481556\n",
      "hybrid_accuracy 0.8262977996786877\n",
      "hybrid_mcc 0.4575268821786998\n"
     ]
    },
    {
     "name": "stderr",
     "output_type": "stream",
     "text": [
      "\u001b[32m[I 2022-10-21 11:56:29,840]\u001b[0m Trial 7 finished with value: 0.3314669289022847 and parameters: {'n_estimators': 35, 'learning_rate': 0.813933865024019, 'loss': 'squared_error'}. Best is trial 2 with value: 0.5281841316632668.\u001b[0m\n"
     ]
    },
    {
     "name": "stdout",
     "output_type": "stream",
     "text": [
      "true_positives_ctr:  595\n",
      "true_negatives_ctr:  6874\n",
      "false_positives_ctr:  1476\n",
      "false_negatives_ctr:  99\n",
      "83684631876700\n",
      "hybrid_recall 0.7847847383272057\n",
      "hybrid_precision 0.20785050792211282\n",
      "hybrid_f1 0.3286562855533785\n",
      "hybrid_accuracy 0.794061236786938\n",
      "hybrid_mcc 0.3314669289022847\n"
     ]
    },
    {
     "name": "stderr",
     "output_type": "stream",
     "text": [
      "\u001b[32m[I 2022-10-21 11:56:44,186]\u001b[0m Trial 8 finished with value: 0.18452880547749603 and parameters: {'n_estimators': 665, 'learning_rate': 0.9909196288796606, 'loss': 'squared_error'}. Best is trial 2 with value: 0.5281841316632668.\u001b[0m\n"
     ]
    },
    {
     "name": "stdout",
     "output_type": "stream",
     "text": [
      "true_positives_ctr:  535\n",
      "true_negatives_ctr:  6087\n",
      "false_positives_ctr:  2263\n",
      "false_negatives_ctr:  159\n",
      "101273457229200\n",
      "hybrid_recall 0.6618712939902469\n",
      "hybrid_precision 0.13186388552537484\n",
      "hybrid_f1 0.2199144571027393\n",
      "hybrid_accuracy 0.6850682525285895\n",
      "hybrid_mcc 0.18452880547749603\n"
     ]
    },
    {
     "name": "stderr",
     "output_type": "stream",
     "text": [
      "\u001b[32m[I 2022-10-21 11:56:45,464]\u001b[0m Trial 9 finished with value: 0.5046775266559367 and parameters: {'n_estimators': 15, 'learning_rate': 0.6257655382315078, 'loss': 'squared_error'}. Best is trial 2 with value: 0.5281841316632668.\u001b[0m\n"
     ]
    },
    {
     "name": "stdout",
     "output_type": "stream",
     "text": [
      "true_positives_ctr:  609\n",
      "true_negatives_ctr:  7679\n",
      "false_positives_ctr:  671\n",
      "false_negatives_ctr:  85\n",
      "57589252608000\n",
      "hybrid_recall 0.813719155236725\n",
      "hybrid_precision 0.36833222515828407\n",
      "hybrid_f1 0.5071166821904209\n",
      "hybrid_accuracy 0.8989782533373248\n",
      "hybrid_mcc 0.5046775266559367\n"
     ]
    },
    {
     "name": "stderr",
     "output_type": "stream",
     "text": [
      "\u001b[32m[I 2022-10-21 11:56:50,882]\u001b[0m Trial 10 finished with value: 0.5287239253184698 and parameters: {'n_estimators': 208, 'learning_rate': 0.17511257188219423, 'loss': 'absolute_error'}. Best is trial 10 with value: 0.5287239253184698.\u001b[0m\n"
     ]
    },
    {
     "name": "stdout",
     "output_type": "stream",
     "text": [
      "true_positives_ctr:  600\n",
      "true_negatives_ctr:  7786\n",
      "false_positives_ctr:  564\n",
      "false_negatives_ctr:  94\n",
      "53152677168000\n",
      "hybrid_recall 0.7967130895608335\n",
      "hybrid_precision 0.4045164738610634\n",
      "hybrid_f1 0.5365894737888819\n",
      "hybrid_accuracy 0.9126470143055045\n",
      "hybrid_mcc 0.5287239253184698\n"
     ]
    },
    {
     "name": "stderr",
     "output_type": "stream",
     "text": [
      "\u001b[32m[I 2022-10-21 11:56:56,392]\u001b[0m Trial 11 finished with value: 0.5189808294255156 and parameters: {'n_estimators': 218, 'learning_rate': 0.1772274822375657, 'loss': 'absolute_error'}. Best is trial 10 with value: 0.5287239253184698.\u001b[0m\n"
     ]
    },
    {
     "name": "stdout",
     "output_type": "stream",
     "text": [
      "true_positives_ctr:  593\n",
      "true_negatives_ctr:  7782\n",
      "false_positives_ctr:  568\n",
      "false_negatives_ctr:  101\n",
      "53035869368700\n",
      "hybrid_recall 0.7819259354881972\n",
      "hybrid_precision 0.3996096690071596\n",
      "hybrid_f1 0.5289136663841941\n",
      "hybrid_accuracy 0.9111869901034131\n",
      "hybrid_mcc 0.5189808294255156\n"
     ]
    },
    {
     "name": "stderr",
     "output_type": "stream",
     "text": [
      "\u001b[32m[I 2022-10-21 11:57:00,440]\u001b[0m Trial 12 finished with value: 0.5209606611154847 and parameters: {'n_estimators': 140, 'learning_rate': 0.1062566139562704, 'loss': 'absolute_error'}. Best is trial 10 with value: 0.5287239253184698.\u001b[0m\n"
     ]
    },
    {
     "name": "stdout",
     "output_type": "stream",
     "text": [
      "true_positives_ctr:  638\n",
      "true_negatives_ctr:  7617\n",
      "false_positives_ctr:  733\n",
      "false_negatives_ctr:  56\n",
      "60960511016700\n",
      "hybrid_recall 0.8760704640615262\n",
      "hybrid_precision 0.35989717978634184\n",
      "hybrid_f1 0.510199908354015\n",
      "hybrid_accuracy 0.8960828547261229\n",
      "hybrid_mcc 0.5209606611154847\n"
     ]
    },
    {
     "name": "stderr",
     "output_type": "stream",
     "text": [
      "\u001b[32m[I 2022-10-21 11:57:05,953]\u001b[0m Trial 13 finished with value: 0.5108025927442006 and parameters: {'n_estimators': 212, 'learning_rate': 0.1846923975914618, 'loss': 'absolute_error'}. Best is trial 10 with value: 0.5287239253184698.\u001b[0m\n"
     ]
    },
    {
     "name": "stdout",
     "output_type": "stream",
     "text": [
      "true_positives_ctr:  583\n",
      "true_negatives_ctr:  7798\n",
      "false_positives_ctr:  552\n",
      "false_negatives_ctr:  111\n",
      "52019165753500\n",
      "hybrid_recall 0.7588319902170009\n",
      "hybrid_precision 0.4012146162224169\n",
      "hybrid_f1 0.5249004376930724\n",
      "hybrid_accuracy 0.9111141534243593\n",
      "hybrid_mcc 0.5108025927442006\n"
     ]
    },
    {
     "name": "stderr",
     "output_type": "stream",
     "text": [
      "\u001b[32m[I 2022-10-21 11:57:12,970]\u001b[0m Trial 14 finished with value: 0.5263705658438922 and parameters: {'n_estimators': 293, 'learning_rate': 0.10275982448478943, 'loss': 'absolute_error'}. Best is trial 10 with value: 0.5287239253184698.\u001b[0m\n"
     ]
    },
    {
     "name": "stdout",
     "output_type": "stream",
     "text": [
      "true_positives_ctr:  612\n",
      "true_negatives_ctr:  7738\n",
      "false_positives_ctr:  612\n",
      "false_negatives_ctr:  82\n",
      "55466928432000\n",
      "hybrid_recall 0.8215554544595527\n",
      "hybrid_precision 0.38971172582515407\n",
      "hybrid_f1 0.5286526362305062\n",
      "hybrid_accuracy 0.9079799176915988\n",
      "hybrid_mcc 0.5263705658438922\n"
     ]
    },
    {
     "name": "stderr",
     "output_type": "stream",
     "text": [
      "\u001b[32m[I 2022-10-21 11:57:16,595]\u001b[0m Trial 15 finished with value: 0.5211378881443595 and parameters: {'n_estimators': 125, 'learning_rate': 0.19380014986157038, 'loss': 'absolute_error'}. Best is trial 10 with value: 0.5287239253184698.\u001b[0m\n"
     ]
    },
    {
     "name": "stdout",
     "output_type": "stream",
     "text": [
      "true_positives_ctr:  613\n",
      "true_negatives_ctr:  7715\n",
      "false_positives_ctr:  635\n",
      "false_negatives_ctr:  81\n",
      "56380946419200\n",
      "hybrid_recall 0.8232388738161609\n",
      "hybrid_precision 0.38278018885071213\n",
      "hybrid_f1 0.5225780277332814\n",
      "hybrid_accuracy 0.9054068670227083\n",
      "hybrid_mcc 0.5211378881443595\n"
     ]
    },
    {
     "name": "stderr",
     "output_type": "stream",
     "text": [
      "\u001b[32m[I 2022-10-21 11:57:38,661]\u001b[0m Trial 16 finished with value: 0.5156274982614288 and parameters: {'n_estimators': 1000, 'learning_rate': 0.38637390604363514, 'loss': 'absolute_error'}. Best is trial 10 with value: 0.5287239253184698.\u001b[0m\n"
     ]
    },
    {
     "name": "stdout",
     "output_type": "stream",
     "text": [
      "true_positives_ctr:  580\n",
      "true_negatives_ctr:  7820\n",
      "false_positives_ctr:  530\n",
      "false_negatives_ctr:  114\n",
      "51034177626000\n",
      "hybrid_recall 0.7557899607151171\n",
      "hybrid_precision 0.4086649341003996\n",
      "hybrid_f1 0.5304883097912008\n",
      "hybrid_accuracy 0.9136903529892371\n",
      "hybrid_mcc 0.5156274982614288\n"
     ]
    },
    {
     "name": "stderr",
     "output_type": "stream",
     "text": [
      "\u001b[32m[I 2022-10-21 11:57:40,832]\u001b[0m Trial 17 finished with value: 0.5057940655777319 and parameters: {'n_estimators': 56, 'learning_rate': 0.144394158147231, 'loss': 'absolute_error'}. Best is trial 10 with value: 0.5287239253184698.\u001b[0m\n"
     ]
    },
    {
     "name": "stdout",
     "output_type": "stream",
     "text": [
      "true_positives_ctr:  663\n",
      "true_negatives_ctr:  7444\n",
      "false_positives_ctr:  906\n",
      "false_negatives_ctr:  31\n",
      "67964180797500\n",
      "hybrid_recall 0.931763014332912\n",
      "hybrid_precision 0.3226044184382977\n",
      "hybrid_f1 0.47927083804639964\n",
      "hybrid_accuracy 0.8772784538872922\n",
      "hybrid_mcc 0.5057940655777319\n"
     ]
    },
    {
     "name": "stderr",
     "output_type": "stream",
     "text": [
      "\u001b[32m[I 2022-10-21 11:57:44,930]\u001b[0m Trial 18 finished with value: 0.5255116610351447 and parameters: {'n_estimators': 144, 'learning_rate': 0.26773166325854336, 'loss': 'absolute_error'}. Best is trial 10 with value: 0.5287239253184698.\u001b[0m\n"
     ]
    },
    {
     "name": "stdout",
     "output_type": "stream",
     "text": [
      "true_positives_ctr:  599\n",
      "true_negatives_ctr:  7783\n",
      "false_positives_ctr:  567\n",
      "false_negatives_ctr:  95\n",
      "53230491085200\n",
      "hybrid_recall 0.7935375807746359\n",
      "hybrid_precision 0.40204698739923334\n",
      "hybrid_f1 0.5336960717480949\n",
      "hybrid_accuracy 0.9119302413800753\n",
      "hybrid_mcc 0.5255116610351447\n"
     ]
    },
    {
     "name": "stderr",
     "output_type": "stream",
     "text": [
      "\u001b[32m[I 2022-10-21 11:57:53,213]\u001b[0m Trial 19 finished with value: 0.513882558673673 and parameters: {'n_estimators': 345, 'learning_rate': 0.22259898498034209, 'loss': 'absolute_error'}. Best is trial 10 with value: 0.5287239253184698.\u001b[0m\n"
     ]
    },
    {
     "name": "stdout",
     "output_type": "stream",
     "text": [
      "true_positives_ctr:  582\n",
      "true_negatives_ctr:  7806\n",
      "false_positives_ctr:  544\n",
      "false_negatives_ctr:  112\n",
      "51665404493200\n",
      "hybrid_recall 0.7598940120610658\n",
      "hybrid_precision 0.4043667964898049\n",
      "hybrid_f1 0.5278472058359119\n",
      "hybrid_accuracy 0.9123889361453664\n",
      "hybrid_mcc 0.513882558673673\n"
     ]
    },
    {
     "name": "stderr",
     "output_type": "stream",
     "text": [
      "\u001b[32m[I 2022-10-21 11:57:56,083]\u001b[0m Trial 20 finished with value: 0.5271977735454643 and parameters: {'n_estimators': 87, 'learning_rate': 0.15052057916276904, 'loss': 'absolute_error'}. Best is trial 10 with value: 0.5287239253184698.\u001b[0m\n"
     ]
    },
    {
     "name": "stdout",
     "output_type": "stream",
     "text": [
      "true_positives_ctr:  644\n",
      "true_negatives_ctr:  7614\n",
      "false_positives_ctr:  736\n",
      "false_negatives_ctr:  50\n",
      "61288716768000\n",
      "hybrid_recall 0.8888233869065337\n",
      "hybrid_precision 0.3618028355947402\n",
      "hybrid_f1 0.5142684775672489\n",
      "hybrid_accuracy 0.8964317527355293\n",
      "hybrid_mcc 0.5271977735454643\n"
     ]
    },
    {
     "name": "stderr",
     "output_type": "stream",
     "text": [
      "\u001b[32m[I 2022-10-21 11:57:59,060]\u001b[0m Trial 21 finished with value: 0.519158388716859 and parameters: {'n_estimators': 92, 'learning_rate': 0.1405089528919976, 'loss': 'absolute_error'}. Best is trial 10 with value: 0.5287239253184698.\u001b[0m\n"
     ]
    },
    {
     "name": "stdout",
     "output_type": "stream",
     "text": [
      "true_positives_ctr:  648\n",
      "true_negatives_ctr:  7567\n",
      "false_positives_ctr:  783\n",
      "false_negatives_ctr:  46\n",
      "63130816964700\n",
      "hybrid_recall 0.8975048892915979\n",
      "hybrid_precision 0.34949847228453346\n",
      "hybrid_f1 0.5030885999839583\n",
      "hybrid_accuracy 0.8909767018898098\n",
      "hybrid_mcc 0.519158388716859\n"
     ]
    },
    {
     "name": "stderr",
     "output_type": "stream",
     "text": [
      "\u001b[32m[I 2022-10-21 11:58:04,969]\u001b[0m Trial 22 finished with value: 0.5256377844298865 and parameters: {'n_estimators': 224, 'learning_rate': 0.16374221568149538, 'loss': 'absolute_error'}. Best is trial 10 with value: 0.5287239253184698.\u001b[0m\n"
     ]
    },
    {
     "name": "stdout",
     "output_type": "stream",
     "text": [
      "true_positives_ctr:  595\n",
      "true_negatives_ctr:  7797\n",
      "false_positives_ctr:  553\n",
      "false_negatives_ctr:  99\n",
      "52528496899200\n",
      "hybrid_recall 0.7852683488469753\n",
      "hybrid_precision 0.406244549379448\n",
      "hybrid_f1 0.5354721497251654\n",
      "hybrid_accuracy 0.9132822032476946\n",
      "hybrid_mcc 0.5256377844298865\n"
     ]
    },
    {
     "name": "stderr",
     "output_type": "stream",
     "text": [
      "\u001b[32m[I 2022-10-21 11:58:06,697]\u001b[0m Trial 23 finished with value: 0.49703942968007836 and parameters: {'n_estimators': 33, 'learning_rate': 0.11715890623323941, 'loss': 'absolute_error'}. Best is trial 10 with value: 0.5287239253184698.\u001b[0m\n"
     ]
    },
    {
     "name": "stdout",
     "output_type": "stream",
     "text": [
      "true_positives_ctr:  689\n",
      "true_negatives_ctr:  7273\n",
      "false_positives_ctr:  1077\n",
      "false_negatives_ctr:  5\n",
      "74481548365200\n",
      "hybrid_recall 0.9895652683109355\n",
      "hybrid_precision 0.29500281004625045\n",
      "hybrid_f1 0.4545100252673809\n",
      "hybrid_accuracy 0.858405460328526\n",
      "hybrid_mcc 0.49703942968007836\n"
     ]
    },
    {
     "name": "stderr",
     "output_type": "stream",
     "text": [
      "\u001b[32m[I 2022-10-21 11:58:09,325]\u001b[0m Trial 24 finished with value: 0.5137793524137584 and parameters: {'n_estimators': 75, 'learning_rate': 0.1992022973636998, 'loss': 'absolute_error'}. Best is trial 10 with value: 0.5287239253184698.\u001b[0m\n"
     ]
    },
    {
     "name": "stdout",
     "output_type": "stream",
     "text": [
      "true_positives_ctr:  634\n",
      "true_negatives_ctr:  7603\n",
      "false_positives_ctr:  747\n",
      "false_negatives_ctr:  60\n",
      "61325126124700\n",
      "hybrid_recall 0.867752870180725\n",
      "hybrid_precision 0.3554157771274527\n",
      "hybrid_f1 0.5042854252168469\n",
      "hybrid_accuracy 0.8940172615037714\n",
      "hybrid_mcc 0.5137793524137584\n"
     ]
    },
    {
     "name": "stderr",
     "output_type": "stream",
     "text": [
      "\u001b[32m[I 2022-10-21 11:58:13,873]\u001b[0m Trial 25 finished with value: 0.5295599848691138 and parameters: {'n_estimators': 164, 'learning_rate': 0.128508806750761, 'loss': 'absolute_error'}. Best is trial 25 with value: 0.5295599848691138.\u001b[0m\n"
     ]
    },
    {
     "name": "stdout",
     "output_type": "stream",
     "text": [
      "true_positives_ctr:  620\n",
      "true_negatives_ctr:  7718\n",
      "false_positives_ctr:  632\n",
      "false_negatives_ctr:  74\n",
      "56532633721600\n",
      "hybrid_recall 0.8383329629440158\n",
      "hybrid_precision 0.38594361478413364\n",
      "hybrid_f1 0.5285558181823694\n",
      "hybrid_accuracy 0.9064599016640538\n",
      "hybrid_mcc 0.5295599848691138\n"
     ]
    },
    {
     "name": "stderr",
     "output_type": "stream",
     "text": [
      "\u001b[32m[I 2022-10-21 11:58:19,169]\u001b[0m Trial 26 finished with value: 0.5188199379053209 and parameters: {'n_estimators': 156, 'learning_rate': 0.12242545502777621, 'loss': 'absolute_error'}. Best is trial 25 with value: 0.5295599848691138.\u001b[0m\n"
     ]
    },
    {
     "name": "stdout",
     "output_type": "stream",
     "text": [
      "true_positives_ctr:  626\n",
      "true_negatives_ctr:  7659\n",
      "false_positives_ctr:  691\n",
      "false_negatives_ctr:  68\n",
      "58971562259100\n",
      "hybrid_recall 0.8496231704033961\n",
      "hybrid_precision 0.3684899255104966\n",
      "hybrid_f1 0.5140369639307623\n",
      "hybrid_accuracy 0.8998770554095317\n",
      "hybrid_mcc 0.5188199379053209\n"
     ]
    },
    {
     "name": "stderr",
     "output_type": "stream",
     "text": [
      "\u001b[32m[I 2022-10-21 11:58:29,805]\u001b[0m Trial 27 finished with value: 0.5190606697925915 and parameters: {'n_estimators': 475, 'learning_rate': 0.320812259711449, 'loss': 'absolute_error'}. Best is trial 25 with value: 0.5295599848691138.\u001b[0m\n"
     ]
    },
    {
     "name": "stdout",
     "output_type": "stream",
     "text": [
      "true_positives_ctr:  590\n",
      "true_negatives_ctr:  7797\n",
      "false_positives_ctr:  553\n",
      "false_negatives_ctr:  104\n",
      "52332832100700\n",
      "hybrid_recall 0.7748102159497631\n",
      "hybrid_precision 0.40323962263245605\n",
      "hybrid_f1 0.5304260802197778\n",
      "hybrid_accuracy 0.9122972523512657\n",
      "hybrid_mcc 0.5190606697925915\n"
     ]
    },
    {
     "name": "stderr",
     "output_type": "stream",
     "text": [
      "\u001b[32m[I 2022-10-21 11:58:39,169]\u001b[0m Trial 28 finished with value: 0.5141810552555246 and parameters: {'n_estimators': 278, 'learning_rate': 0.12981730358890015, 'loss': 'absolute_error'}. Best is trial 25 with value: 0.5295599848691138.\u001b[0m\n"
     ]
    },
    {
     "name": "stdout",
     "output_type": "stream",
     "text": [
      "true_positives_ctr:  591\n",
      "true_negatives_ctr:  7775\n",
      "false_positives_ctr:  575\n",
      "false_negatives_ctr:  103\n",
      "53230491085200\n",
      "hybrid_recall 0.7777460321124988\n",
      "hybrid_precision 0.39569038255952527\n",
      "hybrid_f1 0.5245220297117894\n",
      "hybrid_accuracy 0.9099643550963987\n",
      "hybrid_mcc 0.5141810552555246\n"
     ]
    },
    {
     "name": "stderr",
     "output_type": "stream",
     "text": [
      "\u001b[32m[I 2022-10-21 11:58:50,955]\u001b[0m Trial 29 finished with value: 0.5106876856106236 and parameters: {'n_estimators': 414, 'learning_rate': 0.3710401933193387, 'loss': 'absolute_error'}. Best is trial 25 with value: 0.5295599848691138.\u001b[0m\n"
     ]
    },
    {
     "name": "stdout",
     "output_type": "stream",
     "text": [
      "true_positives_ctr:  577\n",
      "true_negatives_ctr:  7816\n",
      "false_positives_ctr:  534\n",
      "false_negatives_ctr:  117\n",
      "51073716228700\n",
      "hybrid_recall 0.7489019482843028\n",
      "hybrid_precision 0.4060736177817824\n",
      "hybrid_f1 0.5266073715125358\n",
      "hybrid_accuracy 0.9126528259937773\n",
      "hybrid_mcc 0.5106876856106236\n",
      "Number of finished trials:  30\n",
      "Best trial:\n",
      "  Value: 0.5295599848691138\n",
      "  Params: \n",
      "    n_estimators: 164\n",
      "    learning_rate: 0.128508806750761\n",
      "    loss: absolute_error\n"
     ]
    }
   ],
   "source": [
    "num_trials = 30\n",
    "# Same implementation as above, but for Gradient Boosting Regression.\n",
    "def objective(trial):\n",
    "    # import data\n",
    "    y_max_u = pd.read_csv('..\\data\\ground_truth\\\\res_bus_vm_pu_max_balanced_constr.csv')\n",
    "    y_max_u = pd.DataFrame(y_max_u['bus_16'], columns=['bus_16'])\n",
    "    exogenous_data = pd.read_csv('..\\data\\ground_truth\\\\exogenous_data_vm_pu_max_balanced.csv').drop(columns=['date'])\n",
    "    train_x, valid_x, train_y, valid_y, scaler = utils.split_and_suffle(exogenous_data, y_max_u, test_size=0.2, scaling=True)\n",
    "    data = {'X_train': deepcopy(train_x), 'X_test': deepcopy(valid_x), 'y_train': deepcopy(train_y), 'y_test': deepcopy(valid_y)}\n",
    "    # class data bool balanced\n",
    "    y_max_u_balanced_bool = pd.read_csv('..\\data\\ground_truth\\\\res_bus_vm_pu_max_balanced_bool_constr.csv')\n",
    "    y_max_u_balanced_bool = pd.DataFrame(y_max_u_balanced_bool['bus_16'], columns=['bus_16'])\n",
    "    train_x, valid_x, train_y, valid_y, scaler = utils.split_and_suffle(exogenous_data, y_max_u_balanced_bool, test_size=0.2, scaling=True)\n",
    "    data_max_u_bool_balanced = {'X_train': deepcopy(train_x), 'X_test': deepcopy(valid_x), 'y_train': deepcopy(train_y), 'y_test': deepcopy(valid_y)}\n",
    "    # hybrid data training\n",
    "    data_max_u_hybrid = {}\n",
    "    data_max_u_hybrid['X_train'] =  pd.concat([data['X_train'], data_max_u_bool_balanced['y_train']], axis=1)\n",
    "    data_max_u_hybrid['y_train'] = data['y_train']\n",
    "    # Testing data\n",
    "    class_prediction = pd.read_csv('class_prediction_max_u.csv')\n",
    "    data_max_u_hybrid['X_test']  = pd.concat([data_max_reg['X_test'], class_prediction], axis=1)\n",
    "    data_max_u_hybrid['y_test'] = data_max_reg['y_test']\n",
    "    param = {\n",
    "        'n_estimators': trial.suggest_int('n_estimators', 10, 1000, log=True),\n",
    "        'learning_rate': trial.suggest_float('learning_rate', 0.1, 1.0, log=True) ,\n",
    "        'loss': trial.suggest_categorical('loss', ['squared_error', 'absolute_error'])\n",
    "    }\n",
    "    model = my_ai.Context(my_ai.GradientBoostRegressorStrategy(param))\n",
    "    model.fit(data_max_u_hybrid)\n",
    "    prediction = model.predict(data_max_u_hybrid)\n",
    "    # evaluate the regression performance with my metrics\n",
    "    metric = metrics.Metrics()\n",
    "    metric.get_prediction_scores(prediction, data_max_u_hybrid['y_test'], threshold=threshold_max)\n",
    "    print('hybrid_recall', metric.hybrid_recall)\n",
    "    print('hybrid_precision', metric.hybrid_precision)\n",
    "    print('hybrid_f1', metric.hybrid_f1)\n",
    "    print('hybrid_accuracy', metric.hybrid_accuracy)\n",
    "    print('hybrid_mcc', metric.hybrid_mcc)\n",
    "    return metric.hybrid_mcc\n",
    "study = optuna.create_study(direction=\"maximize\")\n",
    "study.optimize(objective, n_trials=num_trials)\n",
    "print(\"Number of finished trials: \", len(study.trials))\n",
    "print(\"Best trial:\")\n",
    "trial = study.best_trial\n",
    "print(\"  Value: {}\".format(trial.value))\n",
    "print(\"  Params: \")\n",
    "for key, value in trial.params.items():\n",
    "    print(\"    {}: {}\".format(key, value))\n",
    "# Write the results to a csv file.\n",
    "with open(\"./hyper_params_results_mcc/params_gradient_boost_regression_balanced_max_u_test_one_bus.csv\", \"w\") as f:\n",
    "    f.write(\"params,value\\n\")\n",
    "    for key, value in trial.params.items():\n",
    "        f.write(\"{},{}\\n\".format(key, value))\n",
    "    f.write(\"value,{}\\n\".format(trial.value))"
   ]
  },
  {
   "cell_type": "code",
   "execution_count": 21,
   "metadata": {},
   "outputs": [
    {
     "name": "stderr",
     "output_type": "stream",
     "text": [
      "\u001b[32m[I 2022-10-21 11:58:51,057]\u001b[0m A new study created in memory with name: no-name-545cfb24-d30c-4655-b82d-be79559c7b63\u001b[0m\n",
      "\u001b[32m[I 2022-10-21 11:59:04,171]\u001b[0m Trial 0 finished with value: 0.5200193024610237 and parameters: {'n_estimators': 399, 'learning_rate': 0.14344219081822132, 'loss': 'absolute_error'}. Best is trial 0 with value: 0.5200193024610237.\u001b[0m\n"
     ]
    },
    {
     "name": "stdout",
     "output_type": "stream",
     "text": [
      "true_positives_ctr:  588\n",
      "true_negatives_ctr:  7803\n",
      "false_positives_ctr:  547\n",
      "false_negatives_ctr:  106\n",
      "52019165753500\n",
      "hybrid_recall 0.7717488363399436\n",
      "hybrid_precision 0.40601020119024916\n",
      "hybrid_f1 0.5320916933361907\n",
      "hybrid_accuracy 0.9130892239876028\n",
      "hybrid_mcc 0.5200193024610237\n"
     ]
    },
    {
     "name": "stderr",
     "output_type": "stream",
     "text": [
      "\u001b[32m[I 2022-10-21 11:59:11,520]\u001b[0m Trial 1 finished with value: 0.5264442861839969 and parameters: {'n_estimators': 171, 'learning_rate': 0.11717159309268428, 'loss': 'absolute_error'}. Best is trial 1 with value: 0.5264442861839969.\u001b[0m\n"
     ]
    },
    {
     "name": "stdout",
     "output_type": "stream",
     "text": [
      "true_positives_ctr:  623\n",
      "true_negatives_ctr:  7696\n",
      "false_positives_ctr:  654\n",
      "false_negatives_ctr:  71\n",
      "57476478059100\n",
      "hybrid_recall 0.8439509769288046\n",
      "hybrid_precision 0.379817817064974\n",
      "hybrid_f1 0.5238695729784729\n",
      "hybrid_accuracy 0.9041353316883544\n",
      "hybrid_mcc 0.5264442861839969\n"
     ]
    },
    {
     "name": "stderr",
     "output_type": "stream",
     "text": [
      "\u001b[32m[I 2022-10-21 11:59:18,300]\u001b[0m Trial 2 finished with value: 0.3789623052475237 and parameters: {'n_estimators': 103, 'learning_rate': 0.6079779367052507, 'loss': 'squared_error'}. Best is trial 1 with value: 0.5264442861839969.\u001b[0m\n"
     ]
    },
    {
     "name": "stdout",
     "output_type": "stream",
     "text": [
      "true_positives_ctr:  559\n",
      "true_negatives_ctr:  7389\n",
      "false_positives_ctr:  961\n",
      "false_negatives_ctr:  135\n",
      "66273257952000\n",
      "hybrid_recall 0.7135875155685387\n",
      "hybrid_precision 0.2718216072752275\n",
      "hybrid_f1 0.3936811643342777\n",
      "hybrid_accuracy 0.8537856144065097\n",
      "hybrid_mcc 0.3789623052475237\n"
     ]
    },
    {
     "name": "stderr",
     "output_type": "stream",
     "text": [
      "\u001b[32m[I 2022-10-21 11:59:25,303]\u001b[0m Trial 3 finished with value: 0.40900462488732386 and parameters: {'n_estimators': 139, 'learning_rate': 0.5053522156590097, 'loss': 'squared_error'}. Best is trial 1 with value: 0.5264442861839969.\u001b[0m\n"
     ]
    },
    {
     "name": "stdout",
     "output_type": "stream",
     "text": [
      "true_positives_ctr:  583\n",
      "true_negatives_ctr:  7398\n",
      "false_positives_ctr:  952\n",
      "false_negatives_ctr:  111\n",
      "66793842793500\n",
      "hybrid_recall 0.7638960988050791\n",
      "hybrid_precision 0.28491435136167964\n",
      "hybrid_f1 0.41503202311563836\n",
      "hybrid_accuracy 0.8582484986390952\n",
      "hybrid_mcc 0.40900462488732386\n"
     ]
    },
    {
     "name": "stderr",
     "output_type": "stream",
     "text": [
      "\u001b[32m[I 2022-10-21 11:59:27,718]\u001b[0m Trial 4 finished with value: 0.4879103013479564 and parameters: {'n_estimators': 18, 'learning_rate': 0.16204901774020794, 'loss': 'absolute_error'}. Best is trial 1 with value: 0.5264442861839969.\u001b[0m\n"
     ]
    },
    {
     "name": "stdout",
     "output_type": "stream",
     "text": [
      "true_positives_ctr:  690\n",
      "true_negatives_ctr:  7229\n",
      "false_positives_ctr:  1121\n",
      "false_negatives_ctr:  4\n",
      "75907180688700\n",
      "hybrid_recall 0.9915459146852389\n",
      "hybrid_precision 0.2854906416715202\n",
      "hybrid_f1 0.4433343399939155\n",
      "hybrid_accuracy 0.8528549016317012\n",
      "hybrid_mcc 0.4879103013479564\n"
     ]
    },
    {
     "name": "stderr",
     "output_type": "stream",
     "text": [
      "\u001b[32m[I 2022-10-21 11:59:30,268]\u001b[0m Trial 5 finished with value: 0.5000953808857983 and parameters: {'n_estimators': 56, 'learning_rate': 0.2904273261299853, 'loss': 'squared_error'}. Best is trial 1 with value: 0.5264442861839969.\u001b[0m\n"
     ]
    },
    {
     "name": "stdout",
     "output_type": "stream",
     "text": [
      "true_positives_ctr:  620\n",
      "true_negatives_ctr:  7615\n",
      "false_positives_ctr:  735\n",
      "false_negatives_ctr:  74\n",
      "60374716165500\n",
      "hybrid_recall 0.8392857963819204\n",
      "hybrid_precision 0.3516668532315947\n",
      "hybrid_f1 0.4956519389270159\n",
      "hybrid_accuracy 0.8930527943155275\n",
      "hybrid_mcc 0.5000953808857983\n"
     ]
    },
    {
     "name": "stderr",
     "output_type": "stream",
     "text": [
      "\u001b[32m[I 2022-10-21 11:59:39,518]\u001b[0m Trial 6 finished with value: 0.5185091247437454 and parameters: {'n_estimators': 347, 'learning_rate': 0.4558891435596646, 'loss': 'absolute_error'}. Best is trial 1 with value: 0.5264442861839969.\u001b[0m\n"
     ]
    },
    {
     "name": "stdout",
     "output_type": "stream",
     "text": [
      "true_positives_ctr:  573\n",
      "true_negatives_ctr:  7857\n",
      "false_positives_ctr:  493\n",
      "false_negatives_ctr:  121\n",
      "49283005205200\n",
      "hybrid_recall 0.7379470719216962\n",
      "hybrid_precision 0.42181568917561973\n",
      "hybrid_f1 0.5367953915389796\n",
      "hybrid_accuracy 0.9173419267255394\n",
      "hybrid_mcc 0.5185091247437454\n"
     ]
    },
    {
     "name": "stderr",
     "output_type": "stream",
     "text": [
      "\u001b[32m[I 2022-10-21 11:59:44,033]\u001b[0m Trial 7 finished with value: 0.49645627505614603 and parameters: {'n_estimators': 175, 'learning_rate': 0.19777998692304216, 'loss': 'squared_error'}. Best is trial 1 with value: 0.5264442861839969.\u001b[0m\n"
     ]
    },
    {
     "name": "stdout",
     "output_type": "stream",
     "text": [
      "true_positives_ctr:  601\n",
      "true_negatives_ctr:  7681\n",
      "false_positives_ctr:  669\n",
      "false_negatives_ctr:  93\n",
      "57212931802000\n",
      "hybrid_recall 0.7987072522443422\n",
      "hybrid_precision 0.36507790359791326\n",
      "hybrid_f1 0.5011068714427521\n",
      "hybrid_accuracy 0.8984197818228625\n",
      "hybrid_mcc 0.49645627505614603\n"
     ]
    },
    {
     "name": "stderr",
     "output_type": "stream",
     "text": [
      "\u001b[32m[I 2022-10-21 11:59:46,631]\u001b[0m Trial 8 finished with value: 0.4801508816065987 and parameters: {'n_estimators': 83, 'learning_rate': 0.30980463534942915, 'loss': 'squared_error'}. Best is trial 1 with value: 0.5264442861839969.\u001b[0m\n"
     ]
    },
    {
     "name": "stdout",
     "output_type": "stream",
     "text": [
      "true_positives_ctr:  612\n",
      "true_negatives_ctr:  7574\n",
      "false_positives_ctr:  776\n",
      "false_negatives_ctr:  82\n",
      "61579667107200\n",
      "hybrid_recall 0.8198012124893065\n",
      "hybrid_precision 0.3384083104617531\n",
      "hybrid_f1 0.47906279086038156\n",
      "hybrid_accuracy 0.8856541976812446\n",
      "hybrid_mcc 0.4801508816065987\n"
     ]
    },
    {
     "name": "stderr",
     "output_type": "stream",
     "text": [
      "\u001b[32m[I 2022-10-21 11:59:53,181]\u001b[0m Trial 9 finished with value: 0.5137194182761871 and parameters: {'n_estimators': 246, 'learning_rate': 0.20270771787467193, 'loss': 'absolute_error'}. Best is trial 1 with value: 0.5264442861839969.\u001b[0m\n"
     ]
    },
    {
     "name": "stdout",
     "output_type": "stream",
     "text": [
      "true_positives_ctr:  590\n",
      "true_negatives_ctr:  7778\n",
      "false_positives_ctr:  572\n",
      "false_negatives_ctr:  104\n",
      "53074816891600\n",
      "hybrid_recall 0.7752298033008319\n",
      "hybrid_precision 0.39638366626976024\n",
      "hybrid_f1 0.5245559898634369\n",
      "hybrid_accuracy 0.9101304607024546\n",
      "hybrid_mcc 0.5137194182761871\n"
     ]
    },
    {
     "name": "stderr",
     "output_type": "stream",
     "text": [
      "\u001b[32m[I 2022-10-21 12:00:13,098]\u001b[0m Trial 10 finished with value: 0.5098739831677878 and parameters: {'n_estimators': 862, 'learning_rate': 0.10500115674364142, 'loss': 'absolute_error'}. Best is trial 1 with value: 0.5264442861839969.\u001b[0m\n"
     ]
    },
    {
     "name": "stdout",
     "output_type": "stream",
     "text": [
      "true_positives_ctr:  578\n",
      "true_negatives_ctr:  7810\n",
      "false_positives_ctr:  540\n",
      "false_negatives_ctr:  116\n",
      "51350161933200\n",
      "hybrid_recall 0.7510656394972336\n",
      "hybrid_precision 0.403585631479024\n",
      "hybrid_f1 0.5250404308521666\n",
      "hybrid_accuracy 0.9124402832801068\n",
      "hybrid_mcc 0.5098739831677878\n"
     ]
    },
    {
     "name": "stderr",
     "output_type": "stream",
     "text": [
      "\u001b[32m[I 2022-10-21 12:00:27,158]\u001b[0m Trial 11 finished with value: 0.5216331936561465 and parameters: {'n_estimators': 580, 'learning_rate': 0.10088639848602945, 'loss': 'absolute_error'}. Best is trial 1 with value: 0.5264442861839969.\u001b[0m\n"
     ]
    },
    {
     "name": "stdout",
     "output_type": "stream",
     "text": [
      "true_positives_ctr:  588\n",
      "true_negatives_ctr:  7808\n",
      "false_positives_ctr:  542\n",
      "false_negatives_ctr:  106\n",
      "51822747618000\n",
      "hybrid_recall 0.7718161789001349\n",
      "hybrid_precision 0.4080473588391007\n",
      "hybrid_f1 0.5338542013306831\n",
      "hybrid_accuracy 0.9136513240151687\n",
      "hybrid_mcc 0.5216331936561465\n"
     ]
    },
    {
     "name": "stderr",
     "output_type": "stream",
     "text": [
      "\u001b[32m[I 2022-10-21 12:00:47,154]\u001b[0m Trial 12 finished with value: 0.48855776393925526 and parameters: {'n_estimators': 905, 'learning_rate': 0.9925155986920519, 'loss': 'absolute_error'}. Best is trial 1 with value: 0.5264442861839969.\u001b[0m\n"
     ]
    },
    {
     "name": "stdout",
     "output_type": "stream",
     "text": [
      "true_positives_ctr:  536\n",
      "true_negatives_ctr:  7895\n",
      "false_positives_ctr:  455\n",
      "false_negatives_ctr:  158\n",
      "46246332732700\n",
      "hybrid_recall 0.6659647237538878\n",
      "hybrid_precision 0.4220917162167291\n",
      "hybrid_f1 0.5166978161476062\n",
      "hybrid_accuracy 0.9170069677036422\n",
      "hybrid_mcc 0.48855776393925526\n"
     ]
    },
    {
     "name": "stderr",
     "output_type": "stream",
     "text": [
      "\u001b[32m[I 2022-10-21 12:00:49,367]\u001b[0m Trial 13 finished with value: 0.4902680986481996 and parameters: {'n_estimators': 41, 'learning_rate': 0.10201626360144084, 'loss': 'absolute_error'}. Best is trial 1 with value: 0.5264442861839969.\u001b[0m\n"
     ]
    },
    {
     "name": "stdout",
     "output_type": "stream",
     "text": [
      "true_positives_ctr:  690\n",
      "true_negatives_ctr:  7234\n",
      "false_positives_ctr:  1116\n",
      "false_negatives_ctr:  4\n",
      "75749936077200\n",
      "hybrid_recall 0.9915918805284881\n",
      "hybrid_precision 0.2878385035177296\n",
      "hybrid_f1 0.4461646785173439\n",
      "hybrid_accuracy 0.85397037927733\n",
      "hybrid_mcc 0.4902680986481996\n"
     ]
    },
    {
     "name": "stderr",
     "output_type": "stream",
     "text": [
      "\u001b[32m[I 2022-10-21 12:01:03,226]\u001b[0m Trial 14 finished with value: 0.5155043560415936 and parameters: {'n_estimators': 433, 'learning_rate': 0.13246615708915002, 'loss': 'absolute_error'}. Best is trial 1 with value: 0.5264442861839969.\u001b[0m\n"
     ]
    },
    {
     "name": "stdout",
     "output_type": "stream",
     "text": [
      "true_positives_ctr:  586\n",
      "true_negatives_ctr:  7797\n",
      "false_positives_ctr:  553\n",
      "false_negatives_ctr:  108\n",
      "52176091645500\n",
      "hybrid_recall 0.7677353215890591\n",
      "hybrid_precision 0.4023299422928839\n",
      "hybrid_f1 0.5279755192566769\n",
      "hybrid_accuracy 0.9119811039482713\n",
      "hybrid_mcc 0.5155043560415936\n"
     ]
    },
    {
     "name": "stderr",
     "output_type": "stream",
     "text": [
      "\u001b[32m[I 2022-10-21 12:01:24,776]\u001b[0m Trial 15 finished with value: 0.5163961801314643 and parameters: {'n_estimators': 559, 'learning_rate': 0.22239941403974434, 'loss': 'absolute_error'}. Best is trial 1 with value: 0.5264442861839969.\u001b[0m\n"
     ]
    },
    {
     "name": "stdout",
     "output_type": "stream",
     "text": [
      "true_positives_ctr:  586\n",
      "true_negatives_ctr:  7801\n",
      "false_positives_ctr:  549\n",
      "false_negatives_ctr:  108\n",
      "52019165753500\n",
      "hybrid_recall 0.7671925791415902\n",
      "hybrid_precision 0.40381660983172235\n",
      "hybrid_f1 0.5291249792303258\n",
      "hybrid_accuracy 0.9122896501246531\n",
      "hybrid_mcc 0.5163961801314643\n"
     ]
    },
    {
     "name": "stderr",
     "output_type": "stream",
     "text": [
      "\u001b[32m[I 2022-10-21 12:01:30,554]\u001b[0m Trial 16 finished with value: 0.5200900321512266 and parameters: {'n_estimators': 231, 'learning_rate': 0.13461197436062355, 'loss': 'absolute_error'}. Best is trial 1 with value: 0.5264442861839969.\u001b[0m\n"
     ]
    },
    {
     "name": "stdout",
     "output_type": "stream",
     "text": [
      "true_positives_ctr:  602\n",
      "true_negatives_ctr:  7753\n",
      "false_positives_ctr:  597\n",
      "false_negatives_ctr:  92\n",
      "54507727609500\n",
      "hybrid_recall 0.8003290608499847\n",
      "hybrid_precision 0.39214126836906693\n",
      "hybrid_f1 0.5263729341423063\n",
      "hybrid_accuracy 0.9086851552983005\n",
      "hybrid_mcc 0.5200900321512266\n"
     ]
    },
    {
     "name": "stderr",
     "output_type": "stream",
     "text": [
      "\u001b[32m[I 2022-10-21 12:01:31,803]\u001b[0m Trial 17 finished with value: 0.47309331819757605 and parameters: {'n_estimators': 11, 'learning_rate': 0.10212976464065862, 'loss': 'absolute_error'}. Best is trial 1 with value: 0.5264442861839969.\u001b[0m\n"
     ]
    },
    {
     "name": "stdout",
     "output_type": "stream",
     "text": [
      "true_positives_ctr:  692\n",
      "true_negatives_ctr:  7160\n",
      "false_positives_ctr:  1190\n",
      "false_negatives_ctr:  2\n",
      "78108784891600\n",
      "hybrid_recall 0.9957619483239231\n",
      "hybrid_precision 0.2688221559389857\n",
      "hybrid_f1 0.42335321604642\n",
      "hybrid_accuracy 0.8466918602715747\n",
      "hybrid_mcc 0.47309331819757605\n"
     ]
    },
    {
     "name": "stderr",
     "output_type": "stream",
     "text": [
      "\u001b[32m[I 2022-10-21 12:01:33,420]\u001b[0m Trial 18 finished with value: 0.4977958431876854 and parameters: {'n_estimators': 31, 'learning_rate': 0.24621638788623967, 'loss': 'absolute_error'}. Best is trial 1 with value: 0.5264442861839969.\u001b[0m\n"
     ]
    },
    {
     "name": "stdout",
     "output_type": "stream",
     "text": [
      "true_positives_ctr:  640\n",
      "true_negatives_ctr:  7529\n",
      "false_positives_ctr:  821\n",
      "false_negatives_ctr:  54\n",
      "64200323708700\n",
      "hybrid_recall 0.879606139593277\n",
      "hybrid_precision 0.33268526303455087\n",
      "hybrid_f1 0.4827750147911144\n",
      "hybrid_accuracy 0.8850270095287126\n",
      "hybrid_mcc 0.4977958431876854\n"
     ]
    },
    {
     "name": "stderr",
     "output_type": "stream",
     "text": [
      "\u001b[32m[I 2022-10-21 12:01:46,983]\u001b[0m Trial 19 finished with value: 0.5194555000222575 and parameters: {'n_estimators': 621, 'learning_rate': 0.16460961371280966, 'loss': 'absolute_error'}. Best is trial 1 with value: 0.5264442861839969.\u001b[0m\n"
     ]
    },
    {
     "name": "stdout",
     "output_type": "stream",
     "text": [
      "true_positives_ctr:  585\n",
      "true_negatives_ctr:  7813\n",
      "false_positives_ctr:  537\n",
      "false_negatives_ctr:  109\n",
      "51507875931600\n",
      "hybrid_recall 0.7650383280112855\n",
      "hybrid_precision 0.40873043584777885\n",
      "hybrid_f1 0.5328041755349595\n",
      "hybrid_accuracy 0.913840306335416\n",
      "hybrid_mcc 0.5194555000222575\n"
     ]
    },
    {
     "name": "stderr",
     "output_type": "stream",
     "text": [
      "\u001b[32m[I 2022-10-21 12:01:52,627]\u001b[0m Trial 20 finished with value: 0.48840407187667084 and parameters: {'n_estimators': 234, 'learning_rate': 0.3706490553170695, 'loss': 'absolute_error'}. Best is trial 1 with value: 0.5264442861839969.\u001b[0m\n"
     ]
    },
    {
     "name": "stdout",
     "output_type": "stream",
     "text": [
      "true_positives_ctr:  564\n",
      "true_negatives_ctr:  7791\n",
      "false_positives_ctr:  559\n",
      "false_negatives_ctr:  130\n",
      "51547275456700\n",
      "hybrid_recall 0.7229838638762651\n",
      "hybrid_precision 0.39121677345419004\n",
      "hybrid_f1 0.5077064309760014\n",
      "hybrid_accuracy 0.9078515592065679\n",
      "hybrid_mcc 0.48840407187667084\n"
     ]
    },
    {
     "name": "stderr",
     "output_type": "stream",
     "text": [
      "\u001b[32m[I 2022-10-21 12:01:58,658]\u001b[0m Trial 21 finished with value: 0.5274255263066426 and parameters: {'n_estimators': 247, 'learning_rate': 0.1285425904126249, 'loss': 'absolute_error'}. Best is trial 21 with value: 0.5274255263066426.\u001b[0m\n"
     ]
    },
    {
     "name": "stdout",
     "output_type": "stream",
     "text": [
      "true_positives_ctr:  609\n",
      "true_negatives_ctr:  7752\n",
      "false_positives_ctr:  598\n",
      "false_negatives_ctr:  85\n",
      "54815459979100\n",
      "hybrid_recall 0.8152324864362275\n",
      "hybrid_precision 0.3939294052124702\n",
      "hybrid_f1 0.5311845348579832\n",
      "hybrid_accuracy 0.9094164237811908\n",
      "hybrid_mcc 0.5274255263066426\n"
     ]
    },
    {
     "name": "stderr",
     "output_type": "stream",
     "text": [
      "\u001b[32m[I 2022-10-21 12:02:02,121]\u001b[0m Trial 22 finished with value: 0.5228130013113278 and parameters: {'n_estimators': 108, 'learning_rate': 0.12164545790241707, 'loss': 'absolute_error'}. Best is trial 21 with value: 0.5274255263066426.\u001b[0m\n"
     ]
    },
    {
     "name": "stdout",
     "output_type": "stream",
     "text": [
      "true_positives_ctr:  645\n",
      "true_negatives_ctr:  7594\n",
      "false_positives_ctr:  756\n",
      "false_negatives_ctr:  49\n",
      "62050879400700\n",
      "hybrid_recall 0.8914393102164241\n",
      "hybrid_precision 0.3559479561335502\n",
      "hybrid_f1 0.5087529896262588\n",
      "hybrid_accuracy 0.8937881183350003\n",
      "hybrid_mcc 0.5228130013113278\n"
     ]
    },
    {
     "name": "stderr",
     "output_type": "stream",
     "text": [
      "\u001b[32m[I 2022-10-21 12:02:05,264]\u001b[0m Trial 23 finished with value: 0.515386435380825 and parameters: {'n_estimators': 94, 'learning_rate': 0.1284149235448451, 'loss': 'absolute_error'}. Best is trial 21 with value: 0.5274255263066426.\u001b[0m\n"
     ]
    },
    {
     "name": "stdout",
     "output_type": "stream",
     "text": [
      "true_positives_ctr:  642\n",
      "true_negatives_ctr:  7578\n",
      "false_positives_ctr:  772\n",
      "false_negatives_ctr:  52\n",
      "62520133018000\n",
      "hybrid_recall 0.8854627863342148\n",
      "hybrid_precision 0.34994861591646226\n",
      "hybrid_f1 0.5016409528982438\n",
      "hybrid_accuracy 0.8917155610478045\n",
      "hybrid_mcc 0.515386435380825\n"
     ]
    },
    {
     "name": "stderr",
     "output_type": "stream",
     "text": [
      "\u001b[32m[I 2022-10-21 12:02:07,546]\u001b[0m Trial 24 finished with value: 0.5243927592795506 and parameters: {'n_estimators': 66, 'learning_rate': 0.17257895336666493, 'loss': 'absolute_error'}. Best is trial 21 with value: 0.5274255263066426.\u001b[0m\n"
     ]
    },
    {
     "name": "stdout",
     "output_type": "stream",
     "text": [
      "true_positives_ctr:  649\n",
      "true_negatives_ctr:  7581\n",
      "false_positives_ctr:  769\n",
      "false_negatives_ctr:  45\n",
      "62664124693200\n",
      "hybrid_recall 0.9014200112594468\n",
      "hybrid_precision 0.35357988431796034\n",
      "hybrid_f1 0.5079267088805126\n",
      "hybrid_accuracy 0.8929376727827313\n",
      "hybrid_mcc 0.5243927592795506\n"
     ]
    },
    {
     "name": "stderr",
     "output_type": "stream",
     "text": [
      "\u001b[32m[I 2022-10-21 12:02:09,718]\u001b[0m Trial 25 finished with value: 0.5266860198955369 and parameters: {'n_estimators': 60, 'learning_rate': 0.17365992932973964, 'loss': 'absolute_error'}. Best is trial 21 with value: 0.5274255263066426.\u001b[0m\n"
     ]
    },
    {
     "name": "stdout",
     "output_type": "stream",
     "text": [
      "true_positives_ctr:  654\n",
      "true_negatives_ctr:  7569\n",
      "false_positives_ctr:  781\n",
      "false_negatives_ctr:  40\n",
      "63274020533500\n",
      "hybrid_recall 0.9116006022445424\n",
      "hybrid_precision 0.3520559397075894\n",
      "hybrid_f1 0.5079456260566158\n",
      "hybrid_accuracy 0.892205487698101\n",
      "hybrid_mcc 0.5266860198955369\n"
     ]
    },
    {
     "name": "stderr",
     "output_type": "stream",
     "text": [
      "\u001b[32m[I 2022-10-21 12:02:13,820]\u001b[0m Trial 26 finished with value: 0.48951304340447166 and parameters: {'n_estimators': 154, 'learning_rate': 0.24775269811428793, 'loss': 'squared_error'}. Best is trial 21 with value: 0.5274255263066426.\u001b[0m\n"
     ]
    },
    {
     "name": "stdout",
     "output_type": "stream",
     "text": [
      "true_positives_ctr:  601\n",
      "true_negatives_ctr:  7657\n",
      "false_positives_ctr:  693\n",
      "false_negatives_ctr:  93\n",
      "58114154650000\n",
      "hybrid_recall 0.7979433801718376\n",
      "hybrid_precision 0.35770633760199727\n",
      "hybrid_f1 0.4939721781524907\n",
      "hybrid_accuracy 0.8949290246084295\n",
      "hybrid_mcc 0.48951304340447166\n"
     ]
    },
    {
     "name": "stderr",
     "output_type": "stream",
     "text": [
      "\u001b[32m[I 2022-10-21 12:02:15,539]\u001b[0m Trial 27 finished with value: 0.513889208776058 and parameters: {'n_estimators': 37, 'learning_rate': 0.17101921672131148, 'loss': 'absolute_error'}. Best is trial 21 with value: 0.5274255263066426.\u001b[0m\n"
     ]
    },
    {
     "name": "stdout",
     "output_type": "stream",
     "text": [
      "true_positives_ctr:  675\n",
      "true_negatives_ctr:  7422\n",
      "false_positives_ctr:  928\n",
      "false_negatives_ctr:  19\n",
      "69121120992700\n",
      "hybrid_recall 0.9575093698269693\n",
      "hybrid_precision 0.32217763102302993\n",
      "hybrid_f1 0.4821305526246683\n",
      "hybrid_accuracy 0.8755078751772197\n",
      "hybrid_mcc 0.513889208776058\n"
     ]
    },
    {
     "name": "stderr",
     "output_type": "stream",
     "text": [
      "\u001b[32m[I 2022-10-21 12:02:17,058]\u001b[0m Trial 28 finished with value: 0.4932355070774898 and parameters: {'n_estimators': 26, 'learning_rate': 0.14989203091611797, 'loss': 'absolute_error'}. Best is trial 21 with value: 0.5274255263066426.\u001b[0m\n"
     ]
    },
    {
     "name": "stdout",
     "output_type": "stream",
     "text": [
      "true_positives_ctr:  689\n",
      "true_negatives_ctr:  7253\n",
      "false_positives_ctr:  1097\n",
      "false_negatives_ctr:  5\n",
      "75118060181200\n",
      "hybrid_recall 0.9895636220980973\n",
      "hybrid_precision 0.2914137669893984\n",
      "hybrid_f1 0.45023817789118376\n",
      "hybrid_accuracy 0.8559737558284418\n",
      "hybrid_mcc 0.4932355070774898\n"
     ]
    },
    {
     "name": "stderr",
     "output_type": "stream",
     "text": [
      "\u001b[32m[I 2022-10-21 12:02:19,773]\u001b[0m Trial 29 finished with value: 0.5106271384203627 and parameters: {'n_estimators': 54, 'learning_rate': 0.11965308228402907, 'loss': 'absolute_error'}. Best is trial 21 with value: 0.5274255263066426.\u001b[0m\n"
     ]
    },
    {
     "name": "stdout",
     "output_type": "stream",
     "text": [
      "true_positives_ctr:  675\n",
      "true_negatives_ctr:  7411\n",
      "false_positives_ctr:  939\n",
      "false_negatives_ctr:  19\n",
      "69492556698000\n",
      "hybrid_recall 0.9573041317315628\n",
      "hybrid_precision 0.3187878153415933\n",
      "hybrid_f1 0.47829922204609054\n",
      "hybrid_accuracy 0.8740908806935468\n",
      "hybrid_mcc 0.5106271384203627\n",
      "Number of finished trials:  30\n",
      "Best trial:\n",
      "  Value: 0.5274255263066426\n",
      "  Params: \n",
      "    n_estimators: 247\n",
      "    learning_rate: 0.1285425904126249\n",
      "    loss: absolute_error\n"
     ]
    }
   ],
   "source": [
    "# Same implementation as above, but for Gradient Boosting Regression.\n",
    "def objective(trial):\n",
    "    # import data\n",
    "    y_max_u = pd.read_csv('..\\data\\ground_truth\\\\res_bus_vm_pu_max_balanced_constr.csv')\n",
    "    y_max_u = pd.DataFrame(y_max_u['bus_16'], columns=['bus_16'])\n",
    "    exogenous_data = pd.read_csv('..\\data\\ground_truth\\\\exogenous_data_vm_pu_max_balanced.csv').drop(columns=['date'])\n",
    "    train_x, valid_x, train_y, valid_y, scaler = utils.split_and_suffle(exogenous_data, y_max_u, test_size=0.2, scaling=True)\n",
    "    data = {'X_train': train_x, 'X_test': valid_x, 'y_train': train_y, 'y_test': valid_y}\n",
    "    param = {\n",
    "        'n_estimators': trial.suggest_int('n_estimators', 10, 1000, log=True),\n",
    "        'learning_rate': trial.suggest_float('learning_rate', 0.1, 1.0, log=True) ,\n",
    "        'loss': trial.suggest_categorical('loss', ['squared_error', 'absolute_error'])\n",
    "    }\n",
    "    model = my_ai.Context(my_ai.GradientBoostRegressorStrategy(param))\n",
    "    model.fit(data)\n",
    "    prediction = model.predict(data_max_reg)\n",
    "    # evaluate the regression performance with my metrics\n",
    "    metric = metrics.Metrics()\n",
    "    metric.get_prediction_scores(prediction, data_max_reg['y_test'], threshold=threshold_max)\n",
    "    print('hybrid_recall', metric.hybrid_recall)\n",
    "    print('hybrid_precision', metric.hybrid_precision)\n",
    "    print('hybrid_f1', metric.hybrid_f1)\n",
    "    print('hybrid_accuracy', metric.hybrid_accuracy)\n",
    "    print('hybrid_mcc', metric.hybrid_mcc)\n",
    "    return metric.hybrid_mcc\n",
    "study = optuna.create_study(direction=\"maximize\")\n",
    "study.optimize(objective, n_trials=num_trials)\n",
    "print(\"Number of finished trials: \", len(study.trials))\n",
    "print(\"Best trial:\")\n",
    "trial = study.best_trial\n",
    "print(\"  Value: {}\".format(trial.value))\n",
    "print(\"  Params: \")\n",
    "for key, value in trial.params.items():\n",
    "    print(\"    {}: {}\".format(key, value))\n",
    "# Write the results to a csv file.\n",
    "with open(\"./hyper_params_results_mcc/params_gradient_boost_regression_balanced_max_u_one_bus_not hybrid.csv\", \"w\") as f:\n",
    "    f.write(\"params,value\\n\")\n",
    "    for key, value in trial.params.items():\n",
    "        f.write(\"{},{}\\n\".format(key, value))\n",
    "    f.write(\"value,{}\\n\".format(trial.value))"
   ]
  },
  {
   "cell_type": "markdown",
   "metadata": {},
   "source": [
    "## Min u"
   ]
  },
  {
   "cell_type": "code",
   "execution_count": 22,
   "metadata": {},
   "outputs": [],
   "source": [
    "exogenous_data = pd.read_csv('..\\data\\processed\\production\\exogenous_data_extended.csv').drop(columns=['date'])\n",
    "y_min_u_sparse_bool = pd.read_csv('..\\data\\ground_truth\\\\res_bus_vm_pu_min_sparse_bool_constr.csv').drop(columns=['timestamps'])\n",
    "y_min_u_sparse_bool = pd.DataFrame(y_min_u_sparse_bool['bus_16'], columns=['bus_16'])\n",
    "# Testing data\n",
    "train_x, valid_x, train_y, valid_y, scaler = utils.split_and_suffle(exogenous_data, y_min_u_sparse_bool, test_size=0.2, scaling=True)\n",
    "data_min_class = {'X_train': train_x, 'X_test': valid_x, 'y_train': train_y, 'y_test': valid_y}"
   ]
  },
  {
   "cell_type": "code",
   "execution_count": 23,
   "metadata": {},
   "outputs": [
    {
     "name": "stderr",
     "output_type": "stream",
     "text": [
      "\u001b[32m[I 2022-10-21 12:02:21,868]\u001b[0m A new study created in memory with name: no-name-a7aba0fd-ad2b-4b23-ab87-76443f8eae36\u001b[0m\n",
      "\u001b[32m[I 2022-10-21 12:02:25,639]\u001b[0m Trial 0 finished with value: 0.4174425022397923 and parameters: {'booster': 'gbtree', 'lambda': 0.0004956780420458229, 'alpha': 0.09512710689043151, 'subsample': 0.7749314446370554, 'colsample_bytree': 0.9697391306473191, 'max_depth': 5, 'min_child_weight': 3, 'eta': 3.486310198546269e-05, 'gamma': 0.005375091177485281, 'grow_policy': 'depthwise'}. Best is trial 0 with value: 0.4174425022397923.\u001b[0m\n",
      "\u001b[32m[I 2022-10-21 12:02:31,670]\u001b[0m Trial 1 finished with value: 0.46786591953863593 and parameters: {'booster': 'dart', 'lambda': 1.3453075168902139e-05, 'alpha': 6.291305213032538e-07, 'subsample': 0.523907089727154, 'colsample_bytree': 0.8381216848105304, 'max_depth': 7, 'min_child_weight': 4, 'eta': 7.798974546525333e-05, 'gamma': 2.6470631526961524e-06, 'grow_policy': 'depthwise', 'sample_type': 'weighted', 'normalize_type': 'forest', 'rate_drop': 0.00015488897976834393, 'skip_drop': 4.851644286042287e-06}. Best is trial 1 with value: 0.46786591953863593.\u001b[0m\n",
      "\u001b[32m[I 2022-10-21 12:02:32,358]\u001b[0m Trial 2 finished with value: 0.35670429823519184 and parameters: {'booster': 'gblinear', 'lambda': 9.21496810014187e-07, 'alpha': 0.00037236134615799494, 'subsample': 0.9145060462824073, 'colsample_bytree': 0.498754907866649}. Best is trial 1 with value: 0.46786591953863593.\u001b[0m\n",
      "\u001b[32m[I 2022-10-21 12:02:33,073]\u001b[0m Trial 3 finished with value: 0.3542956284414273 and parameters: {'booster': 'gblinear', 'lambda': 5.7791942545724876e-05, 'alpha': 1.9881575383608703e-07, 'subsample': 0.30230409347067355, 'colsample_bytree': 0.46082605844897073}. Best is trial 1 with value: 0.46786591953863593.\u001b[0m\n",
      "\u001b[32m[I 2022-10-21 12:02:34,322]\u001b[0m Trial 4 finished with value: 0.23591809615324552 and parameters: {'booster': 'gblinear', 'lambda': 0.48108721843980884, 'alpha': 1.979230878770608e-05, 'subsample': 0.3049503444149182, 'colsample_bytree': 0.6170645350823066}. Best is trial 1 with value: 0.46786591953863593.\u001b[0m\n",
      "\u001b[32m[I 2022-10-21 12:02:36,693]\u001b[0m Trial 5 finished with value: 0.48596125764865283 and parameters: {'booster': 'gbtree', 'lambda': 0.00025958899068330237, 'alpha': 8.704908656390224e-07, 'subsample': 0.7005998274135619, 'colsample_bytree': 0.39790716629405437, 'max_depth': 3, 'min_child_weight': 4, 'eta': 0.0006454518299892666, 'gamma': 7.964751784498553e-05, 'grow_policy': 'depthwise'}. Best is trial 5 with value: 0.48596125764865283.\u001b[0m\n",
      "\u001b[32m[I 2022-10-21 12:02:39,543]\u001b[0m Trial 6 finished with value: 0.5320823195632285 and parameters: {'booster': 'gbtree', 'lambda': 4.416374019639922e-06, 'alpha': 0.05865622170934842, 'subsample': 0.22418454604031368, 'colsample_bytree': 0.7740582869709751, 'max_depth': 9, 'min_child_weight': 2, 'eta': 9.233006004805227e-06, 'gamma': 0.0005162953112210815, 'grow_policy': 'lossguide'}. Best is trial 6 with value: 0.5320823195632285.\u001b[0m\n",
      "\u001b[32m[I 2022-10-21 12:02:39,989]\u001b[0m Trial 7 finished with value: 0.0 and parameters: {'booster': 'gblinear', 'lambda': 0.0036915439037070908, 'alpha': 0.19710539576360903, 'subsample': 0.32229304208500653, 'colsample_bytree': 0.9443138136778921}. Best is trial 6 with value: 0.5320823195632285.\u001b[0m\n",
      "\u001b[32m[I 2022-10-21 12:02:41,837]\u001b[0m Trial 8 finished with value: 0.48129533995179946 and parameters: {'booster': 'gbtree', 'lambda': 7.904306461551127e-07, 'alpha': 0.0627896580330936, 'subsample': 0.6947518256920696, 'colsample_bytree': 0.479041903452345, 'max_depth': 3, 'min_child_weight': 3, 'eta': 4.961067974292389e-06, 'gamma': 3.6187940027742606e-08, 'grow_policy': 'depthwise'}. Best is trial 6 with value: 0.5320823195632285.\u001b[0m\n",
      "\u001b[32m[I 2022-10-21 12:02:43,605]\u001b[0m Trial 9 finished with value: 0.4663372752600039 and parameters: {'booster': 'gbtree', 'lambda': 0.0004657260367071251, 'alpha': 0.026958196671622723, 'subsample': 0.9242451017895177, 'colsample_bytree': 0.7928699451322703, 'max_depth': 3, 'min_child_weight': 9, 'eta': 0.000303506581463235, 'gamma': 0.013896821593251635, 'grow_policy': 'lossguide'}. Best is trial 6 with value: 0.5320823195632285.\u001b[0m\n",
      "\u001b[32m[I 2022-10-21 12:02:51,042]\u001b[0m Trial 10 finished with value: 0.5465994936117828 and parameters: {'booster': 'dart', 'lambda': 1.0782564972680193e-08, 'alpha': 0.0010659380576284597, 'subsample': 0.5034713085494499, 'colsample_bytree': 0.6754505004150745, 'max_depth': 9, 'min_child_weight': 7, 'eta': 1.3280631708416788e-08, 'gamma': 0.6353429050216959, 'grow_policy': 'lossguide', 'sample_type': 'uniform', 'normalize_type': 'tree', 'rate_drop': 2.727955059089999e-08, 'skip_drop': 0.718630592546159}. Best is trial 10 with value: 0.5465994936117828.\u001b[0m\n",
      "\u001b[32m[I 2022-10-21 12:03:00,355]\u001b[0m Trial 11 finished with value: 0.5550801503633898 and parameters: {'booster': 'dart', 'lambda': 3.131341549913773e-08, 'alpha': 0.0012687090251527933, 'subsample': 0.48117613555546757, 'colsample_bytree': 0.6743207409137361, 'max_depth': 9, 'min_child_weight': 8, 'eta': 1.3456478945705386e-07, 'gamma': 0.992850803331701, 'grow_policy': 'lossguide', 'sample_type': 'uniform', 'normalize_type': 'tree', 'rate_drop': 1.1608872459923298e-08, 'skip_drop': 0.0700921272756312}. Best is trial 11 with value: 0.5550801503633898.\u001b[0m\n",
      "\u001b[32m[I 2022-10-21 12:03:16,638]\u001b[0m Trial 12 finished with value: 0.5038879053409766 and parameters: {'booster': 'dart', 'lambda': 1.2206654125461607e-08, 'alpha': 0.00043895389831560285, 'subsample': 0.4918629956466664, 'colsample_bytree': 0.2491811275257737, 'max_depth': 9, 'min_child_weight': 8, 'eta': 1.2977988004879821e-08, 'gamma': 0.7469175550794713, 'grow_policy': 'lossguide', 'sample_type': 'uniform', 'normalize_type': 'tree', 'rate_drop': 1.0126008810633372e-08, 'skip_drop': 0.29681436279931}. Best is trial 11 with value: 0.5550801503633898.\u001b[0m\n",
      "\u001b[32m[I 2022-10-21 12:03:25,813]\u001b[0m Trial 13 finished with value: 0.5010778135302657 and parameters: {'booster': 'dart', 'lambda': 1.59433688170553e-08, 'alpha': 0.0033384682452913894, 'subsample': 0.4772538367945535, 'colsample_bytree': 0.656451241962195, 'max_depth': 7, 'min_child_weight': 7, 'eta': 2.997103383294224e-08, 'gamma': 0.9507948085802203, 'grow_policy': 'lossguide', 'sample_type': 'uniform', 'normalize_type': 'tree', 'rate_drop': 2.586508742484557e-08, 'skip_drop': 0.6342299347765117}. Best is trial 11 with value: 0.5550801503633898.\u001b[0m\n",
      "\u001b[32m[I 2022-10-21 12:03:36,417]\u001b[0m Trial 14 finished with value: 0.5236307579196605 and parameters: {'booster': 'dart', 'lambda': 1.510102771992114e-07, 'alpha': 2.3202975529298267e-05, 'subsample': 0.4358796016130816, 'colsample_bytree': 0.6698951797032157, 'max_depth': 9, 'min_child_weight': 10, 'eta': 4.0946430008676883e-07, 'gamma': 0.04382642419576076, 'grow_policy': 'lossguide', 'sample_type': 'uniform', 'normalize_type': 'tree', 'rate_drop': 3.271363039589238e-07, 'skip_drop': 0.015539690656616933}. Best is trial 11 with value: 0.5550801503633898.\u001b[0m\n",
      "\u001b[32m[I 2022-10-21 12:03:44,462]\u001b[0m Trial 15 finished with value: 0.5573797210734597 and parameters: {'booster': 'dart', 'lambda': 1.698289867187206e-07, 'alpha': 0.0031798170324566295, 'subsample': 0.6155495173976682, 'colsample_bytree': 0.7171803115241703, 'max_depth': 7, 'min_child_weight': 6, 'eta': 0.6198674445568578, 'gamma': 0.12371131950151337, 'grow_policy': 'lossguide', 'sample_type': 'uniform', 'normalize_type': 'tree', 'rate_drop': 0.2622714182237386, 'skip_drop': 0.000930381651076912}. Best is trial 15 with value: 0.5573797210734597.\u001b[0m\n",
      "\u001b[32m[I 2022-10-21 12:03:51,892]\u001b[0m Trial 16 finished with value: 0.5122458621131986 and parameters: {'booster': 'dart', 'lambda': 2.0078199905971937e-07, 'alpha': 0.8111662161785922, 'subsample': 0.6208428026012992, 'colsample_bytree': 0.8629983813682047, 'max_depth': 7, 'min_child_weight': 6, 'eta': 0.8031939207327431, 'gamma': 0.03133710201449639, 'grow_policy': 'lossguide', 'sample_type': 'uniform', 'normalize_type': 'tree', 'rate_drop': 0.6936078121584384, 'skip_drop': 0.00045200135489782076}. Best is trial 15 with value: 0.5573797210734597.\u001b[0m\n",
      "\u001b[32m[I 2022-10-21 12:03:58,781]\u001b[0m Trial 17 finished with value: 0.5222558795350939 and parameters: {'booster': 'dart', 'lambda': 1.099905718989478e-07, 'alpha': 0.010401018412062939, 'subsample': 0.6033820268555462, 'colsample_bytree': 0.7362223099909494, 'max_depth': 5, 'min_child_weight': 6, 'eta': 0.06191849420624678, 'gamma': 0.00039713132746228407, 'grow_policy': 'lossguide', 'sample_type': 'weighted', 'normalize_type': 'forest', 'rate_drop': 0.1605962326433726, 'skip_drop': 0.0002985242926367116}. Best is trial 15 with value: 0.5573797210734597.\u001b[0m\n",
      "\u001b[32m[I 2022-10-21 12:04:09,130]\u001b[0m Trial 18 finished with value: 0.5533016010829122 and parameters: {'booster': 'dart', 'lambda': 0.005474591698662085, 'alpha': 2.2218468164698113e-08, 'subsample': 0.8258613396390209, 'colsample_bytree': 0.5761300932422251, 'max_depth': 7, 'min_child_weight': 5, 'eta': 0.07755894676505433, 'gamma': 8.159912011792397e-06, 'grow_policy': 'lossguide', 'sample_type': 'uniform', 'normalize_type': 'tree', 'rate_drop': 0.0008386562963995669, 'skip_drop': 6.143328291582455e-08}. Best is trial 15 with value: 0.5573797210734597.\u001b[0m\n",
      "\u001b[32m[I 2022-10-21 12:04:21,926]\u001b[0m Trial 19 finished with value: 0.5146081565077906 and parameters: {'booster': 'dart', 'lambda': 8.426731960270888e-06, 'alpha': 2.379480909152588e-05, 'subsample': 0.4158514262454389, 'colsample_bytree': 0.32739552202868494, 'max_depth': 5, 'min_child_weight': 8, 'eta': 0.001696109837743751, 'gamma': 0.09301896070860555, 'grow_policy': 'lossguide', 'sample_type': 'uniform', 'normalize_type': 'tree', 'rate_drop': 3.3038845208224317e-06, 'skip_drop': 0.014025677021249098}. Best is trial 15 with value: 0.5573797210734597.\u001b[0m\n",
      "\u001b[32m[I 2022-10-21 12:04:34,054]\u001b[0m Trial 20 finished with value: 0.529395073864648 and parameters: {'booster': 'dart', 'lambda': 1.1235633968282097e-06, 'alpha': 0.00017948424214814322, 'subsample': 0.677369703183591, 'colsample_bytree': 0.5546867517589541, 'max_depth': 9, 'min_child_weight': 10, 'eta': 3.11460173380115e-07, 'gamma': 0.0013944740741838409, 'grow_policy': 'lossguide', 'sample_type': 'weighted', 'normalize_type': 'forest', 'rate_drop': 0.006017305041167018, 'skip_drop': 0.005898055368079778}. Best is trial 15 with value: 0.5573797210734597.\u001b[0m\n",
      "\u001b[32m[I 2022-10-21 12:04:41,975]\u001b[0m Trial 21 finished with value: 0.5496376123402774 and parameters: {'booster': 'dart', 'lambda': 0.008245395323247612, 'alpha': 0.002469635483812598, 'subsample': 0.8231673974887921, 'colsample_bytree': 0.5691222002513237, 'max_depth': 7, 'min_child_weight': 5, 'eta': 0.020206624067757143, 'gamma': 1.0244183395467107e-05, 'grow_policy': 'lossguide', 'sample_type': 'uniform', 'normalize_type': 'tree', 'rate_drop': 0.0005022706352393299, 'skip_drop': 1.3000922636466858e-08}. Best is trial 15 with value: 0.5573797210734597.\u001b[0m\n",
      "\u001b[32m[I 2022-10-21 12:04:50,532]\u001b[0m Trial 22 finished with value: 0.46401460586016813 and parameters: {'booster': 'dart', 'lambda': 0.1320019668868687, 'alpha': 3.966436254114013e-08, 'subsample': 0.8401845690790282, 'colsample_bytree': 0.7096949201232354, 'max_depth': 7, 'min_child_weight': 5, 'eta': 0.894934704573194, 'gamma': 6.163556754494344e-07, 'grow_policy': 'lossguide', 'sample_type': 'uniform', 'normalize_type': 'tree', 'rate_drop': 0.008723491116876666, 'skip_drop': 1.6143971191942822e-06}. Best is trial 15 with value: 0.5573797210734597.\u001b[0m\n",
      "\u001b[32m[I 2022-10-21 12:04:55,926]\u001b[0m Trial 23 finished with value: 0.5611822753355297 and parameters: {'booster': 'dart', 'lambda': 0.022918347917256048, 'alpha': 0.00739342179575011, 'subsample': 0.9822013746871794, 'colsample_bytree': 0.5445470368014637, 'max_depth': 7, 'min_child_weight': 7, 'eta': 0.03787709447887554, 'gamma': 1.981572606347494e-05, 'grow_policy': 'lossguide', 'sample_type': 'uniform', 'normalize_type': 'tree', 'rate_drop': 8.473403749879414e-06, 'skip_drop': 1.0678716691937125e-08}. Best is trial 23 with value: 0.5611822753355297.\u001b[0m\n",
      "\u001b[32m[I 2022-10-21 12:05:00,432]\u001b[0m Trial 24 finished with value: 0.46623788714424985 and parameters: {'booster': 'dart', 'lambda': 0.02901907948251818, 'alpha': 0.006971792358762267, 'subsample': 0.9947264886772971, 'colsample_bytree': 0.8923623586869075, 'max_depth': 5, 'min_child_weight': 7, 'eta': 0.0063510959207802, 'gamma': 4.08067426595173e-05, 'grow_policy': 'lossguide', 'sample_type': 'uniform', 'normalize_type': 'tree', 'rate_drop': 7.38526605411594e-06, 'skip_drop': 1.4815157984777363e-05}. Best is trial 23 with value: 0.5611822753355297.\u001b[0m\n",
      "\u001b[32m[I 2022-10-21 12:05:05,586]\u001b[0m Trial 25 finished with value: 0.5399415293219937 and parameters: {'booster': 'dart', 'lambda': 4.082314101702267e-08, 'alpha': 0.001276365778751428, 'subsample': 0.36254446363621573, 'colsample_bytree': 0.7594173276840421, 'max_depth': 9, 'min_child_weight': 8, 'eta': 0.13983391301544448, 'gamma': 0.20220586471699506, 'grow_policy': 'lossguide', 'sample_type': 'uniform', 'normalize_type': 'tree', 'rate_drop': 9.612706478060927e-06, 'skip_drop': 0.0017530813302234197}. Best is trial 23 with value: 0.5611822753355297.\u001b[0m\n",
      "\u001b[32m[I 2022-10-21 12:05:10,430]\u001b[0m Trial 26 finished with value: 0.5454755544079171 and parameters: {'booster': 'dart', 'lambda': 4.0962531246957075e-05, 'alpha': 0.013497758580371355, 'subsample': 0.5622670941604694, 'colsample_bytree': 0.39889292792134146, 'max_depth': 7, 'min_child_weight': 9, 'eta': 0.007484174181619997, 'gamma': 1.558608949358321e-07, 'grow_policy': 'lossguide', 'sample_type': 'uniform', 'normalize_type': 'tree', 'rate_drop': 4.933678001258148e-07, 'skip_drop': 2.8778920012583375e-07}. Best is trial 23 with value: 0.5611822753355297.\u001b[0m\n",
      "\u001b[32m[I 2022-10-21 12:05:14,931]\u001b[0m Trial 27 finished with value: 0.5527797357342186 and parameters: {'booster': 'dart', 'lambda': 2.6241718681046673e-06, 'alpha': 7.607926716253857e-05, 'subsample': 0.9964070059897381, 'colsample_bytree': 0.513729015462179, 'max_depth': 7, 'min_child_weight': 7, 'eta': 0.2197323834656899, 'gamma': 0.0031266395448747647, 'grow_policy': 'depthwise', 'sample_type': 'uniform', 'normalize_type': 'tree', 'rate_drop': 0.03351656482409253, 'skip_drop': 5.402260686433408e-05}. Best is trial 23 with value: 0.5611822753355297.\u001b[0m\n",
      "\u001b[32m[I 2022-10-21 12:05:15,379]\u001b[0m Trial 28 finished with value: 0.35552385422151295 and parameters: {'booster': 'gblinear', 'lambda': 5.213061422081869e-08, 'alpha': 7.601929496341335e-05, 'subsample': 0.7669569704348358, 'colsample_bytree': 0.6231011761027716}. Best is trial 23 with value: 0.5611822753355297.\u001b[0m\n",
      "\u001b[32m[I 2022-10-21 12:05:20,447]\u001b[0m Trial 29 finished with value: 0.4966089836143499 and parameters: {'booster': 'dart', 'lambda': 0.0013296295707674027, 'alpha': 0.16181050000272496, 'subsample': 0.22872405301808763, 'colsample_bytree': 0.9629209111467769, 'max_depth': 9, 'min_child_weight': 9, 'eta': 5.782006559823971e-07, 'gamma': 0.013099324749989226, 'grow_policy': 'lossguide', 'sample_type': 'weighted', 'normalize_type': 'forest', 'rate_drop': 4.584782016368397e-05, 'skip_drop': 0.06573561731054774}. Best is trial 23 with value: 0.5611822753355297.\u001b[0m\n"
     ]
    },
    {
     "name": "stdout",
     "output_type": "stream",
     "text": [
      "Number of finished trials:  30\n",
      "Best trial:\n",
      "  Value: 0.5611822753355297\n",
      "  Params: \n",
      "    booster: dart\n",
      "    lambda: 0.022918347917256048\n",
      "    alpha: 0.00739342179575011\n",
      "    subsample: 0.9822013746871794\n",
      "    colsample_bytree: 0.5445470368014637\n",
      "    max_depth: 7\n",
      "    min_child_weight: 7\n",
      "    eta: 0.03787709447887554\n",
      "    gamma: 1.981572606347494e-05\n",
      "    grow_policy: lossguide\n",
      "    sample_type: uniform\n",
      "    normalize_type: tree\n",
      "    rate_drop: 8.473403749879414e-06\n",
      "    skip_drop: 1.0678716691937125e-08\n"
     ]
    }
   ],
   "source": [
    "def objective(trial):\n",
    "    # import data\n",
    "    y_min_u_balanced_bool = pd.read_csv('..\\data\\ground_truth\\\\res_bus_vm_pu_min_balanced_bool_constr.csv')\n",
    "    y_min_u_balanced_bool = pd.DataFrame(y_min_u_balanced_bool['bus_16'], columns=['bus_16'])\n",
    "    exogenous_data = pd.read_csv('..\\data\\ground_truth\\\\exogenous_data_vm_pu_min_balanced.csv').drop(columns=['date'])\n",
    "    train_x, valid_x, train_y, valid_y, scaler = utils.split_and_suffle(exogenous_data, y_min_u_balanced_bool, test_size=0.2, scaling=True)\n",
    "    data = {'X_train': train_x, 'X_test': valid_x, 'y_train': train_y, 'y_test': valid_y}\n",
    "    param = {\n",
    "        \"verbosity\": 0,\n",
    "        \"objective\": \"binary:logistic\",\n",
    "        # use exact for small dataset.\n",
    "        \"tree_method\": \"exact\",\n",
    "        # defines booster, gblinear for linear functions.\n",
    "        \"booster\": trial.suggest_categorical(\"booster\", [\"gbtree\", \"gblinear\", \"dart\"]),\n",
    "        # L2 regularization weight.\n",
    "        \"lambda\": trial.suggest_float(\"lambda\", 1e-8, 1.0, log=True),\n",
    "        # L1 regularization weight.\n",
    "        \"alpha\": trial.suggest_float(\"alpha\", 1e-8, 1.0, log=True),\n",
    "        # sampling ratio for training data.\n",
    "        \"subsample\": trial.suggest_float(\"subsample\", 0.2, 1.0),\n",
    "        # sampling according to each tree.\n",
    "        \"colsample_bytree\": trial.suggest_float(\"colsample_bytree\", 0.2, 1.0),\n",
    "    }\n",
    "\n",
    "    if param[\"booster\"] in [\"gbtree\", \"dart\"]:\n",
    "        # maximum depth of the tree, signifies complexity of the tree.\n",
    "        param[\"max_depth\"] = trial.suggest_int(\"max_depth\", 3, 9, step=2)\n",
    "        # minimum child weight, larger the term more conservative the tree.\n",
    "        param[\"min_child_weight\"] = trial.suggest_int(\"min_child_weight\", 2, 10)\n",
    "        param[\"eta\"] = trial.suggest_float(\"eta\", 1e-8, 1.0, log=True)\n",
    "        # defines how selective algorithm is.\n",
    "        param[\"gamma\"] = trial.suggest_float(\"gamma\", 1e-8, 1.0, log=True)\n",
    "        param[\"grow_policy\"] = trial.suggest_categorical(\"grow_policy\", [\"depthwise\", \"lossguide\"])\n",
    "\n",
    "    if param[\"booster\"] == \"dart\":\n",
    "        param[\"sample_type\"] = trial.suggest_categorical(\"sample_type\", [\"uniform\", \"weighted\"])\n",
    "        param[\"normalize_type\"] = trial.suggest_categorical(\"normalize_type\", [\"tree\", \"forest\"])\n",
    "        param[\"rate_drop\"] = trial.suggest_float(\"rate_drop\", 1e-8, 1.0, log=True)\n",
    "        param[\"skip_drop\"] = trial.suggest_float(\"skip_drop\", 1e-8, 1.0, log=True)\n",
    "    model = my_ai.Context(my_ai.XGBoostClassifierStrategy(param))\n",
    "    model.fit(data)\n",
    "    prediction = model.predict(data_min_class)\n",
    "    prediction = pd.DataFrame(prediction , columns=valid_y.columns)\n",
    "    tp, tn, fp, fn = 0, 0, 0, 0\n",
    "    tp += sum((prediction['bus_16'] == 1) & (data_min_class['y_test']['bus_16'] == 1))\n",
    "    tn += sum((prediction['bus_16'] == 0) & (data_min_class['y_test']['bus_16'] == 0))\n",
    "    fp += sum((prediction['bus_16'] == 1) & (data_min_class['y_test']['bus_16'] == 0))\n",
    "    fn += sum((prediction['bus_16'] == 0) & (data_min_class['y_test']['bus_16'] == 1))\n",
    "    if (tp+fp)*(tp+fn)*(tn+fp)*(tn+fn) > 0:\n",
    "        mcc_score = (tp*tn - fp*fn) / np.sqrt((tp+fp)*(tp+fn)*(tn+fp)*(tn+fn))\n",
    "    else: \n",
    "        mcc_score = 0\n",
    "    return mcc_score\n",
    "study = optuna.create_study(direction=\"maximize\")\n",
    "study.optimize(objective, n_trials=num_trials)\n",
    "print(\"Number of finished trials: \", len(study.trials))\n",
    "print(\"Best trial:\")\n",
    "trial = study.best_trial\n",
    "print(\"  Value: {}\".format(trial.value))\n",
    "print(\"  Params: \")\n",
    "for key, value in trial.params.items():\n",
    "    print(\"    {}: {}\".format(key, value))\n",
    "# Write the results to a csv file.\n",
    "with open(\"./hyper_params_results_mcc/params_xgboost_balanced_classifier_min_u_test_bus_16.csv\", \"w\") as f:\n",
    "    f.write(\"params,value\\n\")\n",
    "    for key, value in trial.params.items():\n",
    "        f.write(\"{},{}\\n\".format(key, value))\n",
    "    f.write(\"value,{}\\n\".format(trial.value))"
   ]
  },
  {
   "cell_type": "code",
   "execution_count": 24,
   "metadata": {},
   "outputs": [],
   "source": [
    "# Classification data sparse\n",
    "y_min_u_bool = pd.read_csv('..\\data\\ground_truth\\\\res_bus_vm_pu_min_sparse_bool_constr.csv').drop(columns=['timestamps'])\n",
    "y_min_u_bool = pd.DataFrame(y_min_u_bool['bus_16'], columns=['bus_16'])\n",
    "train_x, test_x, train_y, test_y, scaler = utils.split_and_suffle(exogenous_data, y_min_u_bool, test_size=0.2, scaling=True)\n",
    "data_min_u_bool = {'X_train': deepcopy(train_x), 'X_test': deepcopy(test_x), 'y_train': deepcopy(train_y), 'y_test': deepcopy(test_y), 'scaler': deepcopy(scaler)}\n",
    "# reg data sparse\n",
    "y_min_u = pd.read_csv('..\\data\\ground_truth\\\\res_bus_vm_pu_min_constr.csv').drop(columns=['timestamps'])\n",
    "y_min_u = pd.DataFrame(y_min_u['bus_16'], columns=['bus_16'])\n",
    "exogenous_data = pd.read_csv('..\\data\\processed\\production\\exogenous_data_extended.csv').drop(columns=['date'])\n",
    "train_x, valid_x, train_y, valid_y, scaler_min = utils.split_and_suffle(exogenous_data, y_min_u, test_size=0.2, scaling=True)\n",
    "data_min_reg = {'X_train': deepcopy(train_x), 'X_test': deepcopy(valid_x), 'y_train': deepcopy(train_y), 'y_test': deepcopy(valid_y)}\n",
    "threshold_min = utils.compute_threshold(y_min_u) / scaler_min['y']\n",
    "# balanced data reg\n",
    "y_min_u_balanced = pd.read_csv('..\\data\\ground_truth\\\\res_bus_vm_pu_min_balanced_constr.csv')\n",
    "y_min_u_balanced = pd.DataFrame(y_min_u_balanced['bus_16'], columns=['bus_16'])\n",
    "exogenous_data_vm_pu_min_balanced = pd.read_csv('..\\data\\ground_truth\\\\exogenous_data_vm_pu_min_balanced.csv').drop(columns=['date'])\n",
    "X_min_u_train, X_min_u_test, y_min_u_train, y_min_u_test = utils.split_and_suffle(exogenous_data_vm_pu_min_balanced, y_min_u_balanced)\n",
    "data_min_u_balanced = {'X_train': deepcopy(X_min_u_train), 'X_test': deepcopy(X_min_u_test), 'y_train': deepcopy(y_min_u_train), 'y_test': deepcopy(y_min_u_test)}\n",
    "# class data bool balanced\n",
    "y_min_u_balanced_bool = pd.read_csv('..\\data\\ground_truth\\\\res_bus_vm_pu_min_balanced_bool_constr.csv')\n",
    "y_min_u_balanced_bool = pd.DataFrame(y_min_u_balanced_bool['bus_16'], columns=['bus_16'])\n",
    "exogenous_data_balanced = pd.read_csv('..\\data\\ground_truth\\\\exogenous_data_vm_pu_min_balanced.csv').drop(columns=['date'])\n",
    "train_x, valid_x, train_y, valid_y, scaler = utils.split_and_suffle(exogenous_data_balanced, y_min_u_balanced_bool, test_size=0.2, scaling=True)\n",
    "data_min_u_bool_balanced = {'X_train': train_x, 'X_test': valid_x, 'y_train': train_y, 'y_test': valid_y}\n",
    "# hybrid data training\n",
    "data_min_u_hybrid = {}\n",
    "data_min_u_hybrid['X_train'] = pd.concat([data_min_u_balanced['X_train'], data_min_u_bool_balanced['y_train']], axis=1)\n",
    "data_min_u_hybrid['y_train'] = deepcopy(data_min_u_balanced['y_train'])\n"
   ]
  },
  {
   "cell_type": "code",
   "execution_count": 25,
   "metadata": {},
   "outputs": [],
   "source": [
    "\n",
    "# hybrid data test\n",
    "import ast\n",
    "def get_hyper_params_from_df(df):\n",
    "    output = {}\n",
    "    for row in df.iterrows():\n",
    "        if row[1]['params'] != 'value':\n",
    "            try:\n",
    "                output[row[1]['params']] = ast.literal_eval(row[1]['value'])\n",
    "            except :\n",
    "                output[row[1]['params']] = row[1]['value']\n",
    "    return output\n",
    "# import classifier hyper params \n",
    "df = pd.read_csv('hyper_params_results_mcc/params_xgboost_balanced_classifier_min_u_test_bus_16.csv')\n",
    "hyper_params = get_hyper_params_from_df(df)\n",
    "classifier_min_u = my_ai.Context(strategy=my_ai.XGBoostClassifierStrategy(hyper_params)) \n",
    "classifier_min_u.fit(data_min_u_bool_balanced)\n",
    "class_prediction = classifier_min_u.predict(data_min_u_bool).to_csv('class_prediction_min_u.csv', index=False)\n",
    "data_min_u_hybrid['X_test']  = pd.concat([data_min_reg['X_test'], class_prediction], axis=1)\n",
    "data_min_u_hybrid['y_test'] = deepcopy(data_min_reg['y_test'])"
   ]
  },
  {
   "cell_type": "code",
   "execution_count": 26,
   "metadata": {},
   "outputs": [
    {
     "name": "stdout",
     "output_type": "stream",
     "text": [
      "data_min_u_hybrid X_train shape:  (11164, 12)\n",
      "data_min_u_hybrid y_train shape:  (11164, 1)\n",
      "data_min_u_hybrid X_test shape:  (9044, 11)\n",
      "data_min_u_hybrid y_test shape:  (9044, 1)\n"
     ]
    }
   ],
   "source": [
    "print('data_min_u_hybrid X_train shape: ', data_min_u_hybrid['X_train'].shape)\n",
    "print('data_min_u_hybrid y_train shape: ', data_min_u_hybrid['y_train'].shape)\n",
    "print('data_min_u_hybrid X_test shape: ', data_min_u_hybrid['X_test'].shape)\n",
    "print('data_min_u_hybrid y_test shape: ', data_min_u_hybrid['y_test'].shape)\n"
   ]
  },
  {
   "cell_type": "code",
   "execution_count": 27,
   "metadata": {},
   "outputs": [
    {
     "name": "stderr",
     "output_type": "stream",
     "text": [
      "\u001b[32m[I 2022-10-21 12:05:28,752]\u001b[0m A new study created in memory with name: no-name-78f35e5d-6a18-480b-98b2-d6af85cc41ec\u001b[0m\n",
      "\u001b[32m[I 2022-10-21 12:05:59,645]\u001b[0m Trial 0 finished with value: 0.35550036638169635 and parameters: {'n_estimators': 801, 'learning_rate': 0.755274254012659, 'loss': 'squared_error'}. Best is trial 0 with value: 0.35550036638169635.\u001b[0m\n"
     ]
    },
    {
     "name": "stdout",
     "output_type": "stream",
     "text": [
      "true_positives_ctr:  851\n",
      "true_negatives_ctr:  6332\n",
      "false_positives_ctr:  1690\n",
      "false_negatives_ctr:  171\n",
      "135472758029532\n",
      "hybrid_recall 0.7799995430208047\n",
      "hybrid_precision 0.2658186217859917\n",
      "hybrid_f1 0.396509470760239\n",
      "hybrid_accuracy 0.7612030721530926\n",
      "hybrid_mcc 0.35550036638169635\n"
     ]
    },
    {
     "name": "stderr",
     "output_type": "stream",
     "text": [
      "\u001b[32m[I 2022-10-21 12:06:01,652]\u001b[0m Trial 1 finished with value: 0.3760505210156553 and parameters: {'n_estimators': 18, 'learning_rate': 0.12024991973499621, 'loss': 'squared_error'}. Best is trial 1 with value: 0.3760505210156553.\u001b[0m\n"
     ]
    },
    {
     "name": "stdout",
     "output_type": "stream",
     "text": [
      "true_positives_ctr:  1008\n",
      "true_negatives_ctr:  5504\n",
      "false_positives_ctr:  2518\n",
      "false_negatives_ctr:  14\n",
      "159513541594512\n",
      "hybrid_recall 0.9808235210681171\n",
      "hybrid_precision 0.2283099141158045\n",
      "hybrid_f1 0.37040036664565557\n",
      "hybrid_accuracy 0.6793032610394036\n",
      "hybrid_mcc 0.3760505210156553\n"
     ]
    },
    {
     "name": "stderr",
     "output_type": "stream",
     "text": [
      "\u001b[32m[I 2022-10-21 12:06:04,341]\u001b[0m Trial 2 finished with value: 0.5305681974796951 and parameters: {'n_estimators': 43, 'learning_rate': 0.18663688526902306, 'loss': 'absolute_error'}. Best is trial 2 with value: 0.5305681974796951.\u001b[0m\n"
     ]
    },
    {
     "name": "stdout",
     "output_type": "stream",
     "text": [
      "true_positives_ctr:  982\n",
      "true_negatives_ctr:  6804\n",
      "false_positives_ctr:  1218\n",
      "false_negatives_ctr:  40\n",
      "123442933891200\n",
      "hybrid_recall 0.9478121738718778\n",
      "hybrid_precision 0.37199605840597216\n",
      "hybrid_f1 0.5342933680312244\n",
      "hybrid_accuracy 0.8357080569975418\n",
      "hybrid_mcc 0.5305681974796951\n"
     ]
    },
    {
     "name": "stderr",
     "output_type": "stream",
     "text": [
      "\u001b[32m[I 2022-10-21 12:06:18,838]\u001b[0m Trial 3 finished with value: 0.3738251946445303 and parameters: {'n_estimators': 362, 'learning_rate': 0.5104337239287468, 'loss': 'squared_error'}. Best is trial 2 with value: 0.5305681974796951.\u001b[0m\n"
     ]
    },
    {
     "name": "stdout",
     "output_type": "stream",
     "text": [
      "true_positives_ctr:  950\n",
      "true_negatives_ctr:  5906\n",
      "false_positives_ctr:  2116\n",
      "false_negatives_ctr:  72\n",
      "150266307521232\n",
      "hybrid_recall 0.9010594931207634\n",
      "hybrid_precision 0.24724945450804522\n",
      "hybrid_f1 0.3880253108075934\n",
      "hybrid_accuracy 0.7206864549187053\n",
      "hybrid_mcc 0.3738251946445303\n"
     ]
    },
    {
     "name": "stderr",
     "output_type": "stream",
     "text": [
      "\u001b[32m[I 2022-10-21 12:06:21,520]\u001b[0m Trial 4 finished with value: 0.5099873928703276 and parameters: {'n_estimators': 43, 'learning_rate': 0.19213077654543034, 'loss': 'absolute_error'}. Best is trial 2 with value: 0.5305681974796951.\u001b[0m\n"
     ]
    },
    {
     "name": "stdout",
     "output_type": "stream",
     "text": [
      "true_positives_ctr:  982\n",
      "true_negatives_ctr:  6685\n",
      "false_positives_ctr:  1337\n",
      "false_negatives_ctr:  40\n",
      "127857612563100\n",
      "hybrid_recall 0.9480482699912073\n",
      "hybrid_precision 0.3514425673121542\n",
      "hybrid_f1 0.5127924081911406\n",
      "hybrid_accuracy 0.8211358845511669\n",
      "hybrid_mcc 0.5099873928703276\n"
     ]
    },
    {
     "name": "stderr",
     "output_type": "stream",
     "text": [
      "\u001b[32m[I 2022-10-21 12:06:27,945]\u001b[0m Trial 5 finished with value: 0.4994115836013744 and parameters: {'n_estimators': 134, 'learning_rate': 0.1371772900842474, 'loss': 'absolute_error'}. Best is trial 2 with value: 0.5305681974796951.\u001b[0m\n"
     ]
    },
    {
     "name": "stdout",
     "output_type": "stream",
     "text": [
      "true_positives_ctr:  979\n",
      "true_negatives_ctr:  6648\n",
      "false_positives_ctr:  1374\n",
      "false_negatives_ctr:  43\n",
      "129076300812732\n",
      "hybrid_recall 0.9434912055815048\n",
      "hybrid_precision 0.3427506128331564\n",
      "hybrid_f1 0.5028326466858843\n",
      "hybrid_accuracy 0.8150514466797956\n",
      "hybrid_mcc 0.4994115836013744\n"
     ]
    },
    {
     "name": "stderr",
     "output_type": "stream",
     "text": [
      "\u001b[32m[I 2022-10-21 12:06:29,812]\u001b[0m Trial 6 finished with value: 0.5175864785401437 and parameters: {'n_estimators': 21, 'learning_rate': 0.1353527764321486, 'loss': 'absolute_error'}. Best is trial 2 with value: 0.5305681974796951.\u001b[0m\n"
     ]
    },
    {
     "name": "stdout",
     "output_type": "stream",
     "text": [
      "true_positives_ctr:  989\n",
      "true_negatives_ctr:  6706\n",
      "false_positives_ctr:  1316\n",
      "false_negatives_ctr:  33\n",
      "127350290373180\n",
      "hybrid_recall 0.9562427955041263\n",
      "hybrid_precision 0.35504838926776755\n",
      "hybrid_f1 0.5178292483552497\n",
      "hybrid_accuracy 0.8251761463495374\n",
      "hybrid_mcc 0.5175864785401437\n"
     ]
    },
    {
     "name": "stderr",
     "output_type": "stream",
     "text": [
      "\u001b[32m[I 2022-10-21 12:06:34,544]\u001b[0m Trial 7 finished with value: 0.4044854313574239 and parameters: {'n_estimators': 103, 'learning_rate': 0.17692643246050935, 'loss': 'squared_error'}. Best is trial 2 with value: 0.5305681974796951.\u001b[0m\n"
     ]
    },
    {
     "name": "stdout",
     "output_type": "stream",
     "text": [
      "true_positives_ctr:  993\n",
      "true_negatives_ctr:  5856\n",
      "false_positives_ctr:  2166\n",
      "false_negatives_ctr:  29\n",
      "152415679476060\n",
      "hybrid_recall 0.9616682109859486\n",
      "hybrid_precision 0.2549445997867976\n",
      "hybrid_f1 0.4030404990093344\n",
      "hybrid_accuracy 0.721420585099856\n",
      "hybrid_mcc 0.4044854313574239\n"
     ]
    },
    {
     "name": "stderr",
     "output_type": "stream",
     "text": [
      "\u001b[32m[I 2022-10-21 12:06:45,073]\u001b[0m Trial 8 finished with value: 0.4247616114788097 and parameters: {'n_estimators': 259, 'learning_rate': 0.40917207044793713, 'loss': 'squared_error'}. Best is trial 2 with value: 0.5305681974796951.\u001b[0m\n"
     ]
    },
    {
     "name": "stdout",
     "output_type": "stream",
     "text": [
      "true_positives_ctr:  963\n",
      "true_negatives_ctr:  6229\n",
      "false_positives_ctr:  1793\n",
      "false_negatives_ctr:  59\n",
      "142077497732352\n",
      "hybrid_recall 0.9203132147038934\n",
      "hybrid_precision 0.28258181492400003\n",
      "hybrid_f1 0.4323964637047605\n",
      "hybrid_accuracy 0.7625048153790367\n",
      "hybrid_mcc 0.4247616114788097\n"
     ]
    },
    {
     "name": "stderr",
     "output_type": "stream",
     "text": [
      "\u001b[32m[I 2022-10-21 12:06:57,672]\u001b[0m Trial 9 finished with value: 0.4097863393013696 and parameters: {'n_estimators': 312, 'learning_rate': 0.4867888524795504, 'loss': 'squared_error'}. Best is trial 2 with value: 0.5305681974796951.\u001b[0m\n"
     ]
    },
    {
     "name": "stdout",
     "output_type": "stream",
     "text": [
      "true_positives_ctr:  953\n",
      "true_negatives_ctr:  6174\n",
      "false_positives_ctr:  1848\n",
      "false_negatives_ctr:  69\n",
      "143363962849212\n",
      "hybrid_recall 0.9084328831690994\n",
      "hybrid_precision 0.2734465262246344\n",
      "hybrid_f1 0.4203606801784364\n",
      "hybrid_accuracy 0.7539948929704233\n",
      "hybrid_mcc 0.4097863393013696\n"
     ]
    },
    {
     "name": "stderr",
     "output_type": "stream",
     "text": [
      "\u001b[32m[I 2022-10-21 12:07:00,274]\u001b[0m Trial 10 finished with value: 0.48712062133641143 and parameters: {'n_estimators': 38, 'learning_rate': 0.2660986990443797, 'loss': 'absolute_error'}. Best is trial 2 with value: 0.5305681974796951.\u001b[0m\n"
     ]
    },
    {
     "name": "stdout",
     "output_type": "stream",
     "text": [
      "true_positives_ctr:  980\n",
      "true_negatives_ctr:  6560\n",
      "false_positives_ctr:  1462\n",
      "false_negatives_ctr:  42\n",
      "132176647720656\n",
      "hybrid_recall 0.9454281811927363\n",
      "hybrid_precision 0.3303516540399083\n",
      "hybrid_f1 0.4896201598546332\n",
      "hybrid_accuracy 0.8050244473860232\n",
      "hybrid_mcc 0.48712062133641143\n"
     ]
    },
    {
     "name": "stderr",
     "output_type": "stream",
     "text": [
      "\u001b[32m[I 2022-10-21 12:07:01,654]\u001b[0m Trial 11 finished with value: 0.5306621385055988 and parameters: {'n_estimators': 10, 'learning_rate': 0.23634209584878121, 'loss': 'absolute_error'}. Best is trial 11 with value: 0.5306621385055988.\u001b[0m\n"
     ]
    },
    {
     "name": "stdout",
     "output_type": "stream",
     "text": [
      "true_positives_ctr:  988\n",
      "true_negatives_ctr:  6787\n",
      "false_positives_ctr:  1235\n",
      "false_negatives_ctr:  34\n",
      "124314293366172\n",
      "hybrid_recall 0.9547913541733033\n",
      "hybrid_precision 0.36844622553583684\n",
      "hybrid_f1 0.5317099151563252\n",
      "hybrid_accuracy 0.8350584967992037\n",
      "hybrid_mcc 0.5306621385055988\n"
     ]
    },
    {
     "name": "stderr",
     "output_type": "stream",
     "text": [
      "\u001b[32m[I 2022-10-21 12:07:03,195]\u001b[0m Trial 12 finished with value: 0.5313756056255516 and parameters: {'n_estimators': 10, 'learning_rate': 0.288120464223893, 'loss': 'absolute_error'}. Best is trial 12 with value: 0.5313756056255516.\u001b[0m\n"
     ]
    },
    {
     "name": "stdout",
     "output_type": "stream",
     "text": [
      "true_positives_ctr:  985\n",
      "true_negatives_ctr:  6804\n",
      "false_positives_ctr:  1218\n",
      "false_negatives_ctr:  37\n",
      "123557081383932\n",
      "hybrid_recall 0.9512756668567844\n",
      "hybrid_precision 0.3707843869951827\n",
      "hybrid_f1 0.533588718562736\n",
      "hybrid_accuracy 0.8362304551810147\n",
      "hybrid_mcc 0.5313756056255516\n"
     ]
    },
    {
     "name": "stderr",
     "output_type": "stream",
     "text": [
      "\u001b[32m[I 2022-10-21 12:07:04,599]\u001b[0m Trial 13 finished with value: 0.5032433329370816 and parameters: {'n_estimators': 10, 'learning_rate': 0.2754086360034126, 'loss': 'absolute_error'}. Best is trial 12 with value: 0.5313756056255516.\u001b[0m\n"
     ]
    },
    {
     "name": "stdout",
     "output_type": "stream",
     "text": [
      "true_positives_ctr:  995\n",
      "true_negatives_ctr:  6592\n",
      "false_positives_ctr:  1430\n",
      "false_negatives_ctr:  27\n",
      "131594481570300\n",
      "hybrid_recall 0.9636963613207715\n",
      "hybrid_precision 0.33841285647780645\n",
      "hybrid_f1 0.5009214802475638\n",
      "hybrid_accuracy 0.8121422185821384\n",
      "hybrid_mcc 0.5032433329370816\n"
     ]
    },
    {
     "name": "stderr",
     "output_type": "stream",
     "text": [
      "\u001b[32m[I 2022-10-21 12:07:06,020]\u001b[0m Trial 14 finished with value: 0.5257376824068863 and parameters: {'n_estimators': 11, 'learning_rate': 0.3224010333295163, 'loss': 'absolute_error'}. Best is trial 12 with value: 0.5313756056255516.\u001b[0m\n"
     ]
    },
    {
     "name": "stdout",
     "output_type": "stream",
     "text": [
      "true_positives_ctr:  985\n",
      "true_negatives_ctr:  6765\n",
      "false_positives_ctr:  1257\n",
      "false_negatives_ctr:  37\n",
      "125027569672656\n",
      "hybrid_recall 0.9514927425440428\n",
      "hybrid_precision 0.36529872021946447\n",
      "hybrid_f1 0.5279181874706179\n",
      "hybrid_accuracy 0.8318700529879971\n",
      "hybrid_mcc 0.5257376824068863\n"
     ]
    },
    {
     "name": "stderr",
     "output_type": "stream",
     "text": [
      "\u001b[32m[I 2022-10-21 12:07:07,833]\u001b[0m Trial 15 finished with value: 0.45028381463847156 and parameters: {'n_estimators': 21, 'learning_rate': 0.8998090396010237, 'loss': 'absolute_error'}. Best is trial 12 with value: 0.5313756056255516.\u001b[0m\n"
     ]
    },
    {
     "name": "stdout",
     "output_type": "stream",
     "text": [
      "true_positives_ctr:  968\n",
      "true_negatives_ctr:  6404\n",
      "false_positives_ctr:  1618\n",
      "false_negatives_ctr:  54\n",
      "136917863811792\n",
      "hybrid_recall 0.9293933961324327\n",
      "hybrid_precision 0.3019643718565483\n",
      "hybrid_f1 0.4558280304335817\n",
      "hybrid_accuracy 0.7812434995305451\n",
      "hybrid_mcc 0.45028381463847156\n"
     ]
    },
    {
     "name": "stderr",
     "output_type": "stream",
     "text": [
      "\u001b[32m[I 2022-10-21 12:07:09,214]\u001b[0m Trial 16 finished with value: 0.5307209251045736 and parameters: {'n_estimators': 10, 'learning_rate': 0.23439852678434817, 'loss': 'absolute_error'}. Best is trial 12 with value: 0.5313756056255516.\u001b[0m\n"
     ]
    },
    {
     "name": "stdout",
     "output_type": "stream",
     "text": [
      "true_positives_ctr:  988\n",
      "true_negatives_ctr:  6787\n",
      "false_positives_ctr:  1235\n",
      "false_negatives_ctr:  34\n",
      "124314293366172\n",
      "hybrid_recall 0.9547883303109492\n",
      "hybrid_precision 0.36850323770727955\n",
      "hybrid_f1 0.5317688097591892\n",
      "hybrid_accuracy 0.8351049309707597\n",
      "hybrid_mcc 0.5307209251045736\n"
     ]
    },
    {
     "name": "stderr",
     "output_type": "stream",
     "text": [
      "\u001b[32m[I 2022-10-21 12:07:13,162]\u001b[0m Trial 17 finished with value: 0.48276201150053133 and parameters: {'n_estimators': 68, 'learning_rate': 0.3465014130762202, 'loss': 'absolute_error'}. Best is trial 12 with value: 0.5313756056255516.\u001b[0m\n"
     ]
    },
    {
     "name": "stdout",
     "output_type": "stream",
     "text": [
      "true_positives_ctr:  971\n",
      "true_negatives_ctr:  6595\n",
      "false_positives_ctr:  1427\n",
      "false_negatives_ctr:  51\n",
      "130660124944272\n",
      "hybrid_recall 0.9331074089789828\n",
      "hybrid_precision 0.33042055600792397\n",
      "hybrid_f1 0.48802698069788075\n",
      "hybrid_accuracy 0.8063175552539917\n",
      "hybrid_mcc 0.48276201150053133\n"
     ]
    },
    {
     "name": "stderr",
     "output_type": "stream",
     "text": [
      "\u001b[32m[I 2022-10-21 12:07:14,875]\u001b[0m Trial 18 finished with value: 0.5257677343884781 and parameters: {'n_estimators': 18, 'learning_rate': 0.5729371992823895, 'loss': 'absolute_error'}. Best is trial 12 with value: 0.5313756056255516.\u001b[0m\n"
     ]
    },
    {
     "name": "stdout",
     "output_type": "stream",
     "text": [
      "true_positives_ctr:  997\n",
      "true_negatives_ctr:  6710\n",
      "false_positives_ctr:  1312\n",
      "false_negatives_ctr:  25\n",
      "127495567509660\n",
      "hybrid_recall 0.9675673002879454\n",
      "hybrid_precision 0.35936190582678124\n",
      "hybrid_f1 0.5240774375073733\n",
      "hybrid_accuracy 0.826551263889948\n",
      "hybrid_mcc 0.5257677343884781\n"
     ]
    },
    {
     "name": "stderr",
     "output_type": "stream",
     "text": [
      "\u001b[32m[I 2022-10-21 12:07:17,095]\u001b[0m Trial 19 finished with value: 0.5280930195790821 and parameters: {'n_estimators': 31, 'learning_rate': 0.10179594997349826, 'loss': 'absolute_error'}. Best is trial 12 with value: 0.5313756056255516.\u001b[0m\n"
     ]
    },
    {
     "name": "stdout",
     "output_type": "stream",
     "text": [
      "true_positives_ctr:  985\n",
      "true_negatives_ctr:  6782\n",
      "false_positives_ctr:  1240\n",
      "false_negatives_ctr:  37\n",
      "124389653831100\n",
      "hybrid_recall 0.9513476551796374\n",
      "hybrid_precision 0.367545747084445\n",
      "hybrid_f1 0.5302381285095268\n",
      "hybrid_accuracy 0.8338087579204286\n",
      "hybrid_mcc 0.5280930195790821\n"
     ]
    },
    {
     "name": "stderr",
     "output_type": "stream",
     "text": [
      "\u001b[32m[I 2022-10-21 12:07:21,723]\u001b[0m Trial 20 finished with value: 0.5070062142903733 and parameters: {'n_estimators': 73, 'learning_rate': 0.22273549617944655, 'loss': 'absolute_error'}. Best is trial 12 with value: 0.5313756056255516.\u001b[0m\n"
     ]
    },
    {
     "name": "stdout",
     "output_type": "stream",
     "text": [
      "true_positives_ctr:  974\n",
      "true_negatives_ctr:  6713\n",
      "false_positives_ctr:  1309\n",
      "false_negatives_ctr:  48\n",
      "126546576589692\n",
      "hybrid_recall 0.9372376211610545\n",
      "hybrid_precision 0.3523661600178018\n",
      "hybrid_f1 0.5121740900772641\n",
      "hybrid_accuracy 0.8228281639462042\n",
      "hybrid_mcc 0.5070062142903733\n"
     ]
    },
    {
     "name": "stderr",
     "output_type": "stream",
     "text": [
      "\u001b[32m[I 2022-10-21 12:07:23,193]\u001b[0m Trial 21 finished with value: 0.5342160137420535 and parameters: {'n_estimators': 12, 'learning_rate': 0.23954789509674657, 'loss': 'absolute_error'}. Best is trial 21 with value: 0.5342160137420535.\u001b[0m\n"
     ]
    },
    {
     "name": "stdout",
     "output_type": "stream",
     "text": [
      "true_positives_ctr:  988\n",
      "true_negatives_ctr:  6803\n",
      "false_positives_ctr:  1219\n",
      "false_negatives_ctr:  34\n",
      "123709048483356\n",
      "hybrid_recall 0.9549508218713104\n",
      "hybrid_precision 0.37207502494397726\n",
      "hybrid_f1 0.5355032861202386\n",
      "hybrid_accuracy 0.8372746957665324\n",
      "hybrid_mcc 0.5342160137420535\n"
     ]
    },
    {
     "name": "stderr",
     "output_type": "stream",
     "text": [
      "\u001b[32m[I 2022-10-21 12:07:24,729]\u001b[0m Trial 22 finished with value: 0.5450521849143803 and parameters: {'n_estimators': 14, 'learning_rate': 0.3809648009132193, 'loss': 'absolute_error'}. Best is trial 22 with value: 0.5450521849143803.\u001b[0m\n"
     ]
    },
    {
     "name": "stdout",
     "output_type": "stream",
     "text": [
      "true_positives_ctr:  985\n",
      "true_negatives_ctr:  6858\n",
      "false_positives_ctr:  1164\n",
      "false_negatives_ctr:  37\n",
      "121479847889820\n",
      "hybrid_recall 0.9511679448973402\n",
      "hybrid_precision 0.3856066789411775\n",
      "hybrid_f1 0.5487487655832025\n",
      "hybrid_accuracy 0.8441935597827374\n",
      "hybrid_mcc 0.5450521849143803\n"
     ]
    },
    {
     "name": "stderr",
     "output_type": "stream",
     "text": [
      "\u001b[32m[I 2022-10-21 12:07:26,296]\u001b[0m Trial 23 finished with value: 0.5487099680412768 and parameters: {'n_estimators': 14, 'learning_rate': 0.3872266856076122, 'loss': 'absolute_error'}. Best is trial 23 with value: 0.5487099680412768.\u001b[0m\n"
     ]
    },
    {
     "name": "stdout",
     "output_type": "stream",
     "text": [
      "true_positives_ctr:  983\n",
      "true_negatives_ctr:  6883\n",
      "false_positives_ctr:  1139\n",
      "false_negatives_ctr:  39\n",
      "120423301058256\n",
      "hybrid_recall 0.9486876622896252\n",
      "hybrid_precision 0.3902600215863058\n",
      "hybrid_f1 0.5530236498741614\n",
      "hybrid_accuracy 0.847511362948161\n",
      "hybrid_mcc 0.5487099680412768\n"
     ]
    },
    {
     "name": "stderr",
     "output_type": "stream",
     "text": [
      "\u001b[32m[I 2022-10-21 12:07:27,906]\u001b[0m Trial 24 finished with value: 0.5342394102821 and parameters: {'n_estimators': 16, 'learning_rate': 0.3468418015965236, 'loss': 'absolute_error'}. Best is trial 23 with value: 0.5487099680412768.\u001b[0m\n"
     ]
    },
    {
     "name": "stdout",
     "output_type": "stream",
     "text": [
      "true_positives_ctr:  995\n",
      "true_negatives_ctr:  6762\n",
      "false_positives_ctr:  1260\n",
      "false_negatives_ctr:  27\n",
      "125512190260380\n",
      "hybrid_recall 0.964143918716238\n",
      "hybrid_precision 0.3692649452522916\n",
      "hybrid_f1 0.5340065766481723\n",
      "hybrid_accuracy 0.8333183222492243\n",
      "hybrid_mcc 0.5342394102821\n"
     ]
    },
    {
     "name": "stderr",
     "output_type": "stream",
     "text": [
      "\u001b[32m[I 2022-10-21 12:07:29,844]\u001b[0m Trial 25 finished with value: 0.5172791738985337 and parameters: {'n_estimators': 24, 'learning_rate': 0.38900517974856796, 'loss': 'absolute_error'}. Best is trial 23 with value: 0.5487099680412768.\u001b[0m\n"
     ]
    },
    {
     "name": "stdout",
     "output_type": "stream",
     "text": [
      "true_positives_ctr:  983\n",
      "true_negatives_ctr:  6727\n",
      "false_positives_ctr:  1295\n",
      "false_negatives_ctr:  39\n",
      "126362807570832\n",
      "hybrid_recall 0.9481874374600244\n",
      "hybrid_precision 0.35872547724925014\n",
      "hybrid_f1 0.5205228094333361\n",
      "hybrid_accuracy 0.8260752680082161\n",
      "hybrid_mcc 0.5172791738985337\n"
     ]
    },
    {
     "name": "stderr",
     "output_type": "stream",
     "text": [
      "\u001b[32m[I 2022-10-21 12:07:31,430]\u001b[0m Trial 26 finished with value: 0.5459846921994789 and parameters: {'n_estimators': 15, 'learning_rate': 0.4315603825086611, 'loss': 'absolute_error'}. Best is trial 23 with value: 0.5487099680412768.\u001b[0m\n"
     ]
    },
    {
     "name": "stdout",
     "output_type": "stream",
     "text": [
      "true_positives_ctr:  983\n",
      "true_negatives_ctr:  6866\n",
      "false_positives_ctr:  1156\n",
      "false_negatives_ctr:  39\n",
      "121089927990780\n",
      "hybrid_recall 0.9487648744947422\n",
      "hybrid_precision 0.38745183428724045\n",
      "hybrid_f1 0.5502111873236112\n",
      "hybrid_accuracy 0.8456386467556869\n",
      "hybrid_mcc 0.5459846921994789\n"
     ]
    },
    {
     "name": "stderr",
     "output_type": "stream",
     "text": [
      "\u001b[32m[I 2022-10-21 12:07:33,532]\u001b[0m Trial 27 finished with value: 0.47459450908453094 and parameters: {'n_estimators': 28, 'learning_rate': 0.6195470744546023, 'loss': 'absolute_error'}. Best is trial 23 with value: 0.5487099680412768.\u001b[0m\n"
     ]
    },
    {
     "name": "stdout",
     "output_type": "stream",
     "text": [
      "true_positives_ctr:  993\n",
      "true_negatives_ctr:  6428\n",
      "false_positives_ctr:  1594\n",
      "false_negatives_ctr:  29\n",
      "136949600143356\n",
      "hybrid_recall 0.9614851032500823\n",
      "hybrid_precision 0.3132221669657114\n",
      "hybrid_f1 0.47251389331804594\n",
      "hybrid_accuracy 0.7890683844174888\n",
      "hybrid_mcc 0.47459450908453094\n"
     ]
    },
    {
     "name": "stderr",
     "output_type": "stream",
     "text": [
      "\u001b[32m[I 2022-10-21 12:07:36,762]\u001b[0m Trial 28 finished with value: 0.49005287075360365 and parameters: {'n_estimators': 56, 'learning_rate': 0.4386730353471732, 'loss': 'absolute_error'}. Best is trial 23 with value: 0.5487099680412768.\u001b[0m\n"
     ]
    },
    {
     "name": "stdout",
     "output_type": "stream",
     "text": [
      "true_positives_ctr:  967\n",
      "true_negatives_ctr:  6654\n",
      "false_positives_ctr:  1368\n",
      "false_negatives_ctr:  55\n",
      "128433474079260\n",
      "hybrid_recall 0.9274646670475292\n",
      "hybrid_precision 0.33935281160774594\n",
      "hybrid_f1 0.49689516877129714\n",
      "hybrid_accuracy 0.8138791544108972\n",
      "hybrid_mcc 0.49005287075360365\n"
     ]
    },
    {
     "name": "stderr",
     "output_type": "stream",
     "text": [
      "\u001b[32m[I 2022-10-21 12:08:03,767]\u001b[0m Trial 29 finished with value: 0.34042104630329206 and parameters: {'n_estimators': 696, 'learning_rate': 0.7051596801306376, 'loss': 'squared_error'}. Best is trial 23 with value: 0.5487099680412768.\u001b[0m\n"
     ]
    },
    {
     "name": "stdout",
     "output_type": "stream",
     "text": [
      "true_positives_ctr:  895\n",
      "true_negatives_ctr:  5974\n",
      "false_positives_ctr:  2048\n",
      "false_negatives_ctr:  127\n",
      "147205772451612\n",
      "hybrid_recall 0.8324527123571264\n",
      "hybrid_precision 0.2391432527106037\n",
      "hybrid_f1 0.3715494567922626\n",
      "hybrid_accuracy 0.7215450446331251\n",
      "hybrid_mcc 0.34042104630329206\n",
      "Number of finished trials:  30\n",
      "Best trial:\n",
      "  Value: 0.5487099680412768\n",
      "  Params: \n",
      "    n_estimators: 14\n",
      "    learning_rate: 0.3872266856076122\n",
      "    loss: absolute_error\n"
     ]
    }
   ],
   "source": [
    "num_trials = 30\n",
    "# Same implementation as above, but for Gradient Boosting Regression.\n",
    "def objective(trial):\n",
    "    # import data\n",
    "    y_min_u = pd.read_csv('..\\data\\ground_truth\\\\res_bus_vm_pu_min_balanced_constr.csv')\n",
    "    y_min_u = pd.DataFrame(y_min_u['bus_16'], columns=['bus_16'])\n",
    "    exogenous_data = pd.read_csv('..\\data\\ground_truth\\\\exogenous_data_vm_pu_min_balanced.csv').drop(columns=['date'])\n",
    "    train_x, valid_x, train_y, valid_y, scaler = utils.split_and_suffle(exogenous_data, y_min_u, test_size=0.2, scaling=True)\n",
    "    data = {'X_train': deepcopy(train_x), 'X_test': deepcopy(valid_x), 'y_train': deepcopy(train_y), 'y_test': deepcopy(valid_y)}\n",
    "    # class data bool balanced\n",
    "    y_min_u_balanced_bool = pd.read_csv('..\\data\\ground_truth\\\\res_bus_vm_pu_min_balanced_bool_constr.csv')\n",
    "    y_min_u_balanced_bool = pd.DataFrame(y_min_u_balanced_bool['bus_16'], columns=['bus_16'])\n",
    "    train_x, valid_x, train_y, valid_y, scaler = utils.split_and_suffle(exogenous_data, y_min_u_balanced_bool, test_size=0.2, scaling=True)\n",
    "    data_min_u_bool_balanced = {'X_train': deepcopy(train_x), 'X_test': deepcopy(valid_x), 'y_train': deepcopy(train_y), 'y_test': deepcopy(valid_y)}\n",
    "    # hybrid data training\n",
    "    data_min_u_hybrid = {}\n",
    "    data_min_u_hybrid['X_train'] =  pd.concat([data['X_train'], data_min_u_bool_balanced['y_train']], axis=1)\n",
    "    data_min_u_hybrid['y_train'] = data['y_train']\n",
    "    # Testing data\n",
    "    class_prediction = pd.read_csv('class_prediction_min_u.csv')\n",
    "    data_min_u_hybrid['X_test']  = pd.concat([data_min_reg['X_test'], class_prediction], axis=1)\n",
    "    data_min_u_hybrid['y_test'] = data_min_reg['y_test']\n",
    "    param = {\n",
    "        'n_estimators': trial.suggest_int('n_estimators', 10, 1000, log=True),\n",
    "        'learning_rate': trial.suggest_float('learning_rate', 0.1, 1.0, log=True) ,\n",
    "        'loss': trial.suggest_categorical('loss', ['squared_error', 'absolute_error'])\n",
    "    }\n",
    "    model = my_ai.Context(my_ai.GradientBoostRegressorStrategy(param))\n",
    "    model.fit(data_min_u_hybrid)\n",
    "    prediction = model.predict(data_min_u_hybrid)\n",
    "    # evaluate the regression performance with my metrics\n",
    "    metric = metrics.Metrics()\n",
    "    metric.get_prediction_scores(prediction, data_min_u_hybrid['y_test'], threshold=threshold_min)\n",
    "    print('hybrid_recall', metric.hybrid_recall)\n",
    "    print('hybrid_precision', metric.hybrid_precision)\n",
    "    print('hybrid_f1', metric.hybrid_f1)\n",
    "    print('hybrid_accuracy', metric.hybrid_accuracy)\n",
    "    print('hybrid_mcc', metric.hybrid_mcc)\n",
    "    return metric.hybrid_mcc\n",
    "study = optuna.create_study(direction=\"maximize\")\n",
    "study.optimize(objective, n_trials=num_trials)\n",
    "print(\"Number of finished trials: \", len(study.trials))\n",
    "print(\"Best trial:\")\n",
    "trial = study.best_trial\n",
    "print(\"  Value: {}\".format(trial.value))\n",
    "print(\"  Params: \")\n",
    "for key, value in trial.params.items():\n",
    "    print(\"    {}: {}\".format(key, value))\n",
    "# Write the results to a csv file.\n",
    "with open(\"./hyper_params_results_mcc/params_gradient_boost_regression_balanced_min_u_test_one_bus.csv\", \"w\") as f:\n",
    "    f.write(\"params,value\\n\")\n",
    "    for key, value in trial.params.items():\n",
    "        f.write(\"{},{}\\n\".format(key, value))\n",
    "    f.write(\"value,{}\\n\".format(trial.value))"
   ]
  },
  {
   "cell_type": "code",
   "execution_count": 28,
   "metadata": {},
   "outputs": [
    {
     "name": "stderr",
     "output_type": "stream",
     "text": [
      "\u001b[32m[I 2022-10-21 12:08:03,838]\u001b[0m A new study created in memory with name: no-name-519b5a7c-0c3f-4eba-beae-73b3cb7de3cd\u001b[0m\n",
      "\u001b[32m[I 2022-10-21 12:08:05,900]\u001b[0m Trial 0 finished with value: 0.5613640127535421 and parameters: {'n_estimators': 25, 'learning_rate': 0.9747796838178895, 'loss': 'absolute_error'}. Best is trial 0 with value: 0.5613640127535421.\u001b[0m\n"
     ]
    },
    {
     "name": "stdout",
     "output_type": "stream",
     "text": [
      "true_positives_ctr:  974\n",
      "true_negatives_ctr:  7000\n",
      "false_positives_ctr:  1022\n",
      "false_negatives_ctr:  48\n",
      "115334698803072\n",
      "hybrid_recall 0.9375450351637\n",
      "hybrid_precision 0.4085789025755639\n",
      "hybrid_f1 0.5691320254295182\n",
      "hybrid_accuracy 0.8581472219387513\n",
      "hybrid_mcc 0.5613640127535421\n"
     ]
    },
    {
     "name": "stderr",
     "output_type": "stream",
     "text": [
      "\u001b[32m[I 2022-10-21 12:08:20,162]\u001b[0m Trial 1 finished with value: 0.45418007206006566 and parameters: {'n_estimators': 329, 'learning_rate': 0.6656574171461921, 'loss': 'absolute_error'}. Best is trial 0 with value: 0.5613640127535421.\u001b[0m\n"
     ]
    },
    {
     "name": "stdout",
     "output_type": "stream",
     "text": [
      "true_positives_ctr:  973\n",
      "true_negatives_ctr:  6399\n",
      "false_positives_ctr:  1623\n",
      "false_negatives_ctr:  49\n",
      "137234489263872\n",
      "hybrid_recall 0.93495269923778\n",
      "hybrid_precision 0.3031306384477307\n",
      "hybrid_f1 0.4578250914323635\n",
      "hybrid_accuracy 0.783148038626672\n",
      "hybrid_mcc 0.45418007206006566\n"
     ]
    },
    {
     "name": "stderr",
     "output_type": "stream",
     "text": [
      "\u001b[32m[I 2022-10-21 12:08:42,860]\u001b[0m Trial 2 finished with value: 0.4315288125411382 and parameters: {'n_estimators': 543, 'learning_rate': 0.11095980486905928, 'loss': 'absolute_error'}. Best is trial 0 with value: 0.5613640127535421.\u001b[0m\n"
     ]
    },
    {
     "name": "stdout",
     "output_type": "stream",
     "text": [
      "true_positives_ctr:  972\n",
      "true_negatives_ctr:  6247\n",
      "false_positives_ctr:  1775\n",
      "false_negatives_ctr:  50\n",
      "141816220245756\n",
      "hybrid_recall 0.9341491827980155\n",
      "hybrid_precision 0.2840552859099952\n",
      "hybrid_f1 0.43564117521864043\n",
      "hybrid_accuracy 0.7627809731532015\n",
      "hybrid_mcc 0.4315288125411382\n"
     ]
    },
    {
     "name": "stderr",
     "output_type": "stream",
     "text": [
      "\u001b[32m[I 2022-10-21 12:08:48,834]\u001b[0m Trial 3 finished with value: 0.47646085721102915 and parameters: {'n_estimators': 128, 'learning_rate': 0.11093848138450607, 'loss': 'absolute_error'}. Best is trial 0 with value: 0.5613640127535421.\u001b[0m\n"
     ]
    },
    {
     "name": "stdout",
     "output_type": "stream",
     "text": [
      "true_positives_ctr:  982\n",
      "true_negatives_ctr:  6489\n",
      "false_positives_ctr:  1533\n",
      "false_negatives_ctr:  40\n",
      "134622673620540\n",
      "hybrid_recall 0.9477108185341983\n",
      "hybrid_precision 0.3197113272021975\n",
      "hybrid_f1 0.4781262259251505\n",
      "hybrid_accuracy 0.7956246238649681\n",
      "hybrid_mcc 0.47646085721102915\n"
     ]
    },
    {
     "name": "stderr",
     "output_type": "stream",
     "text": [
      "\u001b[32m[I 2022-10-21 12:08:52,679]\u001b[0m Trial 4 finished with value: 0.4731814526758078 and parameters: {'n_estimators': 74, 'learning_rate': 0.18975227465091363, 'loss': 'absolute_error'}. Best is trial 0 with value: 0.5613640127535421.\u001b[0m\n"
     ]
    },
    {
     "name": "stdout",
     "output_type": "stream",
     "text": [
      "true_positives_ctr:  982\n",
      "true_negatives_ctr:  6472\n",
      "false_positives_ctr:  1550\n",
      "false_negatives_ctr:  40\n",
      "135179752409856\n",
      "hybrid_recall 0.9474532838684044\n",
      "hybrid_precision 0.31676340498561073\n",
      "hybrid_f1 0.474789695325103\n",
      "hybrid_accuracy 0.7931016606761838\n",
      "hybrid_mcc 0.4731814526758078\n"
     ]
    },
    {
     "name": "stderr",
     "output_type": "stream",
     "text": [
      "\u001b[32m[I 2022-10-21 12:08:55,964]\u001b[0m Trial 5 finished with value: 0.5377299301852745 and parameters: {'n_estimators': 53, 'learning_rate': 0.12491218931958994, 'loss': 'absolute_error'}. Best is trial 0 with value: 0.5613640127535421.\u001b[0m\n"
     ]
    },
    {
     "name": "stdout",
     "output_type": "stream",
     "text": [
      "true_positives_ctr:  989\n",
      "true_negatives_ctr:  6806\n",
      "false_positives_ctr:  1216\n",
      "false_negatives_ctr:  33\n",
      "123633097727580\n",
      "hybrid_recall 0.956682186620517\n",
      "hybrid_precision 0.3757284706724383\n",
      "hybrid_f1 0.5395524764546501\n",
      "hybrid_accuracy 0.837947469300305\n",
      "hybrid_mcc 0.5377299301852745\n"
     ]
    },
    {
     "name": "stderr",
     "output_type": "stream",
     "text": [
      "\u001b[32m[I 2022-10-21 12:08:58,237]\u001b[0m Trial 6 finished with value: 0.3921034246066694 and parameters: {'n_estimators': 38, 'learning_rate': 0.2980595103467954, 'loss': 'squared_error'}. Best is trial 0 with value: 0.5613640127535421.\u001b[0m\n"
     ]
    },
    {
     "name": "stdout",
     "output_type": "stream",
     "text": [
      "true_positives_ctr:  1000\n",
      "true_negatives_ctr:  5709\n",
      "false_positives_ctr:  2313\n",
      "false_negatives_ctr:  22\n",
      "155663000606652\n",
      "hybrid_recall 0.9713167665552137\n",
      "hybrid_precision 0.24248891384275703\n",
      "hybrid_f1 0.3880910289396704\n",
      "hybrid_accuracy 0.7034997557077224\n",
      "hybrid_mcc 0.3921034246066694\n"
     ]
    },
    {
     "name": "stderr",
     "output_type": "stream",
     "text": [
      "\u001b[32m[I 2022-10-21 12:09:02,847]\u001b[0m Trial 7 finished with value: 0.38440892487120715 and parameters: {'n_estimators': 102, 'learning_rate': 0.5274912811384689, 'loss': 'squared_error'}. Best is trial 0 with value: 0.5613640127535421.\u001b[0m\n"
     ]
    },
    {
     "name": "stdout",
     "output_type": "stream",
     "text": [
      "true_positives_ctr:  973\n",
      "true_negatives_ctr:  5843\n",
      "false_positives_ctr:  2179\n",
      "false_negatives_ctr:  49\n",
      "152258834278656\n",
      "hybrid_recall 0.9327129151483575\n",
      "hybrid_precision 0.24687872604094385\n",
      "hybrid_f1 0.39041812134511067\n",
      "hybrid_accuracy 0.7156644739100396\n",
      "hybrid_mcc 0.38440892487120715\n"
     ]
    },
    {
     "name": "stderr",
     "output_type": "stream",
     "text": [
      "\u001b[32m[I 2022-10-21 12:09:22,032]\u001b[0m Trial 8 finished with value: 0.4749781390789643 and parameters: {'n_estimators': 435, 'learning_rate': 0.14601623715413697, 'loss': 'absolute_error'}. Best is trial 0 with value: 0.5613640127535421.\u001b[0m\n"
     ]
    },
    {
     "name": "stdout",
     "output_type": "stream",
     "text": [
      "true_positives_ctr:  974\n",
      "true_negatives_ctr:  6537\n",
      "false_positives_ctr:  1485\n",
      "false_negatives_ctr:  48\n",
      "132754075147260\n",
      "hybrid_recall 0.9364542328784651\n",
      "hybrid_precision 0.3219516880737691\n",
      "hybrid_f1 0.4791665647137276\n",
      "hybrid_accuracy 0.7990296231378632\n",
      "hybrid_mcc 0.4749781390789643\n"
     ]
    },
    {
     "name": "stderr",
     "output_type": "stream",
     "text": [
      "\u001b[32m[I 2022-10-21 12:09:26,939]\u001b[0m Trial 9 finished with value: 0.4637870722617685 and parameters: {'n_estimators': 96, 'learning_rate': 0.6344313423899361, 'loss': 'absolute_error'}. Best is trial 0 with value: 0.5613640127535421.\u001b[0m\n"
     ]
    },
    {
     "name": "stdout",
     "output_type": "stream",
     "text": [
      "true_positives_ctr:  964\n",
      "true_negatives_ctr:  6505\n",
      "false_positives_ctr:  1517\n",
      "false_negatives_ctr:  58\n",
      "133494299870652\n",
      "hybrid_recall 0.923627616610421\n",
      "hybrid_precision 0.3155625521907353\n",
      "hybrid_f1 0.47040768287147255\n",
      "hybrid_accuracy 0.795533666826066\n",
      "hybrid_mcc 0.4637870722617685\n"
     ]
    },
    {
     "name": "stderr",
     "output_type": "stream",
     "text": [
      "\u001b[32m[I 2022-10-21 12:09:28,256]\u001b[0m Trial 10 finished with value: 0.32429598226066164 and parameters: {'n_estimators': 10, 'learning_rate': 0.9502470268150945, 'loss': 'squared_error'}. Best is trial 0 with value: 0.5613640127535421.\u001b[0m\n"
     ]
    },
    {
     "name": "stdout",
     "output_type": "stream",
     "text": [
      "true_positives_ctr:  918\n",
      "true_negatives_ctr:  5677\n",
      "false_positives_ctr:  2345\n",
      "false_negatives_ctr:  104\n",
      "154651307681052\n",
      "hybrid_recall 0.8635648276985929\n",
      "hybrid_precision 0.2205774486065632\n",
      "hybrid_f1 0.3513983921912963\n",
      "hybrid_accuracy 0.6853953337918878\n",
      "hybrid_mcc 0.32429598226066164\n"
     ]
    },
    {
     "name": "stderr",
     "output_type": "stream",
     "text": [
      "\u001b[32m[I 2022-10-21 12:09:30,001]\u001b[0m Trial 11 finished with value: 0.5275590551286762 and parameters: {'n_estimators': 21, 'learning_rate': 0.2963748495621068, 'loss': 'absolute_error'}. Best is trial 0 with value: 0.5613640127535421.\u001b[0m\n"
     ]
    },
    {
     "name": "stdout",
     "output_type": "stream",
     "text": [
      "true_positives_ctr:  992\n",
      "true_negatives_ctr:  6741\n",
      "false_positives_ctr:  1281\n",
      "false_negatives_ctr:  30\n",
      "126178628627772\n",
      "hybrid_recall 0.9604872462343305\n",
      "hybrid_precision 0.364005276003393\n",
      "hybrid_f1 0.527934162395392\n",
      "hybrid_accuracy 0.8297896361611494\n",
      "hybrid_mcc 0.5275590551286762\n"
     ]
    },
    {
     "name": "stderr",
     "output_type": "stream",
     "text": [
      "\u001b[32m[I 2022-10-21 12:09:31,871]\u001b[0m Trial 12 finished with value: 0.5149575391588952 and parameters: {'n_estimators': 23, 'learning_rate': 0.43223260671852776, 'loss': 'absolute_error'}. Best is trial 0 with value: 0.5613640127535421.\u001b[0m\n"
     ]
    },
    {
     "name": "stdout",
     "output_type": "stream",
     "text": [
      "true_positives_ctr:  976\n",
      "true_negatives_ctr:  6739\n",
      "false_positives_ctr:  1283\n",
      "false_negatives_ctr:  46\n",
      "125660746790460\n",
      "hybrid_recall 0.9395954522337172\n",
      "hybrid_precision 0.3594461947041875\n",
      "hybrid_f1 0.5199741065467377\n",
      "hybrid_accuracy 0.8275549252924085\n",
      "hybrid_mcc 0.5149575391588952\n"
     ]
    },
    {
     "name": "stderr",
     "output_type": "stream",
     "text": [
      "\u001b[32m[I 2022-10-21 12:09:34,849]\u001b[0m Trial 13 finished with value: 0.516144262014283 and parameters: {'n_estimators': 46, 'learning_rate': 0.20977911011982728, 'loss': 'absolute_error'}. Best is trial 0 with value: 0.5613640127535421.\u001b[0m\n"
     ]
    },
    {
     "name": "stdout",
     "output_type": "stream",
     "text": [
      "true_positives_ctr:  985\n",
      "true_negatives_ctr:  6713\n",
      "false_positives_ctr:  1309\n",
      "false_negatives_ctr:  37\n",
      "126949425498000\n",
      "hybrid_recall 0.9514495241467158\n",
      "hybrid_precision 0.3562265099237231\n",
      "hybrid_f1 0.5183723407400381\n",
      "hybrid_accuracy 0.8244382859352212\n",
      "hybrid_mcc 0.516144262014283\n"
     ]
    },
    {
     "name": "stderr",
     "output_type": "stream",
     "text": [
      "\u001b[32m[I 2022-10-21 12:09:36,121]\u001b[0m Trial 14 finished with value: 0.30569856755153774 and parameters: {'n_estimators': 10, 'learning_rate': 0.9933647793958948, 'loss': 'squared_error'}. Best is trial 0 with value: 0.5613640127535421.\u001b[0m\n"
     ]
    },
    {
     "name": "stdout",
     "output_type": "stream",
     "text": [
      "true_positives_ctr:  936\n",
      "true_negatives_ctr:  5355\n",
      "false_positives_ctr:  2667\n",
      "false_negatives_ctr:  86\n",
      "160722449052732\n",
      "hybrid_recall 0.885822666394228\n",
      "hybrid_precision 0.20237749728739973\n",
      "hybrid_f1 0.32948088090485506\n",
      "hybrid_accuracy 0.6499345425241178\n",
      "hybrid_mcc 0.30569856755153774\n"
     ]
    },
    {
     "name": "stderr",
     "output_type": "stream",
     "text": [
      "\u001b[32m[I 2022-10-21 12:09:46,249]\u001b[0m Trial 15 finished with value: 0.47101478503298316 and parameters: {'n_estimators': 233, 'learning_rate': 0.3968203091089596, 'loss': 'absolute_error'}. Best is trial 0 with value: 0.5613640127535421.\u001b[0m\n"
     ]
    },
    {
     "name": "stdout",
     "output_type": "stream",
     "text": [
      "true_positives_ctr:  966\n",
      "true_negatives_ctr:  6542\n",
      "false_positives_ctr:  1480\n",
      "false_negatives_ctr:  56\n",
      "132312939318672\n",
      "hybrid_recall 0.9261340723757493\n",
      "hybrid_precision 0.3217587145367017\n",
      "hybrid_f1 0.4775918440133881\n",
      "hybrid_accuracy 0.7997984948160756\n",
      "hybrid_mcc 0.47101478503298316\n"
     ]
    },
    {
     "name": "stderr",
     "output_type": "stream",
     "text": [
      "\u001b[32m[I 2022-10-21 12:09:48,038]\u001b[0m Trial 16 finished with value: 0.5470126514389256 and parameters: {'n_estimators': 22, 'learning_rate': 0.22784945475278984, 'loss': 'absolute_error'}. Best is trial 0 with value: 0.5613640127535421.\u001b[0m\n"
     ]
    },
    {
     "name": "stdout",
     "output_type": "stream",
     "text": [
      "true_positives_ctr:  989\n",
      "true_negatives_ctr:  6857\n",
      "false_positives_ctr:  1165\n",
      "false_negatives_ctr:  33\n",
      "121674192953040\n",
      "hybrid_recall 0.9565600634959541\n",
      "hybrid_precision 0.3851690972370044\n",
      "hybrid_f1 0.5491978364820492\n",
      "hybrid_accuracy 0.8443421934796521\n",
      "hybrid_mcc 0.5470126514389256\n"
     ]
    },
    {
     "name": "stderr",
     "output_type": "stream",
     "text": [
      "\u001b[32m[I 2022-10-21 12:09:49,771]\u001b[0m Trial 17 finished with value: 0.5441831536369168 and parameters: {'n_estimators': 20, 'learning_rate': 0.24024514251872656, 'loss': 'absolute_error'}. Best is trial 0 with value: 0.5613640127535421.\u001b[0m\n"
     ]
    },
    {
     "name": "stdout",
     "output_type": "stream",
     "text": [
      "true_positives_ctr:  989\n",
      "true_negatives_ctr:  6843\n",
      "false_positives_ctr:  1179\n",
      "false_negatives_ctr:  33\n",
      "122216178333312\n",
      "hybrid_recall 0.9565965313198692\n",
      "hybrid_precision 0.38215386736197987\n",
      "hybrid_f1 0.5461317722988325\n",
      "hybrid_accuracy 0.8425987493709198\n",
      "hybrid_mcc 0.5441831536369168\n"
     ]
    },
    {
     "name": "stderr",
     "output_type": "stream",
     "text": [
      "\u001b[32m[I 2022-10-21 12:09:51,493]\u001b[0m Trial 18 finished with value: 0.40556507066393677 and parameters: {'n_estimators': 16, 'learning_rate': 0.18035515309929723, 'loss': 'squared_error'}. Best is trial 0 with value: 0.5613640127535421.\u001b[0m\n"
     ]
    },
    {
     "name": "stdout",
     "output_type": "stream",
     "text": [
      "true_positives_ctr:  1009\n",
      "true_negatives_ctr:  5781\n",
      "false_positives_ctr:  2241\n",
      "false_negatives_ctr:  13\n",
      "154381552962000\n",
      "hybrid_recall 0.9823071632237509\n",
      "hybrid_precision 0.24973765995236222\n",
      "hybrid_f1 0.39823079109334614\n",
      "hybrid_accuracy 0.7126010507132462\n",
      "hybrid_mcc 0.40556507066393677\n"
     ]
    },
    {
     "name": "stderr",
     "output_type": "stream",
     "text": [
      "\u001b[32m[I 2022-10-21 12:09:53,756]\u001b[0m Trial 19 finished with value: 0.5022457106737634 and parameters: {'n_estimators': 33, 'learning_rate': 0.393817410784235, 'loss': 'absolute_error'}. Best is trial 0 with value: 0.5613640127535421.\u001b[0m\n"
     ]
    },
    {
     "name": "stdout",
     "output_type": "stream",
     "text": [
      "true_positives_ctr:  973\n",
      "true_negatives_ctr:  6687\n",
      "false_positives_ctr:  1335\n",
      "false_negatives_ctr:  49\n",
      "127459272820992\n",
      "hybrid_recall 0.935611461373914\n",
      "hybrid_precision 0.3483673144319535\n",
      "hybrid_f1 0.5076975699166325\n",
      "hybrid_accuracy 0.8198328090390371\n",
      "hybrid_mcc 0.5022457106737634\n"
     ]
    },
    {
     "name": "stderr",
     "output_type": "stream",
     "text": [
      "\u001b[32m[I 2022-10-21 12:10:02,407]\u001b[0m Trial 20 finished with value: 0.47681639575191276 and parameters: {'n_estimators': 193, 'learning_rate': 0.6838976156702928, 'loss': 'absolute_error'}. Best is trial 0 with value: 0.5613640127535421.\u001b[0m\n"
     ]
    },
    {
     "name": "stdout",
     "output_type": "stream",
     "text": [
      "true_positives_ctr:  977\n",
      "true_negatives_ctr:  6522\n",
      "false_positives_ctr:  1500\n",
      "false_negatives_ctr:  45\n",
      "133360303848156\n",
      "hybrid_recall 0.9406234703501263\n",
      "hybrid_precision 0.3220182224778197\n",
      "hybrid_f1 0.4797844070310455\n",
      "hybrid_accuracy 0.7992791323720879\n",
      "hybrid_mcc 0.47681639575191276\n"
     ]
    },
    {
     "name": "stderr",
     "output_type": "stream",
     "text": [
      "\u001b[32m[I 2022-10-21 12:10:48,365]\u001b[0m Trial 21 finished with value: 0.4715963551349998 and parameters: {'n_estimators': 907, 'learning_rate': 0.23350360266712714, 'loss': 'absolute_error'}. Best is trial 0 with value: 0.5613640127535421.\u001b[0m\n"
     ]
    },
    {
     "name": "stdout",
     "output_type": "stream",
     "text": [
      "true_positives_ctr:  968\n",
      "true_negatives_ctr:  6539\n",
      "false_positives_ctr:  1483\n",
      "false_negatives_ctr:  54\n",
      "132482934884412\n",
      "hybrid_recall 0.9288938209036358\n",
      "hybrid_precision 0.3214442590451079\n",
      "hybrid_f1 0.4776109610357363\n",
      "hybrid_accuracy 0.7990910373386523\n",
      "hybrid_mcc 0.4715963551349998\n"
     ]
    },
    {
     "name": "stderr",
     "output_type": "stream",
     "text": [
      "\u001b[32m[I 2022-10-21 12:10:51,213]\u001b[0m Trial 22 finished with value: 0.5267263828333357 and parameters: {'n_estimators': 16, 'learning_rate': 0.24717055131416, 'loss': 'absolute_error'}. Best is trial 0 with value: 0.5613640127535421.\u001b[0m\n"
     ]
    },
    {
     "name": "stdout",
     "output_type": "stream",
     "text": [
      "true_positives_ctr:  985\n",
      "true_negatives_ctr:  6765\n",
      "false_positives_ctr:  1257\n",
      "false_negatives_ctr:  37\n",
      "125027569672656\n",
      "hybrid_recall 0.9516114688181954\n",
      "hybrid_precision 0.3661293448271244\n",
      "hybrid_f1 0.5288033579904909\n",
      "hybrid_accuracy 0.8326949045497634\n",
      "hybrid_mcc 0.5267263828333357\n"
     ]
    },
    {
     "name": "stderr",
     "output_type": "stream",
     "text": [
      "\u001b[32m[I 2022-10-21 12:10:53,873]\u001b[0m Trial 23 finished with value: 0.5272810305778918 and parameters: {'n_estimators': 26, 'learning_rate': 0.14439412652719008, 'loss': 'absolute_error'}. Best is trial 0 with value: 0.5613640127535421.\u001b[0m\n"
     ]
    },
    {
     "name": "stdout",
     "output_type": "stream",
     "text": [
      "true_positives_ctr:  987\n",
      "true_negatives_ctr:  6765\n",
      "false_positives_ctr:  1257\n",
      "false_negatives_ctr:  35\n",
      "125102307052800\n",
      "hybrid_recall 0.9540249639199788\n",
      "hybrid_precision 0.3658591034505489\n",
      "hybrid_f1 0.5288929938590144\n",
      "hybrid_accuracy 0.832167597892976\n",
      "hybrid_mcc 0.5272810305778918\n"
     ]
    },
    {
     "name": "stderr",
     "output_type": "stream",
     "text": [
      "\u001b[32m[I 2022-10-21 12:10:57,446]\u001b[0m Trial 24 finished with value: 0.5357427964671378 and parameters: {'n_estimators': 15, 'learning_rate': 0.2670412905494848, 'loss': 'absolute_error'}. Best is trial 0 with value: 0.5613640127535421.\u001b[0m\n"
     ]
    },
    {
     "name": "stdout",
     "output_type": "stream",
     "text": [
      "true_positives_ctr:  988\n",
      "true_negatives_ctr:  6806\n",
      "false_positives_ctr:  1216\n",
      "false_negatives_ctr:  34\n",
      "123595097754240\n",
      "hybrid_recall 0.9553583574984571\n",
      "hybrid_precision 0.37388247911376477\n",
      "hybrid_f1 0.5374372217662775\n",
      "hybrid_accuracy 0.8375389907249674\n",
      "hybrid_mcc 0.5357427964671378\n"
     ]
    },
    {
     "name": "stderr",
     "output_type": "stream",
     "text": [
      "\u001b[32m[I 2022-10-21 12:11:00,865]\u001b[0m Trial 25 finished with value: 0.4821020522736364 and parameters: {'n_estimators': 31, 'learning_rate': 0.34017119635151905, 'loss': 'absolute_error'}. Best is trial 0 with value: 0.5613640127535421.\u001b[0m\n"
     ]
    },
    {
     "name": "stdout",
     "output_type": "stream",
     "text": [
      "true_positives_ctr:  978\n",
      "true_negatives_ctr:  6537\n",
      "false_positives_ctr:  1485\n",
      "false_negatives_ctr:  44\n",
      "132889251751452\n",
      "hybrid_recall 0.9426601364949452\n",
      "hybrid_precision 0.326745667266507\n",
      "hybrid_f1 0.48528234925646985\n",
      "hybrid_accuracy 0.8018923363907472\n",
      "hybrid_mcc 0.4821020522736364\n"
     ]
    },
    {
     "name": "stderr",
     "output_type": "stream",
     "text": [
      "\u001b[32m[I 2022-10-21 12:11:06,793]\u001b[0m Trial 26 finished with value: 0.3984364422712281 and parameters: {'n_estimators': 63, 'learning_rate': 0.15748308785522458, 'loss': 'squared_error'}. Best is trial 0 with value: 0.5613640127535421.\u001b[0m\n"
     ]
    },
    {
     "name": "stdout",
     "output_type": "stream",
     "text": [
      "true_positives_ctr:  1008\n",
      "true_negatives_ctr:  5714\n",
      "false_positives_ctr:  2308\n",
      "false_negatives_ctr:  14\n",
      "155722398623232\n",
      "hybrid_recall 0.981645296465803\n",
      "hybrid_precision 0.24461260013770647\n",
      "hybrid_f1 0.3916350859742346\n",
      "hybrid_accuracy 0.7048123725287971\n",
      "hybrid_mcc 0.3984364422712281\n"
     ]
    },
    {
     "name": "stderr",
     "output_type": "stream",
     "text": [
      "\u001b[32m[I 2022-10-21 12:11:08,725]\u001b[0m Trial 27 finished with value: 0.5440545775404398 and parameters: {'n_estimators': 13, 'learning_rate': 0.5127492523303036, 'loss': 'absolute_error'}. Best is trial 0 with value: 0.5613640127535421.\u001b[0m\n"
     ]
    },
    {
     "name": "stdout",
     "output_type": "stream",
     "text": [
      "true_positives_ctr:  987\n",
      "true_negatives_ctr:  6851\n",
      "false_positives_ctr:  1171\n",
      "false_negatives_ctr:  35\n",
      "121829373858192\n",
      "hybrid_recall 0.9544419668313655\n",
      "hybrid_precision 0.3834354636666347\n",
      "hybrid_f1 0.5470858387358475\n",
      "hybrid_accuracy 0.8423142122495885\n",
      "hybrid_mcc 0.5440545775404398\n"
     ]
    },
    {
     "name": "stderr",
     "output_type": "stream",
     "text": [
      "\u001b[32m[I 2022-10-21 12:11:10,658]\u001b[0m Trial 28 finished with value: 0.5411236912083278 and parameters: {'n_estimators': 23, 'learning_rate': 0.20101575981605033, 'loss': 'absolute_error'}. Best is trial 0 with value: 0.5613640127535421.\u001b[0m\n"
     ]
    },
    {
     "name": "stdout",
     "output_type": "stream",
     "text": [
      "true_positives_ctr:  989\n",
      "true_negatives_ctr:  6829\n",
      "false_positives_ctr:  1193\n",
      "false_negatives_ctr:  33\n",
      "122754949907856\n",
      "hybrid_recall 0.9566823332294038\n",
      "hybrid_precision 0.37907657876970036\n",
      "hybrid_f1 0.5429959891598464\n",
      "hybrid_accuracy 0.8403981221119703\n",
      "hybrid_mcc 0.5411236912083278\n"
     ]
    },
    {
     "name": "stderr",
     "output_type": "stream",
     "text": [
      "\u001b[32m[I 2022-10-21 12:11:13,168]\u001b[0m Trial 29 finished with value: 0.4653264592960774 and parameters: {'n_estimators': 40, 'learning_rate': 0.8044486591442415, 'loss': 'absolute_error'}. Best is trial 0 with value: 0.5613640127535421.\u001b[0m\n"
     ]
    },
    {
     "name": "stdout",
     "output_type": "stream",
     "text": [
      "true_positives_ctr:  966\n",
      "true_negatives_ctr:  6518\n",
      "false_positives_ctr:  1504\n",
      "false_negatives_ctr:  56\n",
      "133125179525520\n",
      "hybrid_recall 0.9255157400595314\n",
      "hybrid_precision 0.3163437366930763\n",
      "hybrid_f1 0.47152051107150406\n",
      "hybrid_accuracy 0.796056339619123\n",
      "hybrid_mcc 0.4653264592960774\n",
      "Number of finished trials:  30\n",
      "Best trial:\n",
      "  Value: 0.5613640127535421\n",
      "  Params: \n",
      "    n_estimators: 25\n",
      "    learning_rate: 0.9747796838178895\n",
      "    loss: absolute_error\n"
     ]
    }
   ],
   "source": [
    "# Same implementation as above, but for Gradient Boosting Regression.\n",
    "def objective(trial):\n",
    "    # import data\n",
    "    y_min_u = pd.read_csv('..\\data\\ground_truth\\\\res_bus_vm_pu_min_balanced_constr.csv')\n",
    "    y_min_u = pd.DataFrame(y_min_u['bus_16'], columns=['bus_16'])\n",
    "    exogenous_data = pd.read_csv('..\\data\\ground_truth\\\\exogenous_data_vm_pu_min_balanced.csv').drop(columns=['date'])\n",
    "    train_x, valid_x, train_y, valid_y, scaler = utils.split_and_suffle(exogenous_data, y_min_u, test_size=0.2, scaling=True)\n",
    "    data = {'X_train': train_x, 'X_test': valid_x, 'y_train': train_y, 'y_test': valid_y}\n",
    "    param = {\n",
    "        'n_estimators': trial.suggest_int('n_estimators', 10, 1000, log=True),\n",
    "        'learning_rate': trial.suggest_float('learning_rate', 0.1, 1.0, log=True) ,\n",
    "        'loss': trial.suggest_categorical('loss', ['squared_error', 'absolute_error'])\n",
    "    }\n",
    "    model = my_ai.Context(my_ai.GradientBoostRegressorStrategy(param))\n",
    "    model.fit(data)\n",
    "    prediction = model.predict(data_min_reg)\n",
    "    # evaluate the regression performance with my metrics\n",
    "    metric = metrics.Metrics()\n",
    "    metric.get_prediction_scores(prediction, data_min_reg['y_test'], threshold=threshold_min)\n",
    "    print('hybrid_recall', metric.hybrid_recall)\n",
    "    print('hybrid_precision', metric.hybrid_precision)\n",
    "    print('hybrid_f1', metric.hybrid_f1)\n",
    "    print('hybrid_accuracy', metric.hybrid_accuracy)\n",
    "    print('hybrid_mcc', metric.hybrid_mcc)\n",
    "    return metric.hybrid_mcc\n",
    "study = optuna.create_study(direction=\"maximize\")\n",
    "study.optimize(objective, n_trials=num_trials)\n",
    "print(\"Number of finished trials: \", len(study.trials))\n",
    "print(\"Best trial:\")\n",
    "trial = study.best_trial\n",
    "print(\"  Value: {}\".format(trial.value))\n",
    "print(\"  Params: \")\n",
    "for key, value in trial.params.items():\n",
    "    print(\"    {}: {}\".format(key, value))\n",
    "# Write the results to a csv file.\n",
    "with open(\"./hyper_params_results_mcc/params_gradient_boost_regression_balanced_min_u_one_bus_not hybrid.csv\", \"w\") as f:\n",
    "    f.write(\"params,value\\n\")\n",
    "    for key, value in trial.params.items():\n",
    "        f.write(\"{},{}\\n\".format(key, value))\n",
    "    f.write(\"value,{}\\n\".format(trial.value))"
   ]
  }
 ],
 "metadata": {
  "kernelspec": {
   "display_name": "env",
   "language": "python",
   "name": "python3"
  },
  "language_info": {
   "codemirror_mode": {
    "name": "ipython",
    "version": 3
   },
   "file_extension": ".py",
   "mimetype": "text/x-python",
   "name": "python",
   "nbconvert_exporter": "python",
   "pygments_lexer": "ipython3",
   "version": "3.8.10 (tags/v3.8.10:3d8993a, May  3 2021, 11:48:03) [MSC v.1928 64 bit (AMD64)]"
  },
  "orig_nbformat": 4,
  "vscode": {
   "interpreter": {
    "hash": "41fc41b670b51109e2ee011a1b5078408ea127dd664427f19249a098f5086286"
   }
  }
 },
 "nbformat": 4,
 "nbformat_minor": 2
}
